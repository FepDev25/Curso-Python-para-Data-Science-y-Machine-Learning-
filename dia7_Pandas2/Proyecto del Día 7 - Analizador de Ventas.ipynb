{
 "cells": [
  {
   "cell_type": "markdown",
   "id": "bb1c5a93",
   "metadata": {},
   "source": [
    "# Proyecto del Día 7 - Analizador de Ventas"
   ]
  },
  {
   "cell_type": "markdown",
   "id": "70b87af7",
   "metadata": {},
   "source": [
    "## Objetivo\n",
    "\n",
    "- Crear un programa en Python que analice un conjunto de datos de ventas de una tienda. El programa debe realizar varias operaciones de Data Science para proporcionar información valiosa sobre las ventas de la tienda."
   ]
  },
  {
   "cell_type": "markdown",
   "id": "7f30e349",
   "metadata": {},
   "source": [
    "### Consigna\n",
    "\n",
    "1. Lectura de Datos: Crea un DataFrame que contenga los datos provistos en el archivo Datos_Ventas_Tienda.csv provisto en esta lección. El archivo incluirá información como fecha de venta, categoría de producto, cantidad vendida y precio.\n",
    "\n",
    "2. Fusión de Datos: Crea un segundo DataFrame que contenga los datos del archivo Datos_Ventas_Tienda2.csv (también provisto en esta lección), y concaténalos para tener un solo dataFrame con toda la información.\n",
    "\n",
    "3. Tratamiento de Datos: Utiliza Pandas para manipular estos datos. Deberás realizar tareas como limpieza de datos, filtrado y transformaciones básicas.\n",
    "\n",
    "4. Análisis de Ventas: Realiza análisis para responder preguntas como:\n",
    "\n",
    "   - ¿Cuál es el producto más vendido?\n",
    "\n",
    "   - ¿Cuál es el mes con más ventas?\n",
    "\n",
    "5. Datos Agrupados: Agrupa los datos por categoría de producto y analiza las ventas por categoría.\n",
    "\n",
    "6. Guardar Resultados: Al final, guarda el DataFrame completo (incluyendo la columna de meses) en un archivo .csv en tu ordenador."
   ]
  },
  {
   "cell_type": "markdown",
   "id": "e0cab083",
   "metadata": {},
   "source": [
    "## 1. Lectura de Datos"
   ]
  },
  {
   "cell_type": "code",
   "execution_count": 61,
   "id": "c1fbeca9",
   "metadata": {},
   "outputs": [],
   "source": [
    "import pandas as pd"
   ]
  },
  {
   "cell_type": "code",
   "execution_count": 62,
   "id": "a47dc577",
   "metadata": {},
   "outputs": [
    {
     "data": {
      "text/html": [
       "<div>\n",
       "<style scoped>\n",
       "    .dataframe tbody tr th:only-of-type {\n",
       "        vertical-align: middle;\n",
       "    }\n",
       "\n",
       "    .dataframe tbody tr th {\n",
       "        vertical-align: top;\n",
       "    }\n",
       "\n",
       "    .dataframe thead th {\n",
       "        text-align: right;\n",
       "    }\n",
       "</style>\n",
       "<table border=\"1\" class=\"dataframe\">\n",
       "  <thead>\n",
       "    <tr style=\"text-align: right;\">\n",
       "      <th></th>\n",
       "      <th>Fecha</th>\n",
       "      <th>Producto</th>\n",
       "      <th>Cantidad</th>\n",
       "      <th>Precio Unitario</th>\n",
       "      <th>Total Venta</th>\n",
       "    </tr>\n",
       "  </thead>\n",
       "  <tbody>\n",
       "    <tr>\n",
       "      <th>0</th>\n",
       "      <td>1/17/2023</td>\n",
       "      <td>Electrónic</td>\n",
       "      <td>7</td>\n",
       "      <td>200</td>\n",
       "      <td>1400</td>\n",
       "    </tr>\n",
       "    <tr>\n",
       "      <th>1</th>\n",
       "      <td>9/1/2023</td>\n",
       "      <td>Electrónic</td>\n",
       "      <td>8</td>\n",
       "      <td>200</td>\n",
       "      <td>1600</td>\n",
       "    </tr>\n",
       "    <tr>\n",
       "      <th>2</th>\n",
       "      <td>7/29/2023</td>\n",
       "      <td>Juguetes</td>\n",
       "      <td>3</td>\n",
       "      <td>30</td>\n",
       "      <td>90</td>\n",
       "    </tr>\n",
       "    <tr>\n",
       "      <th>3</th>\n",
       "      <td>10/4/2023</td>\n",
       "      <td>Alimentos</td>\n",
       "      <td>4</td>\n",
       "      <td>10</td>\n",
       "      <td>40</td>\n",
       "    </tr>\n",
       "    <tr>\n",
       "      <th>4</th>\n",
       "      <td>2/28/2023</td>\n",
       "      <td>Electrónic</td>\n",
       "      <td>6</td>\n",
       "      <td>200</td>\n",
       "      <td>1200</td>\n",
       "    </tr>\n",
       "  </tbody>\n",
       "</table>\n",
       "</div>"
      ],
      "text/plain": [
       "       Fecha    Producto  Cantidad  Precio Unitario  Total Venta\n",
       "0  1/17/2023  Electrónic         7              200         1400\n",
       "1   9/1/2023  Electrónic         8              200         1600\n",
       "2  7/29/2023    Juguetes         3               30           90\n",
       "3  10/4/2023   Alimentos         4               10           40\n",
       "4  2/28/2023  Electrónic         6              200         1200"
      ]
     },
     "execution_count": 62,
     "metadata": {},
     "output_type": "execute_result"
    }
   ],
   "source": [
    "df_1 = pd.read_csv('./Datos_Ventas_Tienda.csv')\n",
    "df_1.head(5)"
   ]
  },
  {
   "cell_type": "code",
   "execution_count": 64,
   "id": "88d11a85",
   "metadata": {},
   "outputs": [
    {
     "data": {
      "text/html": [
       "<div>\n",
       "<style scoped>\n",
       "    .dataframe tbody tr th:only-of-type {\n",
       "        vertical-align: middle;\n",
       "    }\n",
       "\n",
       "    .dataframe tbody tr th {\n",
       "        vertical-align: top;\n",
       "    }\n",
       "\n",
       "    .dataframe thead th {\n",
       "        text-align: right;\n",
       "    }\n",
       "</style>\n",
       "<table border=\"1\" class=\"dataframe\">\n",
       "  <thead>\n",
       "    <tr style=\"text-align: right;\">\n",
       "      <th></th>\n",
       "      <th>Fecha</th>\n",
       "      <th>Producto</th>\n",
       "      <th>Cantidad</th>\n",
       "      <th>Precio Unitario</th>\n",
       "      <th>Total Venta</th>\n",
       "    </tr>\n",
       "  </thead>\n",
       "  <tbody>\n",
       "    <tr>\n",
       "      <th>0</th>\n",
       "      <td>8/25/2023</td>\n",
       "      <td>Electrónic</td>\n",
       "      <td>5</td>\n",
       "      <td>200</td>\n",
       "      <td>1000</td>\n",
       "    </tr>\n",
       "    <tr>\n",
       "      <th>1</th>\n",
       "      <td>8/14/2023</td>\n",
       "      <td>Alimentos</td>\n",
       "      <td>9</td>\n",
       "      <td>10</td>\n",
       "      <td>90</td>\n",
       "    </tr>\n",
       "    <tr>\n",
       "      <th>2</th>\n",
       "      <td>8/30/2023</td>\n",
       "      <td>Ropa</td>\n",
       "      <td>6</td>\n",
       "      <td>50</td>\n",
       "      <td>300</td>\n",
       "    </tr>\n",
       "    <tr>\n",
       "      <th>3</th>\n",
       "      <td>11/9/2023</td>\n",
       "      <td>Alimentos</td>\n",
       "      <td>2</td>\n",
       "      <td>10</td>\n",
       "      <td>20</td>\n",
       "    </tr>\n",
       "    <tr>\n",
       "      <th>4</th>\n",
       "      <td>10/26/2023</td>\n",
       "      <td>Ropa</td>\n",
       "      <td>8</td>\n",
       "      <td>50</td>\n",
       "      <td>400</td>\n",
       "    </tr>\n",
       "  </tbody>\n",
       "</table>\n",
       "</div>"
      ],
      "text/plain": [
       "        Fecha    Producto  Cantidad  Precio Unitario  Total Venta\n",
       "0   8/25/2023  Electrónic         5              200         1000\n",
       "1   8/14/2023   Alimentos         9               10           90\n",
       "2   8/30/2023        Ropa         6               50          300\n",
       "3   11/9/2023   Alimentos         2               10           20\n",
       "4  10/26/2023        Ropa         8               50          400"
      ]
     },
     "execution_count": 64,
     "metadata": {},
     "output_type": "execute_result"
    }
   ],
   "source": [
    "df_2 = pd.read_csv('./Datos_Ventas_Tienda2.csv')\n",
    "df_2.head(5)"
   ]
  },
  {
   "cell_type": "markdown",
   "id": "bf9d48b1",
   "metadata": {},
   "source": [
    "## 2. Fusión de Datos"
   ]
  },
  {
   "cell_type": "code",
   "execution_count": 66,
   "id": "e09a4213",
   "metadata": {},
   "outputs": [
    {
     "data": {
      "text/html": [
       "<div>\n",
       "<style scoped>\n",
       "    .dataframe tbody tr th:only-of-type {\n",
       "        vertical-align: middle;\n",
       "    }\n",
       "\n",
       "    .dataframe tbody tr th {\n",
       "        vertical-align: top;\n",
       "    }\n",
       "\n",
       "    .dataframe thead th {\n",
       "        text-align: right;\n",
       "    }\n",
       "</style>\n",
       "<table border=\"1\" class=\"dataframe\">\n",
       "  <thead>\n",
       "    <tr style=\"text-align: right;\">\n",
       "      <th></th>\n",
       "      <th>Fecha</th>\n",
       "      <th>Producto</th>\n",
       "      <th>Cantidad</th>\n",
       "      <th>Precio Unitario</th>\n",
       "      <th>Total Venta</th>\n",
       "    </tr>\n",
       "  </thead>\n",
       "  <tbody>\n",
       "    <tr>\n",
       "      <th>0</th>\n",
       "      <td>1/17/2023</td>\n",
       "      <td>Electrónic</td>\n",
       "      <td>7</td>\n",
       "      <td>200</td>\n",
       "      <td>1400</td>\n",
       "    </tr>\n",
       "    <tr>\n",
       "      <th>1</th>\n",
       "      <td>9/1/2023</td>\n",
       "      <td>Electrónic</td>\n",
       "      <td>8</td>\n",
       "      <td>200</td>\n",
       "      <td>1600</td>\n",
       "    </tr>\n",
       "    <tr>\n",
       "      <th>2</th>\n",
       "      <td>7/29/2023</td>\n",
       "      <td>Juguetes</td>\n",
       "      <td>3</td>\n",
       "      <td>30</td>\n",
       "      <td>90</td>\n",
       "    </tr>\n",
       "    <tr>\n",
       "      <th>3</th>\n",
       "      <td>10/4/2023</td>\n",
       "      <td>Alimentos</td>\n",
       "      <td>4</td>\n",
       "      <td>10</td>\n",
       "      <td>40</td>\n",
       "    </tr>\n",
       "    <tr>\n",
       "      <th>4</th>\n",
       "      <td>2/28/2023</td>\n",
       "      <td>Electrónic</td>\n",
       "      <td>6</td>\n",
       "      <td>200</td>\n",
       "      <td>1200</td>\n",
       "    </tr>\n",
       "  </tbody>\n",
       "</table>\n",
       "</div>"
      ],
      "text/plain": [
       "       Fecha    Producto  Cantidad  Precio Unitario  Total Venta\n",
       "0  1/17/2023  Electrónic         7              200         1400\n",
       "1   9/1/2023  Electrónic         8              200         1600\n",
       "2  7/29/2023    Juguetes         3               30           90\n",
       "3  10/4/2023   Alimentos         4               10           40\n",
       "4  2/28/2023  Electrónic         6              200         1200"
      ]
     },
     "execution_count": 66,
     "metadata": {},
     "output_type": "execute_result"
    }
   ],
   "source": [
    "df = pd.concat([df_1, df_2], ignore_index=True)\n",
    "df.head(5)"
   ]
  },
  {
   "cell_type": "markdown",
   "id": "330c8c2e",
   "metadata": {},
   "source": [
    "## 3. Tratamiento de Datos"
   ]
  },
  {
   "cell_type": "markdown",
   "id": "d5f57b3a",
   "metadata": {},
   "source": [
    "### Limpiar Datos"
   ]
  },
  {
   "cell_type": "code",
   "execution_count": 82,
   "id": "ccb0daf7",
   "metadata": {},
   "outputs": [
    {
     "name": "stdout",
     "output_type": "stream",
     "text": [
      "<class 'pandas.core.frame.DataFrame'>\n",
      "RangeIndex: 1050 entries, 0 to 1049\n",
      "Data columns (total 5 columns):\n",
      " #   Column           Non-Null Count  Dtype         \n",
      "---  ------           --------------  -----         \n",
      " 0   Fecha            1050 non-null   datetime64[ns]\n",
      " 1   Producto         1050 non-null   object        \n",
      " 2   Cantidad         1050 non-null   int64         \n",
      " 3   Precio Unitario  1050 non-null   int64         \n",
      " 4   Total Venta      1050 non-null   int64         \n",
      "dtypes: datetime64[ns](1), int64(3), object(1)\n",
      "memory usage: 41.1+ KB\n"
     ]
    }
   ],
   "source": [
    "df.info()"
   ]
  },
  {
   "cell_type": "markdown",
   "id": "1987831d",
   "metadata": {},
   "source": [
    "### Transformaciones"
   ]
  },
  {
   "cell_type": "code",
   "execution_count": 83,
   "id": "19ad7698",
   "metadata": {},
   "outputs": [
    {
     "data": {
      "text/plain": [
       "pandas._libs.tslibs.timestamps.Timestamp"
      ]
     },
     "execution_count": 83,
     "metadata": {},
     "output_type": "execute_result"
    }
   ],
   "source": [
    "type(df['Fecha'][0])"
   ]
  },
  {
   "cell_type": "code",
   "execution_count": 84,
   "id": "f44998ca",
   "metadata": {},
   "outputs": [
    {
     "data": {
      "text/plain": [
       "pandas._libs.tslibs.timestamps.Timestamp"
      ]
     },
     "execution_count": 84,
     "metadata": {},
     "output_type": "execute_result"
    }
   ],
   "source": [
    "df['Fecha'] = pd.to_datetime(df['Fecha'], format='%m/%d/%Y')\n",
    "type(df['Fecha'][0])"
   ]
  },
  {
   "cell_type": "markdown",
   "id": "bae5162d",
   "metadata": {},
   "source": [
    "## 4. Análisis de Ventas"
   ]
  },
  {
   "cell_type": "markdown",
   "id": "a1628d37",
   "metadata": {},
   "source": [
    "### Producto más vendido"
   ]
  },
  {
   "cell_type": "code",
   "execution_count": 87,
   "id": "bbe2c0e2",
   "metadata": {},
   "outputs": [
    {
     "data": {
      "text/plain": [
       "Producto\n",
       "Alimentos     1262\n",
       "Electrónic    1220\n",
       "Ropa          1128\n",
       "Juguetes      1113\n",
       "Libros        1042\n",
       "Name: Cantidad, dtype: int64"
      ]
     },
     "execution_count": 87,
     "metadata": {},
     "output_type": "execute_result"
    }
   ],
   "source": [
    "producto_mas_vendido = df.groupby('Producto')['Cantidad'].sum().sort_values(ascending=False)\n",
    "producto_mas_vendido"
   ]
  },
  {
   "cell_type": "code",
   "execution_count": 88,
   "id": "fc3c7846",
   "metadata": {},
   "outputs": [
    {
     "data": {
      "text/plain": [
       "Producto\n",
       "Alimentos    1262\n",
       "Name: Cantidad, dtype: int64"
      ]
     },
     "execution_count": 88,
     "metadata": {},
     "output_type": "execute_result"
    }
   ],
   "source": [
    "producto_mas_vendido.sort_values(ascending=False).head(1)"
   ]
  },
  {
   "cell_type": "markdown",
   "id": "f76dec1d",
   "metadata": {},
   "source": [
    "### Mes con más ventas"
   ]
  },
  {
   "cell_type": "code",
   "execution_count": 89,
   "id": "f3f4eda7",
   "metadata": {},
   "outputs": [
    {
     "data": {
      "text/plain": [
       "Fecha\n",
       "1     43030\n",
       "2     28410\n",
       "3     23200\n",
       "4     23210\n",
       "5     39380\n",
       "6     30520\n",
       "7     26350\n",
       "8     45090\n",
       "9     27870\n",
       "10    25610\n",
       "11    21020\n",
       "12    33560\n",
       "Name: Total Venta, dtype: int64"
      ]
     },
     "execution_count": 89,
     "metadata": {},
     "output_type": "execute_result"
    }
   ],
   "source": [
    "# Mes con mas ventas\n",
    "mes_con_mas_ventas = df.groupby(df['Fecha'].dt.month)['Total Venta'].sum()\n",
    "mes_con_mas_ventas"
   ]
  },
  {
   "cell_type": "code",
   "execution_count": 90,
   "id": "6548b51a",
   "metadata": {},
   "outputs": [
    {
     "data": {
      "text/plain": [
       "Fecha\n",
       "8    45090\n",
       "Name: Total Venta, dtype: int64"
      ]
     },
     "execution_count": 90,
     "metadata": {},
     "output_type": "execute_result"
    }
   ],
   "source": [
    "mes_con_mas_ventas.sort_values(ascending=False).head(1)"
   ]
  },
  {
   "cell_type": "markdown",
   "id": "cfc1e4b0",
   "metadata": {},
   "source": [
    "## 5. Datos Agrupados"
   ]
  },
  {
   "cell_type": "markdown",
   "id": "97ebd3fc",
   "metadata": {},
   "source": [
    "### Total de ventas por producto"
   ]
  },
  {
   "cell_type": "code",
   "execution_count": 91,
   "id": "87be79d7",
   "metadata": {},
   "outputs": [
    {
     "data": {
      "text/plain": [
       "Producto\n",
       "Electrónic    244000\n",
       "Ropa           56400\n",
       "Juguetes       33390\n",
       "Libros         20840\n",
       "Alimentos      12620\n",
       "Name: Total Venta, dtype: int64"
      ]
     },
     "execution_count": 91,
     "metadata": {},
     "output_type": "execute_result"
    }
   ],
   "source": [
    "ventas_por_categoria = df.groupby('Producto')[\"Total Venta\"].sum().sort_values(ascending=False)\n",
    "ventas_por_categoria"
   ]
  },
  {
   "cell_type": "code",
   "execution_count": 92,
   "id": "25d297c8",
   "metadata": {},
   "outputs": [
    {
     "name": "stdout",
     "output_type": "stream",
     "text": [
      "Producto    Fecha\n",
      "Electrónic  8        31200\n",
      "            5        30800\n",
      "            1        30400\n",
      "            12       23400\n",
      "            2        23000\n",
      "            6        22000\n",
      "            9        18800\n",
      "            7        15800\n",
      "            10       13600\n",
      "            11       12400\n",
      "            4        11600\n",
      "            3        11000\n",
      "Ropa        8         7300\n",
      "            1         7100\n",
      "            7         6100\n",
      "            10        5600\n",
      "            3         5500\n",
      "            4         5000\n",
      "            12        4800\n",
      "            9         4100\n",
      "Juguetes    10        4080\n",
      "            4         4050\n",
      "            3         3570\n",
      "Ropa        11        3550\n",
      "            6         3050\n",
      "Juguetes    1         2940\n",
      "            11        2880\n",
      "            5         2670\n",
      "            6         2580\n",
      "            8         2550\n",
      "            12        2490\n",
      "Libros      8         2440\n",
      "Ropa        5         2400\n",
      "Libros      3         2280\n",
      "Juguetes    7         2280\n",
      "            9         2220\n",
      "Libros      5         2180\n",
      "Ropa        2         1900\n",
      "Libros      12        1860\n",
      "            1         1740\n",
      "            6         1720\n",
      "            9         1680\n",
      "            2         1620\n",
      "Alimentos   8         1600\n",
      "Libros      4         1460\n",
      "            11        1400\n",
      "Alimentos   5         1330\n",
      "Libros      10        1260\n",
      "            7         1200\n",
      "Alimentos   6         1170\n",
      "            4         1100\n",
      "Juguetes    2         1080\n",
      "Alimentos   10        1070\n",
      "            9         1070\n",
      "            12        1010\n",
      "            7          970\n",
      "            3          850\n",
      "            1          850\n",
      "            2          810\n",
      "            11         790\n",
      "Name: Total Venta, dtype: int64\n"
     ]
    }
   ],
   "source": [
    "# Ventas por mes de cada producto\n",
    "serie_ventas = df.groupby(['Producto', df['Fecha'].dt.month])[\"Total Venta\"].sum().sort_values(ascending=False)\n",
    "print(serie_ventas)"
   ]
  },
  {
   "cell_type": "markdown",
   "id": "3d2d01d4",
   "metadata": {},
   "source": [
    "## 6. Guardar Resultados"
   ]
  },
  {
   "cell_type": "code",
   "execution_count": 81,
   "id": "5bcee842",
   "metadata": {},
   "outputs": [],
   "source": [
    "df.to_csv('Resumen_Ventas.csv', index=False)"
   ]
  }
 ],
 "metadata": {
  "kernelspec": {
   "display_name": "base",
   "language": "python",
   "name": "python3"
  },
  "language_info": {
   "codemirror_mode": {
    "name": "ipython",
    "version": 3
   },
   "file_extension": ".py",
   "mimetype": "text/x-python",
   "name": "python",
   "nbconvert_exporter": "python",
   "pygments_lexer": "ipython3",
   "version": "3.12.7"
  }
 },
 "nbformat": 4,
 "nbformat_minor": 5
}
