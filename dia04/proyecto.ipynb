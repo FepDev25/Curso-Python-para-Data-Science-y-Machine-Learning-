{
 "cells": [
  {
   "cell_type": "markdown",
   "id": "0d153c56",
   "metadata": {},
   "source": [
    "# Proyecto del Día 4: Agenda de Contactos Interactiva\n",
    "\n",
    "### Objetivo\n",
    "Crear una agenda de contactos utilizando Python, aplicando los conceptos aprendidos sobre listas, tuplas, diccionarios, booleanos y estructuras de control.\n",
    "\n",
    "\n",
    "### Consigna\n",
    "Cada vez que inicies tu agenda, va a comenzar preguntándole al usuario cuál de estas opciones prefiere:\n",
    "1. **Añadir un contacto**: Crear un nuevo registro en la agenda (nombre, telefono).\n",
    "2. **Buscar un contacto**: Buscar un contacto por nombre y mostrar su teléfono, o un mensaje de error si no lo encuentra.\n",
    "3. **Editar un contacto**: Modificar teléfono de un contacto existente.\n",
    "4. **Eliminar un contacto**: Eliminar un contacto de la agenda (investiga los métodos disponibles para lograrlo)\n",
    "5. **Mostrar todos los contactos**: Mostrar todos los contactos guardados en la agenda.\n",
    "\n",
    "El usuario elegirá una de esas opciones, y el programa ejecutará el código correspondiente para procesar su pedido y mostrarle el resultado.\n",
    "\n",
    "\n",
    "### Notas y Ayudas\n",
    "- Debido a que vas a almacenar pares de datos (nombre y teléfono) ¿cuál crees que sería la mejor estructura de datos para guardarlos: **listas**, **tuplas** o **diccionarios**?\n",
    "- Algunas de las funcionalidades de tu agenda, pueden requerir que investigues algunos métodos que no hemos visto en las lecciones, pero que podrás descubrir con *type*, *dir* y *help*.\n",
    "<br>  \n",
    "<br>\n",
    "<br>"
   ]
  },
  {
   "cell_type": "markdown",
   "id": "c6c4ab9d",
   "metadata": {},
   "source": [
    "## Resolución"
   ]
  },
  {
   "cell_type": "markdown",
   "id": "cb507a52",
   "metadata": {},
   "source": [
    "Crea una agenda vacía"
   ]
  },
  {
   "cell_type": "code",
   "execution_count": 1,
   "id": "e9c026bd",
   "metadata": {},
   "outputs": [],
   "source": [
    "agenda = {}"
   ]
  },
  {
   "cell_type": "markdown",
   "id": "be7b6b93",
   "metadata": {},
   "source": [
    "En la siguiente celda, incluye el código para ejecutar las siguientes instrucciones:\n",
    "- Mostrar en pantalla las opciones\n",
    "- Pedirle al usuario que elija las opciones\n",
    "- Crear una estructura de control (*if*, *elif* y *else*) que ejecute diferentes bloques de código según las opciones elegidas."
   ]
  },
  {
   "cell_type": "code",
   "execution_count": 2,
   "id": "45fbcf91",
   "metadata": {},
   "outputs": [
    {
     "name": "stdout",
     "output_type": "stream",
     "text": [
      "\n",
      "1. Agregar contacto\n",
      "2. Buscar contacto\n",
      "3. Editar contacto\n",
      "4. Eliminar contacto\n",
      "5. Listar contactos\n",
      "6. Salir\n",
      "\n",
      "*****Agregar contacto*****\n",
      "Contacto agregado\n",
      "\n",
      "1. Agregar contacto\n",
      "2. Buscar contacto\n",
      "3. Editar contacto\n",
      "4. Eliminar contacto\n",
      "5. Listar contactos\n",
      "6. Salir\n",
      "\n",
      "*****Agregar contacto*****\n",
      "Contacto agregado\n",
      "\n",
      "1. Agregar contacto\n",
      "2. Buscar contacto\n",
      "3. Editar contacto\n",
      "4. Eliminar contacto\n",
      "5. Listar contactos\n",
      "6. Salir\n",
      "\n",
      "*****Listar contactos*****\n",
      "Felipe: 2875755\n",
      "Carlos: 2876711\n",
      "\n",
      "1. Agregar contacto\n",
      "2. Buscar contacto\n",
      "3. Editar contacto\n",
      "4. Eliminar contacto\n",
      "5. Listar contactos\n",
      "6. Salir\n",
      "\n",
      "Salir\n"
     ]
    }
   ],
   "source": [
    "opciones = \"\"\"\n",
    "1. Agregar contacto\n",
    "2. Buscar contacto\n",
    "3. Editar contacto\n",
    "4. Eliminar contacto\n",
    "5. Listar contactos\n",
    "6. Salir\n",
    "\"\"\"\n",
    "\n",
    "opcion = 0\n",
    "while opcion != 6:\n",
    "    print(opciones)\n",
    "    opcion = int(input(\"Ingrese una opción: \"))\n",
    "\n",
    "    if opcion == 1:\n",
    "        print(\"*****Agregar contacto*****\")\n",
    "        nombre = input(\"Nombre: \")\n",
    "        telefono = input(\"Telefono: \")\n",
    "        agenda[nombre] = telefono\n",
    "        print(\"Contacto agregado\")\n",
    "\n",
    "    elif opcion == 2:\n",
    "        print(\"*****Buscar contacto*****\")\n",
    "        nombre = input(\"Nombre: \")\n",
    "        if nombre in agenda:\n",
    "            print(f\"El telefono de {nombre} es {agenda[nombre]}\")\n",
    "        else:\n",
    "            print(f\"{nombre} no se encuentra en la agenda\")\n",
    "\n",
    "    elif opcion == 3:\n",
    "        print(\"*****Editar contacto*****\")\n",
    "        nombre = input(\"Nombre: \")\n",
    "        if nombre in agenda:\n",
    "            telefono = input(\"Telefono: \")\n",
    "            agenda[nombre] = telefono\n",
    "            print(\"Contacto editado\")\n",
    "        else:\n",
    "            print(f\"{nombre} no se encuentra en la agenda\")\n",
    "\n",
    "    elif opcion == 4:\n",
    "        print(\"*****Eliminar contacto*****\")\n",
    "        nombre = input(\"Nombre: \")\n",
    "        if nombre in agenda:\n",
    "            del agenda[nombre]\n",
    "            print(\"Contacto eliminado\")\n",
    "        else:\n",
    "            print(f\"{nombre} no se encuentra en la agenda\")\n",
    "\n",
    "    elif opcion == 5:\n",
    "        print(\"*****Listar contactos*****\")\n",
    "        for nombre, telefono in agenda.items():\n",
    "            print(f\"{nombre}: {telefono}\")\n",
    "        \n",
    "    elif opcion == 6:\n",
    "        print(\"Salir\")\n",
    "    else:\n",
    "        print(\"Opción no válida\")\n"
   ]
  }
 ],
 "metadata": {
  "kernelspec": {
   "display_name": "base",
   "language": "python",
   "name": "python3"
  },
  "language_info": {
   "codemirror_mode": {
    "name": "ipython",
    "version": 3
   },
   "file_extension": ".py",
   "mimetype": "text/x-python",
   "name": "python",
   "nbconvert_exporter": "python",
   "pygments_lexer": "ipython3",
   "version": "3.12.7"
  }
 },
 "nbformat": 4,
 "nbformat_minor": 5
}
