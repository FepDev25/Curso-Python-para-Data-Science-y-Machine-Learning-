{
 "cells": [
  {
   "cell_type": "markdown",
   "id": "1ff9b7b5",
   "metadata": {},
   "source": [
    "# Proyecto del Día 8 - Análisis de Datos Meteorológicos\n",
    "\n",
    "Este proyecto consiste en analizar un conjunto de datos meteorológicos utilizando Python y NumPy. \n",
    "El objetivo es aplicar las técnicas de manipulación de arrays, tratamiento de datos faltantes, \n",
    "y análisis estadístico básico en un conjunto de datos del mundo real.\n",
    "\n",
    "## Tareas a Realizar:\n",
    "1. Crear un DataFrame a partir de los datos del archivo **datos_meteorologicos.csv** provisto en esta lección.\n",
    "2. Realizar observaciones iniciales de los datos con Pandas.\n",
    "3. Convertir las columnas del DataFrame en arrays de NumPy.\n",
    "4. Identificar los datos faltantes en los arrays, y reemplazarlos por el promedio de los valores del respectivo array.\n",
    "5. Realizar análisis estadísticos básicos. Mínimamente se espera que puedas extraer la siguiente información de tus arrays:\n",
    "    * La temperatura promedio\n",
    "    * El total de precipitaciones\n",
    "    * La máxima humedad registrada\n",
    "    * La fecha más calurosa\n",
    "    * La fehca más fría\n",
    "6. Exportar los resultados a un nuevo archivo CSV.\n",
    "\n",
    "¡Mucha suerte con tu proyecto!\n"
   ]
  },
  {
   "cell_type": "markdown",
   "id": "6b416605",
   "metadata": {},
   "source": [
    "### 1. Crear un DataFrame a partir de los datos del archivo datos_meteorologicos.csv provisto en esta lección."
   ]
  },
  {
   "cell_type": "code",
   "execution_count": 116,
   "id": "4dabf813",
   "metadata": {},
   "outputs": [],
   "source": [
    "import numpy as np\n",
    "import pandas as pd"
   ]
  },
  {
   "cell_type": "code",
   "execution_count": 117,
   "id": "96f0cef0",
   "metadata": {},
   "outputs": [
    {
     "data": {
      "text/html": [
       "<div>\n",
       "<style scoped>\n",
       "    .dataframe tbody tr th:only-of-type {\n",
       "        vertical-align: middle;\n",
       "    }\n",
       "\n",
       "    .dataframe tbody tr th {\n",
       "        vertical-align: top;\n",
       "    }\n",
       "\n",
       "    .dataframe thead th {\n",
       "        text-align: right;\n",
       "    }\n",
       "</style>\n",
       "<table border=\"1\" class=\"dataframe\">\n",
       "  <thead>\n",
       "    <tr style=\"text-align: right;\">\n",
       "      <th></th>\n",
       "      <th>Fecha</th>\n",
       "      <th>Temperatura</th>\n",
       "      <th>Precipitación</th>\n",
       "      <th>Humedad</th>\n",
       "    </tr>\n",
       "  </thead>\n",
       "  <tbody>\n",
       "    <tr>\n",
       "      <th>0</th>\n",
       "      <td>01/01/2010</td>\n",
       "      <td>17.440675</td>\n",
       "      <td>10.957482</td>\n",
       "      <td>52.384637</td>\n",
       "    </tr>\n",
       "    <tr>\n",
       "      <th>1</th>\n",
       "      <td>02/01/2010</td>\n",
       "      <td>25.759468</td>\n",
       "      <td>5.315628</td>\n",
       "      <td>30.633530</td>\n",
       "    </tr>\n",
       "    <tr>\n",
       "      <th>2</th>\n",
       "      <td>03/01/2010</td>\n",
       "      <td>20.138169</td>\n",
       "      <td>15.317706</td>\n",
       "      <td>41.496715</td>\n",
       "    </tr>\n",
       "    <tr>\n",
       "      <th>3</th>\n",
       "      <td>04/01/2010</td>\n",
       "      <td>17.244159</td>\n",
       "      <td>13.151008</td>\n",
       "      <td>90.684704</td>\n",
       "    </tr>\n",
       "    <tr>\n",
       "      <th>4</th>\n",
       "      <td>05/01/2010</td>\n",
       "      <td>11.182740</td>\n",
       "      <td>16.413667</td>\n",
       "      <td>22.116422</td>\n",
       "    </tr>\n",
       "  </tbody>\n",
       "</table>\n",
       "</div>"
      ],
      "text/plain": [
       "        Fecha  Temperatura  Precipitación    Humedad\n",
       "0  01/01/2010    17.440675      10.957482  52.384637\n",
       "1  02/01/2010    25.759468       5.315628  30.633530\n",
       "2  03/01/2010    20.138169      15.317706  41.496715\n",
       "3  04/01/2010    17.244159      13.151008  90.684704\n",
       "4  05/01/2010    11.182740      16.413667  22.116422"
      ]
     },
     "execution_count": 117,
     "metadata": {},
     "output_type": "execute_result"
    }
   ],
   "source": [
    "df = pd.read_csv(\"./datos_meteorologicos.csv\")\n",
    "df.head()"
   ]
  },
  {
   "cell_type": "markdown",
   "id": "bd5ba486",
   "metadata": {},
   "source": [
    "### 2. Realizar observaciones iniciales de los datos con Pandas."
   ]
  },
  {
   "cell_type": "code",
   "execution_count": 118,
   "id": "f6fb247d",
   "metadata": {
    "scrolled": true
   },
   "outputs": [
    {
     "name": "stdout",
     "output_type": "stream",
     "text": [
      "<class 'pandas.core.frame.DataFrame'>\n",
      "RangeIndex: 5110 entries, 0 to 5109\n",
      "Data columns (total 4 columns):\n",
      " #   Column         Non-Null Count  Dtype  \n",
      "---  ------         --------------  -----  \n",
      " 0   Fecha          5110 non-null   object \n",
      " 1   Temperatura    4855 non-null   float64\n",
      " 2   Precipitación  4855 non-null   float64\n",
      " 3   Humedad        4855 non-null   float64\n",
      "dtypes: float64(3), object(1)\n",
      "memory usage: 159.8+ KB\n"
     ]
    }
   ],
   "source": [
    "df.info()"
   ]
  },
  {
   "cell_type": "code",
   "execution_count": 119,
   "id": "0a8518da",
   "metadata": {},
   "outputs": [
    {
     "data": {
      "text/plain": [
       "Fecha              0\n",
       "Temperatura      255\n",
       "Precipitación    255\n",
       "Humedad          255\n",
       "dtype: int64"
      ]
     },
     "execution_count": 119,
     "metadata": {},
     "output_type": "execute_result"
    }
   ],
   "source": [
    "df.isnull().sum()"
   ]
  },
  {
   "cell_type": "code",
   "execution_count": 120,
   "id": "803c3ad3",
   "metadata": {},
   "outputs": [
    {
     "data": {
      "text/html": [
       "<div>\n",
       "<style scoped>\n",
       "    .dataframe tbody tr th:only-of-type {\n",
       "        vertical-align: middle;\n",
       "    }\n",
       "\n",
       "    .dataframe tbody tr th {\n",
       "        vertical-align: top;\n",
       "    }\n",
       "\n",
       "    .dataframe thead th {\n",
       "        text-align: right;\n",
       "    }\n",
       "</style>\n",
       "<table border=\"1\" class=\"dataframe\">\n",
       "  <thead>\n",
       "    <tr style=\"text-align: right;\">\n",
       "      <th></th>\n",
       "      <th>Temperatura</th>\n",
       "      <th>Precipitación</th>\n",
       "      <th>Humedad</th>\n",
       "    </tr>\n",
       "  </thead>\n",
       "  <tbody>\n",
       "    <tr>\n",
       "      <th>count</th>\n",
       "      <td>4855.000000</td>\n",
       "      <td>4855.000000</td>\n",
       "      <td>4855.000000</td>\n",
       "    </tr>\n",
       "    <tr>\n",
       "      <th>mean</th>\n",
       "      <td>14.889296</td>\n",
       "      <td>9.901604</td>\n",
       "      <td>54.359061</td>\n",
       "    </tr>\n",
       "    <tr>\n",
       "      <th>std</th>\n",
       "      <td>14.440466</td>\n",
       "      <td>5.801842</td>\n",
       "      <td>26.096345</td>\n",
       "    </tr>\n",
       "    <tr>\n",
       "      <th>min</th>\n",
       "      <td>-9.996378</td>\n",
       "      <td>0.003008</td>\n",
       "      <td>10.014980</td>\n",
       "    </tr>\n",
       "    <tr>\n",
       "      <th>25%</th>\n",
       "      <td>2.651777</td>\n",
       "      <td>4.756907</td>\n",
       "      <td>31.866578</td>\n",
       "    </tr>\n",
       "    <tr>\n",
       "      <th>50%</th>\n",
       "      <td>14.693274</td>\n",
       "      <td>9.853698</td>\n",
       "      <td>54.254478</td>\n",
       "    </tr>\n",
       "    <tr>\n",
       "      <th>75%</th>\n",
       "      <td>27.381451</td>\n",
       "      <td>14.966997</td>\n",
       "      <td>77.029500</td>\n",
       "    </tr>\n",
       "    <tr>\n",
       "      <th>max</th>\n",
       "      <td>39.998201</td>\n",
       "      <td>19.999559</td>\n",
       "      <td>99.996582</td>\n",
       "    </tr>\n",
       "  </tbody>\n",
       "</table>\n",
       "</div>"
      ],
      "text/plain": [
       "       Temperatura  Precipitación      Humedad\n",
       "count  4855.000000    4855.000000  4855.000000\n",
       "mean     14.889296       9.901604    54.359061\n",
       "std      14.440466       5.801842    26.096345\n",
       "min      -9.996378       0.003008    10.014980\n",
       "25%       2.651777       4.756907    31.866578\n",
       "50%      14.693274       9.853698    54.254478\n",
       "75%      27.381451      14.966997    77.029500\n",
       "max      39.998201      19.999559    99.996582"
      ]
     },
     "execution_count": 120,
     "metadata": {},
     "output_type": "execute_result"
    }
   ],
   "source": [
    "df.describe()"
   ]
  },
  {
   "cell_type": "markdown",
   "id": "9a6f36ea",
   "metadata": {},
   "source": [
    "### 3. Convertir las columnas del DataFrame en arrays de NumPy."
   ]
  },
  {
   "cell_type": "code",
   "execution_count": 121,
   "id": "97ac1be5",
   "metadata": {},
   "outputs": [
    {
     "data": {
      "text/plain": [
       "array(['01/01/2010', '02/01/2010', '03/01/2010', ..., '26/12/2023',\n",
       "       '27/12/2023', '28/12/2023'], dtype=object)"
      ]
     },
     "execution_count": 121,
     "metadata": {},
     "output_type": "execute_result"
    }
   ],
   "source": [
    "fecha = df[\"Fecha\"].values\n",
    "fecha"
   ]
  },
  {
   "cell_type": "code",
   "execution_count": 122,
   "id": "04ee9183",
   "metadata": {},
   "outputs": [
    {
     "data": {
      "text/plain": [
       "array([17.4406752 , 25.75946832, 20.1381688 , ..., 29.87359717,\n",
       "               nan, 37.30804318])"
      ]
     },
     "execution_count": 122,
     "metadata": {},
     "output_type": "execute_result"
    }
   ],
   "source": [
    "temperatura = df[\"Temperatura\"].values\n",
    "temperatura"
   ]
  },
  {
   "cell_type": "code",
   "execution_count": 123,
   "id": "4be5272d",
   "metadata": {},
   "outputs": [
    {
     "data": {
      "text/plain": [
       "array([10.957482  ,  5.31562765, 15.31770609, ...,  4.61501177,\n",
       "               nan,  7.33051023])"
      ]
     },
     "execution_count": 123,
     "metadata": {},
     "output_type": "execute_result"
    }
   ],
   "source": [
    "precipitacion = df[\"Precipitación\"].values\n",
    "precipitacion"
   ]
  },
  {
   "cell_type": "code",
   "execution_count": 124,
   "id": "e23c2237",
   "metadata": {},
   "outputs": [
    {
     "data": {
      "text/plain": [
       "array([52.38463749, 30.63352983, 41.49671458, ..., 18.36284738,\n",
       "               nan, 50.64621058])"
      ]
     },
     "execution_count": 124,
     "metadata": {},
     "output_type": "execute_result"
    }
   ],
   "source": [
    "humedad = df[\"Humedad\"].values\n",
    "humedad"
   ]
  },
  {
   "cell_type": "markdown",
   "id": "ea34bb17",
   "metadata": {},
   "source": [
    "### 4. Identificar los datos faltantes en los arrays, y reemplazarlos por el promedio de los valores del respectivo array."
   ]
  },
  {
   "cell_type": "code",
   "execution_count": 125,
   "id": "65f3ba49",
   "metadata": {},
   "outputs": [
    {
     "name": "stdout",
     "output_type": "stream",
     "text": [
      "Promedio de temperatura: 14.889295723531715\n"
     ]
    }
   ],
   "source": [
    "promedio_temperatura = np.nanmean(temperatura)\n",
    "print(f\"Promedio de temperatura: {promedio_temperatura}\")\n",
    "temperatura = np.where(np.isnan(temperatura), promedio_temperatura, temperatura)"
   ]
  },
  {
   "cell_type": "code",
   "execution_count": 126,
   "id": "df3d7dfb",
   "metadata": {},
   "outputs": [
    {
     "name": "stdout",
     "output_type": "stream",
     "text": [
      "Promedio de precipitación: 9.9016035987084\n"
     ]
    }
   ],
   "source": [
    "promedio_precipitacion = np.nanmean(precipitacion)\n",
    "print(f\"Promedio de precipitación: {promedio_precipitacion}\")\n",
    "precipitacion = np.where(np.isnan(precipitacion), promedio_precipitacion, precipitacion)"
   ]
  },
  {
   "cell_type": "code",
   "execution_count": 127,
   "id": "37714178",
   "metadata": {},
   "outputs": [
    {
     "name": "stdout",
     "output_type": "stream",
     "text": [
      "Promedio de humedad: 54.35906079674394\n"
     ]
    }
   ],
   "source": [
    "promedio_humedad = np.nanmean(humedad)\n",
    "print(f\"Promedio de humedad: {promedio_humedad}\")\n",
    "humedad = np.where(np.isnan(humedad), promedio_humedad, humedad)"
   ]
  },
  {
   "cell_type": "code",
   "execution_count": 128,
   "id": "63e2f2af",
   "metadata": {},
   "outputs": [
    {
     "name": "stdout",
     "output_type": "stream",
     "text": [
      "5110\n",
      "5110\n",
      "5110\n",
      "5110\n"
     ]
    }
   ],
   "source": [
    "# Comprobación de la longitud de los arrays\n",
    "print(len(fecha))\n",
    "print(len(temperatura))\n",
    "print(len(precipitacion))\n",
    "print(len(humedad))"
   ]
  },
  {
   "cell_type": "markdown",
   "id": "e9cc83f2",
   "metadata": {},
   "source": [
    "### 5. Realizar análisis estadísticos básicos.\n",
    "\n",
    "##### Temperatura promedio"
   ]
  },
  {
   "cell_type": "code",
   "execution_count": 129,
   "id": "35631de2",
   "metadata": {},
   "outputs": [
    {
     "name": "stdout",
     "output_type": "stream",
     "text": [
      "Temperatura promedio: 14.889295723531713\n"
     ]
    }
   ],
   "source": [
    "temperatura_promedio = np.mean(temperatura)\n",
    "print(f\"Temperatura promedio: {temperatura_promedio}\")"
   ]
  },
  {
   "cell_type": "markdown",
   "id": "3d5b50ca",
   "metadata": {},
   "source": [
    "##### Total de precipitaciones"
   ]
  },
  {
   "cell_type": "code",
   "execution_count": 130,
   "id": "55ea942d",
   "metadata": {},
   "outputs": [
    {
     "name": "stdout",
     "output_type": "stream",
     "text": [
      "Total de precipitación: 50597.19438939993\n"
     ]
    }
   ],
   "source": [
    "total_precipitacion = np.sum(precipitacion)\n",
    "print(f\"Total de precipitación: {total_precipitacion}\")"
   ]
  },
  {
   "cell_type": "markdown",
   "id": "37408d44",
   "metadata": {},
   "source": [
    "##### Máxima humedad registrada"
   ]
  },
  {
   "cell_type": "code",
   "execution_count": 131,
   "id": "915e24c5",
   "metadata": {},
   "outputs": [
    {
     "name": "stdout",
     "output_type": "stream",
     "text": [
      "Máxima humedad: 99.99658156071747\n"
     ]
    }
   ],
   "source": [
    "max_humedad = np.max(humedad)\n",
    "print(f\"Máxima humedad: {max_humedad}\")"
   ]
  },
  {
   "cell_type": "markdown",
   "id": "feabf8f5",
   "metadata": {},
   "source": [
    "##### Fecha más calurosa"
   ]
  },
  {
   "cell_type": "code",
   "execution_count": 134,
   "id": "bedde039",
   "metadata": {},
   "outputs": [
    {
     "name": "stdout",
     "output_type": "stream",
     "text": [
      "Índice de la máxima temperatura: 2749\n",
      "Fecha más calurosa: 12/07/2017\n",
      "Temperatura máxima: 39.99820092713012\n"
     ]
    }
   ],
   "source": [
    "indice_maxima_temperatura = np.argmax(temperatura)\n",
    "print(f\"Índice de la máxima temperatura: {indice_maxima_temperatura}\")\n",
    "\n",
    "fecha_mas_calurosa = fecha[indice_maxima_temperatura]\n",
    "print(f\"Fecha más calurosa: {fecha_mas_calurosa}\")\n",
    "\n",
    "temperatura_maxima = np.max(temperatura)\n",
    "print(f\"Temperatura máxima: {temperatura_maxima}\")"
   ]
  },
  {
   "cell_type": "markdown",
   "id": "f30a99e0",
   "metadata": {},
   "source": [
    "##### Fehca más fría"
   ]
  },
  {
   "cell_type": "code",
   "execution_count": 135,
   "id": "68f820f0",
   "metadata": {},
   "outputs": [
    {
     "name": "stdout",
     "output_type": "stream",
     "text": [
      "Índice de la mínima temperatura: 3856\n",
      "Fecha más fría: 23/07/2020\n",
      "Temperatura mínima: -9.996377518075391\n"
     ]
    }
   ],
   "source": [
    "indice_minima_temperatura = np.argmin(temperatura)\n",
    "print(f\"Índice de la mínima temperatura: {indice_minima_temperatura}\")\n",
    "\n",
    "fecha_mas_fria = fecha[indice_minima_temperatura]\n",
    "print(f\"Fecha más fría: {fecha_mas_fria}\")\n",
    "\n",
    "temperatura_minima = np.min(temperatura)\n",
    "print(f\"Temperatura mínima: {temperatura_minima}\")"
   ]
  },
  {
   "cell_type": "markdown",
   "id": "ff7d173c",
   "metadata": {},
   "source": [
    "### 6. Exportar los resultados a un nuevo archivo CSV."
   ]
  },
  {
   "cell_type": "code",
   "execution_count": 136,
   "id": "e0cdfaee",
   "metadata": {},
   "outputs": [
    {
     "data": {
      "text/plain": [
       "array([['01/01/2010', 17.440675196366236, 10.957481997233586,\n",
       "        52.38463748841593],\n",
       "       ['02/01/2010', 25.75946831862097, 5.3156276517729895,\n",
       "        30.63352983123037],\n",
       "       ['03/01/2010', 20.138168803582197, 15.317706093986718,\n",
       "        41.49671457625978],\n",
       "       ...,\n",
       "       ['26/12/2023', 29.87359717232944, 4.61501176564858,\n",
       "        18.362847375985744],\n",
       "       ['27/12/2023', 14.889295723531715, 9.9016035987084,\n",
       "        54.35906079674394],\n",
       "       ['28/12/2023', 37.3080431767716, 7.33051023049333,\n",
       "        50.646210575443774]], dtype=object)"
      ]
     },
     "execution_count": 136,
     "metadata": {},
     "output_type": "execute_result"
    }
   ],
   "source": [
    "array_general = np.concatenate((fecha.reshape(-1, 1), temperatura.reshape(-1, 1), precipitacion.reshape(-1, 1), humedad.reshape(-1, 1)), axis=1)\n",
    "array_general"
   ]
  },
  {
   "cell_type": "code",
   "execution_count": null,
   "id": "99a12eb1",
   "metadata": {},
   "outputs": [],
   "source": [
    "# Guardar datos corregidos en un nuevo archivo CSV\n",
    "np.savetxt(\"./datos_meteorologicos_corregidos.csv\", array_general, delimiter=\",\", fmt=\"%s\")"
   ]
  },
  {
   "cell_type": "code",
   "execution_count": 139,
   "id": "8c66acbf",
   "metadata": {},
   "outputs": [],
   "source": [
    "# Guardar resultados\n",
    "df = pd.DataFrame({\n",
    "    \"Métrica\": [\"Promedio de temperatura\", \"Total de precipitación\", \"Máxima humedad\",\"Fecha más calurosa\", \"Temperatura máxima\", \"Fecha más fría\", \"Temperatura mínima\"],\n",
    "    \"Valor\": [promedio_temperatura, total_precipitacion, max_humedad, fecha_mas_calurosa, temperatura_maxima, fecha_mas_fria, temperatura_minima]\n",
    "})\n",
    "df.to_csv(\"./resultados.csv\", index=False)"
   ]
  }
 ],
 "metadata": {
  "kernelspec": {
   "display_name": "base",
   "language": "python",
   "name": "python3"
  },
  "language_info": {
   "codemirror_mode": {
    "name": "ipython",
    "version": 3
   },
   "file_extension": ".py",
   "mimetype": "text/x-python",
   "name": "python",
   "nbconvert_exporter": "python",
   "pygments_lexer": "ipython3",
   "version": "3.12.7"
  }
 },
 "nbformat": 4,
 "nbformat_minor": 5
}
