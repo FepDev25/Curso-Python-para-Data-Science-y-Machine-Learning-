{
 "cells": [
  {
   "cell_type": "code",
   "execution_count": 1,
   "id": "826c14e4",
   "metadata": {},
   "outputs": [],
   "source": [
    "import numpy as np"
   ]
  },
  {
   "cell_type": "code",
   "execution_count": 2,
   "id": "e203af68",
   "metadata": {},
   "outputs": [
    {
     "data": {
      "text/plain": [
       "array([ 1.,  2.,  3., nan,  5.,  6.,  7.])"
      ]
     },
     "execution_count": 2,
     "metadata": {},
     "output_type": "execute_result"
    }
   ],
   "source": [
    "array = np.array([1,2,3,np.nan,5,6,7])\n",
    "array"
   ]
  },
  {
   "cell_type": "code",
   "execution_count": 3,
   "id": "fd23d4a8",
   "metadata": {},
   "outputs": [
    {
     "data": {
      "text/plain": [
       "array([False, False, False,  True, False, False, False])"
      ]
     },
     "execution_count": 3,
     "metadata": {},
     "output_type": "execute_result"
    }
   ],
   "source": [
    "np.isnan(array)"
   ]
  },
  {
   "cell_type": "code",
   "execution_count": 4,
   "id": "2135aaa7",
   "metadata": {},
   "outputs": [
    {
     "data": {
      "text/plain": [
       "nan"
      ]
     },
     "execution_count": 4,
     "metadata": {},
     "output_type": "execute_result"
    }
   ],
   "source": [
    "np.mean(array) # Me devuelve un nan porque hay un NaN en el array"
   ]
  },
  {
   "cell_type": "code",
   "execution_count": 5,
   "id": "bdaf731b",
   "metadata": {},
   "outputs": [
    {
     "data": {
      "text/plain": [
       "4.0"
      ]
     },
     "execution_count": 5,
     "metadata": {},
     "output_type": "execute_result"
    }
   ],
   "source": [
    "np.nanmean(array) # Ignora el NaN y me devuelve la media de los demás elementos"
   ]
  },
  {
   "cell_type": "code",
   "execution_count": 6,
   "id": "fc956af9",
   "metadata": {},
   "outputs": [
    {
     "data": {
      "text/plain": [
       "24.0"
      ]
     },
     "execution_count": 6,
     "metadata": {},
     "output_type": "execute_result"
    }
   ],
   "source": [
    "np.nansum(array) # Ignora el NaN y me devuelve la suma de los demás elementos"
   ]
  },
  {
   "cell_type": "markdown",
   "id": "08bc9c73",
   "metadata": {},
   "source": [
    "## Diferentes maneras de tratar los datos faltantes con numpy"
   ]
  },
  {
   "cell_type": "code",
   "execution_count": 8,
   "id": "ed1c780a",
   "metadata": {},
   "outputs": [
    {
     "data": {
      "text/plain": [
       "array([1., 2., 3., 0., 5., 6., 7.])"
      ]
     },
     "execution_count": 8,
     "metadata": {},
     "output_type": "execute_result"
    }
   ],
   "source": [
    "array_con_0 = np.where( np.isnan(array), 0, array) # Cambia el NaN por un 0\n",
    "array_con_0"
   ]
  },
  {
   "cell_type": "code",
   "execution_count": 10,
   "id": "69c2cefc",
   "metadata": {},
   "outputs": [
    {
     "name": "stdout",
     "output_type": "stream",
     "text": [
      "4.0\n"
     ]
    },
    {
     "data": {
      "text/plain": [
       "array([1., 2., 3., 4., 5., 6., 7.])"
      ]
     },
     "execution_count": 10,
     "metadata": {},
     "output_type": "execute_result"
    }
   ],
   "source": [
    "promedio = np.nanmean(array) # Calcula la media ignorando el NaN\n",
    "print(promedio)\n",
    "array_con_promedio = np.where( np.isnan(array), promedio, array) # Cambia el NaN por la media\n",
    "array_con_promedio"
   ]
  },
  {
   "cell_type": "code",
   "execution_count": null,
   "id": "09cd6bab",
   "metadata": {},
   "outputs": [
    {
     "data": {
      "text/plain": [
       "array([1., 2., 3., 5., 6., 7.])"
      ]
     },
     "execution_count": 12,
     "metadata": {},
     "output_type": "execute_result"
    }
   ],
   "source": [
    "array_filtrado = array[ ~np.isnan(array)] # Filtra el array y elimina los NaN\n",
    "array_filtrado"
   ]
  },
  {
   "cell_type": "markdown",
   "id": "8016479c",
   "metadata": {},
   "source": [
    "### Ejercicios"
   ]
  },
  {
   "cell_type": "code",
   "execution_count": 14,
   "id": "f54474b1",
   "metadata": {},
   "outputs": [
    {
     "data": {
      "text/plain": [
       "array([False,  True, False,  True, False, False,  True])"
      ]
     },
     "execution_count": 14,
     "metadata": {},
     "output_type": "execute_result"
    }
   ],
   "source": [
    "import numpy as np\n",
    "\n",
    "array = np.array([3, np.nan, 7, np.nan, 0, 4.5, np.nan])\n",
    "\n",
    "nan_presencia= np.isnan(array)\n",
    "nan_presencia"
   ]
  },
  {
   "cell_type": "code",
   "execution_count": 15,
   "id": "693876e6",
   "metadata": {},
   "outputs": [
    {
     "name": "stdout",
     "output_type": "stream",
     "text": [
      "3.625\n"
     ]
    }
   ],
   "source": [
    "import numpy as np\n",
    "\n",
    "array = np.array([3, np.nan, 7, np.nan, 0, 4.5, np.nan]) \n",
    "\n",
    "promedio_sin_nans = np.nanmean(array) # Calcula la media ignorando los NaN\n",
    "print(promedio_sin_nans)"
   ]
  },
  {
   "cell_type": "code",
   "execution_count": 16,
   "id": "7df9f17c",
   "metadata": {},
   "outputs": [
    {
     "name": "stdout",
     "output_type": "stream",
     "text": [
      "[3.  0.  7.  0.  0.  4.5 0. ]\n"
     ]
    }
   ],
   "source": [
    "import numpy as np\n",
    "\n",
    "array = np.array([3, np.nan, 7, np.nan, 0, 4.5, np.nan])\n",
    "\n",
    "sustituir_nans = np.where(np.isnan(array), 0, array) # Cambia los NaN por 0\n",
    "print(sustituir_nans)"
   ]
  }
 ],
 "metadata": {
  "kernelspec": {
   "display_name": "base",
   "language": "python",
   "name": "python3"
  },
  "language_info": {
   "codemirror_mode": {
    "name": "ipython",
    "version": 3
   },
   "file_extension": ".py",
   "mimetype": "text/x-python",
   "name": "python",
   "nbconvert_exporter": "python",
   "pygments_lexer": "ipython3",
   "version": "3.12.7"
  }
 },
 "nbformat": 4,
 "nbformat_minor": 5
}
