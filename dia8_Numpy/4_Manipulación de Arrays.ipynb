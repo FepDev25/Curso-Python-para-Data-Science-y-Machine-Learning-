{
 "cells": [
  {
   "cell_type": "code",
   "execution_count": 1,
   "id": "45660d80",
   "metadata": {},
   "outputs": [],
   "source": [
    "import numpy as np"
   ]
  },
  {
   "cell_type": "code",
   "execution_count": 2,
   "id": "0af13ebb",
   "metadata": {},
   "outputs": [],
   "source": [
    "x = [1,2,3]\n",
    "y = [1,2,3]\n",
    "z = [1,2,3]"
   ]
  },
  {
   "cell_type": "code",
   "execution_count": 10,
   "id": "8e07898b",
   "metadata": {},
   "outputs": [],
   "source": [
    "a = [[1,2],[3,4]]\n",
    "\n",
    "b = [[5,6],[7,8]]"
   ]
  },
  {
   "cell_type": "code",
   "execution_count": 12,
   "id": "02b04df9",
   "metadata": {},
   "outputs": [
    {
     "name": "stdout",
     "output_type": "stream",
     "text": [
      "[1 2 3 1 2 3 1 2 3]\n"
     ]
    }
   ],
   "source": [
    "# Concatenar listas\n",
    "array = np.concatenate((x, y, z))\n",
    "print(array)"
   ]
  },
  {
   "cell_type": "code",
   "execution_count": 14,
   "id": "3c91eb5e",
   "metadata": {},
   "outputs": [
    {
     "name": "stdout",
     "output_type": "stream",
     "text": [
      "[[1 2 5 6]\n",
      " [3 4 7 8]]\n",
      "(2, 4)\n"
     ]
    }
   ],
   "source": [
    "array2 = np.concatenate((a,b), axis=1)\n",
    "print(array2)\n",
    "print(array2.shape)"
   ]
  },
  {
   "cell_type": "code",
   "execution_count": 16,
   "id": "070860e3",
   "metadata": {},
   "outputs": [
    {
     "name": "stdout",
     "output_type": "stream",
     "text": [
      "[[1 2]\n",
      " [3 4]\n",
      " [5 6]\n",
      " [7 8]]\n",
      "Shape: (4, 2)\n"
     ]
    }
   ],
   "source": [
    "array3 = np.concatenate((a,b), axis=0)\n",
    "print(array3)\n",
    "print(f\"Shape: {array3.shape}\")"
   ]
  },
  {
   "cell_type": "code",
   "execution_count": null,
   "id": "eadc1f33",
   "metadata": {},
   "outputs": [
    {
     "data": {
      "text/plain": [
       "array([[1, 2, 3, 4],\n",
       "       [5, 6, 7, 8]])"
      ]
     },
     "execution_count": 18,
     "metadata": {},
     "output_type": "execute_result"
    }
   ],
   "source": [
    "array3.reshape(2, 4) # Redimensionar"
   ]
  },
  {
   "cell_type": "code",
   "execution_count": 19,
   "id": "07c6c6e8",
   "metadata": {},
   "outputs": [
    {
     "name": "stdout",
     "output_type": "stream",
     "text": [
      "[[ 2  4]\n",
      " [ 6  8]\n",
      " [10 12]\n",
      " [14 16]]\n"
     ]
    }
   ],
   "source": [
    "array_sumada = array3 + array3\n",
    "print(array_sumada)"
   ]
  },
  {
   "cell_type": "code",
   "execution_count": 20,
   "id": "64fd99dc",
   "metadata": {},
   "outputs": [
    {
     "name": "stdout",
     "output_type": "stream",
     "text": [
      "[[ 40  80]\n",
      " [120 160]\n",
      " [200 240]\n",
      " [280 320]]\n"
     ]
    }
   ],
   "source": [
    "array_sumada = array_sumada * 20\n",
    "print(array_sumada)"
   ]
  },
  {
   "cell_type": "code",
   "execution_count": 21,
   "id": "ed26cc25",
   "metadata": {},
   "outputs": [
    {
     "name": "stdout",
     "output_type": "stream",
     "text": [
      "[[ 6.32455532  8.94427191]\n",
      " [10.95445115 12.64911064]\n",
      " [14.14213562 15.49193338]\n",
      " [16.73320053 17.88854382]]\n"
     ]
    }
   ],
   "source": [
    "racies = np.sqrt(array_sumada)\n",
    "print(racies)"
   ]
  },
  {
   "cell_type": "markdown",
   "id": "a9c9dc41",
   "metadata": {},
   "source": [
    "### Ejercicios"
   ]
  },
  {
   "cell_type": "code",
   "execution_count": 29,
   "id": "f251aa7a",
   "metadata": {},
   "outputs": [
    {
     "name": "stdout",
     "output_type": "stream",
     "text": [
      "[ 1  2  3  4  5  6  7  8  9 10]\n"
     ]
    }
   ],
   "source": [
    "import numpy as np\n",
    "\n",
    "array1 = np.array([1,2,3,4,5])\n",
    "array2 = np.array([6,7,8,9,10])\n",
    "\n",
    "array_concatenado = np.concatenate((array1, array2))\n",
    "print(array_concatenado)"
   ]
  },
  {
   "cell_type": "code",
   "execution_count": 30,
   "id": "c527527d",
   "metadata": {},
   "outputs": [
    {
     "name": "stdout",
     "output_type": "stream",
     "text": [
      "[[1 2 3]\n",
      " [4 5 6]]\n"
     ]
    }
   ],
   "source": [
    "import numpy as np\n",
    "\n",
    "array_original = np.array([1,2,3,4,5,6])\n",
    "array_reshaped = array_original.reshape(2, 3)\n",
    "print(array_reshaped)"
   ]
  },
  {
   "cell_type": "code",
   "execution_count": 32,
   "id": "8df324b7",
   "metadata": {},
   "outputs": [
    {
     "name": "stdout",
     "output_type": "stream",
     "text": [
      "[[ 6  8]\n",
      " [10 12]]\n",
      "[[ 5 12]\n",
      " [21 32]]\n"
     ]
    }
   ],
   "source": [
    "import numpy as np\n",
    "\n",
    "A = np.array(\n",
    "    [[1,2], \n",
    "    [3,4]]\n",
    ")\n",
    "B = np.array(\n",
    "    [[5,6], \n",
    "    [7,8]]\n",
    ")\n",
    "\n",
    "suma_AB = A + B\n",
    "print(suma_AB)\n",
    "\n",
    "producto_AB = A * B\n",
    "print(producto_AB)"
   ]
  }
 ],
 "metadata": {
  "kernelspec": {
   "display_name": "base",
   "language": "python",
   "name": "python3"
  },
  "language_info": {
   "codemirror_mode": {
    "name": "ipython",
    "version": 3
   },
   "file_extension": ".py",
   "mimetype": "text/x-python",
   "name": "python",
   "nbconvert_exporter": "python",
   "pygments_lexer": "ipython3",
   "version": "3.12.7"
  }
 },
 "nbformat": 4,
 "nbformat_minor": 5
}
