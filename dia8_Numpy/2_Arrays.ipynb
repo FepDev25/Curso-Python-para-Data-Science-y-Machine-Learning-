{
 "cells": [
  {
   "cell_type": "code",
   "execution_count": 8,
   "id": "a810be89",
   "metadata": {},
   "outputs": [],
   "source": [
    "import numpy as np\n",
    "import time as t"
   ]
  },
  {
   "cell_type": "code",
   "execution_count": 2,
   "id": "e805f2d7",
   "metadata": {},
   "outputs": [
    {
     "data": {
      "text/plain": [
       "array([1, 2, 3, 4, 5])"
      ]
     },
     "execution_count": 2,
     "metadata": {},
     "output_type": "execute_result"
    }
   ],
   "source": [
    "mi_array = np.array([1, 2, 3, 4, 5])\n",
    "mi_array"
   ]
  },
  {
   "cell_type": "code",
   "execution_count": 3,
   "id": "aba73e98",
   "metadata": {},
   "outputs": [
    {
     "data": {
      "text/plain": [
       "numpy.ndarray"
      ]
     },
     "execution_count": 3,
     "metadata": {},
     "output_type": "execute_result"
    }
   ],
   "source": [
    "type(mi_array)"
   ]
  },
  {
   "cell_type": "code",
   "execution_count": 5,
   "id": "dafa7dbd",
   "metadata": {},
   "outputs": [],
   "source": [
    "lista_millon = list(range(1, 1000001))\n",
    "array_millon = np.array(lista_millon)"
   ]
  },
  {
   "cell_type": "code",
   "execution_count": 6,
   "id": "f82cd037",
   "metadata": {},
   "outputs": [
    {
     "name": "stdout",
     "output_type": "stream",
     "text": [
      "<class 'list'>\n",
      "<class 'numpy.ndarray'>\n"
     ]
    }
   ],
   "source": [
    "print(type(lista_millon))\n",
    "print(type(array_millon))"
   ]
  },
  {
   "cell_type": "code",
   "execution_count": 44,
   "id": "ceb85198",
   "metadata": {},
   "outputs": [
    {
     "name": "stdout",
     "output_type": "stream",
     "text": [
      "Tiempo lista:  0.10576152801513672\n"
     ]
    }
   ],
   "source": [
    "inicio_lista = t.time()\n",
    "for i in lista_millon:\n",
    "    i ** 2\n",
    "fin_lista = t.time()\n",
    "print(\"Tiempo lista: \", fin_lista - inicio_lista)"
   ]
  },
  {
   "cell_type": "code",
   "execution_count": 45,
   "id": "eee3ba3a",
   "metadata": {},
   "outputs": [
    {
     "name": "stdout",
     "output_type": "stream",
     "text": [
      "Tiempo array:  0.002901315689086914\n"
     ]
    }
   ],
   "source": [
    "inicio_array = t.time()\n",
    "array_millon ** 2\n",
    "fin_array = t.time()\n",
    "print(\"Tiempo array: \", fin_array - inicio_array)"
   ]
  }
 ],
 "metadata": {
  "kernelspec": {
   "display_name": "base",
   "language": "python",
   "name": "python3"
  },
  "language_info": {
   "codemirror_mode": {
    "name": "ipython",
    "version": 3
   },
   "file_extension": ".py",
   "mimetype": "text/x-python",
   "name": "python",
   "nbconvert_exporter": "python",
   "pygments_lexer": "ipython3",
   "version": "3.12.7"
  }
 },
 "nbformat": 4,
 "nbformat_minor": 5
}
