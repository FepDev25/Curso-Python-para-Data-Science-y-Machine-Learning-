{
 "cells": [
  {
   "cell_type": "code",
   "execution_count": 2,
   "id": "e14c64b8",
   "metadata": {},
   "outputs": [],
   "source": [
    "import pandas as pd\n",
    "import numpy as np\n",
    "import matplotlib.pyplot as plt\n",
    "%matplotlib inline"
   ]
  },
  {
   "cell_type": "code",
   "execution_count": 5,
   "id": "d06b6c71",
   "metadata": {},
   "outputs": [
    {
     "data": {
      "text/html": [
       "<div>\n",
       "<style scoped>\n",
       "    .dataframe tbody tr th:only-of-type {\n",
       "        vertical-align: middle;\n",
       "    }\n",
       "\n",
       "    .dataframe tbody tr th {\n",
       "        vertical-align: top;\n",
       "    }\n",
       "\n",
       "    .dataframe thead th {\n",
       "        text-align: right;\n",
       "    }\n",
       "</style>\n",
       "<table border=\"1\" class=\"dataframe\">\n",
       "  <thead>\n",
       "    <tr style=\"text-align: right;\">\n",
       "      <th></th>\n",
       "      <th>Fecha</th>\n",
       "      <th>Producto</th>\n",
       "      <th>Cantidad</th>\n",
       "      <th>Precio Unitario</th>\n",
       "      <th>Total Venta</th>\n",
       "    </tr>\n",
       "  </thead>\n",
       "  <tbody>\n",
       "    <tr>\n",
       "      <th>0</th>\n",
       "      <td>1/17/2023</td>\n",
       "      <td>Electrónic</td>\n",
       "      <td>7</td>\n",
       "      <td>200</td>\n",
       "      <td>1400</td>\n",
       "    </tr>\n",
       "    <tr>\n",
       "      <th>1</th>\n",
       "      <td>9/1/2023</td>\n",
       "      <td>Electrónic</td>\n",
       "      <td>8</td>\n",
       "      <td>200</td>\n",
       "      <td>1600</td>\n",
       "    </tr>\n",
       "    <tr>\n",
       "      <th>2</th>\n",
       "      <td>7/29/2023</td>\n",
       "      <td>Juguetes</td>\n",
       "      <td>3</td>\n",
       "      <td>30</td>\n",
       "      <td>90</td>\n",
       "    </tr>\n",
       "    <tr>\n",
       "      <th>3</th>\n",
       "      <td>10/4/2023</td>\n",
       "      <td>Alimentos</td>\n",
       "      <td>4</td>\n",
       "      <td>10</td>\n",
       "      <td>40</td>\n",
       "    </tr>\n",
       "    <tr>\n",
       "      <th>4</th>\n",
       "      <td>2/28/2023</td>\n",
       "      <td>Electrónic</td>\n",
       "      <td>6</td>\n",
       "      <td>200</td>\n",
       "      <td>1200</td>\n",
       "    </tr>\n",
       "  </tbody>\n",
       "</table>\n",
       "</div>"
      ],
      "text/plain": [
       "       Fecha    Producto  Cantidad  Precio Unitario  Total Venta\n",
       "0  1/17/2023  Electrónic         7              200         1400\n",
       "1   9/1/2023  Electrónic         8              200         1600\n",
       "2  7/29/2023    Juguetes         3               30           90\n",
       "3  10/4/2023   Alimentos         4               10           40\n",
       "4  2/28/2023  Electrónic         6              200         1200"
      ]
     },
     "execution_count": 5,
     "metadata": {},
     "output_type": "execute_result"
    }
   ],
   "source": [
    "df = pd.read_csv(\"./Ventas.csv\")\n",
    "df.head()"
   ]
  },
  {
   "cell_type": "code",
   "execution_count": 6,
   "id": "4808a0fa",
   "metadata": {},
   "outputs": [
    {
     "data": {
      "image/png": "[encoded data removed]",
      "text/plain": [
       "<Figure size 640x480 with 1 Axes>"
      ]
     },
     "metadata": {},
     "output_type": "display_data"
    }
   ],
   "source": [
    "# Crear un histograma\n",
    "plt.hist( df[\"Producto\"] )\n",
    "plt.show()"
   ]
  },
  {
   "cell_type": "code",
   "execution_count": 18,
   "id": "58308cba",
   "metadata": {},
   "outputs": [
    {
     "data": {
      "text/plain": [
       "array([ 7.13381814e-02, -1.11208639e+00, -1.53718631e+00,  2.93875431e-01,\n",
       "       -5.43812846e-01, -2.66631389e-01,  5.97779819e-01,  6.87333326e-01,\n",
       "        1.51171524e+00,  1.07187630e+00, -6.53429815e-01,  1.86629027e+00,\n",
       "       -1.75272956e+00, -6.06887635e-01, -9.85835191e-01, -2.49086032e+00,\n",
       "       -5.50716481e-02, -6.34069682e-01,  1.17518860e+00, -1.31789146e+00,\n",
       "       -1.16151409e+00, -4.68308103e-01, -1.11153315e+00,  7.14460200e-01,\n",
       "        2.87997995e-01, -1.19543604e+00, -1.71748514e-01,  5.46556144e-01,\n",
       "        1.24013833e+00,  1.34939872e+00,  1.74982649e+00, -2.29420444e-01,\n",
       "       -9.25081821e-02, -1.05723479e+00, -3.13869024e-01, -7.08995004e-02,\n",
       "        9.15876727e-02, -1.32132490e+00, -5.16036177e-02, -1.95506827e-01,\n",
       "        4.41626518e-01, -6.26609425e-01,  2.15524839e-01,  1.69741083e+00,\n",
       "       -5.90431426e-01, -6.75733883e-01, -1.25324270e+00, -2.14191855e-01,\n",
       "       -8.35128410e-01,  1.36710547e+00,  6.33618005e-01, -1.17763903e+00,\n",
       "       -1.57062416e+00,  1.51151053e+00,  1.11348917e-01,  2.11530188e-01,\n",
       "        7.71745085e-01, -9.68010296e-01,  6.73432434e-01,  1.71889138e-02,\n",
       "       -3.68419947e-01,  8.59794972e-01,  4.91667721e-01,  3.24283737e-01,\n",
       "       -3.62710651e-01,  1.93027471e+00,  5.63168646e-01,  4.60545939e-01,\n",
       "        2.41133557e+00,  1.69893812e-02,  1.10244504e+00, -1.98782876e-02,\n",
       "        2.82884175e-01,  2.28677184e+00,  1.46584015e+00,  8.59123739e-01,\n",
       "        3.95700823e-02,  5.10777217e-02, -5.21532895e-01, -1.53761091e-01,\n",
       "        5.85908892e-01, -1.35340416e+00, -1.02132646e+00, -5.22179318e-01,\n",
       "       -1.67325405e-02,  1.20117949e+00,  1.47461262e-01, -1.21398204e+00,\n",
       "        6.02987587e-01,  4.49971477e-02,  6.90845409e-02,  2.09403860e-02,\n",
       "        5.16289801e-01, -4.54304289e-01, -7.27486835e-01,  2.30403644e+00,\n",
       "       -1.22601621e+00, -8.16986066e-01,  1.03539849e+00, -5.48269006e-01,\n",
       "       -8.14438544e-01, -2.65554124e-01,  1.37824189e+00,  1.64364742e-01,\n",
       "        7.59176818e-02, -6.08823653e-02,  7.11588692e-01, -3.37022190e-01,\n",
       "        1.23676670e+00,  9.20825442e-01,  2.28383246e+00, -1.20046131e+00,\n",
       "        3.06834047e-01, -7.42927354e-02,  1.22117895e+00,  6.68334824e-01,\n",
       "        7.74543986e-01,  9.88645402e-02, -3.90680631e-01, -1.03511866e+00,\n",
       "       -4.83137517e-01,  1.39240246e-01, -8.73561848e-01,  8.41528373e-01,\n",
       "       -3.62331382e-01,  8.26416809e-01,  7.74333209e-01, -3.00657539e-01,\n",
       "        1.24454666e+00, -7.43275489e-01, -5.96996827e-01, -1.15248270e-01,\n",
       "        1.11222170e+00, -1.25598457e-01,  4.16595000e-01,  2.69875244e-01,\n",
       "       -6.68995515e-01,  5.18278016e-02,  6.06839357e-02,  1.38595206e+00,\n",
       "        2.28620843e+00,  7.98607365e-01,  1.06322433e+00, -6.06490164e-01,\n",
       "       -1.32049755e-01, -3.82162984e-01,  7.64836396e-01, -4.19822850e-02,\n",
       "       -1.01471332e+00,  6.58297034e-01, -9.86637775e-01,  6.67904746e-01,\n",
       "        1.84938771e+00,  1.18269417e+00,  4.77397037e-01,  6.85132884e-01,\n",
       "        1.70189554e+00,  7.18219863e-01,  3.63229446e-01, -7.53446784e-01,\n",
       "       -5.21161648e-01,  8.48556875e-01, -2.04836474e-01,  1.56707225e+00,\n",
       "        1.48420052e+00,  1.07699028e+00, -2.71867678e-01,  5.14347042e-02,\n",
       "        5.63646026e-01, -1.34327332e+00,  9.61490870e-01,  1.26380625e-01,\n",
       "       -1.91109589e+00,  7.07530352e-01,  1.06796792e-03,  4.48877379e-01,\n",
       "        8.57299754e-01,  7.40729853e-01,  1.65789408e-01, -6.95875608e-01,\n",
       "       -9.23975714e-01, -1.10263593e+00,  3.03424964e-01,  6.30921274e-01,\n",
       "       -1.45759121e+00, -4.45697364e-01,  2.21477058e-01, -7.73037497e-01,\n",
       "        4.30229754e-01, -1.98956805e-01,  7.61755907e-01,  1.16363558e+00,\n",
       "       -5.55093049e-01, -5.78754295e-01, -2.99125517e-01,  3.80484337e-01,\n",
       "        1.64075462e+00,  2.49545985e+00,  4.25956886e-01, -2.80940338e-01,\n",
       "        5.93058204e-01, -1.20223966e+00,  2.17399530e-01,  9.33345123e-01,\n",
       "       -6.37290979e-01, -2.15579865e-01,  2.47307812e-01,  8.84393253e-01,\n",
       "       -2.55705893e-01, -1.52217286e+00, -3.27686387e-01, -4.47671518e-01,\n",
       "        8.19741938e-01,  6.22985119e-01,  4.35577537e-01,  6.98805711e-01,\n",
       "        9.11738284e-02, -1.09694814e-01,  7.72052754e-01,  1.17638804e+00,\n",
       "        6.22892047e-01, -1.57111225e+00, -2.09892377e+00,  6.77713108e-01,\n",
       "       -2.19383390e+00, -2.60162455e-01, -9.10016989e-02,  1.21591970e+00,\n",
       "        9.79807301e-01,  3.66398834e-01,  1.64217034e-01,  2.24542061e-01,\n",
       "       -5.48102424e-01,  2.96052062e-01,  9.21874340e-01,  5.48499103e-01,\n",
       "       -9.60402846e-01, -6.01857012e-01, -1.44759592e+00, -7.00871964e-01,\n",
       "       -8.16224924e-01, -8.61342339e-01, -2.84300648e-01,  1.91267109e-01,\n",
       "       -2.56689496e-01, -9.52490066e-01,  1.10394762e+00, -9.49837099e-01,\n",
       "        4.15969551e-01,  7.66442213e-01, -5.50259752e-01, -8.30819892e-01,\n",
       "       -1.07324220e+00,  1.35036542e+00, -5.96009323e-02, -2.73313257e+00,\n",
       "       -1.50580667e+00, -1.28195297e+00,  1.24169778e+00, -2.67052929e-01,\n",
       "       -3.59457200e-01,  2.48182223e-01,  7.85690716e-01,  1.41523626e-01,\n",
       "       -3.20741377e-01,  3.59991939e-01, -3.04815613e-01,  1.86825134e+00,\n",
       "       -1.17728165e+00, -1.86236574e+00,  1.28391077e+00, -4.56354119e-01,\n",
       "       -1.57760843e-01, -8.24497281e-01,  6.62566458e-01, -4.79442802e-03,\n",
       "       -2.15407566e+00,  7.75762891e-01,  1.55873319e+00, -1.01744193e+00,\n",
       "        1.49523517e-01,  3.03332102e-01, -1.77574174e-01,  6.86339929e-01,\n",
       "        2.94787397e-02,  1.97259369e-01,  7.84920448e-01, -4.88846220e-01,\n",
       "        9.82248270e-01,  1.61423621e+00,  1.04755843e+00, -1.51570533e+00,\n",
       "        1.13448865e+00, -7.83287242e-02,  1.04610075e+00,  5.49438295e-01,\n",
       "       -1.15557852e+00,  8.80078420e-01,  2.77092560e-01, -1.76458420e+00,\n",
       "        1.22115729e-01,  2.19878698e+00,  6.09236078e-01, -4.22104313e-01,\n",
       "       -1.71264867e-01,  3.73306846e-01, -7.97835832e-01, -6.02171845e-01,\n",
       "       -9.15908451e-01,  2.76817015e-01, -1.31758919e+00, -1.62788435e+00,\n",
       "       -2.26535705e+00, -1.67586642e+00,  3.76781227e-01,  4.20419481e-01,\n",
       "       -4.85607419e-01,  1.35753320e+00, -9.38133550e-01,  1.60110650e+00,\n",
       "        4.63899713e-02,  8.15964432e-02,  1.52294567e+00,  3.58217027e-01,\n",
       "        4.30452148e-01,  1.61655185e-01, -6.28095483e-01,  1.18352042e+00,\n",
       "        3.24421472e-01, -2.79833565e+00,  7.05981044e-01, -7.11930461e-01,\n",
       "       -5.57737359e-01,  4.42076719e-01,  3.89540944e-01, -9.30614688e-01,\n",
       "        1.54663707e+00, -7.10868938e-01,  6.09462858e-01,  7.86706545e-01,\n",
       "       -1.20993932e+00,  7.90781030e-01,  4.53883221e-01,  3.52636337e-01,\n",
       "        1.06839148e-01,  1.31381828e+00, -8.56295759e-01, -2.23281215e-01,\n",
       "        1.93384651e+00, -2.14044950e+00, -6.43453411e-01,  6.74821437e-01,\n",
       "        1.88999464e+00, -5.12358774e-01,  9.86173366e-01,  1.59485530e+00,\n",
       "        2.05777938e-01, -7.98799330e-01, -1.74044070e+00, -1.41128401e+00,\n",
       "       -7.35315397e-01,  2.37319039e+00, -8.59415496e-01,  7.59599590e-01,\n",
       "       -1.58164330e-01,  1.32768835e+00, -8.35178637e-01, -4.37843543e-01,\n",
       "        1.93224026e+00, -3.65687675e-01,  2.01154872e-01,  2.46805055e+00,\n",
       "       -4.99224529e-01,  5.41791394e-01,  5.33239870e-02,  1.31668121e+00,\n",
       "        6.16053720e-01, -1.01805378e-01,  6.21417036e-01, -1.71325050e+00,\n",
       "        2.94178987e-01, -1.24731327e+00, -6.67827265e-01,  2.28784668e-02,\n",
       "        2.15241204e+00,  1.26788110e+00,  6.77644000e-01, -1.19933268e+00,\n",
       "       -1.92261301e-01,  3.22747496e-01, -1.59597227e-01, -9.72328789e-01,\n",
       "        1.48415199e+00, -8.35750178e-01,  2.62861656e-01,  1.31371964e+00,\n",
       "       -5.96797613e-01,  5.28223041e-01, -1.54146328e+00, -1.58710733e-01,\n",
       "       -3.12857449e-01, -1.24003021e+00, -2.09268372e+00,  3.07662336e-01,\n",
       "       -2.09143130e+00, -1.05725515e+00,  3.87942510e-01,  8.40057264e-01,\n",
       "        1.33277497e+00,  7.93274005e-01,  2.31119372e-01,  1.00474794e+00,\n",
       "       -2.39765264e+00,  5.29600994e-01, -8.60442250e-02, -9.56723869e-01,\n",
       "       -1.68460682e+00,  3.18288822e-01, -8.31895825e-01,  5.70083911e-01,\n",
       "       -4.24920477e-01,  1.65262747e-01, -1.43224686e-01, -1.57668899e-01,\n",
       "       -5.77538398e-01,  9.63367638e-01, -2.43113194e+00, -5.80021444e-01,\n",
       "       -1.42016208e+00, -8.57853585e-01, -2.05053645e-01,  5.19914069e-02,\n",
       "       -1.06353451e+00, -6.05656010e-01, -4.48928287e-01,  2.71276409e-01,\n",
       "       -6.61402056e-01,  1.46667963e-01, -1.90851843e-01,  5.33855214e-01,\n",
       "        7.97035489e-01, -2.37234741e-01, -5.23681171e-01,  3.13872623e-01,\n",
       "        7.97305821e-01, -2.19186839e-02, -6.02834883e-01,  2.53365355e-01,\n",
       "        4.88746979e-01, -5.16949098e-01, -9.06787231e-02, -1.87427531e+00,\n",
       "       -5.07867751e-01, -1.29796227e-01, -1.39828742e+00, -1.54927201e+00,\n",
       "       -1.43015955e-01, -1.35251208e+00, -1.99950457e+00, -3.33521050e-01,\n",
       "       -8.86954610e-01, -2.15033894e+00,  2.24735606e-02,  2.89948870e-01,\n",
       "       -2.11724126e-01,  6.26820505e-01,  9.87488925e-01, -1.38377252e-01,\n",
       "       -1.52311306e+00,  7.24067152e-01, -9.74768323e-01, -7.10053265e-01,\n",
       "       -8.68924879e-01, -8.19070648e-01, -1.87318843e-01, -2.79831817e-01,\n",
       "       -2.82397482e+00,  7.45103443e-01,  1.01908640e+00,  1.09599223e+00,\n",
       "       -8.12342967e-01,  4.93499381e-01,  3.83489989e-01, -3.37121693e-01,\n",
       "       -2.59600380e-01,  5.69301353e-01, -7.95535502e-01, -1.73665172e+00,\n",
       "        4.05057687e-01, -2.42400380e-01,  8.90987584e-01,  6.60066150e-01,\n",
       "        4.43935096e-01, -1.78570207e+00, -1.51892439e+00,  1.96719303e-01,\n",
       "       -6.94091061e-02, -1.30536332e+00, -9.24597194e-01,  4.52743939e-02,\n",
       "        1.28095750e+00,  7.37710441e-01, -2.08491211e-01, -5.29284715e-01,\n",
       "        1.04527824e-03, -6.23417823e-01, -7.50213520e-01, -6.57331383e-01,\n",
       "       -2.10863826e-01,  3.77903360e-01,  9.95234618e-01,  1.45934567e+00,\n",
       "       -1.52352258e-01,  7.52911221e-01, -3.71770929e-01,  1.10183340e-01,\n",
       "        9.14009825e-01,  5.69862909e-01,  6.55690717e-01,  1.46877528e+00,\n",
       "       -1.87846946e+00, -1.09723504e-01,  8.32813411e-01, -3.12784111e-01,\n",
       "        2.32817911e+00, -3.48717389e-02,  5.44162377e-01,  2.59658667e-01,\n",
       "        7.81668100e-01, -7.96034628e-01,  4.49332464e-01,  1.23555274e+00,\n",
       "       -6.78492806e-02,  1.28420697e+00, -1.80504276e+00,  1.16526073e+00,\n",
       "       -3.82680944e-01,  9.53702839e-02, -1.51148842e+00,  9.72714551e-02,\n",
       "        1.18605341e+00,  7.57892622e-01,  7.20506734e-01, -1.35654274e+00,\n",
       "       -1.28619367e+00,  7.58779594e-01,  9.66563472e-01, -3.54189545e-01,\n",
       "       -7.49446459e-01,  2.59668874e-01,  3.67107432e-01, -9.31353493e-02,\n",
       "        1.09821287e+00,  5.61843811e-01,  1.13692770e+00,  1.23935273e-01,\n",
       "       -2.84960013e+00,  1.09594113e-01,  1.68080201e+00,  1.32205905e+00,\n",
       "        1.81420399e-01, -2.87701300e-02,  1.33604679e+00,  1.73460840e-01,\n",
       "       -4.03027935e-01,  6.86558715e-01,  1.22073681e+00,  2.02114873e-01,\n",
       "       -4.56733763e-01, -1.38363585e-01, -5.57013577e-01,  1.04371685e-01,\n",
       "        9.60733932e-02,  1.08003421e+00, -1.15989915e+00,  1.76203946e-04,\n",
       "        2.38871418e-01, -5.33776799e-01,  7.69488735e-01, -5.70422206e-01,\n",
       "       -1.08601329e+00, -1.34290088e+00,  4.63878866e-01, -6.18161836e-01,\n",
       "        1.80925204e-01,  2.26178179e-01,  1.79069232e-01, -5.60356184e-01,\n",
       "       -6.85976524e-03,  1.04141275e+00,  4.55383208e-01,  3.94126303e-02,\n",
       "       -4.50642506e-01, -3.44602461e-02,  7.88421574e-01, -5.26438476e-01,\n",
       "        1.13462965e-01, -1.06897281e+00, -1.04999129e+00,  1.26809451e+00,\n",
       "       -1.18387004e+00,  1.11021985e+00,  9.83081993e-01, -1.79191454e-01,\n",
       "        9.66829654e-01,  2.93828344e-01,  1.17448765e+00,  8.82651062e-01,\n",
       "        1.37658185e-01, -7.78305529e-01,  9.97346079e-01,  1.22582823e+00,\n",
       "       -1.72395596e+00, -4.25670924e-01,  2.08342315e-01, -1.49554642e+00,\n",
       "       -1.54891884e-02, -2.03324942e-01,  2.55645221e-01,  1.04692745e+00,\n",
       "        5.93117058e-02, -1.36020579e-02,  4.18170215e-02,  1.87247457e+00,\n",
       "       -3.16335242e-01, -4.19353404e-01, -1.75385877e-01,  3.38327034e-01,\n",
       "        1.22861687e+00,  8.89857661e-02, -2.00674981e-01, -1.36185642e+00,\n",
       "        2.05366190e-01, -8.59332434e-02, -6.97818858e-01,  1.14484221e+00,\n",
       "       -2.24678552e-01,  3.31077451e-01, -6.69131320e-01,  2.65903642e-01,\n",
       "       -3.76518174e-01, -1.26843841e+00, -1.24746029e+00, -4.48821085e-01,\n",
       "       -1.18065092e+00,  8.14981006e-01,  1.26701919e-01,  4.83785774e-01,\n",
       "        3.75534700e-01,  1.64668035e+00, -1.53540360e+00,  2.81258572e-01,\n",
       "        1.19970893e+00, -1.59041459e+00, -1.46384227e+00,  5.20854378e-01,\n",
       "       -5.84253083e-01,  9.23141449e-01, -8.25737326e-01,  5.21691757e-01,\n",
       "       -9.67157556e-01, -1.10834676e+00, -2.60668144e-02,  1.22652107e+00,\n",
       "       -1.58543404e+00, -5.36908710e-01, -3.02406311e-01,  2.25754398e-01,\n",
       "        3.87677903e-01,  2.37693931e-01, -1.69285014e+00,  3.80896045e-01,\n",
       "       -4.43285988e-01,  1.36844391e+00, -1.55836748e+00,  1.67629451e+00,\n",
       "        1.30560166e+00,  8.89021403e-01, -4.52918585e-01, -6.48238085e-02,\n",
       "        8.16652124e-01, -1.22120716e+00,  2.36585374e-01, -1.09841456e+00,\n",
       "        3.38396373e-01,  7.42165967e-01, -8.33637951e-01,  6.42400175e-01,\n",
       "        1.05640735e-01, -7.19735693e-01,  9.63175857e-01, -1.31694614e+00,\n",
       "       -1.11449733e+00,  6.16769779e-01, -3.13499360e-01,  1.25883311e+00,\n",
       "        5.92655031e-01, -1.52787102e+00,  1.39436903e+00,  3.83728535e-01,\n",
       "       -7.13210313e-01,  7.79185795e-01,  2.11580188e+00,  7.43315383e-01,\n",
       "       -5.79623617e-01,  1.56221871e+00, -1.94097475e+00,  1.60076088e-01,\n",
       "       -9.07871431e-01, -1.52118880e+00,  3.57581108e-01,  4.87732841e-01,\n",
       "       -9.80604319e-01,  4.60538056e-01, -7.12515381e-01, -2.49644725e-01,\n",
       "       -4.10576163e-01, -1.00115290e+00, -9.04560492e-01,  1.34204977e+00,\n",
       "        1.89902549e-01, -9.36191057e-01, -6.00212834e-01,  1.33329469e-02,\n",
       "        4.54099216e-01, -3.98339082e-01, -2.13013063e+00, -7.38643109e-01,\n",
       "        1.79578004e-01, -1.58459204e+00,  4.37886467e-01, -1.01445697e+00,\n",
       "        1.39834628e+00,  1.21146956e+00, -1.05208659e+00, -6.58465273e-01,\n",
       "        5.80845391e-01,  2.12620700e-01, -1.82897029e+00,  1.67174430e+00,\n",
       "       -1.11504791e+00,  8.96786673e-01,  1.46505473e+00,  1.05046011e+00,\n",
       "       -9.94569434e-01, -1.03420151e+00,  1.24135587e+00,  1.08544413e+00,\n",
       "        1.33031057e-01, -8.98146803e-01, -1.15086527e+00, -1.43305474e-01,\n",
       "       -1.68998913e+00,  7.19864419e-01,  2.15347171e+00,  6.08904202e-01,\n",
       "        1.66724931e-01, -1.70853697e+00,  9.46806810e-02,  4.18761943e-01,\n",
       "       -1.82385216e+00,  8.95811380e-01, -5.92098032e-01,  5.69362272e-01,\n",
       "        2.00714655e+00, -1.24565703e+00, -1.07283015e+00,  2.16250864e+00,\n",
       "        6.61797615e-01,  3.51216904e-01, -5.19115217e-01,  3.18633664e-01,\n",
       "       -6.20529779e-01,  8.76005018e-01,  1.34792002e+00,  1.72580036e+00,\n",
       "        1.02907165e-01, -6.94524169e-01, -1.20018612e+00,  8.48892742e-01,\n",
       "       -6.65062595e-01,  1.00613320e+00, -1.41300504e-01,  3.67766319e-01,\n",
       "       -1.96458973e+00, -5.60468901e-01, -7.65941340e-01, -4.25918239e-01,\n",
       "       -8.91062015e-01,  7.00500968e-01, -1.82996067e+00, -1.31277187e+00,\n",
       "       -5.82931484e-01, -2.62219818e+00,  1.02617487e+00,  7.00589815e-01,\n",
       "       -1.06295299e+00, -2.25554138e-01, -8.42042039e-01, -1.05227005e+00,\n",
       "       -8.19258067e-01, -1.43781529e+00,  2.76804432e-02, -6.11000463e-01,\n",
       "       -5.02969734e-02,  1.06207278e+00, -1.76008229e+00,  9.03116767e-01,\n",
       "        3.23499609e-01,  2.22481109e+00,  1.42611690e-01,  1.87634296e+00,\n",
       "       -1.67591358e+00, -4.92056929e-01, -1.38451122e+00,  1.74037536e-01,\n",
       "        4.98165915e-01, -1.53126095e+00, -9.96299491e-01,  1.03535027e+00,\n",
       "        1.94541419e-01, -6.55914785e-01, -6.49654388e-01, -2.26363781e+00,\n",
       "       -2.38750998e-01, -3.96539461e-01, -1.24568840e+00, -1.43439564e+00,\n",
       "        2.15949869e-01, -1.73808781e-01, -6.04327947e-01,  8.72408160e-02,\n",
       "       -8.29871648e-01, -4.13331308e-01,  1.16302013e-02,  1.38624872e-01,\n",
       "        2.90449278e-01, -9.68496815e-01,  1.57112727e+00,  5.94244178e-01,\n",
       "       -9.42548414e-01, -5.38125394e-01,  1.76940105e+00,  7.16056215e-01,\n",
       "        8.10973048e-01, -4.45220347e-01, -4.62436181e-02,  6.96031660e-01,\n",
       "       -7.73211834e-01,  1.84150630e+00,  1.37468316e+00, -9.10212687e-02,\n",
       "        4.51225430e-01,  7.99163472e-01,  9.92009649e-01, -1.36470143e+00,\n",
       "       -3.90016527e-01, -1.50785724e+00,  1.71298458e+00,  1.01837637e+00,\n",
       "       -1.41678946e-02, -1.82234374e+00,  6.92808879e-01,  1.44271018e+00,\n",
       "       -8.54996686e-01,  5.33408000e-01,  5.06572203e-01,  1.04796033e+00,\n",
       "        7.33491551e-01, -3.12315674e-01, -1.35364205e+00,  7.13282870e-01,\n",
       "        2.79377360e-01,  1.16074390e-01,  8.32346412e-01,  1.50828524e-01,\n",
       "       -2.04619206e-01, -7.96401286e-01, -1.33581731e+00, -6.73597000e-01,\n",
       "       -6.13052400e-02, -1.80987449e+00, -8.44052676e-01,  1.15604314e-01,\n",
       "       -1.64554439e+00,  5.18357701e-01,  3.19442866e-01, -1.09954399e-01,\n",
       "       -5.30702300e-01, -7.59446936e-01,  6.16811224e-01, -1.83760844e+00,\n",
       "       -7.39524617e-01,  5.78819993e-01, -1.15893483e-01, -8.51980486e-01,\n",
       "        8.97106506e-01,  9.06465570e-01,  3.55688256e-01, -2.33901262e+00,\n",
       "        5.48192023e-01, -1.01813262e+00,  8.38482917e-01, -3.48914522e-01,\n",
       "       -2.51850636e-01, -7.61093761e-01, -4.32786648e-01,  3.82097731e-01,\n",
       "        3.19618344e-01, -1.23943147e+00,  4.60873604e-01,  5.15361265e-01,\n",
       "       -1.95092783e+00,  5.76941345e-01,  5.38397739e-02,  2.96325250e-01,\n",
       "        1.27368113e+00, -1.25495912e-01, -6.54184140e-01, -5.81762043e-01,\n",
       "       -8.76704589e-01, -4.12176547e-01, -1.50041651e+00,  4.06860226e-01,\n",
       "       -3.92211599e-01, -9.18125936e-01, -9.35192659e-01,  1.68519062e+00,\n",
       "       -1.05680462e+00,  6.60109918e-01, -2.01232002e-03,  5.82029422e-01,\n",
       "        3.23982242e-02,  2.35761906e-02, -1.83740982e-01, -8.89804823e-01,\n",
       "       -2.39021249e-01,  9.59599206e-01,  1.28518579e-02,  1.30908399e-01,\n",
       "        2.58134297e+00,  1.80662068e+00,  5.11036078e-01,  8.49573029e-01,\n",
       "        1.53733704e+00, -2.99319038e-01,  1.02805595e+00, -1.68496540e+00,\n",
       "       -2.67969606e+00,  1.90315374e-01, -8.41617552e-01, -2.53454112e-01,\n",
       "        7.99318475e-01, -1.92715579e+00,  1.32107774e+00, -1.48101309e+00,\n",
       "        2.36587256e-01,  9.07079212e-01, -5.92040515e-01, -8.70373192e-01,\n",
       "        1.46551792e+00,  1.99420975e+00, -1.41646759e+00, -2.15222382e+00,\n",
       "       -1.10011361e+00, -1.34144085e+00,  3.55053925e-01, -7.99528797e-01,\n",
       "        2.42350175e-01,  1.38080946e+00, -1.54095509e+00,  7.07852749e-01,\n",
       "       -1.67815024e+00,  7.26621431e-01,  3.50505266e-01,  8.97453125e-01,\n",
       "        1.53043938e+00, -5.06152277e-01,  1.51830599e+00,  1.11753401e+00,\n",
       "        1.15511664e+00, -5.94088571e-01,  8.55717583e-01,  2.34605467e+00,\n",
       "       -6.53415049e-02,  1.29981967e+00,  2.64514400e-02,  1.23115170e+00,\n",
       "       -3.44366811e-01,  1.42157708e+00,  4.56958600e-02, -2.07155097e-01,\n",
       "       -2.60152174e-01,  4.62009550e-01, -1.22277756e+00, -2.00499429e+00,\n",
       "       -2.83385272e+00, -1.14441196e+00,  4.58750501e-02,  1.06491504e+00])"
      ]
     },
     "execution_count": 18,
     "metadata": {},
     "output_type": "execute_result"
    }
   ],
   "source": [
    "numeros = np.random.randn(1000)\n",
    "numeros"
   ]
  },
  {
   "cell_type": "code",
   "execution_count": 19,
   "id": "fa5c98a8",
   "metadata": {},
   "outputs": [
    {
     "data": {
      "image/png": "[encoded data removed]",
      "text/plain": [
       "<Figure size 640x480 with 1 Axes>"
      ]
     },
     "metadata": {},
     "output_type": "display_data"
    }
   ],
   "source": [
    "plt.hist( numeros )\n",
    "plt.show()"
   ]
  },
  {
   "cell_type": "markdown",
   "id": "6f3be05e",
   "metadata": {},
   "source": [
    "- bins: Número de barras\n",
    "- alpha: Tranparencia\n",
    "- color: Color del gráfico\n",
    "- edgecolor: Color del borde\n",
    "- histtype: Tipo de gráfico"
   ]
  },
  {
   "cell_type": "code",
   "execution_count": 32,
   "id": "409afad6",
   "metadata": {},
   "outputs": [
    {
     "data": {
      "image/png": "[encoded data removed]",
      "text/plain": [
       "<Figure size 640x480 with 1 Axes>"
      ]
     },
     "metadata": {},
     "output_type": "display_data"
    }
   ],
   "source": [
    "plt.hist( numeros, bins=50, alpha=0.5, color='blue', edgecolor='black')\n",
    "plt.show()"
   ]
  },
  {
   "cell_type": "code",
   "execution_count": 60,
   "id": "604096df",
   "metadata": {},
   "outputs": [
    {
     "data": {
      "image/png": "[encoded data removed]",
      "text/plain": [
       "<Figure size 640x480 with 1 Axes>"
      ]
     },
     "metadata": {},
     "output_type": "display_data"
    }
   ],
   "source": [
    "x1 = np.random.randn(1000)\n",
    "x2 = np.random.randn(500)\n",
    "x3 = np.random.randn(100)\n",
    "\n",
    "plt.hist( x1, histtype=\"stepfilled\", alpha=0.3, bins=40)\n",
    "plt.hist( x2, histtype=\"stepfilled\", alpha=0.3, bins=40)\n",
    "plt.hist( x3, histtype=\"stepfilled\", alpha=0.3, bins=40)\n",
    "plt.show()\n"
   ]
  },
  {
   "cell_type": "markdown",
   "id": "96346022",
   "metadata": {},
   "source": [
    "### Ejercicios"
   ]
  },
  {
   "cell_type": "code",
   "execution_count": 69,
   "id": "ab7d4cd9",
   "metadata": {},
   "outputs": [
    {
     "data": {
      "image/png": "[encoded data removed]",
      "text/plain": [
       "<Figure size 640x480 with 1 Axes>"
      ]
     },
     "metadata": {},
     "output_type": "display_data"
    }
   ],
   "source": [
    "import matplotlib.pyplot as plt\n",
    "import numpy as np\n",
    "\n",
    "datos = np.random.randn(1000)\n",
    "\n",
    "plt.hist( datos, bins=30, color='blue', edgecolor='black')\n",
    "plt.show()"
   ]
  },
  {
   "cell_type": "code",
   "execution_count": 88,
   "id": "a69e06d0",
   "metadata": {},
   "outputs": [
    {
     "data": {
      "image/png": "[encoded data removed]",
      "text/plain": [
       "<Figure size 640x480 with 1 Axes>"
      ]
     },
     "metadata": {},
     "output_type": "display_data"
    }
   ],
   "source": [
    "import matplotlib.pyplot as plt\n",
    "import numpy as np\n",
    "\n",
    "\n",
    "x1 = np.random.randn(1000)\n",
    "x2 = np.random.randn(500)\n",
    "x3 = np.random.randn(100)\n",
    "\n",
    "plt.hist( x1, histtype=\"stepfilled\", alpha=0.5, bins=40)\n",
    "plt.hist( x2, histtype=\"stepfilled\", alpha=0.5, bins=40)\n",
    "plt.hist( x3, histtype=\"stepfilled\", alpha=0.5, bins=40)\n",
    "plt.show()"
   ]
  }
 ],
 "metadata": {
  "kernelspec": {
   "display_name": "base",
   "language": "python",
   "name": "python3"
  },
  "language_info": {
   "codemirror_mode": {
    "name": "ipython",
    "version": 3
   },
   "file_extension": ".py",
   "mimetype": "text/x-python",
   "name": "python",
   "nbconvert_exporter": "python",
   "pygments_lexer": "ipython3",
   "version": "3.12.7"
  }
 },
 "nbformat": 4,
 "nbformat_minor": 5
}
