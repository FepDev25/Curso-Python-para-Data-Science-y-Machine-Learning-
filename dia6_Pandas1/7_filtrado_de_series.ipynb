{
 "cells": [
  {
   "cell_type": "code",
   "execution_count": 1,
   "id": "f48fac4f",
   "metadata": {
    "scrolled": true
   },
   "outputs": [
    {
     "data": {
      "text/plain": [
       "0     5\n",
       "1    10\n",
       "2    15\n",
       "3    20\n",
       "4    25\n",
       "dtype: int64"
      ]
     },
     "execution_count": 1,
     "metadata": {},
     "output_type": "execute_result"
    }
   ],
   "source": [
    "import pandas as pd\n",
    "\n",
    "serie = pd.Series([5, 10, 15, 20, 25])\n",
    "serie"
   ]
  },
  {
   "cell_type": "markdown",
   "id": "1f9b338b",
   "metadata": {},
   "source": [
    "## Filtrado de series"
   ]
  },
  {
   "cell_type": "code",
   "execution_count": 2,
   "id": "be9a4740",
   "metadata": {},
   "outputs": [
    {
     "data": {
      "text/plain": [
       "3    20\n",
       "4    25\n",
       "dtype: int64"
      ]
     },
     "execution_count": 2,
     "metadata": {},
     "output_type": "execute_result"
    }
   ],
   "source": [
    "# Genero la condición\n",
    "filtro = serie > 15\n",
    "serie_filtrada = serie[filtro]  \n",
    "serie_filtrada"
   ]
  },
  {
   "cell_type": "code",
   "execution_count": 3,
   "id": "e63c3c89",
   "metadata": {},
   "outputs": [
    {
     "data": {
      "text/plain": [
       "0    False\n",
       "1    False\n",
       "2    False\n",
       "3     True\n",
       "4     True\n",
       "dtype: bool"
      ]
     },
     "execution_count": 3,
     "metadata": {},
     "output_type": "execute_result"
    }
   ],
   "source": [
    "filtro"
   ]
  },
  {
   "cell_type": "code",
   "execution_count": null,
   "id": "cb2a2a45",
   "metadata": {},
   "outputs": [
    {
     "data": {
      "text/plain": [
       "0       Pera\n",
       "1    Manzana\n",
       "2    Naranja\n",
       "3       Kiwi\n",
       "4     Sandía\n",
       "dtype: object"
      ]
     },
     "execution_count": 6,
     "metadata": {},
     "output_type": "execute_result"
    }
   ],
   "source": [
    "serie2 = pd.Series([\"Pera\", \"Manzana\", \"Naranja\", \"Kiwi\", \"Sandía\", \"Piña\", \"Uva\"])\n",
    "serie2"
   ]
  },
  {
   "cell_type": "code",
   "execution_count": 7,
   "id": "d2439da8",
   "metadata": {},
   "outputs": [
    {
     "data": {
      "text/plain": [
       "pandas.core.series.Series"
      ]
     },
     "execution_count": 7,
     "metadata": {},
     "output_type": "execute_result"
    }
   ],
   "source": [
    "type(serie2)"
   ]
  },
  {
   "cell_type": "code",
   "execution_count": 8,
   "id": "a4667d6c",
   "metadata": {},
   "outputs": [
    {
     "data": {
      "text/plain": [
       "str"
      ]
     },
     "execution_count": 8,
     "metadata": {},
     "output_type": "execute_result"
    }
   ],
   "source": [
    "type(serie2[0])"
   ]
  },
  {
   "cell_type": "code",
   "execution_count": 15,
   "id": "9f787702",
   "metadata": {},
   "outputs": [
    {
     "data": {
      "text/plain": [
       "1    Manzana\n",
       "2    Naranja\n",
       "4     Sandía\n",
       "dtype: object"
      ]
     },
     "execution_count": 15,
     "metadata": {},
     "output_type": "execute_result"
    }
   ],
   "source": [
    "# Filtramos la serie de frutas\n",
    "filtro2 = serie2.str.contains(\"n\")\n",
    "serie2_filtrada = serie2[filtro2]\n",
    "serie2_filtrada"
   ]
  },
  {
   "cell_type": "code",
   "execution_count": 16,
   "id": "e1738229",
   "metadata": {},
   "outputs": [
    {
     "data": {
      "text/plain": [
       "0    False\n",
       "1     True\n",
       "2     True\n",
       "3    False\n",
       "4     True\n",
       "dtype: bool"
      ]
     },
     "execution_count": 16,
     "metadata": {},
     "output_type": "execute_result"
    }
   ],
   "source": [
    "filtro2"
   ]
  },
  {
   "cell_type": "markdown",
   "id": "4e9906f1",
   "metadata": {},
   "source": [
    "## Ejercicios"
   ]
  },
  {
   "cell_type": "code",
   "execution_count": 20,
   "id": "e458f12f",
   "metadata": {},
   "outputs": [
    {
     "data": {
      "text/plain": [
       "10    11\n",
       "11    12\n",
       "12    13\n",
       "13    14\n",
       "14    15\n",
       "15    16\n",
       "16    17\n",
       "17    18\n",
       "18    19\n",
       "19    20\n",
       "dtype: int64"
      ]
     },
     "execution_count": 20,
     "metadata": {},
     "output_type": "execute_result"
    }
   ],
   "source": [
    "import pandas as pd\n",
    "\n",
    "serie_numeros = pd.Series(list(range(1,21)))\n",
    "filtro = serie_numeros > 10\n",
    "serie_numeros[filtro]"
   ]
  },
  {
   "cell_type": "code",
   "execution_count": 21,
   "id": "ec4893ab",
   "metadata": {},
   "outputs": [
    {
     "data": {
      "text/plain": [
       "0    18\n",
       "1    22\n",
       "5     8\n",
       "dtype: int64"
      ]
     },
     "execution_count": 21,
     "metadata": {},
     "output_type": "execute_result"
    }
   ],
   "source": [
    "import pandas as pd\n",
    "\n",
    "valores = pd.Series([18, 22, 7, 9, 15, 8])\n",
    "condicion_valores_pares = valores % 2 == 0\n",
    "valores[condicion_valores_pares]"
   ]
  },
  {
   "cell_type": "code",
   "execution_count": null,
   "id": "215162af",
   "metadata": {},
   "outputs": [
    {
     "data": {
      "text/plain": [
       "2       cereza\n",
       "4    frambuesa\n",
       "dtype: object"
      ]
     },
     "execution_count": 23,
     "metadata": {},
     "output_type": "execute_result"
    }
   ],
   "source": [
    "import pandas as pd\n",
    "frutas = pd.Series([\"manzana\", \"banana\", \"cereza\", \"durazno\", \"frambuesa\"])\n",
    "filtro = frutas.str.contains(\"e\")\n",
    "frutas_con_e = frutas[filtro]\n",
    "frutas_con_e"
   ]
  }
 ],
 "metadata": {
  "kernelspec": {
   "display_name": "base",
   "language": "python",
   "name": "python3"
  },
  "language_info": {
   "codemirror_mode": {
    "name": "ipython",
    "version": 3
   },
   "file_extension": ".py",
   "mimetype": "text/x-python",
   "name": "python",
   "nbconvert_exporter": "python",
   "pygments_lexer": "ipython3",
   "version": "3.12.7"
  }
 },
 "nbformat": 4,
 "nbformat_minor": 5
}
