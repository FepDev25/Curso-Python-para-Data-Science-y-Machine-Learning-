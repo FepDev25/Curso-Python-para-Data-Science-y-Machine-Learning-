{
 "cells": [
  {
   "cell_type": "markdown",
   "id": "c7da21d4",
   "metadata": {},
   "source": [
    "# Tipos de datos en Pandas"
   ]
  },
  {
   "cell_type": "markdown",
   "id": "792b1a68",
   "metadata": {},
   "source": [
    "- En pandas vamos a trabajar con datos organizados como tablas"
   ]
  },
  {
   "cell_type": "code",
   "execution_count": 1,
   "id": "f8adc99a",
   "metadata": {},
   "outputs": [],
   "source": [
    "import pandas as pd"
   ]
  },
  {
   "cell_type": "markdown",
   "id": "e1a90147",
   "metadata": {},
   "source": [
    "### Dataframes\n",
    "\n",
    "- Tablas de pandas"
   ]
  },
  {
   "cell_type": "code",
   "execution_count": 2,
   "id": "a5e5a537",
   "metadata": {},
   "outputs": [
    {
     "name": "stdout",
     "output_type": "stream",
     "text": [
      "  nombre  edad sexo\n",
      "0   Juan    25    M\n",
      "1    Ana    18    F\n",
      "2  Pedro    33    M\n",
      "3  Marta    42    F\n",
      "<class 'pandas.core.frame.DataFrame'>\n"
     ]
    }
   ],
   "source": [
    "datos = {\n",
    "    \"nombre\" : [\"Juan\", \"Ana\", \"Pedro\", \"Marta\"],\n",
    "    \"edad\" : [25, 18, 33, 42],\n",
    "    \"sexo\" : [\"M\", \"F\", \"M\", \"F\"]\n",
    "}\n",
    "\n",
    "# Crear un conjunto de datos en forma de tabla\n",
    "df = pd.DataFrame(datos)\n",
    "\n",
    "print(df)\n",
    "print(type(df))"
   ]
  },
  {
   "cell_type": "markdown",
   "id": "16678ab0",
   "metadata": {},
   "source": [
    "### Series\n",
    "\n",
    "- Columnas de pandas"
   ]
  },
  {
   "cell_type": "code",
   "execution_count": 3,
   "id": "0f4ca49a",
   "metadata": {},
   "outputs": [
    {
     "name": "stdout",
     "output_type": "stream",
     "text": [
      "0     Juan\n",
      "1      Ana\n",
      "2    Pedro\n",
      "3    Marta\n",
      "Name: nombre, dtype: object\n",
      "<class 'pandas.core.series.Series'>\n",
      "0    25\n",
      "1    18\n",
      "2    33\n",
      "3    42\n",
      "Name: edad, dtype: int64\n",
      "<class 'pandas.core.series.Series'>\n"
     ]
    }
   ],
   "source": [
    "# Capturar serir nombre\n",
    "serie_nombre = df[\"nombre\"]\n",
    "print(serie_nombre)\n",
    "print(type(serie_nombre))\n",
    "\n",
    "\n",
    "serie_edad = df.edad\n",
    "print(serie_edad)\n",
    "print(type(serie_edad))"
   ]
  },
  {
   "cell_type": "code",
   "execution_count": 4,
   "id": "11d8a2bc",
   "metadata": {},
   "outputs": [
    {
     "data": {
      "text/plain": [
       "0     Juan\n",
       "1      Ana\n",
       "2    Pedro\n",
       "3    Marta\n",
       "Name: nombre, dtype: object"
      ]
     },
     "execution_count": 4,
     "metadata": {},
     "output_type": "execute_result"
    }
   ],
   "source": [
    "df[\"nombre\"]"
   ]
  },
  {
   "cell_type": "code",
   "execution_count": 8,
   "id": "a265050d",
   "metadata": {},
   "outputs": [
    {
     "name": "stdout",
     "output_type": "stream",
     "text": [
      "(4, 3)\n",
      "Index(['nombre', 'edad', 'sexo'], dtype='object')\n",
      "RangeIndex(start=0, stop=4, step=1)\n"
     ]
    }
   ],
   "source": [
    "shape_df = df.shape\n",
    "columns_df = df.columns\n",
    "index_df = df.index\n",
    "\n",
    "print(shape_df)\n",
    "print(columns_df)\n",
    "print(index_df)"
   ]
  }
 ],
 "metadata": {
  "kernelspec": {
   "display_name": "base",
   "language": "python",
   "name": "python3"
  },
  "language_info": {
   "codemirror_mode": {
    "name": "ipython",
    "version": 3
   },
   "file_extension": ".py",
   "mimetype": "text/x-python",
   "name": "python",
   "nbconvert_exporter": "python",
   "pygments_lexer": "ipython3",
   "version": "3.12.7"
  }
 },
 "nbformat": 4,
 "nbformat_minor": 5
}
