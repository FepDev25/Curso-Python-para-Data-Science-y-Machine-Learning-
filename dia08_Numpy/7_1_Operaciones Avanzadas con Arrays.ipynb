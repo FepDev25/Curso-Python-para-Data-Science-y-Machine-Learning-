{
 "cells": [
  {
   "cell_type": "code",
   "execution_count": 1,
   "id": "84f5736b",
   "metadata": {},
   "outputs": [],
   "source": [
    "import numpy as np"
   ]
  },
  {
   "cell_type": "code",
   "execution_count": 5,
   "id": "b4d88ecb",
   "metadata": {},
   "outputs": [
    {
     "data": {
      "text/plain": [
       "array([1, 2, 3])"
      ]
     },
     "execution_count": 5,
     "metadata": {},
     "output_type": "execute_result"
    }
   ],
   "source": [
    "array1 = np.array([1, 2, 3])\n",
    "array1"
   ]
  },
  {
   "cell_type": "code",
   "execution_count": 6,
   "id": "4bd36f98",
   "metadata": {},
   "outputs": [
    {
     "data": {
      "text/plain": [
       "array([[ 0],\n",
       "       [10],\n",
       "       [20],\n",
       "       [30]])"
      ]
     },
     "execution_count": 6,
     "metadata": {},
     "output_type": "execute_result"
    }
   ],
   "source": [
    "array2 = np.array([[0], [10], [20], [30]])\n",
    "array2"
   ]
  },
  {
   "cell_type": "code",
   "execution_count": 7,
   "id": "9ffa3191",
   "metadata": {},
   "outputs": [
    {
     "data": {
      "text/plain": [
       "array([[ 1,  2,  3],\n",
       "       [11, 12, 13],\n",
       "       [21, 22, 23],\n",
       "       [31, 32, 33]])"
      ]
     },
     "execution_count": 7,
     "metadata": {},
     "output_type": "execute_result"
    }
   ],
   "source": [
    "broadcast_suma  = array1 + array2\n",
    "broadcast_suma"
   ]
  },
  {
   "cell_type": "code",
   "execution_count": 8,
   "id": "427a88bc",
   "metadata": {},
   "outputs": [
    {
     "data": {
      "text/plain": [
       "array([[ 0,  0,  0],\n",
       "       [10, 20, 30],\n",
       "       [20, 40, 60],\n",
       "       [30, 60, 90]])"
      ]
     },
     "execution_count": 8,
     "metadata": {},
     "output_type": "execute_result"
    }
   ],
   "source": [
    "broadcast_multiplicacion = array1 * array2\n",
    "broadcast_multiplicacion"
   ]
  },
  {
   "cell_type": "code",
   "execution_count": 9,
   "id": "b6cc0bb5",
   "metadata": {},
   "outputs": [],
   "source": [
    "# Expresiones universales: Funciones que operan sobre arrays pero aplicando la operación a cada elemento.\n",
    "a = np.array([1, 2, 3])\n",
    "b = np.array([4, 5, 6])"
   ]
  },
  {
   "cell_type": "code",
   "execution_count": 11,
   "id": "f23b1481",
   "metadata": {},
   "outputs": [
    {
     "name": "stdout",
     "output_type": "stream",
     "text": [
      "[5 7 9]\n",
      "<class 'numpy.ndarray'>\n"
     ]
    }
   ],
   "source": [
    "resultado = np.add(a, b)\n",
    "print(resultado)\n",
    "print(type(resultado))"
   ]
  },
  {
   "cell_type": "code",
   "execution_count": 13,
   "id": "dd250964",
   "metadata": {},
   "outputs": [
    {
     "name": "stdout",
     "output_type": "stream",
     "text": [
      "[-3 -3 -3]\n",
      "[ 4 10 18]\n",
      "[0.25 0.4  0.5 ]\n"
     ]
    }
   ],
   "source": [
    "resultado = np.subtract(a, b)\n",
    "print(resultado)\n",
    "\n",
    "resultado = np.multiply(a, b)\n",
    "print(resultado)\n",
    "\n",
    "resultado = np.divide(a, b)\n",
    "print(resultado)"
   ]
  },
  {
   "cell_type": "code",
   "execution_count": 17,
   "id": "8a6f7f4a",
   "metadata": {},
   "outputs": [
    {
     "name": "stdout",
     "output_type": "stream",
     "text": [
      "[ 2.71828183  7.3890561  20.08553692]\n",
      "[1.         1.41421356 1.73205081]\n",
      "[0.         0.69314718 1.09861229]\n",
      "[0.         0.30103    0.47712125]\n",
      "[0.84147098 0.90929743 0.14112001]\n",
      "[ 0.54030231 -0.41614684 -0.9899925 ]\n",
      "[ 1.55740772 -2.18503986 -0.14254654]\n"
     ]
    }
   ],
   "source": [
    "resultado = np.exp(a)\n",
    "print(resultado)\n",
    "\n",
    "resultado = np.sqrt(a)\n",
    "print(resultado)\n",
    "\n",
    "resultado = np.log(a)\n",
    "print(resultado)\n",
    "\n",
    "resultado = np.log10(a)\n",
    "print(resultado)\n",
    "\n",
    "resultado = np.sin(a)\n",
    "print(resultado)\n",
    "\n",
    "resultado = np.cos(a)\n",
    "print(resultado)\n",
    "\n",
    "resultado = np.tan(a)\n",
    "print(resultado)"
   ]
  },
  {
   "cell_type": "code",
   "execution_count": 18,
   "id": "78b8278a",
   "metadata": {},
   "outputs": [
    {
     "name": "stdout",
     "output_type": "stream",
     "text": [
      "[1. 2. 3.]\n",
      "[2. 3. 4.]\n"
     ]
    }
   ],
   "source": [
    "a = np.array([1.22, 2.56, 3.78])\n",
    "\n",
    "resultado = np.floor(a)\n",
    "print(resultado)\n",
    "\n",
    "resultado = np.ceil(a)\n",
    "print(resultado)"
   ]
  },
  {
   "cell_type": "code",
   "execution_count": 122,
   "id": "27a554f6",
   "metadata": {},
   "outputs": [
    {
     "name": "stdout",
     "output_type": "stream",
     "text": [
      "Datos: [91 33 89 34  2 39  5 85  4 63 94 12 89 39 85 58 52 61 68 63 95  7 19 12\n",
      " 88 86 13 35 64 24 44 77 67 30 33 76 65 76 81  7 56 45 71  4 56 36 46 67\n",
      " 11 56 19 47  3 32 43 70 83 61 83 99 11 10 65  4 42  6 41 90 67 47 44 47\n",
      " 20 22 16]\n",
      "\n",
      "Suma: 3585\n",
      "\n",
      "Media: 47.8\n",
      "\n",
      "Desviacion estandar: 28.653795560099883\n",
      "\n",
      "Varianza: 821.0399999999998\n",
      "\n",
      "Minimo: 2\n",
      "\n",
      "Maximo: 99\n",
      "\n",
      "Mediana: 47.0\n",
      "\n",
      "Cuartiles:\n",
      "21.0\n",
      "47.0\n",
      "69.0\n",
      "99.0\n"
     ]
    }
   ],
   "source": [
    "# Estadísticas\n",
    "lista_random = np.random.randint(1, 100, 75)\n",
    "a = np.array(lista_random)\n",
    "print(f\"Datos: {a}\\n\")\n",
    "\n",
    "resultado = np.sum(a)\n",
    "print(f\"Suma: {resultado}\\n\")\n",
    "\n",
    "resultado = np.mean(a)\n",
    "print(f\"Media: {resultado}\\n\")\n",
    "\n",
    "resultado = np.std(a)\n",
    "print(f\"Desviacion estandar: {resultado}\\n\")\n",
    "\n",
    "resultado = np.var(a)\n",
    "print(f\"Varianza: {resultado}\\n\")\n",
    "\n",
    "resultado = np.min(a)\n",
    "print(f\"Minimo: {resultado}\\n\")\n",
    "\n",
    "resultado = np.max(a)\n",
    "print(f\"Maximo: {resultado}\\n\")\n",
    "\n",
    "resultado = np.median(a)\n",
    "print(f\"Mediana: {resultado}\\n\")\n",
    "\n",
    "print(\"Cuartiles:\")\n",
    "resultado = np.percentile(a, 25)\n",
    "print(resultado)\n",
    "resultado = np.percentile(a, 50)\n",
    "print(resultado)\n",
    "resultado = np.percentile(a, 75)\n",
    "print(resultado)\n",
    "resultado = np.percentile(a, 100)\n",
    "print(resultado)"
   ]
  },
  {
   "cell_type": "markdown",
   "id": "efffc2e3",
   "metadata": {},
   "source": [
    "### Ejercicios"
   ]
  },
  {
   "cell_type": "code",
   "execution_count": 4,
   "id": "a5233122",
   "metadata": {},
   "outputs": [
    {
     "name": "stdout",
     "output_type": "stream",
     "text": [
      "[[11 13 15 17 19]\n",
      " [21 23 25 27 29]\n",
      " [31 33 35 37 39]\n",
      " [41 43 45 47 49]\n",
      " [51 53 55 57 59]]\n"
     ]
    }
   ],
   "source": [
    "import numpy as np\n",
    "A = np.array(list(range(1, 10, 2)))\n",
    "B = np.array(\n",
    "    [\n",
    "        [10],\n",
    "        [20],\n",
    "        [30],\n",
    "        [40],\n",
    "        [50]\n",
    "    ]\n",
    ")\n",
    "\n",
    "resultado = A + B\n",
    "print(resultado)"
   ]
  },
  {
   "cell_type": "code",
   "execution_count": 6,
   "id": "7d4f2ff0",
   "metadata": {},
   "outputs": [
    {
     "name": "stdout",
     "output_type": "stream",
     "text": [
      "[[ 10  20  30  40  50  60  70  80  90 100]\n",
      " [ 20  40  60  80 100 120 140 160 180 200]\n",
      " [ 30  60  90 120 150 180 210 240 270 300]\n",
      " [ 40  80 120 160 200 240 280 320 360 400]\n",
      " [ 50 100 150 200 250 300 350 400 450 500]]\n"
     ]
    }
   ],
   "source": [
    "import numpy as np\n",
    "A = np.array(list(range(1, 11)))\n",
    "B = np.array(\n",
    "    [\n",
    "        [10],\n",
    "        [20],\n",
    "        [30],\n",
    "        [40],\n",
    "        [50]\n",
    "    ]\n",
    ")\n",
    "\n",
    "resultado = A * B\n",
    "print(resultado)"
   ]
  },
  {
   "cell_type": "code",
   "execution_count": 8,
   "id": "67430fbe",
   "metadata": {},
   "outputs": [
    {
     "name": "stdout",
     "output_type": "stream",
     "text": [
      "[ 2.71828183  7.3890561  20.08553692]\n"
     ]
    }
   ],
   "source": [
    "import numpy as np\n",
    "A = np.array(list(range(1, 4)))\n",
    "\n",
    "resultado = np.exp(A)\n",
    "print(resultado)"
   ]
  }
 ],
 "metadata": {
  "kernelspec": {
   "display_name": "base",
   "language": "python",
   "name": "python3"
  },
  "language_info": {
   "codemirror_mode": {
    "name": "ipython",
    "version": 3
   },
   "file_extension": ".py",
   "mimetype": "text/x-python",
   "name": "python",
   "nbconvert_exporter": "python",
   "pygments_lexer": "ipython3",
   "version": "3.12.7"
  }
 },
 "nbformat": 4,
 "nbformat_minor": 5
}
