{
 "cells": [
  {
   "cell_type": "code",
   "execution_count": 2,
   "id": "3f41f459",
   "metadata": {},
   "outputs": [],
   "source": [
    "import numpy as np"
   ]
  },
  {
   "cell_type": "code",
   "execution_count": 3,
   "id": "abee74ec",
   "metadata": {},
   "outputs": [],
   "source": [
    "array1d = np.array([1, 2, 3, 4, 5])"
   ]
  },
  {
   "cell_type": "code",
   "execution_count": 4,
   "id": "02b4206f",
   "metadata": {},
   "outputs": [],
   "source": [
    "array2d = np.array([[1, 2, 3],\n",
    "                    [4, 5, 6],\n",
    "                    [7, 8, 9]])"
   ]
  },
  {
   "cell_type": "code",
   "execution_count": 7,
   "id": "8ce80016",
   "metadata": {},
   "outputs": [
    {
     "name": "stdout",
     "output_type": "stream",
     "text": [
      "1\n",
      "5\n"
     ]
    }
   ],
   "source": [
    "# Acceder a un elemento del array\n",
    "print(array1d[0])\n",
    "\n",
    "# Acceder al último elemento del array\n",
    "print(array1d[-1])"
   ]
  },
  {
   "cell_type": "code",
   "execution_count": 13,
   "id": "bac34e39",
   "metadata": {},
   "outputs": [
    {
     "name": "stdout",
     "output_type": "stream",
     "text": [
      "3\n",
      "6\n",
      "6\n",
      "[1 2 3]\n"
     ]
    }
   ],
   "source": [
    "# Acceder a un elemento de un array 2D\n",
    "print(array2d[0, 2])\n",
    "print(array2d[1, 2])\n",
    "print(array2d[1][2])\n",
    "\n",
    "# Acceder a una fila de un array 2D\n",
    "print(array2d[0])"
   ]
  },
  {
   "cell_type": "code",
   "execution_count": 30,
   "id": "821aac42",
   "metadata": {},
   "outputs": [
    {
     "name": "stdout",
     "output_type": "stream",
     "text": [
      "[2 3]\n",
      "[1 2 3]\n",
      "[4 5 6]\n"
     ]
    }
   ],
   "source": [
    "# Slicing de un array 1D\n",
    "print(array1d[1:3])\n",
    "print(array1d[:3])\n",
    "\n",
    "# Slicing de un array 2D\n",
    "print(array2d[1, :]) # Obtener la fila 2"
   ]
  },
  {
   "cell_type": "code",
   "execution_count": 26,
   "id": "fb6e59af",
   "metadata": {},
   "outputs": [
    {
     "name": "stdout",
     "output_type": "stream",
     "text": [
      "[5 6]\n"
     ]
    }
   ],
   "source": [
    "print(array2d[1, 1:3])"
   ]
  },
  {
   "cell_type": "code",
   "execution_count": 29,
   "id": "7c4d72f5",
   "metadata": {},
   "outputs": [
    {
     "name": "stdout",
     "output_type": "stream",
     "text": [
      "[2 5 8]\n"
     ]
    }
   ],
   "source": [
    "print(array2d[:, 1]) # Obtener la columna 2"
   ]
  },
  {
   "cell_type": "code",
   "execution_count": 32,
   "id": "081d010b",
   "metadata": {},
   "outputs": [
    {
     "name": "stdout",
     "output_type": "stream",
     "text": [
      "[[5 6]\n",
      " [8 9]]\n"
     ]
    }
   ],
   "source": [
    "print(array2d[1:, 1:])"
   ]
  },
  {
   "cell_type": "code",
   "execution_count": 36,
   "id": "c2dc1671",
   "metadata": {},
   "outputs": [
    {
     "name": "stdout",
     "output_type": "stream",
     "text": [
      "[3 4 5]\n",
      "[2 4 6 8]\n"
     ]
    }
   ],
   "source": [
    "# Indiexación boolean\n",
    "print(array1d[array1d > 2]) # Obtener los elementos mayores a 2\n",
    "\n",
    "print(array2d[array2d % 2 == 0]) # Obtener los elementos pares"
   ]
  },
  {
   "cell_type": "markdown",
   "id": "00982aa2",
   "metadata": {},
   "source": [
    "### Ejercicios"
   ]
  },
  {
   "cell_type": "code",
   "execution_count": 38,
   "id": "59974f92",
   "metadata": {},
   "outputs": [
    {
     "name": "stdout",
     "output_type": "stream",
     "text": [
      "5\n"
     ]
    }
   ],
   "source": [
    "import numpy as np\n",
    "\n",
    "nunmeros = np.array(list(range(1, 11)))\n",
    "quinto_elemento = nunmeros[4]\n",
    "print(quinto_elemento) # 5"
   ]
  },
  {
   "cell_type": "code",
   "execution_count": 39,
   "id": "7692c292",
   "metadata": {},
   "outputs": [
    {
     "name": "stdout",
     "output_type": "stream",
     "text": [
      "[4 5 6]\n"
     ]
    }
   ],
   "source": [
    "import numpy as np\n",
    "\n",
    "matriz = np.array([[1, 2, 3], [4, 5, 6], [7, 8, 9]])\n",
    "segunda_fila = matriz[1]\n",
    "print(segunda_fila) "
   ]
  },
  {
   "cell_type": "code",
   "execution_count": null,
   "id": "b430e2b3",
   "metadata": {},
   "outputs": [
    {
     "name": "stdout",
     "output_type": "stream",
     "text": [
      "[[False  True False]\n",
      " [ True False  True]\n",
      " [False  True False]]\n"
     ]
    }
   ],
   "source": [
    "import numpy as np\n",
    "\n",
    "matriz = np.array([[1, 2, 3], [4, 5, 6], [7, 8, 9]])\n",
    "\n",
    "pares_impares = matriz % 2 == 0\n",
    "print(pares_impares)"
   ]
  }
 ],
 "metadata": {
  "kernelspec": {
   "display_name": "base",
   "language": "python",
   "name": "python3"
  },
  "language_info": {
   "codemirror_mode": {
    "name": "ipython",
    "version": 3
   },
   "file_extension": ".py",
   "mimetype": "text/x-python",
   "name": "python",
   "nbconvert_exporter": "python",
   "pygments_lexer": "ipython3",
   "version": "3.12.7"
  }
 },
 "nbformat": 4,
 "nbformat_minor": 5
}
