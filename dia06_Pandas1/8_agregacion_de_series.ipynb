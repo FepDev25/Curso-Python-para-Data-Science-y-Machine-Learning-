{
 "cells": [
  {
   "cell_type": "code",
   "execution_count": 2,
   "id": "70be9b8b",
   "metadata": {},
   "outputs": [
    {
     "data": {
      "text/plain": [
       "0    10\n",
       "1    20\n",
       "2    30\n",
       "3    40\n",
       "4    50\n",
       "dtype: int64"
      ]
     },
     "execution_count": 2,
     "metadata": {},
     "output_type": "execute_result"
    }
   ],
   "source": [
    "import pandas as pd\n",
    "\n",
    "numeros = pd.Series([10, 20, 30, 40, 50])\n",
    "numeros"
   ]
  },
  {
   "cell_type": "code",
   "execution_count": 4,
   "id": "76881f0b",
   "metadata": {},
   "outputs": [
    {
     "name": "stdout",
     "output_type": "stream",
     "text": [
      "Promedio: 30.0\n",
      "Suma: 150\n",
      "Máximo: 50\n",
      "Mínimo: 10\n",
      "Mediana: 30.0\n",
      "Desviación estándar: 15.811388300841896\n",
      "Varianza: 250.0\n",
      "Cuartil 25: 20.0\n",
      "Cuartil 75: 40.0\n",
      "Rango: 40\n"
     ]
    }
   ],
   "source": [
    "# Agregaciones\n",
    "promedio = numeros.mean()\n",
    "suma = numeros.sum()\n",
    "maximo = numeros.max()\n",
    "minimo = numeros.min()\n",
    "mediana = numeros.median()\n",
    "desviacion_estandar = numeros.std()\n",
    "varianza = numeros.var()\n",
    "cuartil_25 = numeros.quantile(0.25)\n",
    "cuartil_75 = numeros.quantile(0.75)\n",
    "rango = numeros.max() - numeros.min()\n",
    "\n",
    "print(f\"Promedio: {promedio}\")\n",
    "print(f\"Suma: {suma}\")\n",
    "print(f\"Máximo: {maximo}\")\n",
    "print(f\"Mínimo: {minimo}\")\n",
    "print(f\"Mediana: {mediana}\")\n",
    "print(f\"Desviación estándar: {desviacion_estandar}\")\n",
    "print(f\"Varianza: {varianza}\")\n",
    "print(f\"Cuartil 25: {cuartil_25}\")\n",
    "print(f\"Cuartil 75: {cuartil_75}\")\n",
    "print(f\"Rango: {rango}\")"
   ]
  },
  {
   "cell_type": "markdown",
   "id": "99f1297f",
   "metadata": {},
   "source": [
    "## Ejercicios"
   ]
  },
  {
   "cell_type": "code",
   "execution_count": 7,
   "id": "f7061e55",
   "metadata": {},
   "outputs": [
    {
     "data": {
      "text/plain": [
       "25.625"
      ]
     },
     "execution_count": 7,
     "metadata": {},
     "output_type": "execute_result"
    }
   ],
   "source": [
    "import pandas as pd\n",
    "\n",
    "# Lista de edades\n",
    "edades = [23, 30, 26, 27, 22, 24, 25, 28]\n",
    "\n",
    "df = pd.Series(edades)\n",
    "promedio_edades = df.mean()\n",
    "promedio_edades"
   ]
  },
  {
   "cell_type": "code",
   "execution_count": 9,
   "id": "1b82f077",
   "metadata": {},
   "outputs": [
    {
     "name": "stdout",
     "output_type": "stream",
     "text": [
      "Suma total de ventas: 1060\n",
      "Día con mayores ventas: Viernes\n",
      "Promedio de ventas: 151.42857142857142\n"
     ]
    }
   ],
   "source": [
    "import pandas as pd\n",
    "\n",
    "ventas = [120, 150, 90, 200, 210, 130, 160]\n",
    "\n",
    "df_ventas = pd.Series(ventas, [\"Lunes\", \"Martes\", \"Miércoles\", \"Jueves\", \"Viernes\", \"Sábado\", \"Domingo\"])\n",
    "suma_total_ventas = df_ventas.sum()\n",
    "dia_mayores_ventas = df_ventas.idxmax()\n",
    "promedio_ventas = df_ventas.mean()  \n",
    "\n",
    "print(f\"Suma total de ventas: {suma_total_ventas}\")\n",
    "print(f\"Día con mayores ventas: {dia_mayores_ventas}\")\n",
    "print(f\"Promedio de ventas: {promedio_ventas}\")"
   ]
  },
  {
   "cell_type": "code",
   "execution_count": 12,
   "id": "e18871e8",
   "metadata": {},
   "outputs": [
    {
     "name": "stdout",
     "output_type": "stream",
     "text": [
      "Total de ventas del mes: 7139\n",
      "Día con ventas más bajas: 190\n",
      "Día con ventas más altas: 298\n",
      "Promedio de ventas del mes: 237.96666666666667\n"
     ]
    }
   ],
   "source": [
    "import pandas as pd\n",
    "\n",
    "# Serie de ventas del mes\n",
    "ventas_mes = pd.Series([220, 235, 260, 213, 202, 298, 265, 198, 220, 230, 190, 215, 275, 222, 218, 245, 233, 210, 290, 210,\n",
    "                        215, 220, 225, 230, 245, 250, 260, 270, 280, 295])\n",
    "\n",
    "total_ventas_mes = ventas_mes.sum()\n",
    "dia_ventas_mas_bajas = ventas_mes.min()\n",
    "dia_ventas_mas_altas = ventas_mes.max()\n",
    "promedio_ventas_mes = ventas_mes.mean()\n",
    "\n",
    "print(f\"Total de ventas del mes: {total_ventas_mes}\")\n",
    "print(f\"Día con ventas más bajas: {dia_ventas_mas_bajas}\")\n",
    "print(f\"Día con ventas más altas: {dia_ventas_mas_altas}\")\n",
    "print(f\"Promedio de ventas del mes: {promedio_ventas_mes}\")"
   ]
  }
 ],
 "metadata": {
  "kernelspec": {
   "display_name": "base",
   "language": "python",
   "name": "python3"
  },
  "language_info": {
   "codemirror_mode": {
    "name": "ipython",
    "version": 3
   },
   "file_extension": ".py",
   "mimetype": "text/x-python",
   "name": "python",
   "nbconvert_exporter": "python",
   "pygments_lexer": "ipython3",
   "version": "3.12.7"
  }
 },
 "nbformat": 4,
 "nbformat_minor": 5
}
