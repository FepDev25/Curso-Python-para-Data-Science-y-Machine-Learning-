{
 "cells": [
  {
   "cell_type": "code",
   "execution_count": 2,
   "id": "a4f66234",
   "metadata": {},
   "outputs": [],
   "source": [
    "from sklearn.datasets import load_iris\n",
    "from sklearn.model_selection import train_test_split\n",
    "from sklearn.feature_selection import SelectKBest, SelectFromModel, chi2\n",
    "from sklearn.ensemble import RandomForestClassifier\n",
    "\n",
    "data = load_iris()\n",
    "X = data.data\n",
    "y = data.target"
   ]
  },
  {
   "cell_type": "code",
   "execution_count": 3,
   "id": "f8263a2e",
   "metadata": {},
   "outputs": [
    {
     "name": "stdout",
     "output_type": "stream",
     "text": [
      "[[5.1 3.5 1.4 0.2]\n",
      " [4.9 3.  1.4 0.2]\n",
      " [4.7 3.2 1.3 0.2]\n",
      " [4.6 3.1 1.5 0.2]\n",
      " [5.  3.6 1.4 0.2]]\n"
     ]
    }
   ],
   "source": [
    "print(X[:5])"
   ]
  },
  {
   "cell_type": "markdown",
   "id": "0754dcf2",
   "metadata": {},
   "source": [
    "## Dividir los datos en conjuntos de entrenamiento y prueba"
   ]
  },
  {
   "cell_type": "code",
   "execution_count": 4,
   "id": "71cce302",
   "metadata": {},
   "outputs": [],
   "source": [
    "X_train, X_test, y_train, y_test = train_test_split(X, y, test_size=0.2, random_state=42)"
   ]
  },
  {
   "cell_type": "code",
   "execution_count": 5,
   "id": "6c527192",
   "metadata": {},
   "outputs": [
    {
     "name": "stdout",
     "output_type": "stream",
     "text": [
      "Tamaño del conjunto total: (150, 4)\n",
      "Tamaño del conjunto de entrenamiento: (120, 4)\n",
      "Tamaño del conjunto de prueba: (30, 4)\n"
     ]
    }
   ],
   "source": [
    "print(f\"Tamaño del conjunto total: {X.shape}\")\n",
    "print(f\"Tamaño del conjunto de entrenamiento: {X_train.shape}\")\n",
    "print(f\"Tamaño del conjunto de prueba: {X_test.shape}\")"
   ]
  },
  {
   "cell_type": "markdown",
   "id": "13f4ce02",
   "metadata": {},
   "source": [
    "## Selección de características más importantes"
   ]
  },
  {
   "cell_type": "markdown",
   "id": "98dd18f9",
   "metadata": {},
   "source": [
    "### SelectKBest: Selecciona una cantidad determinada de características más relevantes basadas en pruebas estadísticas univariadas. Obtener las características más importantes mirándolas por separado."
   ]
  },
  {
   "cell_type": "code",
   "execution_count": 6,
   "id": "19247f77",
   "metadata": {},
   "outputs": [],
   "source": [
    "data = load_iris()\n",
    "X = data.data\n",
    "y = data.target"
   ]
  },
  {
   "cell_type": "code",
   "execution_count": 7,
   "id": "325c9759",
   "metadata": {},
   "outputs": [
    {
     "name": "stdout",
     "output_type": "stream",
     "text": [
      "Columnas originales:\n",
      "[[4.6 3.6 1.  0.2]\n",
      " [5.7 4.4 1.5 0.4]\n",
      " [6.7 3.1 4.4 1.4]\n",
      " [4.8 3.4 1.6 0.2]\n",
      " [4.4 3.2 1.3 0.2]]\n",
      "Columnas seleccionadas:\n",
      "[[1.  0.2]\n",
      " [1.5 0.4]\n",
      " [4.4 1.4]\n",
      " [1.6 0.2]\n",
      " [1.3 0.2]]\n"
     ]
    }
   ],
   "source": [
    "selector = SelectKBest( chi2, k=2)\n",
    "X_nuevo = selector.fit_transform( X_train, y_train )\n",
    "print(\"Columnas originales:\")\n",
    "print(X_train[:5])\n",
    "print(\"Columnas seleccionadas:\")\n",
    "print(X_nuevo[:5])"
   ]
  },
  {
   "cell_type": "markdown",
   "id": "78db4605",
   "metadata": {},
   "source": [
    "- Devuelve k columnas más importantes "
   ]
  },
  {
   "cell_type": "markdown",
   "id": "f9f1871f",
   "metadata": {},
   "source": [
    "### SelectFromModel: Selecciona las características basadas en la importancia de las características asignadas por un modelo predictivo base. Considiera la relación que hay entre las carcterísticas a partir de un modelo de ML."
   ]
  },
  {
   "cell_type": "code",
   "execution_count": 34,
   "id": "35547134",
   "metadata": {},
   "outputs": [
    {
     "name": "stdout",
     "output_type": "stream",
     "text": [
      "Columnas originales:\n",
      "[[5.5 2.4 3.7 1. ]\n",
      " [6.3 2.8 5.1 1.5]\n",
      " [6.4 3.1 5.5 1.8]\n",
      " [6.6 3.  4.4 1.4]\n",
      " [7.2 3.6 6.1 2.5]]\n",
      "Columnas seleccionadas:\n",
      "[[3.7 1. ]\n",
      " [5.1 1.5]\n",
      " [5.5 1.8]\n",
      " [4.4 1.4]\n",
      " [6.1 2.5]]\n"
     ]
    }
   ],
   "source": [
    "modelo = RandomForestClassifier( n_estimators=100, random_state=42 )\n",
    "modelo.fit( X_train, y_train )\n",
    "selector = SelectFromModel( modelo )\n",
    "X_nuevo = selector.fit_transform( X_train, y_train )\n",
    "print(\"Columnas originales:\")\n",
    "print(X_train[:5])\n",
    "print(\"Columnas seleccionadas:\")\n",
    "print(X_nuevo[:5])"
   ]
  },
  {
   "cell_type": "markdown",
   "id": "dd3baa7a",
   "metadata": {},
   "source": [
    "### Ejercicios"
   ]
  },
  {
   "cell_type": "code",
   "execution_count": 24,
   "id": "b638ed95",
   "metadata": {},
   "outputs": [],
   "source": [
    "from sklearn.datasets import load_iris\n",
    "from sklearn.model_selection import train_test_split\n",
    "from sklearn.feature_selection import SelectKBest, chi2\n",
    "\n",
    "data = load_iris()\n",
    "X = data.data\n",
    "y = data.target\n",
    "\n",
    "X_train, X_test, y_train, y_test = train_test_split(X, y, test_size=0.3, random_state=42)\n",
    "\n",
    "selector = SelectKBest( chi2, k=2)\n",
    "X_train_kbest = selector.fit_transform( X_train, y_train )"
   ]
  },
  {
   "cell_type": "code",
   "execution_count": 26,
   "id": "e5cc104a",
   "metadata": {},
   "outputs": [],
   "source": [
    "from sklearn.datasets import load_iris\n",
    "from sklearn.model_selection import train_test_split\n",
    "from sklearn.feature_selection import SelectFromModel\n",
    "from sklearn.ensemble import RandomForestClassifier\n",
    "\n",
    "data = load_iris()\n",
    "X = data.data\n",
    "y = data.target\n",
    "\n",
    "X_train, X_test, y_train, y_test = train_test_split(X, y, test_size=0.3, random_state=42)\n",
    "\n",
    "rf = RandomForestClassifier( n_estimators=100, random_state=42 )\n",
    "rf.fit(X_train, y_train)\n",
    "\n",
    "selector = SelectFromModel( rf )\n",
    "X_train_selected = selector.fit_transform( X_train, y_train )"
   ]
  }
 ],
 "metadata": {
  "kernelspec": {
   "display_name": "base",
   "language": "python",
   "name": "python3"
  },
  "language_info": {
   "codemirror_mode": {
    "name": "ipython",
    "version": 3
   },
   "file_extension": ".py",
   "mimetype": "text/x-python",
   "name": "python",
   "nbconvert_exporter": "python",
   "pygments_lexer": "ipython3",
   "version": "3.12.7"
  }
 },
 "nbformat": 4,
 "nbformat_minor": 5
}
