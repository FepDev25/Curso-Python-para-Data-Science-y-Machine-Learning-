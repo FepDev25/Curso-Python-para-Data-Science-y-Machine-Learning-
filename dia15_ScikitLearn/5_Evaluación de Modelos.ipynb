{
 "cells": [
  {
   "cell_type": "code",
   "execution_count": 1,
   "id": "f07d5edd",
   "metadata": {},
   "outputs": [],
   "source": [
    "from sklearn.datasets import load_iris\n",
    "from sklearn.ensemble import RandomForestClassifier\n",
    "from sklearn.model_selection import cross_val_score\n",
    "\n",
    "data = load_iris()\n",
    "X = data.data\n",
    "y = data.target\n",
    "\n",
    "modelo = RandomForestClassifier(n_estimators=100, random_state=42)"
   ]
  },
  {
   "cell_type": "code",
   "execution_count": 2,
   "id": "b64bbd67",
   "metadata": {},
   "outputs": [],
   "source": [
    "puntaje = cross_val_score(\n",
    "    modelo,\n",
    "    X,\n",
    "    y,\n",
    "    cv=5 # Los datos se van a dividir en 5 conjuntos diferentes. En cada iteración uno será prueba, cuatro serán entrenamiento\n",
    ")"
   ]
  },
  {
   "cell_type": "code",
   "execution_count": 3,
   "id": "2eeee728",
   "metadata": {},
   "outputs": [
    {
     "name": "stdout",
     "output_type": "stream",
     "text": [
      "Exactitud de cada partición: [0.96666667 0.96666667 0.93333333 0.96666667 1.        ]\n",
      "Media de la exactitud: 0.9666666666666668\n"
     ]
    }
   ],
   "source": [
    "print(f\"Exactitud de cada partición: {puntaje}\")\n",
    "print(f\"Media de la exactitud: {puntaje.mean()}\")"
   ]
  },
  {
   "cell_type": "markdown",
   "id": "d8167924",
   "metadata": {},
   "source": [
    "### Ejercicios"
   ]
  },
  {
   "cell_type": "code",
   "execution_count": 11,
   "id": "bf3b69c5",
   "metadata": {},
   "outputs": [
    {
     "name": "stdout",
     "output_type": "stream",
     "text": [
      "Exactitud de cada partición: [0.66666667 0.66666667 0.61111111 0.61111111 0.61111111 0.61111111\n",
      " 0.72222222 0.66666667 0.82352941 0.76470588]\n",
      "Media de la exactitud: 0.6754901960784313\n"
     ]
    }
   ],
   "source": [
    "from sklearn.datasets import load_wine\n",
    "from sklearn.neighbors import KNeighborsClassifier\n",
    "from sklearn.model_selection import cross_val_score\n",
    "\n",
    "data = load_wine()\n",
    "X = data.data\n",
    "y = data.target\n",
    "\n",
    "knn_modelo = KNeighborsClassifier()\n",
    "\n",
    "knn_puntaje = cross_val_score(\n",
    "    knn_modelo,\n",
    "    X,\n",
    "    y,\n",
    "    cv=10\n",
    ")\n",
    "\n",
    "print(f\"Exactitud de cada partición: {knn_puntaje}\")\n",
    "print(f\"Media de la exactitud: {knn_puntaje.mean()}\")"
   ]
  }
 ],
 "metadata": {
  "kernelspec": {
   "display_name": "base",
   "language": "python",
   "name": "python3"
  },
  "language_info": {
   "codemirror_mode": {
    "name": "ipython",
    "version": 3
   },
   "file_extension": ".py",
   "mimetype": "text/x-python",
   "name": "python",
   "nbconvert_exporter": "python",
   "pygments_lexer": "ipython3",
   "version": "3.12.7"
  }
 },
 "nbformat": 4,
 "nbformat_minor": 5
}
