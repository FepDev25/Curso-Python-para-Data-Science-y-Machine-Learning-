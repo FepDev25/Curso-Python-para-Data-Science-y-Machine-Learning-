{
 "cells": [
  {
   "cell_type": "code",
   "execution_count": 35,
   "id": "d0c40592",
   "metadata": {},
   "outputs": [],
   "source": [
    "import numpy as np\n",
    "from sklearn.datasets import load_iris\n",
    "from sklearn.preprocessing import MinMaxScaler, StandardScaler, OneHotEncoder\n",
    "import pandas as pd"
   ]
  },
  {
   "cell_type": "markdown",
   "id": "64092a2b",
   "metadata": {},
   "source": [
    "## MinMaxScaler para normalizar los datos entre 0 y 1"
   ]
  },
  {
   "cell_type": "code",
   "execution_count": 13,
   "id": "65bda6cb",
   "metadata": {},
   "outputs": [
    {
     "name": "stdout",
     "output_type": "stream",
     "text": [
      "Data antes de normalizar:\n",
      "[[ 1 -1  2]\n",
      " [ 2  0  0]\n",
      " [ 0  1 -1]]\n",
      "\n",
      "Data normalizada:\n",
      "[[0.5        0.         1.        ]\n",
      " [1.         0.5        0.33333333]\n",
      " [0.         1.         0.        ]]\n"
     ]
    }
   ],
   "source": [
    "data = np.array([\n",
    "    [1, -1, 2],\n",
    "    [2, 0, 0],\n",
    "    [0, 1, -1] \n",
    "])\n",
    "print(\"Data antes de normalizar:\")\n",
    "print(data)\n",
    "\n",
    "scaler = MinMaxScaler(feature_range=(0, 1))\n",
    "data_normalizada = scaler.fit_transform(data)\n",
    "\n",
    "print(\"\\nData normalizada:\")\n",
    "print(data_normalizada)"
   ]
  },
  {
   "cell_type": "code",
   "execution_count": 14,
   "id": "e76fbd73",
   "metadata": {},
   "outputs": [
    {
     "name": "stdout",
     "output_type": "stream",
     "text": [
      "Data antes de normalizar:\n",
      "[[5.1 3.5 1.4 0.2]\n",
      " [4.9 3.  1.4 0.2]\n",
      " [4.7 3.2 1.3 0.2]\n",
      " [4.6 3.1 1.5 0.2]\n",
      " [5.  3.6 1.4 0.2]]\n",
      "\n",
      "Data normalizada:\n",
      "[[0.22222222 0.625      0.06779661 0.04166667]\n",
      " [0.16666667 0.41666667 0.06779661 0.04166667]\n",
      " [0.11111111 0.5        0.05084746 0.04166667]\n",
      " [0.08333333 0.45833333 0.08474576 0.04166667]\n",
      " [0.19444444 0.66666667 0.06779661 0.04166667]]\n"
     ]
    }
   ],
   "source": [
    "iris = load_iris()\n",
    "X = iris.data\n",
    "\n",
    "print(\"Data antes de normalizar:\")\n",
    "print(X[:5])\n",
    "\n",
    "scaler = MinMaxScaler(feature_range=(0, 1))\n",
    "data_normalizada = scaler.fit_transform(X)\n",
    "\n",
    "print(\"\\nData normalizada:\")\n",
    "print(data_normalizada[:5])"
   ]
  },
  {
   "cell_type": "markdown",
   "id": "a03793ca",
   "metadata": {},
   "source": [
    "## StandardScaler para normalizar los datos con media 0 y desviación estándar 1"
   ]
  },
  {
   "cell_type": "code",
   "execution_count": 28,
   "id": "4ecda2f8",
   "metadata": {},
   "outputs": [
    {
     "name": "stdout",
     "output_type": "stream",
     "text": [
      "Data antes de normalizar:\n",
      "[[ 1 -1  2]\n",
      " [ 2  0  0]\n",
      " [ 0  1 -1]]\n",
      "\n",
      "Data normalizada:\n",
      "[[ 0.         -1.22474487  1.33630621]\n",
      " [ 1.22474487  0.         -0.26726124]\n",
      " [-1.22474487  1.22474487 -1.06904497]]\n"
     ]
    }
   ],
   "source": [
    "data = np.array([\n",
    "    [1, -1, 2],\n",
    "    [2, 0, 0],\n",
    "    [0, 1, -1] \n",
    "])\n",
    "print(\"Data antes de normalizar:\")\n",
    "print(data)\n",
    "\n",
    "scaler = StandardScaler()\n",
    "data_estandarizada = scaler.fit_transform(data)\n",
    "\n",
    "print(\"\\nData normalizada:\")\n",
    "print(data_estandarizada)"
   ]
  },
  {
   "cell_type": "code",
   "execution_count": 29,
   "id": "55cd4029",
   "metadata": {},
   "outputs": [
    {
     "name": "stdout",
     "output_type": "stream",
     "text": [
      "Data antes de normalizar:\n",
      "[[5.1 3.5 1.4 0.2]\n",
      " [4.9 3.  1.4 0.2]\n",
      " [4.7 3.2 1.3 0.2]\n",
      " [4.6 3.1 1.5 0.2]\n",
      " [5.  3.6 1.4 0.2]]\n",
      "\n",
      "Data normalizada:\n",
      "[[-0.90068117  1.01900435 -1.34022653 -1.3154443 ]\n",
      " [-1.14301691 -0.13197948 -1.34022653 -1.3154443 ]\n",
      " [-1.38535265  0.32841405 -1.39706395 -1.3154443 ]\n",
      " [-1.50652052  0.09821729 -1.2833891  -1.3154443 ]\n",
      " [-1.02184904  1.24920112 -1.34022653 -1.3154443 ]]\n"
     ]
    }
   ],
   "source": [
    "iris = load_iris()\n",
    "X = iris.data\n",
    "\n",
    "print(\"Data antes de normalizar:\")\n",
    "print(X[:5])\n",
    "\n",
    "scaler = StandardScaler()\n",
    "data_estandarizada = scaler.fit_transform(X)\n",
    "\n",
    "print(\"\\nData normalizada:\")\n",
    "print(data_estandarizada[:5])"
   ]
  },
  {
   "cell_type": "markdown",
   "id": "66a2e534",
   "metadata": {},
   "source": [
    "## OneHotEncoder para codificar variables categóricas"
   ]
  },
  {
   "cell_type": "code",
   "execution_count": 34,
   "id": "5320ba4b",
   "metadata": {},
   "outputs": [
    {
     "name": "stdout",
     "output_type": "stream",
     "text": [
      "[['rojo']\n",
      " ['verde']\n",
      " ['azul']\n",
      " ['verde']\n",
      " ['verde']\n",
      " ['azul']]\n",
      "\n",
      "Data codificada:\n",
      "[[0. 1. 0.]\n",
      " [0. 0. 1.]\n",
      " [1. 0. 0.]\n",
      " [0. 0. 1.]\n",
      " [0. 0. 1.]\n",
      " [1. 0. 0.]]\n"
     ]
    }
   ],
   "source": [
    "categorias = np.array([[\"rojo\"], [\"verde\"], [\"azul\"], [\"verde\"], [\"verde\"], [\"azul\"]])\n",
    "print(categorias)\n",
    "\n",
    "encoder = OneHotEncoder(sparse_output = False)\n",
    "\n",
    "data_codificada = encoder.fit_transform(categorias)\n",
    "\n",
    "print(\"\\nData codificada:\")\n",
    "print(data_codificada)"
   ]
  },
  {
   "cell_type": "markdown",
   "id": "b0f7ca70",
   "metadata": {},
   "source": [
    "### Ejercicios"
   ]
  },
  {
   "cell_type": "code",
   "execution_count": 39,
   "id": "560b6aa5",
   "metadata": {},
   "outputs": [
    {
     "name": "stdout",
     "output_type": "stream",
     "text": [
      "Datos originales:\n",
      "[[ 5 15 25]\n",
      " [10 20 30]\n",
      " [15 25 35]]\n",
      "Normalizado\n",
      "[[0.  0.  0. ]\n",
      " [0.5 0.5 0.5]\n",
      " [1.  1.  1. ]]\n"
     ]
    }
   ],
   "source": [
    "from sklearn.preprocessing import MinMaxScaler\n",
    "import numpy as np\n",
    "\n",
    "# Datos originales\n",
    "datos = np.array([[5, 15, 25],\n",
    "                 [10, 20, 30],\n",
    "                 [15, 25, 35]])\n",
    "\n",
    "print(\"Datos originales:\")\n",
    "print(datos)\n",
    "\n",
    "# Tu código aquí\n",
    "scaler = MinMaxScaler(feature_range=(0, 1))\n",
    "datos_normalizados = scaler.fit_transform(datos)\n",
    "\n",
    "print(\"Normalizado\")\n",
    "print(datos_normalizados)"
   ]
  },
  {
   "cell_type": "code",
   "execution_count": 43,
   "id": "21bae0f3",
   "metadata": {},
   "outputs": [
    {
     "name": "stdout",
     "output_type": "stream",
     "text": [
      "Datos originales:\n",
      "[[   10  2000 30000]\n",
      " [   15  3000 50000]\n",
      " [   20  4000 70000]]\n",
      "Estandarizado\n",
      "[[-1.22474487 -1.22474487 -1.22474487]\n",
      " [ 0.          0.          0.        ]\n",
      " [ 1.22474487  1.22474487  1.22474487]]\n"
     ]
    }
   ],
   "source": [
    "from sklearn.preprocessing import StandardScaler\n",
    "import numpy as np\n",
    "\n",
    "# Datos originales\n",
    "datos = np.array([[10, 2000, 30000],\n",
    "                 [15, 3000, 50000],\n",
    "                 [20, 4000, 70000]])\n",
    "\n",
    "print(\"Datos originales:\")\n",
    "print(datos)\n",
    "\n",
    "# Tu código aquí\n",
    "scaler = StandardScaler()\n",
    "datos_estandardizados = scaler.fit_transform(datos)\n",
    "\n",
    "print(\"Estandarizado\")\n",
    "print(datos_estandardizados)"
   ]
  },
  {
   "cell_type": "code",
   "execution_count": 48,
   "id": "f531a3e4",
   "metadata": {},
   "outputs": [
    {
     "name": "stdout",
     "output_type": "stream",
     "text": [
      "Datos originales:\n",
      "[['Rojo' 'Pequeño' 'Cítrico']\n",
      " ['Verde' 'Mediano' 'Dulce']\n",
      " ['Amarillo' 'Grande' 'Cítrico']]\n",
      "Codificado\n",
      "[[-1.22474487 -1.22474487 -1.22474487]\n",
      " [ 0.          0.          0.        ]\n",
      " [ 1.22474487  1.22474487  1.22474487]]\n"
     ]
    }
   ],
   "source": [
    "from sklearn.preprocessing import OneHotEncoder\n",
    "import numpy as np\n",
    "\n",
    "# Datos originales\n",
    "datos = np.array([['Rojo', 'Pequeño', 'Cítrico'],\n",
    "                 ['Verde', 'Mediano', 'Dulce'],\n",
    "                 ['Amarillo', 'Grande', 'Cítrico']])\n",
    "\n",
    "print(\"Datos originales:\")\n",
    "print(datos)\n",
    "\n",
    "# Tu código aquí\n",
    "encoder = OneHotEncoder(sparse_output=False)\n",
    "datos_codificados = encoder.fit_transform(datos)\n",
    "\n",
    "print(\"Codificado\")\n",
    "print(datos_estandardizados)\n"
   ]
  }
 ],
 "metadata": {
  "kernelspec": {
   "display_name": "base",
   "language": "python",
   "name": "python3"
  },
  "language_info": {
   "codemirror_mode": {
    "name": "ipython",
    "version": 3
   },
   "file_extension": ".py",
   "mimetype": "text/x-python",
   "name": "python",
   "nbconvert_exporter": "python",
   "pygments_lexer": "ipython3",
   "version": "3.12.7"
  }
 },
 "nbformat": 4,
 "nbformat_minor": 5
}
