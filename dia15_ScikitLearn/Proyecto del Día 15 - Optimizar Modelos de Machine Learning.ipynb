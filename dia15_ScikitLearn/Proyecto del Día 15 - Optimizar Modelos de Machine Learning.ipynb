{
 "cells": [
  {
   "cell_type": "markdown",
   "id": "b9af9e49",
   "metadata": {},
   "source": [
    "# Proyecto del Día 15 - Optimizar Modelos de Machine Learning\n",
    "\n",
    "El proyecto del día de hoy consiste en tomar un código que ya está desarrollado con Scikit-Learn, y modificarlo agregando varios apspectos que hemos aprendido el día de hoy.\n",
    "\n",
    "Este programa es un simple análisis usando el modelo de **Bosques Aleatorios** en un dataset de **Scikit-Learn** sobre registros médicos de **pacientes con diabetes**.\n",
    "\n",
    "### Consigna\n",
    "\n",
    "Tu trabajo aquí simplemente consiste en ejecutar este código, y analizarlo para identificar qué hace cada línea, y cuál es su función dentro del código. Una vez que te hayas asegurado de haber identificado sus elementos y de haber comprendido su funcionamiento en general, realiza todas las modificaciones que creas necesarias, para que este código incluya:\n",
    "\n",
    "+ Preprocesamiento de datos con StandardScaler\n",
    "+ Selección de mejores categorías (investiga cuál es la mejor función de cálculo)\n",
    "+ Pipelines\n",
    "+ Evaluación de modelo\n",
    "\n",
    "Suena fácil, pero te aseguro que poner todo junto en un mismo proyecto, puede hacer que las cosas se compliquen un poco.\n",
    "\n",
    "Te deseo lo mejor como siempre, esperando que este proyecto implique un buen tiempo de diversión y resolución de problemas."
   ]
  },
  {
   "cell_type": "code",
   "execution_count": 17,
   "id": "78138f59",
   "metadata": {},
   "outputs": [
    {
     "name": "stdout",
     "output_type": "stream",
     "text": [
      "\n",
      "Precisión del modelo: 0.72\n"
     ]
    }
   ],
   "source": [
    "import numpy as np\n",
    "import pandas as pd\n",
    "from sklearn import datasets\n",
    "from sklearn.model_selection import train_test_split\n",
    "from sklearn.ensemble import RandomForestClassifier\n",
    "\n",
    "# Cargar el dataset de diabetes\n",
    "diabetes = datasets.load_diabetes()\n",
    "\n",
    "# Convertir a DataFrame para facilitar el análisis exploratorio\n",
    "diabetes_df = pd.DataFrame(data=np.c_[diabetes['data'], diabetes['target']],\n",
    "                           columns=diabetes['feature_names'] + ['target'])\n",
    "\n",
    "# Convertir 'target' en categorías para clasificación\n",
    "diabetes_df['target'] = (diabetes_df['target'] > diabetes_df['target'].median()).astype(int)\n",
    "\n",
    "# División de datos en conjuntos de entrenamiento y prueba\n",
    "X = diabetes_df.drop('target', axis=1)\n",
    "y = diabetes_df['target']\n",
    "X_entrena, X_prueba, y_entrena, y_prueba = train_test_split(X, y, test_size=0.2, random_state=42)\n",
    "\n",
    "# Crear y entrenar el modelo RandomForest\n",
    "modelo = RandomForestClassifier(n_estimators=100, random_state=42)\n",
    "modelo.fit(X_entrena, y_entrena)\n",
    "\n",
    "# Realizar predicciones con el conjunto de prueba\n",
    "predicciones = modelo.predict(X_prueba)\n",
    "\n",
    "# Evaluación del modelo\n",
    "puntaje = modelo.score(X_prueba, y_prueba)\n",
    "print(f\"\\nPrecisión del modelo: {puntaje:.2f}\")\n"
   ]
  },
  {
   "cell_type": "markdown",
   "id": "418e3609",
   "metadata": {},
   "source": [
    "### Código optimizado"
   ]
  },
  {
   "cell_type": "code",
   "execution_count": 58,
   "id": "827b60f1",
   "metadata": {},
   "outputs": [
    {
     "name": "stdout",
     "output_type": "stream",
     "text": [
      "\n",
      "Precisión del modelo: 0.74\n"
     ]
    }
   ],
   "source": [
    "import numpy as np\n",
    "import pandas as pd\n",
    "from sklearn import datasets\n",
    "from sklearn.model_selection import train_test_split\n",
    "from sklearn.ensemble import RandomForestClassifier\n",
    "\n",
    "from sklearn.preprocessing import StandardScaler\n",
    "\n",
    "from sklearn.feature_selection import SelectKBest, f_classif\n",
    "\n",
    "# Cargar el dataset de diabetes\n",
    "diabetes = datasets.load_diabetes()\n",
    "\n",
    "# Convertir a DataFrame para facilitar el análisis exploratorio\n",
    "diabetes_df = pd.DataFrame(data=np.c_[diabetes['data'], diabetes['target']],\n",
    "                           columns=diabetes['feature_names'] + ['target'])\n",
    "\n",
    "# Convertir 'target' en categorías para clasificación\n",
    "diabetes_df['target'] = (diabetes_df['target'] > diabetes_df['target'].median()).astype(int)\n",
    "\n",
    "# Estandardizar los datos\n",
    "escalador = StandardScaler()\n",
    "diabetes_df = escalador.fit_transform(diabetes_df) \n",
    "# El escalador transforma los datos y devuelve un array numpy, por lo que es necesario convertirlo nuevamente a DataFrame\n",
    "diabetes_df = pd.DataFrame(data=diabetes_df, columns=diabetes['feature_names'] + ['target'])\n",
    "\n",
    "# División de datos en conjuntos de entrenamiento y prueba\n",
    "X = diabetes_df.drop('target', axis=1)\n",
    "y = diabetes_df['target']\n",
    "X_entrena, X_prueba, y_entrena, y_prueba = train_test_split(X, y, test_size=0.2, random_state=42)\n",
    "\n",
    "# Selección de mejores características\n",
    "selector = SelectKBest(score_func=f_classif, k=4)\n",
    "X_entrena_seleccionada = selector.fit_transform(X_entrena, y_entrena)\n",
    "X_prueba_seleccionada = selector.transform(X_prueba)\n",
    "\n",
    "# Crear y entrenar el modelo RandomForest\n",
    "modelo = RandomForestClassifier(n_estimators=100, random_state=42)\n",
    "modelo.fit(X_entrena_seleccionada, y_entrena)\n",
    "\n",
    "# Realizar predicciones con el conjunto de prueba\n",
    "predicciones = modelo.predict(X_prueba_seleccionada)\n",
    "\n",
    "# Evaluación del modelo\n",
    "puntaje = modelo.score(X_prueba_seleccionada, y_prueba)\n",
    "print(f\"\\nPrecisión del modelo: {puntaje:.2f}\")"
   ]
  },
  {
   "cell_type": "code",
   "execution_count": null,
   "id": "74662b1b",
   "metadata": {},
   "outputs": [
    {
     "name": "stdout",
     "output_type": "stream",
     "text": [
      "\n",
      "Precisión del modelo: 0.74\n",
      "Exactitud de cada partición: [0.69662921 0.75280899 0.64772727 0.67045455 0.65909091]\n",
      "Media de la exactitud: 0.6853421859039837\n"
     ]
    }
   ],
   "source": [
    "import numpy as np\n",
    "import pandas as pd\n",
    "\n",
    "from sklearn import datasets\n",
    "from sklearn.model_selection import train_test_split, cross_val_score\n",
    "from sklearn.ensemble import RandomForestClassifier\n",
    "from sklearn.preprocessing import StandardScaler\n",
    "from sklearn.feature_selection import SelectKBest, f_classif\n",
    "from sklearn.pipeline import make_pipeline\n",
    "    \n",
    "# Cargar el dataset de diabetes\n",
    "diabetes = datasets.load_diabetes()\n",
    "\n",
    "# Convertir a DataFrame para facilitar el análisis exploratorio\n",
    "diabetes_df = pd.DataFrame(data=np.c_[diabetes['data'], diabetes['target']],\n",
    "                           columns=diabetes['feature_names'] + ['target'])\n",
    "\n",
    "# Convertir 'target' en categorías para clasificación\n",
    "diabetes_df['target'] = (diabetes_df['target'] > diabetes_df['target'].median()).astype(int)\n",
    "\n",
    "# División de datos en conjuntos de entrenamiento y prueba\n",
    "X = diabetes_df.drop('target', axis=1)\n",
    "y = diabetes_df['target']\n",
    "X_entrena, X_prueba, y_entrena, y_prueba = train_test_split(X, y, test_size=0.2, random_state=42)\n",
    "\n",
    "selector = SelectKBest(score_func=f_classif, k=4)\n",
    "X_entrena_seleccionada = selector.fit_transform(X_entrena, y_entrena)\n",
    "X_prueba_seleccionada = selector.transform(X_prueba)\n",
    "\n",
    "pipeline = make_pipeline(\n",
    "    StandardScaler(),\n",
    "    RandomForestClassifier(n_estimators=100, random_state=42)\n",
    ")\n",
    "\n",
    "pipeline.fit(X_entrena_seleccionada, y_entrena)\n",
    "\n",
    "# Realizar predicciones con el conjunto de prueba y Evaluación del modelo\n",
    "predicciones = pipeline.predict(X_prueba_seleccionada)\n",
    "puntaje = pipeline.score(X_prueba_seleccionada, y_prueba)\n",
    "print(f\"\\nPrecisión del modelo: {puntaje:.2f}\") \n",
    "\n",
    "# Validación cruzada\n",
    "puntaje = cross_val_score(pipeline, X, y, cv=5)\n",
    "print(f\"Exactitud de cada partición: {puntaje}\")\n",
    "print(f\"Media de la exactitud: {puntaje.mean()}\")"
   ]
  }
 ],
 "metadata": {
  "kernelspec": {
   "display_name": "base",
   "language": "python",
   "name": "python3"
  },
  "language_info": {
   "codemirror_mode": {
    "name": "ipython",
    "version": 3
   },
   "file_extension": ".py",
   "mimetype": "text/x-python",
   "name": "python",
   "nbconvert_exporter": "python",
   "pygments_lexer": "ipython3",
   "version": "3.12.7"
  }
 },
 "nbformat": 4,
 "nbformat_minor": 5
}
