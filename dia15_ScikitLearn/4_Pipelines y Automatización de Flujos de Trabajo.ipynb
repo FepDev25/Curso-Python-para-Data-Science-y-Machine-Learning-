{
 "cells": [
  {
   "cell_type": "markdown",
   "id": "a345b94c",
   "metadata": {},
   "source": [
    "## Sin Pipelines"
   ]
  },
  {
   "cell_type": "code",
   "execution_count": 1,
   "id": "6fbc98c1",
   "metadata": {},
   "outputs": [
    {
     "name": "stdout",
     "output_type": "stream",
     "text": [
      "Las predicciones son: [2 1 0 2 0 2 0 1 1 1 2 1 1 1 1 0 1 1 0 0 2 1 0 0 2 0 0 1 1 0 2 1 0 2 2 1 0\n",
      " 2]\n",
      "La precisión del modelo es: 0.97\n"
     ]
    }
   ],
   "source": [
    "from sklearn.datasets import load_iris\n",
    "from sklearn.model_selection import train_test_split\n",
    "from sklearn.preprocessing import StandardScaler\n",
    "from sklearn.linear_model import LogisticRegression\n",
    "\n",
    "# Cargamos el dataset\n",
    "data = load_iris()\n",
    "X = data.data\n",
    "y = data.target\n",
    "\n",
    "# Dividimos el dataset en conjunto de entrenamiento y de prueba\n",
    "X_entrena, X_prueba, y_entrena, y_prueba = train_test_split(X, y, test_size=0.25, random_state=0)\n",
    "\n",
    "# Creamos una instancia del escalador\n",
    "scaler = StandardScaler()\n",
    "\n",
    "# Estimador (StandardScaler): Aprendemos los parámetros de escalado con fit\n",
    "scaler.fit(X_entrena)\n",
    "\n",
    "# Transformador (StandardScaler): Aplicamos la transformación a los datos de entrenamiento y prueba\n",
    "X_entrena_escalado = scaler.transform(X_entrena)\n",
    "X_prueba_escalado = scaler.transform(X_prueba)\n",
    "\n",
    "# Creamos una instancia del modelo\n",
    "modelo = LogisticRegression()\n",
    "\n",
    "# Estimador (LogisticRegression): Entrenamos el modelo con los datos escalados\n",
    "modelo.fit(X_entrena_escalado, y_entrena)\n",
    "\n",
    "# Predictor (LogisticRegression): Hacemos predicciones y evaluamos el modelo\n",
    "y_pred = modelo.predict(X_prueba_escalado)\n",
    "puntaje = modelo.score(X_prueba_escalado, y_prueba)\n",
    "print(f\"Las predicciones son: {y_pred}\")\n",
    "print(f\"La precisión del modelo es: {puntaje:.2f}\")"
   ]
  },
  {
   "cell_type": "markdown",
   "id": "72c4eee1",
   "metadata": {},
   "source": [
    "## Con Pipelines"
   ]
  },
  {
   "cell_type": "code",
   "execution_count": 4,
   "id": "b788f4c1",
   "metadata": {},
   "outputs": [
    {
     "name": "stdout",
     "output_type": "stream",
     "text": [
      "Las predicciones son: [2 1 0 2 0 2 0 1 1 1 2 1 1 1 1 0 1 1 0 0 2 1 0 0 2 0 0 1 1 0 2 1 0 2 2 1 0\n",
      " 2]\n",
      "La precisión del modelo es: 0.97\n"
     ]
    }
   ],
   "source": [
    "from sklearn.datasets import load_iris\n",
    "from sklearn.model_selection import train_test_split\n",
    "from sklearn.preprocessing import StandardScaler\n",
    "from sklearn.linear_model import LogisticRegression\n",
    "from sklearn.pipeline import Pipeline\n",
    "\n",
    "# Cargamos el dataset\n",
    "data = load_iris()\n",
    "X = data.data\n",
    "y = data.target\n",
    "\n",
    "# Dividimos el dataset en conjunto de entrenamiento y de prueba\n",
    "X_entrena, X_prueba, y_entrena, y_prueba = train_test_split(X, y, test_size=0.25, random_state=0)\n",
    "\n",
    "pipeline = Pipeline([\n",
    "    (\"scaler\", StandardScaler()),\n",
    "    (\"modelo\", LogisticRegression())\n",
    "])\n",
    "\n",
    "pipeline.fit( X_entrena, y_entrena )\n",
    "\n",
    "# Automáticamente hace todas las tranformaciones\n",
    "\n",
    "# Predictor (LogisticRegression): Hacemos predicciones y evaluamos el modelo\n",
    "y_pred = pipeline.predict(X_prueba)\n",
    "puntaje = pipeline.score(X_prueba, y_prueba)\n",
    "\n",
    "print(f\"Las predicciones son: {y_pred}\")\n",
    "print(f\"La precisión del modelo es: {puntaje:.2f}\")"
   ]
  },
  {
   "cell_type": "markdown",
   "id": "57bcc10e",
   "metadata": {},
   "source": [
    "## Con make_pipeline"
   ]
  },
  {
   "cell_type": "code",
   "execution_count": null,
   "id": "8ceea37e",
   "metadata": {},
   "outputs": [
    {
     "name": "stdout",
     "output_type": "stream",
     "text": [
      "Las predicciones son: [2 1 0 2 0 2 0 1 1 1 2 1 1 1 1 0 1 1 0 0 2 1 0 0 2 0 0 1 1 0 2 1 0 2 2 1 0\n",
      " 2]\n",
      "La precisión del modelo es: 0.97\n"
     ]
    }
   ],
   "source": [
    "from sklearn.datasets import load_iris\n",
    "from sklearn.model_selection import train_test_split\n",
    "from sklearn.preprocessing import StandardScaler\n",
    "from sklearn.linear_model import LogisticRegression\n",
    "from sklearn.pipeline import make_pipeline\n",
    "\n",
    "# Cargamos el dataset\n",
    "data = load_iris()\n",
    "X = data.data\n",
    "y = data.target\n",
    "\n",
    "# Dividimos el dataset en conjunto de entrenamiento y de prueba\n",
    "X_entrena, X_prueba, y_entrena, y_prueba = train_test_split(X, y, test_size=0.25, random_state=0)\n",
    "\n",
    "pipeline = make_pipeline(\n",
    "    StandardScaler(),\n",
    "    LogisticRegression(),\n",
    ")\n",
    "\n",
    "pipeline.fit( X_entrena, y_entrena )\n",
    "\n",
    "# Automáticamente hace todas las tranformaciones\n",
    "\n",
    "# Predictor (LogisticRegression): Hacemos predicciones y evaluamos el modelo\n",
    "y_pred = pipeline.predict(X_prueba)\n",
    "puntaje = pipeline.score(X_prueba, y_prueba)\n",
    "\n",
    "print(f\"Las predicciones son: {y_pred}\")\n",
    "print(f\"La precisión del modelo es: {puntaje:.2f}\") "
   ]
  },
  {
   "cell_type": "code",
   "execution_count": 11,
   "id": "f5431852",
   "metadata": {},
   "outputs": [
    {
     "name": "stdout",
     "output_type": "stream",
     "text": [
      "Las predicciones son: [2 1 0 2 0 2 0 1 1 1 1 1 1 1 1 0 1 1 0 0 2 1 0 0 2 0 0 1 1 0 2 1 0 2 2 1 0\n",
      " 2 1 1 2 0 2 0 0]\n",
      "La precisión del modelo es: 0.96\n"
     ]
    }
   ],
   "source": [
    "from sklearn.datasets import load_iris\n",
    "from sklearn.model_selection import train_test_split\n",
    "from sklearn.preprocessing import StandardScaler\n",
    "from sklearn.linear_model import LogisticRegression\n",
    "from sklearn.pipeline import make_pipeline\n",
    "from sklearn.feature_selection import SelectKBest, f_classif\n",
    "\n",
    "# Cargamos el dataset\n",
    "data = load_iris()\n",
    "X = data.data\n",
    "y = data.target\n",
    "\n",
    "# Dividimos el dataset en conjunto de entrenamiento y de prueba\n",
    "X_train, X_test, y_train, y_test = train_test_split(X, y, test_size=0.3, random_state=0)\n",
    "\n",
    "pipeline = make_pipeline(\n",
    "    StandardScaler(),\n",
    "    SelectKBest(score_func=f_classif, k=2),\n",
    "    LogisticRegression(),\n",
    ")\n",
    "\n",
    "pipeline.fit( X_train, y_train )\n",
    "\n",
    "# Automáticamente hace todas las tranformaciones\n",
    "\n",
    "# Predictor (LogisticRegression): Hacemos predicciones y evaluamos el modelo\n",
    "y_pred = pipeline.predict(X_test)\n",
    "puntaje = pipeline.score(X_test, y_test)\n",
    "\n",
    "print(f\"Las predicciones son: {y_pred}\")\n",
    "print(f\"La precisión del modelo es: {puntaje:.2f}\") \n"
   ]
  }
 ],
 "metadata": {
  "kernelspec": {
   "display_name": "base",
   "language": "python",
   "name": "python3"
  },
  "language_info": {
   "codemirror_mode": {
    "name": "ipython",
    "version": 3
   },
   "file_extension": ".py",
   "mimetype": "text/x-python",
   "name": "python",
   "nbconvert_exporter": "python",
   "pygments_lexer": "ipython3",
   "version": "3.12.7"
  }
 },
 "nbformat": 4,
 "nbformat_minor": 5
}
