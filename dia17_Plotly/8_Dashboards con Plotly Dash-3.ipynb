{
 "cells": [
  {
   "cell_type": "code",
   "execution_count": 4,
   "id": "174b61ef",
   "metadata": {},
   "outputs": [],
   "source": [
    "import dash\n",
    "from dash import dcc, html\n",
    "import pandas as pd\n",
    "import plotly.express as px"
   ]
  },
  {
   "cell_type": "code",
   "execution_count": 5,
   "id": "8bbed722",
   "metadata": {},
   "outputs": [
    {
     "data": {
      "text/html": [
       "\n",
       "        <iframe\n",
       "            width=\"100%\"\n",
       "            height=\"650\"\n",
       "            src=\"http://127.0.0.1:8050/\"\n",
       "            frameborder=\"0\"\n",
       "            allowfullscreen\n",
       "            \n",
       "        ></iframe>\n",
       "        "
      ],
      "text/plain": [
       "<IPython.lib.display.IFrame at 0x7f318410b4a0>"
      ]
     },
     "metadata": {},
     "output_type": "display_data"
    }
   ],
   "source": [
    "df = pd.DataFrame({\n",
    "    \"Fruta\": [\"Manzana\", \"Naranja\", \"Plátano\", \"Fresa\"] * 4,\n",
    "    \"Cantidad\": [10, 15, 7, 12, 5, 8, 3, 6, 9, 10, 4, 7, 6, 9, 2, 5],\n",
    "    \"Ciudad\": [\"M\", \"M\", \"M\", \"M\", \"B\", \"B\", \"B\", \"B\", \"V\", \"V\", \"V\", \"V\", \"S\", \"S\", \"S\", \"S\"]\n",
    "})\n",
    "\n",
    "\n",
    "app = dash.Dash(__name__) \n",
    "\n",
    "app.layout = html.Div(\n",
    "    children=[\n",
    "        html.H1(children='Dashboard interactivo avanzado'),\n",
    "\n",
    "        dcc.Dropdown(\n",
    "            id='desplegable',\n",
    "            options=[\n",
    "                {'label': 'Madrid', 'value': 'M'},\n",
    "                {'label': 'Barcelona', 'value': 'B'},\n",
    "                {'label': 'Valencia', 'value': 'V'},\n",
    "                {'label': 'Sevilla', 'value': 'S'}\n",
    "            ],\n",
    "            value='M',  # Valor por defecto\n",
    "        ),\n",
    "\n",
    "        dcc.Graph(id='grafico')\n",
    "    ]\n",
    ")\n",
    "\n",
    "@app.callback(\n",
    "    dash.Output('grafico', 'figure'),\n",
    "    [dash.Input('desplegable', 'value')]\n",
    ")\n",
    "def actualizar_grafico(ciudad):\n",
    "    df_filtrado = df[df['Ciudad'] == ciudad]\n",
    "    fig = px.bar(df_filtrado, x='Fruta', y='Cantidad', color='Fruta')\n",
    "    return fig\n",
    "\n",
    "if __name__ == \"__main__\":\n",
    "    app.run(debug=True)"
   ]
  },
  {
   "cell_type": "code",
   "execution_count": null,
   "id": "c7d25caa",
   "metadata": {},
   "outputs": [],
   "source": []
  }
 ],
 "metadata": {
  "kernelspec": {
   "display_name": "base",
   "language": "python",
   "name": "python3"
  },
  "language_info": {
   "codemirror_mode": {
    "name": "ipython",
    "version": 3
   },
   "file_extension": ".py",
   "mimetype": "text/x-python",
   "name": "python",
   "nbconvert_exporter": "python",
   "pygments_lexer": "ipython3",
   "version": "3.12.7"
  }
 },
 "nbformat": 4,
 "nbformat_minor": 5
}
