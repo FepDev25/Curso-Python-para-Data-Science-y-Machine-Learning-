{
 "cells": [
  {
   "cell_type": "code",
   "execution_count": 3,
   "id": "315bc075",
   "metadata": {},
   "outputs": [],
   "source": [
    "import plotly.graph_objects as go\n",
    "import numpy as np"
   ]
  },
  {
   "cell_type": "code",
   "execution_count": 5,
   "id": "46be3209",
   "metadata": {},
   "outputs": [
    {
     "data": {
      "application/vnd.plotly.v1+json": {
       "config": {
        "plotlyServerURL": "https://plot.ly"
       },
       "data": [
        {
         "marker": {
          "color": [
           10,
           20,
           30,
           40,
           50
          ],
          "colorscale": [
           [
            0,
            "#440154"
           ],
           [
            0.1111111111111111,
            "#482878"
           ],
           [
            0.2222222222222222,
            "#3e4989"
           ],
           [
            0.3333333333333333,
            "#31688e"
           ],
           [
            0.4444444444444444,
            "#26828e"
           ],
           [
            0.5555555555555556,
            "#1f9e89"
           ],
           [
            0.6666666666666666,
            "#35b779"
           ],
           [
            0.7777777777777778,
            "#6ece58"
           ],
           [
            0.8888888888888888,
            "#b5de2b"
           ],
           [
            1,
            "#fde725"
           ]
          ],
          "opacity": 0.8,
          "size": 10
         },
         "mode": "markers",
         "type": "scatter3d",
         "x": [
          1,
          2,
          3,
          4,
          5
         ],
         "y": [
          10,
          11,
          12,
          13,
          14
         ],
         "z": [
          5,
          6,
          2,
          3,
          4
         ]
        }
       ],
       "layout": {
        "template": {
         "data": {
          "bar": [
           {
            "error_x": {
             "color": "#2a3f5f"
            },
            "error_y": {
             "color": "#2a3f5f"
            },
            "marker": {
             "line": {
              "color": "#E5ECF6",
              "width": 0.5
             },
             "pattern": {
              "fillmode": "overlay",
              "size": 10,
              "solidity": 0.2
             }
            },
            "type": "bar"
           }
          ],
          "barpolar": [
           {
            "marker": {
             "line": {
              "color": "#E5ECF6",
              "width": 0.5
             },
             "pattern": {
              "fillmode": "overlay",
              "size": 10,
              "solidity": 0.2
             }
            },
            "type": "barpolar"
           }
          ],
          "carpet": [
           {
            "aaxis": {
             "endlinecolor": "#2a3f5f",
             "gridcolor": "white",
             "linecolor": "white",
             "minorgridcolor": "white",
             "startlinecolor": "#2a3f5f"
            },
            "baxis": {
             "endlinecolor": "#2a3f5f",
             "gridcolor": "white",
             "linecolor": "white",
             "minorgridcolor": "white",
             "startlinecolor": "#2a3f5f"
            },
            "type": "carpet"
           }
          ],
          "choropleth": [
           {
            "colorbar": {
             "outlinewidth": 0,
             "ticks": ""
            },
            "type": "choropleth"
           }
          ],
          "contour": [
           {
            "colorbar": {
             "outlinewidth": 0,
             "ticks": ""
            },
            "colorscale": [
             [
              0,
              "#0d0887"
             ],
             [
              0.1111111111111111,
              "#46039f"
             ],
             [
              0.2222222222222222,
              "#7201a8"
             ],
             [
              0.3333333333333333,
              "#9c179e"
             ],
             [
              0.4444444444444444,
              "#bd3786"
             ],
             [
              0.5555555555555556,
              "#d8576b"
             ],
             [
              0.6666666666666666,
              "#ed7953"
             ],
             [
              0.7777777777777778,
              "#fb9f3a"
             ],
             [
              0.8888888888888888,
              "#fdca26"
             ],
             [
              1,
              "#f0f921"
             ]
            ],
            "type": "contour"
           }
          ],
          "contourcarpet": [
           {
            "colorbar": {
             "outlinewidth": 0,
             "ticks": ""
            },
            "type": "contourcarpet"
           }
          ],
          "heatmap": [
           {
            "colorbar": {
             "outlinewidth": 0,
             "ticks": ""
            },
            "colorscale": [
             [
              0,
              "#0d0887"
             ],
             [
              0.1111111111111111,
              "#46039f"
             ],
             [
              0.2222222222222222,
              "#7201a8"
             ],
             [
              0.3333333333333333,
              "#9c179e"
             ],
             [
              0.4444444444444444,
              "#bd3786"
             ],
             [
              0.5555555555555556,
              "#d8576b"
             ],
             [
              0.6666666666666666,
              "#ed7953"
             ],
             [
              0.7777777777777778,
              "#fb9f3a"
             ],
             [
              0.8888888888888888,
              "#fdca26"
             ],
             [
              1,
              "#f0f921"
             ]
            ],
            "type": "heatmap"
           }
          ],
          "heatmapgl": [
           {
            "colorbar": {
             "outlinewidth": 0,
             "ticks": ""
            },
            "colorscale": [
             [
              0,
              "#0d0887"
             ],
             [
              0.1111111111111111,
              "#46039f"
             ],
             [
              0.2222222222222222,
              "#7201a8"
             ],
             [
              0.3333333333333333,
              "#9c179e"
             ],
             [
              0.4444444444444444,
              "#bd3786"
             ],
             [
              0.5555555555555556,
              "#d8576b"
             ],
             [
              0.6666666666666666,
              "#ed7953"
             ],
             [
              0.7777777777777778,
              "#fb9f3a"
             ],
             [
              0.8888888888888888,
              "#fdca26"
             ],
             [
              1,
              "#f0f921"
             ]
            ],
            "type": "heatmapgl"
           }
          ],
          "histogram": [
           {
            "marker": {
             "pattern": {
              "fillmode": "overlay",
              "size": 10,
              "solidity": 0.2
             }
            },
            "type": "histogram"
           }
          ],
          "histogram2d": [
           {
            "colorbar": {
             "outlinewidth": 0,
             "ticks": ""
            },
            "colorscale": [
             [
              0,
              "#0d0887"
             ],
             [
              0.1111111111111111,
              "#46039f"
             ],
             [
              0.2222222222222222,
              "#7201a8"
             ],
             [
              0.3333333333333333,
              "#9c179e"
             ],
             [
              0.4444444444444444,
              "#bd3786"
             ],
             [
              0.5555555555555556,
              "#d8576b"
             ],
             [
              0.6666666666666666,
              "#ed7953"
             ],
             [
              0.7777777777777778,
              "#fb9f3a"
             ],
             [
              0.8888888888888888,
              "#fdca26"
             ],
             [
              1,
              "#f0f921"
             ]
            ],
            "type": "histogram2d"
           }
          ],
          "histogram2dcontour": [
           {
            "colorbar": {
             "outlinewidth": 0,
             "ticks": ""
            },
            "colorscale": [
             [
              0,
              "#0d0887"
             ],
             [
              0.1111111111111111,
              "#46039f"
             ],
             [
              0.2222222222222222,
              "#7201a8"
             ],
             [
              0.3333333333333333,
              "#9c179e"
             ],
             [
              0.4444444444444444,
              "#bd3786"
             ],
             [
              0.5555555555555556,
              "#d8576b"
             ],
             [
              0.6666666666666666,
              "#ed7953"
             ],
             [
              0.7777777777777778,
              "#fb9f3a"
             ],
             [
              0.8888888888888888,
              "#fdca26"
             ],
             [
              1,
              "#f0f921"
             ]
            ],
            "type": "histogram2dcontour"
           }
          ],
          "mesh3d": [
           {
            "colorbar": {
             "outlinewidth": 0,
             "ticks": ""
            },
            "type": "mesh3d"
           }
          ],
          "parcoords": [
           {
            "line": {
             "colorbar": {
              "outlinewidth": 0,
              "ticks": ""
             }
            },
            "type": "parcoords"
           }
          ],
          "pie": [
           {
            "automargin": true,
            "type": "pie"
           }
          ],
          "scatter": [
           {
            "fillpattern": {
             "fillmode": "overlay",
             "size": 10,
             "solidity": 0.2
            },
            "type": "scatter"
           }
          ],
          "scatter3d": [
           {
            "line": {
             "colorbar": {
              "outlinewidth": 0,
              "ticks": ""
             }
            },
            "marker": {
             "colorbar": {
              "outlinewidth": 0,
              "ticks": ""
             }
            },
            "type": "scatter3d"
           }
          ],
          "scattercarpet": [
           {
            "marker": {
             "colorbar": {
              "outlinewidth": 0,
              "ticks": ""
             }
            },
            "type": "scattercarpet"
           }
          ],
          "scattergeo": [
           {
            "marker": {
             "colorbar": {
              "outlinewidth": 0,
              "ticks": ""
             }
            },
            "type": "scattergeo"
           }
          ],
          "scattergl": [
           {
            "marker": {
             "colorbar": {
              "outlinewidth": 0,
              "ticks": ""
             }
            },
            "type": "scattergl"
           }
          ],
          "scattermapbox": [
           {
            "marker": {
             "colorbar": {
              "outlinewidth": 0,
              "ticks": ""
             }
            },
            "type": "scattermapbox"
           }
          ],
          "scatterpolar": [
           {
            "marker": {
             "colorbar": {
              "outlinewidth": 0,
              "ticks": ""
             }
            },
            "type": "scatterpolar"
           }
          ],
          "scatterpolargl": [
           {
            "marker": {
             "colorbar": {
              "outlinewidth": 0,
              "ticks": ""
             }
            },
            "type": "scatterpolargl"
           }
          ],
          "scatterternary": [
           {
            "marker": {
             "colorbar": {
              "outlinewidth": 0,
              "ticks": ""
             }
            },
            "type": "scatterternary"
           }
          ],
          "surface": [
           {
            "colorbar": {
             "outlinewidth": 0,
             "ticks": ""
            },
            "colorscale": [
             [
              0,
              "#0d0887"
             ],
             [
              0.1111111111111111,
              "#46039f"
             ],
             [
              0.2222222222222222,
              "#7201a8"
             ],
             [
              0.3333333333333333,
              "#9c179e"
             ],
             [
              0.4444444444444444,
              "#bd3786"
             ],
             [
              0.5555555555555556,
              "#d8576b"
             ],
             [
              0.6666666666666666,
              "#ed7953"
             ],
             [
              0.7777777777777778,
              "#fb9f3a"
             ],
             [
              0.8888888888888888,
              "#fdca26"
             ],
             [
              1,
              "#f0f921"
             ]
            ],
            "type": "surface"
           }
          ],
          "table": [
           {
            "cells": {
             "fill": {
              "color": "#EBF0F8"
             },
             "line": {
              "color": "white"
             }
            },
            "header": {
             "fill": {
              "color": "#C8D4E3"
             },
             "line": {
              "color": "white"
             }
            },
            "type": "table"
           }
          ]
         },
         "layout": {
          "annotationdefaults": {
           "arrowcolor": "#2a3f5f",
           "arrowhead": 0,
           "arrowwidth": 1
          },
          "autotypenumbers": "strict",
          "coloraxis": {
           "colorbar": {
            "outlinewidth": 0,
            "ticks": ""
           }
          },
          "colorscale": {
           "diverging": [
            [
             0,
             "#8e0152"
            ],
            [
             0.1,
             "#c51b7d"
            ],
            [
             0.2,
             "#de77ae"
            ],
            [
             0.3,
             "#f1b6da"
            ],
            [
             0.4,
             "#fde0ef"
            ],
            [
             0.5,
             "#f7f7f7"
            ],
            [
             0.6,
             "#e6f5d0"
            ],
            [
             0.7,
             "#b8e186"
            ],
            [
             0.8,
             "#7fbc41"
            ],
            [
             0.9,
             "#4d9221"
            ],
            [
             1,
             "#276419"
            ]
           ],
           "sequential": [
            [
             0,
             "#0d0887"
            ],
            [
             0.1111111111111111,
             "#46039f"
            ],
            [
             0.2222222222222222,
             "#7201a8"
            ],
            [
             0.3333333333333333,
             "#9c179e"
            ],
            [
             0.4444444444444444,
             "#bd3786"
            ],
            [
             0.5555555555555556,
             "#d8576b"
            ],
            [
             0.6666666666666666,
             "#ed7953"
            ],
            [
             0.7777777777777778,
             "#fb9f3a"
            ],
            [
             0.8888888888888888,
             "#fdca26"
            ],
            [
             1,
             "#f0f921"
            ]
           ],
           "sequentialminus": [
            [
             0,
             "#0d0887"
            ],
            [
             0.1111111111111111,
             "#46039f"
            ],
            [
             0.2222222222222222,
             "#7201a8"
            ],
            [
             0.3333333333333333,
             "#9c179e"
            ],
            [
             0.4444444444444444,
             "#bd3786"
            ],
            [
             0.5555555555555556,
             "#d8576b"
            ],
            [
             0.6666666666666666,
             "#ed7953"
            ],
            [
             0.7777777777777778,
             "#fb9f3a"
            ],
            [
             0.8888888888888888,
             "#fdca26"
            ],
            [
             1,
             "#f0f921"
            ]
           ]
          },
          "colorway": [
           "#636efa",
           "#EF553B",
           "#00cc96",
           "#ab63fa",
           "#FFA15A",
           "#19d3f3",
           "#FF6692",
           "#B6E880",
           "#FF97FF",
           "#FECB52"
          ],
          "font": {
           "color": "#2a3f5f"
          },
          "geo": {
           "bgcolor": "white",
           "lakecolor": "white",
           "landcolor": "#E5ECF6",
           "showlakes": true,
           "showland": true,
           "subunitcolor": "white"
          },
          "hoverlabel": {
           "align": "left"
          },
          "hovermode": "closest",
          "mapbox": {
           "style": "light"
          },
          "paper_bgcolor": "white",
          "plot_bgcolor": "#E5ECF6",
          "polar": {
           "angularaxis": {
            "gridcolor": "white",
            "linecolor": "white",
            "ticks": ""
           },
           "bgcolor": "#E5ECF6",
           "radialaxis": {
            "gridcolor": "white",
            "linecolor": "white",
            "ticks": ""
           }
          },
          "scene": {
           "xaxis": {
            "backgroundcolor": "#E5ECF6",
            "gridcolor": "white",
            "gridwidth": 2,
            "linecolor": "white",
            "showbackground": true,
            "ticks": "",
            "zerolinecolor": "white"
           },
           "yaxis": {
            "backgroundcolor": "#E5ECF6",
            "gridcolor": "white",
            "gridwidth": 2,
            "linecolor": "white",
            "showbackground": true,
            "ticks": "",
            "zerolinecolor": "white"
           },
           "zaxis": {
            "backgroundcolor": "#E5ECF6",
            "gridcolor": "white",
            "gridwidth": 2,
            "linecolor": "white",
            "showbackground": true,
            "ticks": "",
            "zerolinecolor": "white"
           }
          },
          "shapedefaults": {
           "line": {
            "color": "#2a3f5f"
           }
          },
          "ternary": {
           "aaxis": {
            "gridcolor": "white",
            "linecolor": "white",
            "ticks": ""
           },
           "baxis": {
            "gridcolor": "white",
            "linecolor": "white",
            "ticks": ""
           },
           "bgcolor": "#E5ECF6",
           "caxis": {
            "gridcolor": "white",
            "linecolor": "white",
            "ticks": ""
           }
          },
          "title": {
           "x": 0.05
          },
          "xaxis": {
           "automargin": true,
           "gridcolor": "white",
           "linecolor": "white",
           "ticks": "",
           "title": {
            "standoff": 15
           },
           "zerolinecolor": "white",
           "zerolinewidth": 2
          },
          "yaxis": {
           "automargin": true,
           "gridcolor": "white",
           "linecolor": "white",
           "ticks": "",
           "title": {
            "standoff": 15
           },
           "zerolinecolor": "white",
           "zerolinewidth": 2
          }
         }
        }
       }
      }
     },
     "metadata": {},
     "output_type": "display_data"
    }
   ],
   "source": [
    "fig = go.Figure(\n",
    "    data=[go.Scatter3d(\n",
    "        x=[1, 2, 3, 4, 5],\n",
    "        y=[10, 11, 12, 13, 14],\n",
    "        z=[5, 6, 2, 3, 4],\n",
    "        mode='markers',\n",
    "        marker={\n",
    "            'size': 10,\n",
    "            'color': [10, 20, 30, 40, 50],\n",
    "            'colorscale': 'Viridis',\n",
    "            'opacity': 0.8,\n",
    "        }\n",
    "    )]\n",
    ")\n",
    "fig"
   ]
  },
  {
   "cell_type": "code",
   "execution_count": 6,
   "id": "b204d849",
   "metadata": {},
   "outputs": [
    {
     "data": {
      "application/vnd.plotly.v1+json": {
       "config": {
        "plotlyServerURL": "https://plot.ly"
       },
       "data": [
        {
         "marker": {
          "color": [
           10,
           20,
           30,
           40,
           50
          ],
          "colorscale": [
           [
            0,
            "#440154"
           ],
           [
            0.1111111111111111,
            "#482878"
           ],
           [
            0.2222222222222222,
            "#3e4989"
           ],
           [
            0.3333333333333333,
            "#31688e"
           ],
           [
            0.4444444444444444,
            "#26828e"
           ],
           [
            0.5555555555555556,
            "#1f9e89"
           ],
           [
            0.6666666666666666,
            "#35b779"
           ],
           [
            0.7777777777777778,
            "#6ece58"
           ],
           [
            0.8888888888888888,
            "#b5de2b"
           ],
           [
            1,
            "#fde725"
           ]
          ],
          "opacity": 0.8,
          "size": 10
         },
         "mode": "markers",
         "type": "scatter3d",
         "x": [
          1,
          2,
          3,
          4,
          5
         ],
         "y": [
          10,
          11,
          12,
          13,
          14
         ],
         "z": [
          5,
          6,
          2,
          3,
          4
         ]
        }
       ],
       "layout": {
        "scene": {
         "xaxis": {
          "title": {
           "text": "X Axis"
          }
         },
         "yaxis": {
          "title": {
           "text": "Y Axis"
          }
         },
         "zaxis": {
          "title": {
           "text": "Z Axis"
          }
         }
        },
        "template": {
         "data": {
          "bar": [
           {
            "error_x": {
             "color": "#2a3f5f"
            },
            "error_y": {
             "color": "#2a3f5f"
            },
            "marker": {
             "line": {
              "color": "#E5ECF6",
              "width": 0.5
             },
             "pattern": {
              "fillmode": "overlay",
              "size": 10,
              "solidity": 0.2
             }
            },
            "type": "bar"
           }
          ],
          "barpolar": [
           {
            "marker": {
             "line": {
              "color": "#E5ECF6",
              "width": 0.5
             },
             "pattern": {
              "fillmode": "overlay",
              "size": 10,
              "solidity": 0.2
             }
            },
            "type": "barpolar"
           }
          ],
          "carpet": [
           {
            "aaxis": {
             "endlinecolor": "#2a3f5f",
             "gridcolor": "white",
             "linecolor": "white",
             "minorgridcolor": "white",
             "startlinecolor": "#2a3f5f"
            },
            "baxis": {
             "endlinecolor": "#2a3f5f",
             "gridcolor": "white",
             "linecolor": "white",
             "minorgridcolor": "white",
             "startlinecolor": "#2a3f5f"
            },
            "type": "carpet"
           }
          ],
          "choropleth": [
           {
            "colorbar": {
             "outlinewidth": 0,
             "ticks": ""
            },
            "type": "choropleth"
           }
          ],
          "contour": [
           {
            "colorbar": {
             "outlinewidth": 0,
             "ticks": ""
            },
            "colorscale": [
             [
              0,
              "#0d0887"
             ],
             [
              0.1111111111111111,
              "#46039f"
             ],
             [
              0.2222222222222222,
              "#7201a8"
             ],
             [
              0.3333333333333333,
              "#9c179e"
             ],
             [
              0.4444444444444444,
              "#bd3786"
             ],
             [
              0.5555555555555556,
              "#d8576b"
             ],
             [
              0.6666666666666666,
              "#ed7953"
             ],
             [
              0.7777777777777778,
              "#fb9f3a"
             ],
             [
              0.8888888888888888,
              "#fdca26"
             ],
             [
              1,
              "#f0f921"
             ]
            ],
            "type": "contour"
           }
          ],
          "contourcarpet": [
           {
            "colorbar": {
             "outlinewidth": 0,
             "ticks": ""
            },
            "type": "contourcarpet"
           }
          ],
          "heatmap": [
           {
            "colorbar": {
             "outlinewidth": 0,
             "ticks": ""
            },
            "colorscale": [
             [
              0,
              "#0d0887"
             ],
             [
              0.1111111111111111,
              "#46039f"
             ],
             [
              0.2222222222222222,
              "#7201a8"
             ],
             [
              0.3333333333333333,
              "#9c179e"
             ],
             [
              0.4444444444444444,
              "#bd3786"
             ],
             [
              0.5555555555555556,
              "#d8576b"
             ],
             [
              0.6666666666666666,
              "#ed7953"
             ],
             [
              0.7777777777777778,
              "#fb9f3a"
             ],
             [
              0.8888888888888888,
              "#fdca26"
             ],
             [
              1,
              "#f0f921"
             ]
            ],
            "type": "heatmap"
           }
          ],
          "heatmapgl": [
           {
            "colorbar": {
             "outlinewidth": 0,
             "ticks": ""
            },
            "colorscale": [
             [
              0,
              "#0d0887"
             ],
             [
              0.1111111111111111,
              "#46039f"
             ],
             [
              0.2222222222222222,
              "#7201a8"
             ],
             [
              0.3333333333333333,
              "#9c179e"
             ],
             [
              0.4444444444444444,
              "#bd3786"
             ],
             [
              0.5555555555555556,
              "#d8576b"
             ],
             [
              0.6666666666666666,
              "#ed7953"
             ],
             [
              0.7777777777777778,
              "#fb9f3a"
             ],
             [
              0.8888888888888888,
              "#fdca26"
             ],
             [
              1,
              "#f0f921"
             ]
            ],
            "type": "heatmapgl"
           }
          ],
          "histogram": [
           {
            "marker": {
             "pattern": {
              "fillmode": "overlay",
              "size": 10,
              "solidity": 0.2
             }
            },
            "type": "histogram"
           }
          ],
          "histogram2d": [
           {
            "colorbar": {
             "outlinewidth": 0,
             "ticks": ""
            },
            "colorscale": [
             [
              0,
              "#0d0887"
             ],
             [
              0.1111111111111111,
              "#46039f"
             ],
             [
              0.2222222222222222,
              "#7201a8"
             ],
             [
              0.3333333333333333,
              "#9c179e"
             ],
             [
              0.4444444444444444,
              "#bd3786"
             ],
             [
              0.5555555555555556,
              "#d8576b"
             ],
             [
              0.6666666666666666,
              "#ed7953"
             ],
             [
              0.7777777777777778,
              "#fb9f3a"
             ],
             [
              0.8888888888888888,
              "#fdca26"
             ],
             [
              1,
              "#f0f921"
             ]
            ],
            "type": "histogram2d"
           }
          ],
          "histogram2dcontour": [
           {
            "colorbar": {
             "outlinewidth": 0,
             "ticks": ""
            },
            "colorscale": [
             [
              0,
              "#0d0887"
             ],
             [
              0.1111111111111111,
              "#46039f"
             ],
             [
              0.2222222222222222,
              "#7201a8"
             ],
             [
              0.3333333333333333,
              "#9c179e"
             ],
             [
              0.4444444444444444,
              "#bd3786"
             ],
             [
              0.5555555555555556,
              "#d8576b"
             ],
             [
              0.6666666666666666,
              "#ed7953"
             ],
             [
              0.7777777777777778,
              "#fb9f3a"
             ],
             [
              0.8888888888888888,
              "#fdca26"
             ],
             [
              1,
              "#f0f921"
             ]
            ],
            "type": "histogram2dcontour"
           }
          ],
          "mesh3d": [
           {
            "colorbar": {
             "outlinewidth": 0,
             "ticks": ""
            },
            "type": "mesh3d"
           }
          ],
          "parcoords": [
           {
            "line": {
             "colorbar": {
              "outlinewidth": 0,
              "ticks": ""
             }
            },
            "type": "parcoords"
           }
          ],
          "pie": [
           {
            "automargin": true,
            "type": "pie"
           }
          ],
          "scatter": [
           {
            "fillpattern": {
             "fillmode": "overlay",
             "size": 10,
             "solidity": 0.2
            },
            "type": "scatter"
           }
          ],
          "scatter3d": [
           {
            "line": {
             "colorbar": {
              "outlinewidth": 0,
              "ticks": ""
             }
            },
            "marker": {
             "colorbar": {
              "outlinewidth": 0,
              "ticks": ""
             }
            },
            "type": "scatter3d"
           }
          ],
          "scattercarpet": [
           {
            "marker": {
             "colorbar": {
              "outlinewidth": 0,
              "ticks": ""
             }
            },
            "type": "scattercarpet"
           }
          ],
          "scattergeo": [
           {
            "marker": {
             "colorbar": {
              "outlinewidth": 0,
              "ticks": ""
             }
            },
            "type": "scattergeo"
           }
          ],
          "scattergl": [
           {
            "marker": {
             "colorbar": {
              "outlinewidth": 0,
              "ticks": ""
             }
            },
            "type": "scattergl"
           }
          ],
          "scattermapbox": [
           {
            "marker": {
             "colorbar": {
              "outlinewidth": 0,
              "ticks": ""
             }
            },
            "type": "scattermapbox"
           }
          ],
          "scatterpolar": [
           {
            "marker": {
             "colorbar": {
              "outlinewidth": 0,
              "ticks": ""
             }
            },
            "type": "scatterpolar"
           }
          ],
          "scatterpolargl": [
           {
            "marker": {
             "colorbar": {
              "outlinewidth": 0,
              "ticks": ""
             }
            },
            "type": "scatterpolargl"
           }
          ],
          "scatterternary": [
           {
            "marker": {
             "colorbar": {
              "outlinewidth": 0,
              "ticks": ""
             }
            },
            "type": "scatterternary"
           }
          ],
          "surface": [
           {
            "colorbar": {
             "outlinewidth": 0,
             "ticks": ""
            },
            "colorscale": [
             [
              0,
              "#0d0887"
             ],
             [
              0.1111111111111111,
              "#46039f"
             ],
             [
              0.2222222222222222,
              "#7201a8"
             ],
             [
              0.3333333333333333,
              "#9c179e"
             ],
             [
              0.4444444444444444,
              "#bd3786"
             ],
             [
              0.5555555555555556,
              "#d8576b"
             ],
             [
              0.6666666666666666,
              "#ed7953"
             ],
             [
              0.7777777777777778,
              "#fb9f3a"
             ],
             [
              0.8888888888888888,
              "#fdca26"
             ],
             [
              1,
              "#f0f921"
             ]
            ],
            "type": "surface"
           }
          ],
          "table": [
           {
            "cells": {
             "fill": {
              "color": "#EBF0F8"
             },
             "line": {
              "color": "white"
             }
            },
            "header": {
             "fill": {
              "color": "#C8D4E3"
             },
             "line": {
              "color": "white"
             }
            },
            "type": "table"
           }
          ]
         },
         "layout": {
          "annotationdefaults": {
           "arrowcolor": "#2a3f5f",
           "arrowhead": 0,
           "arrowwidth": 1
          },
          "autotypenumbers": "strict",
          "coloraxis": {
           "colorbar": {
            "outlinewidth": 0,
            "ticks": ""
           }
          },
          "colorscale": {
           "diverging": [
            [
             0,
             "#8e0152"
            ],
            [
             0.1,
             "#c51b7d"
            ],
            [
             0.2,
             "#de77ae"
            ],
            [
             0.3,
             "#f1b6da"
            ],
            [
             0.4,
             "#fde0ef"
            ],
            [
             0.5,
             "#f7f7f7"
            ],
            [
             0.6,
             "#e6f5d0"
            ],
            [
             0.7,
             "#b8e186"
            ],
            [
             0.8,
             "#7fbc41"
            ],
            [
             0.9,
             "#4d9221"
            ],
            [
             1,
             "#276419"
            ]
           ],
           "sequential": [
            [
             0,
             "#0d0887"
            ],
            [
             0.1111111111111111,
             "#46039f"
            ],
            [
             0.2222222222222222,
             "#7201a8"
            ],
            [
             0.3333333333333333,
             "#9c179e"
            ],
            [
             0.4444444444444444,
             "#bd3786"
            ],
            [
             0.5555555555555556,
             "#d8576b"
            ],
            [
             0.6666666666666666,
             "#ed7953"
            ],
            [
             0.7777777777777778,
             "#fb9f3a"
            ],
            [
             0.8888888888888888,
             "#fdca26"
            ],
            [
             1,
             "#f0f921"
            ]
           ],
           "sequentialminus": [
            [
             0,
             "#0d0887"
            ],
            [
             0.1111111111111111,
             "#46039f"
            ],
            [
             0.2222222222222222,
             "#7201a8"
            ],
            [
             0.3333333333333333,
             "#9c179e"
            ],
            [
             0.4444444444444444,
             "#bd3786"
            ],
            [
             0.5555555555555556,
             "#d8576b"
            ],
            [
             0.6666666666666666,
             "#ed7953"
            ],
            [
             0.7777777777777778,
             "#fb9f3a"
            ],
            [
             0.8888888888888888,
             "#fdca26"
            ],
            [
             1,
             "#f0f921"
            ]
           ]
          },
          "colorway": [
           "#636efa",
           "#EF553B",
           "#00cc96",
           "#ab63fa",
           "#FFA15A",
           "#19d3f3",
           "#FF6692",
           "#B6E880",
           "#FF97FF",
           "#FECB52"
          ],
          "font": {
           "color": "#2a3f5f"
          },
          "geo": {
           "bgcolor": "white",
           "lakecolor": "white",
           "landcolor": "#E5ECF6",
           "showlakes": true,
           "showland": true,
           "subunitcolor": "white"
          },
          "hoverlabel": {
           "align": "left"
          },
          "hovermode": "closest",
          "mapbox": {
           "style": "light"
          },
          "paper_bgcolor": "white",
          "plot_bgcolor": "#E5ECF6",
          "polar": {
           "angularaxis": {
            "gridcolor": "white",
            "linecolor": "white",
            "ticks": ""
           },
           "bgcolor": "#E5ECF6",
           "radialaxis": {
            "gridcolor": "white",
            "linecolor": "white",
            "ticks": ""
           }
          },
          "scene": {
           "xaxis": {
            "backgroundcolor": "#E5ECF6",
            "gridcolor": "white",
            "gridwidth": 2,
            "linecolor": "white",
            "showbackground": true,
            "ticks": "",
            "zerolinecolor": "white"
           },
           "yaxis": {
            "backgroundcolor": "#E5ECF6",
            "gridcolor": "white",
            "gridwidth": 2,
            "linecolor": "white",
            "showbackground": true,
            "ticks": "",
            "zerolinecolor": "white"
           },
           "zaxis": {
            "backgroundcolor": "#E5ECF6",
            "gridcolor": "white",
            "gridwidth": 2,
            "linecolor": "white",
            "showbackground": true,
            "ticks": "",
            "zerolinecolor": "white"
           }
          },
          "shapedefaults": {
           "line": {
            "color": "#2a3f5f"
           }
          },
          "ternary": {
           "aaxis": {
            "gridcolor": "white",
            "linecolor": "white",
            "ticks": ""
           },
           "baxis": {
            "gridcolor": "white",
            "linecolor": "white",
            "ticks": ""
           },
           "bgcolor": "#E5ECF6",
           "caxis": {
            "gridcolor": "white",
            "linecolor": "white",
            "ticks": ""
           }
          },
          "title": {
           "x": 0.05
          },
          "xaxis": {
           "automargin": true,
           "gridcolor": "white",
           "linecolor": "white",
           "ticks": "",
           "title": {
            "standoff": 15
           },
           "zerolinecolor": "white",
           "zerolinewidth": 2
          },
          "yaxis": {
           "automargin": true,
           "gridcolor": "white",
           "linecolor": "white",
           "ticks": "",
           "title": {
            "standoff": 15
           },
           "zerolinecolor": "white",
           "zerolinewidth": 2
          }
         }
        },
        "title": {
         "text": "3D Scatter plot with custom marker colorscale"
        }
       }
      }
     },
     "metadata": {},
     "output_type": "display_data"
    }
   ],
   "source": [
    "fig = go.Figure(\n",
    "    data=[go.Scatter3d(\n",
    "        x=[1, 2, 3, 4, 5],\n",
    "        y=[10, 11, 12, 13, 14],\n",
    "        z=[5, 6, 2, 3, 4],\n",
    "        mode='markers',\n",
    "        marker={\n",
    "            'size': 10,\n",
    "            'color': [10, 20, 30, 40, 50],\n",
    "            'colorscale': 'Viridis',\n",
    "            'opacity': 0.8,\n",
    "        }\n",
    "    )]\n",
    ")\n",
    "fig.update_layout(\n",
    "    title='3D Scatter plot with custom marker colorscale',\n",
    "    scene=dict(\n",
    "        xaxis_title='X Axis',\n",
    "        yaxis_title='Y Axis',\n",
    "        zaxis_title='Z Axis'\n",
    "    )\n",
    ")"
   ]
  },
  {
   "cell_type": "code",
   "execution_count": 9,
   "id": "522d6e0f",
   "metadata": {},
   "outputs": [],
   "source": [
    "x = np.linspace(-5, 5, 50)\n",
    "y = np.linspace(-5, 5, 50)\n",
    "z = np.linspace(-5, 5, 50)\n",
    "x, y = np.meshgrid(x, y)\n",
    "z = np.sin(np.sqrt(x**2 + y**2))"
   ]
  },
  {
   "cell_type": "code",
   "execution_count": 12,
   "id": "7bcee4f9",
   "metadata": {},
   "outputs": [
    {
     "data": {
      "application/vnd.plotly.v1+json": {
       "config": {
        "plotlyServerURL": "https://plot.ly"
       },
       "data": [
        {
         "colorscale": [
          [
           0,
           "#440154"
          ],
          [
           0.1111111111111111,
           "#482878"
          ],
          [
           0.2222222222222222,
           "#3e4989"
          ],
          [
           0.3333333333333333,
           "#31688e"
          ],
          [
           0.4444444444444444,
           "#26828e"
          ],
          [
           0.5555555555555556,
           "#1f9e89"
          ],
          [
           0.6666666666666666,
           "#35b779"
          ],
          [
           0.7777777777777778,
           "#6ece58"
          ],
          [
           0.8888888888888888,
           "#b5de2b"
          ],
          [
           1,
           "#fde725"
          ]
         ],
         "opacity": 0.9,
         "showscale": true,
         "type": "surface",
         "x": [
          [
           -5,
           -4.795918367346939,
           -4.591836734693878,
           -4.387755102040816,
           -4.183673469387755,
           -3.979591836734694,
           -3.7755102040816326,
           -3.571428571428571,
           -3.36734693877551,
           -3.163265306122449,
           -2.9591836734693877,
           -2.7551020408163263,
           -2.5510204081632653,
           -2.3469387755102042,
           -2.142857142857143,
           -1.9387755102040813,
           -1.7346938775510203,
           -1.5306122448979593,
           -1.3265306122448979,
           -1.1224489795918364,
           -0.9183673469387754,
           -0.7142857142857144,
           -0.5102040816326525,
           -0.3061224489795915,
           -0.1020408163265305,
           0.1020408163265305,
           0.3061224489795915,
           0.5102040816326534,
           0.7142857142857144,
           0.9183673469387754,
           1.1224489795918373,
           1.3265306122448983,
           1.5306122448979593,
           1.7346938775510203,
           1.9387755102040813,
           2.1428571428571432,
           2.3469387755102042,
           2.5510204081632653,
           2.755102040816327,
           2.959183673469388,
           3.163265306122449,
           3.36734693877551,
           3.571428571428571,
           3.775510204081632,
           3.979591836734695,
           4.183673469387756,
           4.387755102040817,
           4.591836734693878,
           4.795918367346939,
           5
          ],
          [
           -5,
           -4.795918367346939,
           -4.591836734693878,
           -4.387755102040816,
           -4.183673469387755,
           -3.979591836734694,
           -3.7755102040816326,
           -3.571428571428571,
           -3.36734693877551,
           -3.163265306122449,
           -2.9591836734693877,
           -2.7551020408163263,
           -2.5510204081632653,
           -2.3469387755102042,
           -2.142857142857143,
           -1.9387755102040813,
           -1.7346938775510203,
           -1.5306122448979593,
           -1.3265306122448979,
           -1.1224489795918364,
           -0.9183673469387754,
           -0.7142857142857144,
           -0.5102040816326525,
           -0.3061224489795915,
           -0.1020408163265305,
           0.1020408163265305,
           0.3061224489795915,
           0.5102040816326534,
           0.7142857142857144,
           0.9183673469387754,
           1.1224489795918373,
           1.3265306122448983,
           1.5306122448979593,
           1.7346938775510203,
           1.9387755102040813,
           2.1428571428571432,
           2.3469387755102042,
           2.5510204081632653,
           2.755102040816327,
           2.959183673469388,
           3.163265306122449,
           3.36734693877551,
           3.571428571428571,
           3.775510204081632,
           3.979591836734695,
           4.183673469387756,
           4.387755102040817,
           4.591836734693878,
           4.795918367346939,
           5
          ],
          [
           -5,
           -4.795918367346939,
           -4.591836734693878,
           -4.387755102040816,
           -4.183673469387755,
           -3.979591836734694,
           -3.7755102040816326,
           -3.571428571428571,
           -3.36734693877551,
           -3.163265306122449,
           -2.9591836734693877,
           -2.7551020408163263,
           -2.5510204081632653,
           -2.3469387755102042,
           -2.142857142857143,
           -1.9387755102040813,
           -1.7346938775510203,
           -1.5306122448979593,
           -1.3265306122448979,
           -1.1224489795918364,
           -0.9183673469387754,
           -0.7142857142857144,
           -0.5102040816326525,
           -0.3061224489795915,
           -0.1020408163265305,
           0.1020408163265305,
           0.3061224489795915,
           0.5102040816326534,
           0.7142857142857144,
           0.9183673469387754,
           1.1224489795918373,
           1.3265306122448983,
           1.5306122448979593,
           1.7346938775510203,
           1.9387755102040813,
           2.1428571428571432,
           2.3469387755102042,
           2.5510204081632653,
           2.755102040816327,
           2.959183673469388,
           3.163265306122449,
           3.36734693877551,
           3.571428571428571,
           3.775510204081632,
           3.979591836734695,
           4.183673469387756,
           4.387755102040817,
           4.591836734693878,
           4.795918367346939,
           5
          ],
          [
           -5,
           -4.795918367346939,
           -4.591836734693878,
           -4.387755102040816,
           -4.183673469387755,
           -3.979591836734694,
           -3.7755102040816326,
           -3.571428571428571,
           -3.36734693877551,
           -3.163265306122449,
           -2.9591836734693877,
           -2.7551020408163263,
           -2.5510204081632653,
           -2.3469387755102042,
           -2.142857142857143,
           -1.9387755102040813,
           -1.7346938775510203,
           -1.5306122448979593,
           -1.3265306122448979,
           -1.1224489795918364,
           -0.9183673469387754,
           -0.7142857142857144,
           -0.5102040816326525,
           -0.3061224489795915,
           -0.1020408163265305,
           0.1020408163265305,
           0.3061224489795915,
           0.5102040816326534,
           0.7142857142857144,
           0.9183673469387754,
           1.1224489795918373,
           1.3265306122448983,
           1.5306122448979593,
           1.7346938775510203,
           1.9387755102040813,
           2.1428571428571432,
           2.3469387755102042,
           2.5510204081632653,
           2.755102040816327,
           2.959183673469388,
           3.163265306122449,
           3.36734693877551,
           3.571428571428571,
           3.775510204081632,
           3.979591836734695,
           4.183673469387756,
           4.387755102040817,
           4.591836734693878,
           4.795918367346939,
           5
          ],
          [
           -5,
           -4.795918367346939,
           -4.591836734693878,
           -4.387755102040816,
           -4.183673469387755,
           -3.979591836734694,
           -3.7755102040816326,
           -3.571428571428571,
           -3.36734693877551,
           -3.163265306122449,
           -2.9591836734693877,
           -2.7551020408163263,
           -2.5510204081632653,
           -2.3469387755102042,
           -2.142857142857143,
           -1.9387755102040813,
           -1.7346938775510203,
           -1.5306122448979593,
           -1.3265306122448979,
           -1.1224489795918364,
           -0.9183673469387754,
           -0.7142857142857144,
           -0.5102040816326525,
           -0.3061224489795915,
           -0.1020408163265305,
           0.1020408163265305,
           0.3061224489795915,
           0.5102040816326534,
           0.7142857142857144,
           0.9183673469387754,
           1.1224489795918373,
           1.3265306122448983,
           1.5306122448979593,
           1.7346938775510203,
           1.9387755102040813,
           2.1428571428571432,
           2.3469387755102042,
           2.5510204081632653,
           2.755102040816327,
           2.959183673469388,
           3.163265306122449,
           3.36734693877551,
           3.571428571428571,
           3.775510204081632,
           3.979591836734695,
           4.183673469387756,
           4.387755102040817,
           4.591836734693878,
           4.795918367346939,
           5
          ],
          [
           -5,
           -4.795918367346939,
           -4.591836734693878,
           -4.387755102040816,
           -4.183673469387755,
           -3.979591836734694,
           -3.7755102040816326,
           -3.571428571428571,
           -3.36734693877551,
           -3.163265306122449,
           -2.9591836734693877,
           -2.7551020408163263,
           -2.5510204081632653,
           -2.3469387755102042,
           -2.142857142857143,
           -1.9387755102040813,
           -1.7346938775510203,
           -1.5306122448979593,
           -1.3265306122448979,
           -1.1224489795918364,
           -0.9183673469387754,
           -0.7142857142857144,
           -0.5102040816326525,
           -0.3061224489795915,
           -0.1020408163265305,
           0.1020408163265305,
           0.3061224489795915,
           0.5102040816326534,
           0.7142857142857144,
           0.9183673469387754,
           1.1224489795918373,
           1.3265306122448983,
           1.5306122448979593,
           1.7346938775510203,
           1.9387755102040813,
           2.1428571428571432,
           2.3469387755102042,
           2.5510204081632653,
           2.755102040816327,
           2.959183673469388,
           3.163265306122449,
           3.36734693877551,
           3.571428571428571,
           3.775510204081632,
           3.979591836734695,
           4.183673469387756,
           4.387755102040817,
           4.591836734693878,
           4.795918367346939,
           5
          ],
          [
           -5,
           -4.795918367346939,
           -4.591836734693878,
           -4.387755102040816,
           -4.183673469387755,
           -3.979591836734694,
           -3.7755102040816326,
           -3.571428571428571,
           -3.36734693877551,
           -3.163265306122449,
           -2.9591836734693877,
           -2.7551020408163263,
           -2.5510204081632653,
           -2.3469387755102042,
           -2.142857142857143,
           -1.9387755102040813,
           -1.7346938775510203,
           -1.5306122448979593,
           -1.3265306122448979,
           -1.1224489795918364,
           -0.9183673469387754,
           -0.7142857142857144,
           -0.5102040816326525,
           -0.3061224489795915,
           -0.1020408163265305,
           0.1020408163265305,
           0.3061224489795915,
           0.5102040816326534,
           0.7142857142857144,
           0.9183673469387754,
           1.1224489795918373,
           1.3265306122448983,
           1.5306122448979593,
           1.7346938775510203,
           1.9387755102040813,
           2.1428571428571432,
           2.3469387755102042,
           2.5510204081632653,
           2.755102040816327,
           2.959183673469388,
           3.163265306122449,
           3.36734693877551,
           3.571428571428571,
           3.775510204081632,
           3.979591836734695,
           4.183673469387756,
           4.387755102040817,
           4.591836734693878,
           4.795918367346939,
           5
          ],
          [
           -5,
           -4.795918367346939,
           -4.591836734693878,
           -4.387755102040816,
           -4.183673469387755,
           -3.979591836734694,
           -3.7755102040816326,
           -3.571428571428571,
           -3.36734693877551,
           -3.163265306122449,
           -2.9591836734693877,
           -2.7551020408163263,
           -2.5510204081632653,
           -2.3469387755102042,
           -2.142857142857143,
           -1.9387755102040813,
           -1.7346938775510203,
           -1.5306122448979593,
           -1.3265306122448979,
           -1.1224489795918364,
           -0.9183673469387754,
           -0.7142857142857144,
           -0.5102040816326525,
           -0.3061224489795915,
           -0.1020408163265305,
           0.1020408163265305,
           0.3061224489795915,
           0.5102040816326534,
           0.7142857142857144,
           0.9183673469387754,
           1.1224489795918373,
           1.3265306122448983,
           1.5306122448979593,
           1.7346938775510203,
           1.9387755102040813,
           2.1428571428571432,
           2.3469387755102042,
           2.5510204081632653,
           2.755102040816327,
           2.959183673469388,
           3.163265306122449,
           3.36734693877551,
           3.571428571428571,
           3.775510204081632,
           3.979591836734695,
           4.183673469387756,
           4.387755102040817,
           4.591836734693878,
           4.795918367346939,
           5
          ],
          [
           -5,
           -4.795918367346939,
           -4.591836734693878,
           -4.387755102040816,
           -4.183673469387755,
           -3.979591836734694,
           -3.7755102040816326,
           -3.571428571428571,
           -3.36734693877551,
           -3.163265306122449,
           -2.9591836734693877,
           -2.7551020408163263,
           -2.5510204081632653,
           -2.3469387755102042,
           -2.142857142857143,
           -1.9387755102040813,
           -1.7346938775510203,
           -1.5306122448979593,
           -1.3265306122448979,
           -1.1224489795918364,
           -0.9183673469387754,
           -0.7142857142857144,
           -0.5102040816326525,
           -0.3061224489795915,
           -0.1020408163265305,
           0.1020408163265305,
           0.3061224489795915,
           0.5102040816326534,
           0.7142857142857144,
           0.9183673469387754,
           1.1224489795918373,
           1.3265306122448983,
           1.5306122448979593,
           1.7346938775510203,
           1.9387755102040813,
           2.1428571428571432,
           2.3469387755102042,
           2.5510204081632653,
           2.755102040816327,
           2.959183673469388,
           3.163265306122449,
           3.36734693877551,
           3.571428571428571,
           3.775510204081632,
           3.979591836734695,
           4.183673469387756,
           4.387755102040817,
           4.591836734693878,
           4.795918367346939,
           5
          ],
          [
           -5,
           -4.795918367346939,
           -4.591836734693878,
           -4.387755102040816,
           -4.183673469387755,
           -3.979591836734694,
           -3.7755102040816326,
           -3.571428571428571,
           -3.36734693877551,
           -3.163265306122449,
           -2.9591836734693877,
           -2.7551020408163263,
           -2.5510204081632653,
           -2.3469387755102042,
           -2.142857142857143,
           -1.9387755102040813,
           -1.7346938775510203,
           -1.5306122448979593,
           -1.3265306122448979,
           -1.1224489795918364,
           -0.9183673469387754,
           -0.7142857142857144,
           -0.5102040816326525,
           -0.3061224489795915,
           -0.1020408163265305,
           0.1020408163265305,
           0.3061224489795915,
           0.5102040816326534,
           0.7142857142857144,
           0.9183673469387754,
           1.1224489795918373,
           1.3265306122448983,
           1.5306122448979593,
           1.7346938775510203,
           1.9387755102040813,
           2.1428571428571432,
           2.3469387755102042,
           2.5510204081632653,
           2.755102040816327,
           2.959183673469388,
           3.163265306122449,
           3.36734693877551,
           3.571428571428571,
           3.775510204081632,
           3.979591836734695,
           4.183673469387756,
           4.387755102040817,
           4.591836734693878,
           4.795918367346939,
           5
          ],
          [
           -5,
           -4.795918367346939,
           -4.591836734693878,
           -4.387755102040816,
           -4.183673469387755,
           -3.979591836734694,
           -3.7755102040816326,
           -3.571428571428571,
           -3.36734693877551,
           -3.163265306122449,
           -2.9591836734693877,
           -2.7551020408163263,
           -2.5510204081632653,
           -2.3469387755102042,
           -2.142857142857143,
           -1.9387755102040813,
           -1.7346938775510203,
           -1.5306122448979593,
           -1.3265306122448979,
           -1.1224489795918364,
           -0.9183673469387754,
           -0.7142857142857144,
           -0.5102040816326525,
           -0.3061224489795915,
           -0.1020408163265305,
           0.1020408163265305,
           0.3061224489795915,
           0.5102040816326534,
           0.7142857142857144,
           0.9183673469387754,
           1.1224489795918373,
           1.3265306122448983,
           1.5306122448979593,
           1.7346938775510203,
           1.9387755102040813,
           2.1428571428571432,
           2.3469387755102042,
           2.5510204081632653,
           2.755102040816327,
           2.959183673469388,
           3.163265306122449,
           3.36734693877551,
           3.571428571428571,
           3.775510204081632,
           3.979591836734695,
           4.183673469387756,
           4.387755102040817,
           4.591836734693878,
           4.795918367346939,
           5
          ],
          [
           -5,
           -4.795918367346939,
           -4.591836734693878,
           -4.387755102040816,
           -4.183673469387755,
           -3.979591836734694,
           -3.7755102040816326,
           -3.571428571428571,
           -3.36734693877551,
           -3.163265306122449,
           -2.9591836734693877,
           -2.7551020408163263,
           -2.5510204081632653,
           -2.3469387755102042,
           -2.142857142857143,
           -1.9387755102040813,
           -1.7346938775510203,
           -1.5306122448979593,
           -1.3265306122448979,
           -1.1224489795918364,
           -0.9183673469387754,
           -0.7142857142857144,
           -0.5102040816326525,
           -0.3061224489795915,
           -0.1020408163265305,
           0.1020408163265305,
           0.3061224489795915,
           0.5102040816326534,
           0.7142857142857144,
           0.9183673469387754,
           1.1224489795918373,
           1.3265306122448983,
           1.5306122448979593,
           1.7346938775510203,
           1.9387755102040813,
           2.1428571428571432,
           2.3469387755102042,
           2.5510204081632653,
           2.755102040816327,
           2.959183673469388,
           3.163265306122449,
           3.36734693877551,
           3.571428571428571,
           3.775510204081632,
           3.979591836734695,
           4.183673469387756,
           4.387755102040817,
           4.591836734693878,
           4.795918367346939,
           5
          ],
          [
           -5,
           -4.795918367346939,
           -4.591836734693878,
           -4.387755102040816,
           -4.183673469387755,
           -3.979591836734694,
           -3.7755102040816326,
           -3.571428571428571,
           -3.36734693877551,
           -3.163265306122449,
           -2.9591836734693877,
           -2.7551020408163263,
           -2.5510204081632653,
           -2.3469387755102042,
           -2.142857142857143,
           -1.9387755102040813,
           -1.7346938775510203,
           -1.5306122448979593,
           -1.3265306122448979,
           -1.1224489795918364,
           -0.9183673469387754,
           -0.7142857142857144,
           -0.5102040816326525,
           -0.3061224489795915,
           -0.1020408163265305,
           0.1020408163265305,
           0.3061224489795915,
           0.5102040816326534,
           0.7142857142857144,
           0.9183673469387754,
           1.1224489795918373,
           1.3265306122448983,
           1.5306122448979593,
           1.7346938775510203,
           1.9387755102040813,
           2.1428571428571432,
           2.3469387755102042,
           2.5510204081632653,
           2.755102040816327,
           2.959183673469388,
           3.163265306122449,
           3.36734693877551,
           3.571428571428571,
           3.775510204081632,
           3.979591836734695,
           4.183673469387756,
           4.387755102040817,
           4.591836734693878,
           4.795918367346939,
           5
          ],
          [
           -5,
           -4.795918367346939,
           -4.591836734693878,
           -4.387755102040816,
           -4.183673469387755,
           -3.979591836734694,
           -3.7755102040816326,
           -3.571428571428571,
           -3.36734693877551,
           -3.163265306122449,
           -2.9591836734693877,
           -2.7551020408163263,
           -2.5510204081632653,
           -2.3469387755102042,
           -2.142857142857143,
           -1.9387755102040813,
           -1.7346938775510203,
           -1.5306122448979593,
           -1.3265306122448979,
           -1.1224489795918364,
           -0.9183673469387754,
           -0.7142857142857144,
           -0.5102040816326525,
           -0.3061224489795915,
           -0.1020408163265305,
           0.1020408163265305,
           0.3061224489795915,
           0.5102040816326534,
           0.7142857142857144,
           0.9183673469387754,
           1.1224489795918373,
           1.3265306122448983,
           1.5306122448979593,
           1.7346938775510203,
           1.9387755102040813,
           2.1428571428571432,
           2.3469387755102042,
           2.5510204081632653,
           2.755102040816327,
           2.959183673469388,
           3.163265306122449,
           3.36734693877551,
           3.571428571428571,
           3.775510204081632,
           3.979591836734695,
           4.183673469387756,
           4.387755102040817,
           4.591836734693878,
           4.795918367346939,
           5
          ],
          [
           -5,
           -4.795918367346939,
           -4.591836734693878,
           -4.387755102040816,
           -4.183673469387755,
           -3.979591836734694,
           -3.7755102040816326,
           -3.571428571428571,
           -3.36734693877551,
           -3.163265306122449,
           -2.9591836734693877,
           -2.7551020408163263,
           -2.5510204081632653,
           -2.3469387755102042,
           -2.142857142857143,
           -1.9387755102040813,
           -1.7346938775510203,
           -1.5306122448979593,
           -1.3265306122448979,
           -1.1224489795918364,
           -0.9183673469387754,
           -0.7142857142857144,
           -0.5102040816326525,
           -0.3061224489795915,
           -0.1020408163265305,
           0.1020408163265305,
           0.3061224489795915,
           0.5102040816326534,
           0.7142857142857144,
           0.9183673469387754,
           1.1224489795918373,
           1.3265306122448983,
           1.5306122448979593,
           1.7346938775510203,
           1.9387755102040813,
           2.1428571428571432,
           2.3469387755102042,
           2.5510204081632653,
           2.755102040816327,
           2.959183673469388,
           3.163265306122449,
           3.36734693877551,
           3.571428571428571,
           3.775510204081632,
           3.979591836734695,
           4.183673469387756,
           4.387755102040817,
           4.591836734693878,
           4.795918367346939,
           5
          ],
          [
           -5,
           -4.795918367346939,
           -4.591836734693878,
           -4.387755102040816,
           -4.183673469387755,
           -3.979591836734694,
           -3.7755102040816326,
           -3.571428571428571,
           -3.36734693877551,
           -3.163265306122449,
           -2.9591836734693877,
           -2.7551020408163263,
           -2.5510204081632653,
           -2.3469387755102042,
           -2.142857142857143,
           -1.9387755102040813,
           -1.7346938775510203,
           -1.5306122448979593,
           -1.3265306122448979,
           -1.1224489795918364,
           -0.9183673469387754,
           -0.7142857142857144,
           -0.5102040816326525,
           -0.3061224489795915,
           -0.1020408163265305,
           0.1020408163265305,
           0.3061224489795915,
           0.5102040816326534,
           0.7142857142857144,
           0.9183673469387754,
           1.1224489795918373,
           1.3265306122448983,
           1.5306122448979593,
           1.7346938775510203,
           1.9387755102040813,
           2.1428571428571432,
           2.3469387755102042,
           2.5510204081632653,
           2.755102040816327,
           2.959183673469388,
           3.163265306122449,
           3.36734693877551,
           3.571428571428571,
           3.775510204081632,
           3.979591836734695,
           4.183673469387756,
           4.387755102040817,
           4.591836734693878,
           4.795918367346939,
           5
          ],
          [
           -5,
           -4.795918367346939,
           -4.591836734693878,
           -4.387755102040816,
           -4.183673469387755,
           -3.979591836734694,
           -3.7755102040816326,
           -3.571428571428571,
           -3.36734693877551,
           -3.163265306122449,
           -2.9591836734693877,
           -2.7551020408163263,
           -2.5510204081632653,
           -2.3469387755102042,
           -2.142857142857143,
           -1.9387755102040813,
           -1.7346938775510203,
           -1.5306122448979593,
           -1.3265306122448979,
           -1.1224489795918364,
           -0.9183673469387754,
           -0.7142857142857144,
           -0.5102040816326525,
           -0.3061224489795915,
           -0.1020408163265305,
           0.1020408163265305,
           0.3061224489795915,
           0.5102040816326534,
           0.7142857142857144,
           0.9183673469387754,
           1.1224489795918373,
           1.3265306122448983,
           1.5306122448979593,
           1.7346938775510203,
           1.9387755102040813,
           2.1428571428571432,
           2.3469387755102042,
           2.5510204081632653,
           2.755102040816327,
           2.959183673469388,
           3.163265306122449,
           3.36734693877551,
           3.571428571428571,
           3.775510204081632,
           3.979591836734695,
           4.183673469387756,
           4.387755102040817,
           4.591836734693878,
           4.795918367346939,
           5
          ],
          [
           -5,
           -4.795918367346939,
           -4.591836734693878,
           -4.387755102040816,
           -4.183673469387755,
           -3.979591836734694,
           -3.7755102040816326,
           -3.571428571428571,
           -3.36734693877551,
           -3.163265306122449,
           -2.9591836734693877,
           -2.7551020408163263,
           -2.5510204081632653,
           -2.3469387755102042,
           -2.142857142857143,
           -1.9387755102040813,
           -1.7346938775510203,
           -1.5306122448979593,
           -1.3265306122448979,
           -1.1224489795918364,
           -0.9183673469387754,
           -0.7142857142857144,
           -0.5102040816326525,
           -0.3061224489795915,
           -0.1020408163265305,
           0.1020408163265305,
           0.3061224489795915,
           0.5102040816326534,
           0.7142857142857144,
           0.9183673469387754,
           1.1224489795918373,
           1.3265306122448983,
           1.5306122448979593,
           1.7346938775510203,
           1.9387755102040813,
           2.1428571428571432,
           2.3469387755102042,
           2.5510204081632653,
           2.755102040816327,
           2.959183673469388,
           3.163265306122449,
           3.36734693877551,
           3.571428571428571,
           3.775510204081632,
           3.979591836734695,
           4.183673469387756,
           4.387755102040817,
           4.591836734693878,
           4.795918367346939,
           5
          ],
          [
           -5,
           -4.795918367346939,
           -4.591836734693878,
           -4.387755102040816,
           -4.183673469387755,
           -3.979591836734694,
           -3.7755102040816326,
           -3.571428571428571,
           -3.36734693877551,
           -3.163265306122449,
           -2.9591836734693877,
           -2.7551020408163263,
           -2.5510204081632653,
           -2.3469387755102042,
           -2.142857142857143,
           -1.9387755102040813,
           -1.7346938775510203,
           -1.5306122448979593,
           -1.3265306122448979,
           -1.1224489795918364,
           -0.9183673469387754,
           -0.7142857142857144,
           -0.5102040816326525,
           -0.3061224489795915,
           -0.1020408163265305,
           0.1020408163265305,
           0.3061224489795915,
           0.5102040816326534,
           0.7142857142857144,
           0.9183673469387754,
           1.1224489795918373,
           1.3265306122448983,
           1.5306122448979593,
           1.7346938775510203,
           1.9387755102040813,
           2.1428571428571432,
           2.3469387755102042,
           2.5510204081632653,
           2.755102040816327,
           2.959183673469388,
           3.163265306122449,
           3.36734693877551,
           3.571428571428571,
           3.775510204081632,
           3.979591836734695,
           4.183673469387756,
           4.387755102040817,
           4.591836734693878,
           4.795918367346939,
           5
          ],
          [
           -5,
           -4.795918367346939,
           -4.591836734693878,
           -4.387755102040816,
           -4.183673469387755,
           -3.979591836734694,
           -3.7755102040816326,
           -3.571428571428571,
           -3.36734693877551,
           -3.163265306122449,
           -2.9591836734693877,
           -2.7551020408163263,
           -2.5510204081632653,
           -2.3469387755102042,
           -2.142857142857143,
           -1.9387755102040813,
           -1.7346938775510203,
           -1.5306122448979593,
           -1.3265306122448979,
           -1.1224489795918364,
           -0.9183673469387754,
           -0.7142857142857144,
           -0.5102040816326525,
           -0.3061224489795915,
           -0.1020408163265305,
           0.1020408163265305,
           0.3061224489795915,
           0.5102040816326534,
           0.7142857142857144,
           0.9183673469387754,
           1.1224489795918373,
           1.3265306122448983,
           1.5306122448979593,
           1.7346938775510203,
           1.9387755102040813,
           2.1428571428571432,
           2.3469387755102042,
           2.5510204081632653,
           2.755102040816327,
           2.959183673469388,
           3.163265306122449,
           3.36734693877551,
           3.571428571428571,
           3.775510204081632,
           3.979591836734695,
           4.183673469387756,
           4.387755102040817,
           4.591836734693878,
           4.795918367346939,
           5
          ],
          [
           -5,
           -4.795918367346939,
           -4.591836734693878,
           -4.387755102040816,
           -4.183673469387755,
           -3.979591836734694,
           -3.7755102040816326,
           -3.571428571428571,
           -3.36734693877551,
           -3.163265306122449,
           -2.9591836734693877,
           -2.7551020408163263,
           -2.5510204081632653,
           -2.3469387755102042,
           -2.142857142857143,
           -1.9387755102040813,
           -1.7346938775510203,
           -1.5306122448979593,
           -1.3265306122448979,
           -1.1224489795918364,
           -0.9183673469387754,
           -0.7142857142857144,
           -0.5102040816326525,
           -0.3061224489795915,
           -0.1020408163265305,
           0.1020408163265305,
           0.3061224489795915,
           0.5102040816326534,
           0.7142857142857144,
           0.9183673469387754,
           1.1224489795918373,
           1.3265306122448983,
           1.5306122448979593,
           1.7346938775510203,
           1.9387755102040813,
           2.1428571428571432,
           2.3469387755102042,
           2.5510204081632653,
           2.755102040816327,
           2.959183673469388,
           3.163265306122449,
           3.36734693877551,
           3.571428571428571,
           3.775510204081632,
           3.979591836734695,
           4.183673469387756,
           4.387755102040817,
           4.591836734693878,
           4.795918367346939,
           5
          ],
          [
           -5,
           -4.795918367346939,
           -4.591836734693878,
           -4.387755102040816,
           -4.183673469387755,
           -3.979591836734694,
           -3.7755102040816326,
           -3.571428571428571,
           -3.36734693877551,
           -3.163265306122449,
           -2.9591836734693877,
           -2.7551020408163263,
           -2.5510204081632653,
           -2.3469387755102042,
           -2.142857142857143,
           -1.9387755102040813,
           -1.7346938775510203,
           -1.5306122448979593,
           -1.3265306122448979,
           -1.1224489795918364,
           -0.9183673469387754,
           -0.7142857142857144,
           -0.5102040816326525,
           -0.3061224489795915,
           -0.1020408163265305,
           0.1020408163265305,
           0.3061224489795915,
           0.5102040816326534,
           0.7142857142857144,
           0.9183673469387754,
           1.1224489795918373,
           1.3265306122448983,
           1.5306122448979593,
           1.7346938775510203,
           1.9387755102040813,
           2.1428571428571432,
           2.3469387755102042,
           2.5510204081632653,
           2.755102040816327,
           2.959183673469388,
           3.163265306122449,
           3.36734693877551,
           3.571428571428571,
           3.775510204081632,
           3.979591836734695,
           4.183673469387756,
           4.387755102040817,
           4.591836734693878,
           4.795918367346939,
           5
          ],
          [
           -5,
           -4.795918367346939,
           -4.591836734693878,
           -4.387755102040816,
           -4.183673469387755,
           -3.979591836734694,
           -3.7755102040816326,
           -3.571428571428571,
           -3.36734693877551,
           -3.163265306122449,
           -2.9591836734693877,
           -2.7551020408163263,
           -2.5510204081632653,
           -2.3469387755102042,
           -2.142857142857143,
           -1.9387755102040813,
           -1.7346938775510203,
           -1.5306122448979593,
           -1.3265306122448979,
           -1.1224489795918364,
           -0.9183673469387754,
           -0.7142857142857144,
           -0.5102040816326525,
           -0.3061224489795915,
           -0.1020408163265305,
           0.1020408163265305,
           0.3061224489795915,
           0.5102040816326534,
           0.7142857142857144,
           0.9183673469387754,
           1.1224489795918373,
           1.3265306122448983,
           1.5306122448979593,
           1.7346938775510203,
           1.9387755102040813,
           2.1428571428571432,
           2.3469387755102042,
           2.5510204081632653,
           2.755102040816327,
           2.959183673469388,
           3.163265306122449,
           3.36734693877551,
           3.571428571428571,
           3.775510204081632,
           3.979591836734695,
           4.183673469387756,
           4.387755102040817,
           4.591836734693878,
           4.795918367346939,
           5
          ],
          [
           -5,
           -4.795918367346939,
           -4.591836734693878,
           -4.387755102040816,
           -4.183673469387755,
           -3.979591836734694,
           -3.7755102040816326,
           -3.571428571428571,
           -3.36734693877551,
           -3.163265306122449,
           -2.9591836734693877,
           -2.7551020408163263,
           -2.5510204081632653,
           -2.3469387755102042,
           -2.142857142857143,
           -1.9387755102040813,
           -1.7346938775510203,
           -1.5306122448979593,
           -1.3265306122448979,
           -1.1224489795918364,
           -0.9183673469387754,
           -0.7142857142857144,
           -0.5102040816326525,
           -0.3061224489795915,
           -0.1020408163265305,
           0.1020408163265305,
           0.3061224489795915,
           0.5102040816326534,
           0.7142857142857144,
           0.9183673469387754,
           1.1224489795918373,
           1.3265306122448983,
           1.5306122448979593,
           1.7346938775510203,
           1.9387755102040813,
           2.1428571428571432,
           2.3469387755102042,
           2.5510204081632653,
           2.755102040816327,
           2.959183673469388,
           3.163265306122449,
           3.36734693877551,
           3.571428571428571,
           3.775510204081632,
           3.979591836734695,
           4.183673469387756,
           4.387755102040817,
           4.591836734693878,
           4.795918367346939,
           5
          ],
          [
           -5,
           -4.795918367346939,
           -4.591836734693878,
           -4.387755102040816,
           -4.183673469387755,
           -3.979591836734694,
           -3.7755102040816326,
           -3.571428571428571,
           -3.36734693877551,
           -3.163265306122449,
           -2.9591836734693877,
           -2.7551020408163263,
           -2.5510204081632653,
           -2.3469387755102042,
           -2.142857142857143,
           -1.9387755102040813,
           -1.7346938775510203,
           -1.5306122448979593,
           -1.3265306122448979,
           -1.1224489795918364,
           -0.9183673469387754,
           -0.7142857142857144,
           -0.5102040816326525,
           -0.3061224489795915,
           -0.1020408163265305,
           0.1020408163265305,
           0.3061224489795915,
           0.5102040816326534,
           0.7142857142857144,
           0.9183673469387754,
           1.1224489795918373,
           1.3265306122448983,
           1.5306122448979593,
           1.7346938775510203,
           1.9387755102040813,
           2.1428571428571432,
           2.3469387755102042,
           2.5510204081632653,
           2.755102040816327,
           2.959183673469388,
           3.163265306122449,
           3.36734693877551,
           3.571428571428571,
           3.775510204081632,
           3.979591836734695,
           4.183673469387756,
           4.387755102040817,
           4.591836734693878,
           4.795918367346939,
           5
          ],
          [
           -5,
           -4.795918367346939,
           -4.591836734693878,
           -4.387755102040816,
           -4.183673469387755,
           -3.979591836734694,
           -3.7755102040816326,
           -3.571428571428571,
           -3.36734693877551,
           -3.163265306122449,
           -2.9591836734693877,
           -2.7551020408163263,
           -2.5510204081632653,
           -2.3469387755102042,
           -2.142857142857143,
           -1.9387755102040813,
           -1.7346938775510203,
           -1.5306122448979593,
           -1.3265306122448979,
           -1.1224489795918364,
           -0.9183673469387754,
           -0.7142857142857144,
           -0.5102040816326525,
           -0.3061224489795915,
           -0.1020408163265305,
           0.1020408163265305,
           0.3061224489795915,
           0.5102040816326534,
           0.7142857142857144,
           0.9183673469387754,
           1.1224489795918373,
           1.3265306122448983,
           1.5306122448979593,
           1.7346938775510203,
           1.9387755102040813,
           2.1428571428571432,
           2.3469387755102042,
           2.5510204081632653,
           2.755102040816327,
           2.959183673469388,
           3.163265306122449,
           3.36734693877551,
           3.571428571428571,
           3.775510204081632,
           3.979591836734695,
           4.183673469387756,
           4.387755102040817,
           4.591836734693878,
           4.795918367346939,
           5
          ],
          [
           -5,
           -4.795918367346939,
           -4.591836734693878,
           -4.387755102040816,
           -4.183673469387755,
           -3.979591836734694,
           -3.7755102040816326,
           -3.571428571428571,
           -3.36734693877551,
           -3.163265306122449,
           -2.9591836734693877,
           -2.7551020408163263,
           -2.5510204081632653,
           -2.3469387755102042,
           -2.142857142857143,
           -1.9387755102040813,
           -1.7346938775510203,
           -1.5306122448979593,
           -1.3265306122448979,
           -1.1224489795918364,
           -0.9183673469387754,
           -0.7142857142857144,
           -0.5102040816326525,
           -0.3061224489795915,
           -0.1020408163265305,
           0.1020408163265305,
           0.3061224489795915,
           0.5102040816326534,
           0.7142857142857144,
           0.9183673469387754,
           1.1224489795918373,
           1.3265306122448983,
           1.5306122448979593,
           1.7346938775510203,
           1.9387755102040813,
           2.1428571428571432,
           2.3469387755102042,
           2.5510204081632653,
           2.755102040816327,
           2.959183673469388,
           3.163265306122449,
           3.36734693877551,
           3.571428571428571,
           3.775510204081632,
           3.979591836734695,
           4.183673469387756,
           4.387755102040817,
           4.591836734693878,
           4.795918367346939,
           5
          ],
          [
           -5,
           -4.795918367346939,
           -4.591836734693878,
           -4.387755102040816,
           -4.183673469387755,
           -3.979591836734694,
           -3.7755102040816326,
           -3.571428571428571,
           -3.36734693877551,
           -3.163265306122449,
           -2.9591836734693877,
           -2.7551020408163263,
           -2.5510204081632653,
           -2.3469387755102042,
           -2.142857142857143,
           -1.9387755102040813,
           -1.7346938775510203,
           -1.5306122448979593,
           -1.3265306122448979,
           -1.1224489795918364,
           -0.9183673469387754,
           -0.7142857142857144,
           -0.5102040816326525,
           -0.3061224489795915,
           -0.1020408163265305,
           0.1020408163265305,
           0.3061224489795915,
           0.5102040816326534,
           0.7142857142857144,
           0.9183673469387754,
           1.1224489795918373,
           1.3265306122448983,
           1.5306122448979593,
           1.7346938775510203,
           1.9387755102040813,
           2.1428571428571432,
           2.3469387755102042,
           2.5510204081632653,
           2.755102040816327,
           2.959183673469388,
           3.163265306122449,
           3.36734693877551,
           3.571428571428571,
           3.775510204081632,
           3.979591836734695,
           4.183673469387756,
           4.387755102040817,
           4.591836734693878,
           4.795918367346939,
           5
          ],
          [
           -5,
           -4.795918367346939,
           -4.591836734693878,
           -4.387755102040816,
           -4.183673469387755,
           -3.979591836734694,
           -3.7755102040816326,
           -3.571428571428571,
           -3.36734693877551,
           -3.163265306122449,
           -2.9591836734693877,
           -2.7551020408163263,
           -2.5510204081632653,
           -2.3469387755102042,
           -2.142857142857143,
           -1.9387755102040813,
           -1.7346938775510203,
           -1.5306122448979593,
           -1.3265306122448979,
           -1.1224489795918364,
           -0.9183673469387754,
           -0.7142857142857144,
           -0.5102040816326525,
           -0.3061224489795915,
           -0.1020408163265305,
           0.1020408163265305,
           0.3061224489795915,
           0.5102040816326534,
           0.7142857142857144,
           0.9183673469387754,
           1.1224489795918373,
           1.3265306122448983,
           1.5306122448979593,
           1.7346938775510203,
           1.9387755102040813,
           2.1428571428571432,
           2.3469387755102042,
           2.5510204081632653,
           2.755102040816327,
           2.959183673469388,
           3.163265306122449,
           3.36734693877551,
           3.571428571428571,
           3.775510204081632,
           3.979591836734695,
           4.183673469387756,
           4.387755102040817,
           4.591836734693878,
           4.795918367346939,
           5
          ],
          [
           -5,
           -4.795918367346939,
           -4.591836734693878,
           -4.387755102040816,
           -4.183673469387755,
           -3.979591836734694,
           -3.7755102040816326,
           -3.571428571428571,
           -3.36734693877551,
           -3.163265306122449,
           -2.9591836734693877,
           -2.7551020408163263,
           -2.5510204081632653,
           -2.3469387755102042,
           -2.142857142857143,
           -1.9387755102040813,
           -1.7346938775510203,
           -1.5306122448979593,
           -1.3265306122448979,
           -1.1224489795918364,
           -0.9183673469387754,
           -0.7142857142857144,
           -0.5102040816326525,
           -0.3061224489795915,
           -0.1020408163265305,
           0.1020408163265305,
           0.3061224489795915,
           0.5102040816326534,
           0.7142857142857144,
           0.9183673469387754,
           1.1224489795918373,
           1.3265306122448983,
           1.5306122448979593,
           1.7346938775510203,
           1.9387755102040813,
           2.1428571428571432,
           2.3469387755102042,
           2.5510204081632653,
           2.755102040816327,
           2.959183673469388,
           3.163265306122449,
           3.36734693877551,
           3.571428571428571,
           3.775510204081632,
           3.979591836734695,
           4.183673469387756,
           4.387755102040817,
           4.591836734693878,
           4.795918367346939,
           5
          ],
          [
           -5,
           -4.795918367346939,
           -4.591836734693878,
           -4.387755102040816,
           -4.183673469387755,
           -3.979591836734694,
           -3.7755102040816326,
           -3.571428571428571,
           -3.36734693877551,
           -3.163265306122449,
           -2.9591836734693877,
           -2.7551020408163263,
           -2.5510204081632653,
           -2.3469387755102042,
           -2.142857142857143,
           -1.9387755102040813,
           -1.7346938775510203,
           -1.5306122448979593,
           -1.3265306122448979,
           -1.1224489795918364,
           -0.9183673469387754,
           -0.7142857142857144,
           -0.5102040816326525,
           -0.3061224489795915,
           -0.1020408163265305,
           0.1020408163265305,
           0.3061224489795915,
           0.5102040816326534,
           0.7142857142857144,
           0.9183673469387754,
           1.1224489795918373,
           1.3265306122448983,
           1.5306122448979593,
           1.7346938775510203,
           1.9387755102040813,
           2.1428571428571432,
           2.3469387755102042,
           2.5510204081632653,
           2.755102040816327,
           2.959183673469388,
           3.163265306122449,
           3.36734693877551,
           3.571428571428571,
           3.775510204081632,
           3.979591836734695,
           4.183673469387756,
           4.387755102040817,
           4.591836734693878,
           4.795918367346939,
           5
          ],
          [
           -5,
           -4.795918367346939,
           -4.591836734693878,
           -4.387755102040816,
           -4.183673469387755,
           -3.979591836734694,
           -3.7755102040816326,
           -3.571428571428571,
           -3.36734693877551,
           -3.163265306122449,
           -2.9591836734693877,
           -2.7551020408163263,
           -2.5510204081632653,
           -2.3469387755102042,
           -2.142857142857143,
           -1.9387755102040813,
           -1.7346938775510203,
           -1.5306122448979593,
           -1.3265306122448979,
           -1.1224489795918364,
           -0.9183673469387754,
           -0.7142857142857144,
           -0.5102040816326525,
           -0.3061224489795915,
           -0.1020408163265305,
           0.1020408163265305,
           0.3061224489795915,
           0.5102040816326534,
           0.7142857142857144,
           0.9183673469387754,
           1.1224489795918373,
           1.3265306122448983,
           1.5306122448979593,
           1.7346938775510203,
           1.9387755102040813,
           2.1428571428571432,
           2.3469387755102042,
           2.5510204081632653,
           2.755102040816327,
           2.959183673469388,
           3.163265306122449,
           3.36734693877551,
           3.571428571428571,
           3.775510204081632,
           3.979591836734695,
           4.183673469387756,
           4.387755102040817,
           4.591836734693878,
           4.795918367346939,
           5
          ],
          [
           -5,
           -4.795918367346939,
           -4.591836734693878,
           -4.387755102040816,
           -4.183673469387755,
           -3.979591836734694,
           -3.7755102040816326,
           -3.571428571428571,
           -3.36734693877551,
           -3.163265306122449,
           -2.9591836734693877,
           -2.7551020408163263,
           -2.5510204081632653,
           -2.3469387755102042,
           -2.142857142857143,
           -1.9387755102040813,
           -1.7346938775510203,
           -1.5306122448979593,
           -1.3265306122448979,
           -1.1224489795918364,
           -0.9183673469387754,
           -0.7142857142857144,
           -0.5102040816326525,
           -0.3061224489795915,
           -0.1020408163265305,
           0.1020408163265305,
           0.3061224489795915,
           0.5102040816326534,
           0.7142857142857144,
           0.9183673469387754,
           1.1224489795918373,
           1.3265306122448983,
           1.5306122448979593,
           1.7346938775510203,
           1.9387755102040813,
           2.1428571428571432,
           2.3469387755102042,
           2.5510204081632653,
           2.755102040816327,
           2.959183673469388,
           3.163265306122449,
           3.36734693877551,
           3.571428571428571,
           3.775510204081632,
           3.979591836734695,
           4.183673469387756,
           4.387755102040817,
           4.591836734693878,
           4.795918367346939,
           5
          ],
          [
           -5,
           -4.795918367346939,
           -4.591836734693878,
           -4.387755102040816,
           -4.183673469387755,
           -3.979591836734694,
           -3.7755102040816326,
           -3.571428571428571,
           -3.36734693877551,
           -3.163265306122449,
           -2.9591836734693877,
           -2.7551020408163263,
           -2.5510204081632653,
           -2.3469387755102042,
           -2.142857142857143,
           -1.9387755102040813,
           -1.7346938775510203,
           -1.5306122448979593,
           -1.3265306122448979,
           -1.1224489795918364,
           -0.9183673469387754,
           -0.7142857142857144,
           -0.5102040816326525,
           -0.3061224489795915,
           -0.1020408163265305,
           0.1020408163265305,
           0.3061224489795915,
           0.5102040816326534,
           0.7142857142857144,
           0.9183673469387754,
           1.1224489795918373,
           1.3265306122448983,
           1.5306122448979593,
           1.7346938775510203,
           1.9387755102040813,
           2.1428571428571432,
           2.3469387755102042,
           2.5510204081632653,
           2.755102040816327,
           2.959183673469388,
           3.163265306122449,
           3.36734693877551,
           3.571428571428571,
           3.775510204081632,
           3.979591836734695,
           4.183673469387756,
           4.387755102040817,
           4.591836734693878,
           4.795918367346939,
           5
          ],
          [
           -5,
           -4.795918367346939,
           -4.591836734693878,
           -4.387755102040816,
           -4.183673469387755,
           -3.979591836734694,
           -3.7755102040816326,
           -3.571428571428571,
           -3.36734693877551,
           -3.163265306122449,
           -2.9591836734693877,
           -2.7551020408163263,
           -2.5510204081632653,
           -2.3469387755102042,
           -2.142857142857143,
           -1.9387755102040813,
           -1.7346938775510203,
           -1.5306122448979593,
           -1.3265306122448979,
           -1.1224489795918364,
           -0.9183673469387754,
           -0.7142857142857144,
           -0.5102040816326525,
           -0.3061224489795915,
           -0.1020408163265305,
           0.1020408163265305,
           0.3061224489795915,
           0.5102040816326534,
           0.7142857142857144,
           0.9183673469387754,
           1.1224489795918373,
           1.3265306122448983,
           1.5306122448979593,
           1.7346938775510203,
           1.9387755102040813,
           2.1428571428571432,
           2.3469387755102042,
           2.5510204081632653,
           2.755102040816327,
           2.959183673469388,
           3.163265306122449,
           3.36734693877551,
           3.571428571428571,
           3.775510204081632,
           3.979591836734695,
           4.183673469387756,
           4.387755102040817,
           4.591836734693878,
           4.795918367346939,
           5
          ],
          [
           -5,
           -4.795918367346939,
           -4.591836734693878,
           -4.387755102040816,
           -4.183673469387755,
           -3.979591836734694,
           -3.7755102040816326,
           -3.571428571428571,
           -3.36734693877551,
           -3.163265306122449,
           -2.9591836734693877,
           -2.7551020408163263,
           -2.5510204081632653,
           -2.3469387755102042,
           -2.142857142857143,
           -1.9387755102040813,
           -1.7346938775510203,
           -1.5306122448979593,
           -1.3265306122448979,
           -1.1224489795918364,
           -0.9183673469387754,
           -0.7142857142857144,
           -0.5102040816326525,
           -0.3061224489795915,
           -0.1020408163265305,
           0.1020408163265305,
           0.3061224489795915,
           0.5102040816326534,
           0.7142857142857144,
           0.9183673469387754,
           1.1224489795918373,
           1.3265306122448983,
           1.5306122448979593,
           1.7346938775510203,
           1.9387755102040813,
           2.1428571428571432,
           2.3469387755102042,
           2.5510204081632653,
           2.755102040816327,
           2.959183673469388,
           3.163265306122449,
           3.36734693877551,
           3.571428571428571,
           3.775510204081632,
           3.979591836734695,
           4.183673469387756,
           4.387755102040817,
           4.591836734693878,
           4.795918367346939,
           5
          ],
          [
           -5,
           -4.795918367346939,
           -4.591836734693878,
           -4.387755102040816,
           -4.183673469387755,
           -3.979591836734694,
           -3.7755102040816326,
           -3.571428571428571,
           -3.36734693877551,
           -3.163265306122449,
           -2.9591836734693877,
           -2.7551020408163263,
           -2.5510204081632653,
           -2.3469387755102042,
           -2.142857142857143,
           -1.9387755102040813,
           -1.7346938775510203,
           -1.5306122448979593,
           -1.3265306122448979,
           -1.1224489795918364,
           -0.9183673469387754,
           -0.7142857142857144,
           -0.5102040816326525,
           -0.3061224489795915,
           -0.1020408163265305,
           0.1020408163265305,
           0.3061224489795915,
           0.5102040816326534,
           0.7142857142857144,
           0.9183673469387754,
           1.1224489795918373,
           1.3265306122448983,
           1.5306122448979593,
           1.7346938775510203,
           1.9387755102040813,
           2.1428571428571432,
           2.3469387755102042,
           2.5510204081632653,
           2.755102040816327,
           2.959183673469388,
           3.163265306122449,
           3.36734693877551,
           3.571428571428571,
           3.775510204081632,
           3.979591836734695,
           4.183673469387756,
           4.387755102040817,
           4.591836734693878,
           4.795918367346939,
           5
          ],
          [
           -5,
           -4.795918367346939,
           -4.591836734693878,
           -4.387755102040816,
           -4.183673469387755,
           -3.979591836734694,
           -3.7755102040816326,
           -3.571428571428571,
           -3.36734693877551,
           -3.163265306122449,
           -2.9591836734693877,
           -2.7551020408163263,
           -2.5510204081632653,
           -2.3469387755102042,
           -2.142857142857143,
           -1.9387755102040813,
           -1.7346938775510203,
           -1.5306122448979593,
           -1.3265306122448979,
           -1.1224489795918364,
           -0.9183673469387754,
           -0.7142857142857144,
           -0.5102040816326525,
           -0.3061224489795915,
           -0.1020408163265305,
           0.1020408163265305,
           0.3061224489795915,
           0.5102040816326534,
           0.7142857142857144,
           0.9183673469387754,
           1.1224489795918373,
           1.3265306122448983,
           1.5306122448979593,
           1.7346938775510203,
           1.9387755102040813,
           2.1428571428571432,
           2.3469387755102042,
           2.5510204081632653,
           2.755102040816327,
           2.959183673469388,
           3.163265306122449,
           3.36734693877551,
           3.571428571428571,
           3.775510204081632,
           3.979591836734695,
           4.183673469387756,
           4.387755102040817,
           4.591836734693878,
           4.795918367346939,
           5
          ],
          [
           -5,
           -4.795918367346939,
           -4.591836734693878,
           -4.387755102040816,
           -4.183673469387755,
           -3.979591836734694,
           -3.7755102040816326,
           -3.571428571428571,
           -3.36734693877551,
           -3.163265306122449,
           -2.9591836734693877,
           -2.7551020408163263,
           -2.5510204081632653,
           -2.3469387755102042,
           -2.142857142857143,
           -1.9387755102040813,
           -1.7346938775510203,
           -1.5306122448979593,
           -1.3265306122448979,
           -1.1224489795918364,
           -0.9183673469387754,
           -0.7142857142857144,
           -0.5102040816326525,
           -0.3061224489795915,
           -0.1020408163265305,
           0.1020408163265305,
           0.3061224489795915,
           0.5102040816326534,
           0.7142857142857144,
           0.9183673469387754,
           1.1224489795918373,
           1.3265306122448983,
           1.5306122448979593,
           1.7346938775510203,
           1.9387755102040813,
           2.1428571428571432,
           2.3469387755102042,
           2.5510204081632653,
           2.755102040816327,
           2.959183673469388,
           3.163265306122449,
           3.36734693877551,
           3.571428571428571,
           3.775510204081632,
           3.979591836734695,
           4.183673469387756,
           4.387755102040817,
           4.591836734693878,
           4.795918367346939,
           5
          ],
          [
           -5,
           -4.795918367346939,
           -4.591836734693878,
           -4.387755102040816,
           -4.183673469387755,
           -3.979591836734694,
           -3.7755102040816326,
           -3.571428571428571,
           -3.36734693877551,
           -3.163265306122449,
           -2.9591836734693877,
           -2.7551020408163263,
           -2.5510204081632653,
           -2.3469387755102042,
           -2.142857142857143,
           -1.9387755102040813,
           -1.7346938775510203,
           -1.5306122448979593,
           -1.3265306122448979,
           -1.1224489795918364,
           -0.9183673469387754,
           -0.7142857142857144,
           -0.5102040816326525,
           -0.3061224489795915,
           -0.1020408163265305,
           0.1020408163265305,
           0.3061224489795915,
           0.5102040816326534,
           0.7142857142857144,
           0.9183673469387754,
           1.1224489795918373,
           1.3265306122448983,
           1.5306122448979593,
           1.7346938775510203,
           1.9387755102040813,
           2.1428571428571432,
           2.3469387755102042,
           2.5510204081632653,
           2.755102040816327,
           2.959183673469388,
           3.163265306122449,
           3.36734693877551,
           3.571428571428571,
           3.775510204081632,
           3.979591836734695,
           4.183673469387756,
           4.387755102040817,
           4.591836734693878,
           4.795918367346939,
           5
          ],
          [
           -5,
           -4.795918367346939,
           -4.591836734693878,
           -4.387755102040816,
           -4.183673469387755,
           -3.979591836734694,
           -3.7755102040816326,
           -3.571428571428571,
           -3.36734693877551,
           -3.163265306122449,
           -2.9591836734693877,
           -2.7551020408163263,
           -2.5510204081632653,
           -2.3469387755102042,
           -2.142857142857143,
           -1.9387755102040813,
           -1.7346938775510203,
           -1.5306122448979593,
           -1.3265306122448979,
           -1.1224489795918364,
           -0.9183673469387754,
           -0.7142857142857144,
           -0.5102040816326525,
           -0.3061224489795915,
           -0.1020408163265305,
           0.1020408163265305,
           0.3061224489795915,
           0.5102040816326534,
           0.7142857142857144,
           0.9183673469387754,
           1.1224489795918373,
           1.3265306122448983,
           1.5306122448979593,
           1.7346938775510203,
           1.9387755102040813,
           2.1428571428571432,
           2.3469387755102042,
           2.5510204081632653,
           2.755102040816327,
           2.959183673469388,
           3.163265306122449,
           3.36734693877551,
           3.571428571428571,
           3.775510204081632,
           3.979591836734695,
           4.183673469387756,
           4.387755102040817,
           4.591836734693878,
           4.795918367346939,
           5
          ],
          [
           -5,
           -4.795918367346939,
           -4.591836734693878,
           -4.387755102040816,
           -4.183673469387755,
           -3.979591836734694,
           -3.7755102040816326,
           -3.571428571428571,
           -3.36734693877551,
           -3.163265306122449,
           -2.9591836734693877,
           -2.7551020408163263,
           -2.5510204081632653,
           -2.3469387755102042,
           -2.142857142857143,
           -1.9387755102040813,
           -1.7346938775510203,
           -1.5306122448979593,
           -1.3265306122448979,
           -1.1224489795918364,
           -0.9183673469387754,
           -0.7142857142857144,
           -0.5102040816326525,
           -0.3061224489795915,
           -0.1020408163265305,
           0.1020408163265305,
           0.3061224489795915,
           0.5102040816326534,
           0.7142857142857144,
           0.9183673469387754,
           1.1224489795918373,
           1.3265306122448983,
           1.5306122448979593,
           1.7346938775510203,
           1.9387755102040813,
           2.1428571428571432,
           2.3469387755102042,
           2.5510204081632653,
           2.755102040816327,
           2.959183673469388,
           3.163265306122449,
           3.36734693877551,
           3.571428571428571,
           3.775510204081632,
           3.979591836734695,
           4.183673469387756,
           4.387755102040817,
           4.591836734693878,
           4.795918367346939,
           5
          ],
          [
           -5,
           -4.795918367346939,
           -4.591836734693878,
           -4.387755102040816,
           -4.183673469387755,
           -3.979591836734694,
           -3.7755102040816326,
           -3.571428571428571,
           -3.36734693877551,
           -3.163265306122449,
           -2.9591836734693877,
           -2.7551020408163263,
           -2.5510204081632653,
           -2.3469387755102042,
           -2.142857142857143,
           -1.9387755102040813,
           -1.7346938775510203,
           -1.5306122448979593,
           -1.3265306122448979,
           -1.1224489795918364,
           -0.9183673469387754,
           -0.7142857142857144,
           -0.5102040816326525,
           -0.3061224489795915,
           -0.1020408163265305,
           0.1020408163265305,
           0.3061224489795915,
           0.5102040816326534,
           0.7142857142857144,
           0.9183673469387754,
           1.1224489795918373,
           1.3265306122448983,
           1.5306122448979593,
           1.7346938775510203,
           1.9387755102040813,
           2.1428571428571432,
           2.3469387755102042,
           2.5510204081632653,
           2.755102040816327,
           2.959183673469388,
           3.163265306122449,
           3.36734693877551,
           3.571428571428571,
           3.775510204081632,
           3.979591836734695,
           4.183673469387756,
           4.387755102040817,
           4.591836734693878,
           4.795918367346939,
           5
          ],
          [
           -5,
           -4.795918367346939,
           -4.591836734693878,
           -4.387755102040816,
           -4.183673469387755,
           -3.979591836734694,
           -3.7755102040816326,
           -3.571428571428571,
           -3.36734693877551,
           -3.163265306122449,
           -2.9591836734693877,
           -2.7551020408163263,
           -2.5510204081632653,
           -2.3469387755102042,
           -2.142857142857143,
           -1.9387755102040813,
           -1.7346938775510203,
           -1.5306122448979593,
           -1.3265306122448979,
           -1.1224489795918364,
           -0.9183673469387754,
           -0.7142857142857144,
           -0.5102040816326525,
           -0.3061224489795915,
           -0.1020408163265305,
           0.1020408163265305,
           0.3061224489795915,
           0.5102040816326534,
           0.7142857142857144,
           0.9183673469387754,
           1.1224489795918373,
           1.3265306122448983,
           1.5306122448979593,
           1.7346938775510203,
           1.9387755102040813,
           2.1428571428571432,
           2.3469387755102042,
           2.5510204081632653,
           2.755102040816327,
           2.959183673469388,
           3.163265306122449,
           3.36734693877551,
           3.571428571428571,
           3.775510204081632,
           3.979591836734695,
           4.183673469387756,
           4.387755102040817,
           4.591836734693878,
           4.795918367346939,
           5
          ],
          [
           -5,
           -4.795918367346939,
           -4.591836734693878,
           -4.387755102040816,
           -4.183673469387755,
           -3.979591836734694,
           -3.7755102040816326,
           -3.571428571428571,
           -3.36734693877551,
           -3.163265306122449,
           -2.9591836734693877,
           -2.7551020408163263,
           -2.5510204081632653,
           -2.3469387755102042,
           -2.142857142857143,
           -1.9387755102040813,
           -1.7346938775510203,
           -1.5306122448979593,
           -1.3265306122448979,
           -1.1224489795918364,
           -0.9183673469387754,
           -0.7142857142857144,
           -0.5102040816326525,
           -0.3061224489795915,
           -0.1020408163265305,
           0.1020408163265305,
           0.3061224489795915,
           0.5102040816326534,
           0.7142857142857144,
           0.9183673469387754,
           1.1224489795918373,
           1.3265306122448983,
           1.5306122448979593,
           1.7346938775510203,
           1.9387755102040813,
           2.1428571428571432,
           2.3469387755102042,
           2.5510204081632653,
           2.755102040816327,
           2.959183673469388,
           3.163265306122449,
           3.36734693877551,
           3.571428571428571,
           3.775510204081632,
           3.979591836734695,
           4.183673469387756,
           4.387755102040817,
           4.591836734693878,
           4.795918367346939,
           5
          ],
          [
           -5,
           -4.795918367346939,
           -4.591836734693878,
           -4.387755102040816,
           -4.183673469387755,
           -3.979591836734694,
           -3.7755102040816326,
           -3.571428571428571,
           -3.36734693877551,
           -3.163265306122449,
           -2.9591836734693877,
           -2.7551020408163263,
           -2.5510204081632653,
           -2.3469387755102042,
           -2.142857142857143,
           -1.9387755102040813,
           -1.7346938775510203,
           -1.5306122448979593,
           -1.3265306122448979,
           -1.1224489795918364,
           -0.9183673469387754,
           -0.7142857142857144,
           -0.5102040816326525,
           -0.3061224489795915,
           -0.1020408163265305,
           0.1020408163265305,
           0.3061224489795915,
           0.5102040816326534,
           0.7142857142857144,
           0.9183673469387754,
           1.1224489795918373,
           1.3265306122448983,
           1.5306122448979593,
           1.7346938775510203,
           1.9387755102040813,
           2.1428571428571432,
           2.3469387755102042,
           2.5510204081632653,
           2.755102040816327,
           2.959183673469388,
           3.163265306122449,
           3.36734693877551,
           3.571428571428571,
           3.775510204081632,
           3.979591836734695,
           4.183673469387756,
           4.387755102040817,
           4.591836734693878,
           4.795918367346939,
           5
          ],
          [
           -5,
           -4.795918367346939,
           -4.591836734693878,
           -4.387755102040816,
           -4.183673469387755,
           -3.979591836734694,
           -3.7755102040816326,
           -3.571428571428571,
           -3.36734693877551,
           -3.163265306122449,
           -2.9591836734693877,
           -2.7551020408163263,
           -2.5510204081632653,
           -2.3469387755102042,
           -2.142857142857143,
           -1.9387755102040813,
           -1.7346938775510203,
           -1.5306122448979593,
           -1.3265306122448979,
           -1.1224489795918364,
           -0.9183673469387754,
           -0.7142857142857144,
           -0.5102040816326525,
           -0.3061224489795915,
           -0.1020408163265305,
           0.1020408163265305,
           0.3061224489795915,
           0.5102040816326534,
           0.7142857142857144,
           0.9183673469387754,
           1.1224489795918373,
           1.3265306122448983,
           1.5306122448979593,
           1.7346938775510203,
           1.9387755102040813,
           2.1428571428571432,
           2.3469387755102042,
           2.5510204081632653,
           2.755102040816327,
           2.959183673469388,
           3.163265306122449,
           3.36734693877551,
           3.571428571428571,
           3.775510204081632,
           3.979591836734695,
           4.183673469387756,
           4.387755102040817,
           4.591836734693878,
           4.795918367346939,
           5
          ],
          [
           -5,
           -4.795918367346939,
           -4.591836734693878,
           -4.387755102040816,
           -4.183673469387755,
           -3.979591836734694,
           -3.7755102040816326,
           -3.571428571428571,
           -3.36734693877551,
           -3.163265306122449,
           -2.9591836734693877,
           -2.7551020408163263,
           -2.5510204081632653,
           -2.3469387755102042,
           -2.142857142857143,
           -1.9387755102040813,
           -1.7346938775510203,
           -1.5306122448979593,
           -1.3265306122448979,
           -1.1224489795918364,
           -0.9183673469387754,
           -0.7142857142857144,
           -0.5102040816326525,
           -0.3061224489795915,
           -0.1020408163265305,
           0.1020408163265305,
           0.3061224489795915,
           0.5102040816326534,
           0.7142857142857144,
           0.9183673469387754,
           1.1224489795918373,
           1.3265306122448983,
           1.5306122448979593,
           1.7346938775510203,
           1.9387755102040813,
           2.1428571428571432,
           2.3469387755102042,
           2.5510204081632653,
           2.755102040816327,
           2.959183673469388,
           3.163265306122449,
           3.36734693877551,
           3.571428571428571,
           3.775510204081632,
           3.979591836734695,
           4.183673469387756,
           4.387755102040817,
           4.591836734693878,
           4.795918367346939,
           5
          ],
          [
           -5,
           -4.795918367346939,
           -4.591836734693878,
           -4.387755102040816,
           -4.183673469387755,
           -3.979591836734694,
           -3.7755102040816326,
           -3.571428571428571,
           -3.36734693877551,
           -3.163265306122449,
           -2.9591836734693877,
           -2.7551020408163263,
           -2.5510204081632653,
           -2.3469387755102042,
           -2.142857142857143,
           -1.9387755102040813,
           -1.7346938775510203,
           -1.5306122448979593,
           -1.3265306122448979,
           -1.1224489795918364,
           -0.9183673469387754,
           -0.7142857142857144,
           -0.5102040816326525,
           -0.3061224489795915,
           -0.1020408163265305,
           0.1020408163265305,
           0.3061224489795915,
           0.5102040816326534,
           0.7142857142857144,
           0.9183673469387754,
           1.1224489795918373,
           1.3265306122448983,
           1.5306122448979593,
           1.7346938775510203,
           1.9387755102040813,
           2.1428571428571432,
           2.3469387755102042,
           2.5510204081632653,
           2.755102040816327,
           2.959183673469388,
           3.163265306122449,
           3.36734693877551,
           3.571428571428571,
           3.775510204081632,
           3.979591836734695,
           4.183673469387756,
           4.387755102040817,
           4.591836734693878,
           4.795918367346939,
           5
          ],
          [
           -5,
           -4.795918367346939,
           -4.591836734693878,
           -4.387755102040816,
           -4.183673469387755,
           -3.979591836734694,
           -3.7755102040816326,
           -3.571428571428571,
           -3.36734693877551,
           -3.163265306122449,
           -2.9591836734693877,
           -2.7551020408163263,
           -2.5510204081632653,
           -2.3469387755102042,
           -2.142857142857143,
           -1.9387755102040813,
           -1.7346938775510203,
           -1.5306122448979593,
           -1.3265306122448979,
           -1.1224489795918364,
           -0.9183673469387754,
           -0.7142857142857144,
           -0.5102040816326525,
           -0.3061224489795915,
           -0.1020408163265305,
           0.1020408163265305,
           0.3061224489795915,
           0.5102040816326534,
           0.7142857142857144,
           0.9183673469387754,
           1.1224489795918373,
           1.3265306122448983,
           1.5306122448979593,
           1.7346938775510203,
           1.9387755102040813,
           2.1428571428571432,
           2.3469387755102042,
           2.5510204081632653,
           2.755102040816327,
           2.959183673469388,
           3.163265306122449,
           3.36734693877551,
           3.571428571428571,
           3.775510204081632,
           3.979591836734695,
           4.183673469387756,
           4.387755102040817,
           4.591836734693878,
           4.795918367346939,
           5
          ]
         ],
         "y": [
          [
           -5,
           -5,
           -5,
           -5,
           -5,
           -5,
           -5,
           -5,
           -5,
           -5,
           -5,
           -5,
           -5,
           -5,
           -5,
           -5,
           -5,
           -5,
           -5,
           -5,
           -5,
           -5,
           -5,
           -5,
           -5,
           -5,
           -5,
           -5,
           -5,
           -5,
           -5,
           -5,
           -5,
           -5,
           -5,
           -5,
           -5,
           -5,
           -5,
           -5,
           -5,
           -5,
           -5,
           -5,
           -5,
           -5,
           -5,
           -5,
           -5,
           -5
          ],
          [
           -4.795918367346939,
           -4.795918367346939,
           -4.795918367346939,
           -4.795918367346939,
           -4.795918367346939,
           -4.795918367346939,
           -4.795918367346939,
           -4.795918367346939,
           -4.795918367346939,
           -4.795918367346939,
           -4.795918367346939,
           -4.795918367346939,
           -4.795918367346939,
           -4.795918367346939,
           -4.795918367346939,
           -4.795918367346939,
           -4.795918367346939,
           -4.795918367346939,
           -4.795918367346939,
           -4.795918367346939,
           -4.795918367346939,
           -4.795918367346939,
           -4.795918367346939,
           -4.795918367346939,
           -4.795918367346939,
           -4.795918367346939,
           -4.795918367346939,
           -4.795918367346939,
           -4.795918367346939,
           -4.795918367346939,
           -4.795918367346939,
           -4.795918367346939,
           -4.795918367346939,
           -4.795918367346939,
           -4.795918367346939,
           -4.795918367346939,
           -4.795918367346939,
           -4.795918367346939,
           -4.795918367346939,
           -4.795918367346939,
           -4.795918367346939,
           -4.795918367346939,
           -4.795918367346939,
           -4.795918367346939,
           -4.795918367346939,
           -4.795918367346939,
           -4.795918367346939,
           -4.795918367346939,
           -4.795918367346939,
           -4.795918367346939
          ],
          [
           -4.591836734693878,
           -4.591836734693878,
           -4.591836734693878,
           -4.591836734693878,
           -4.591836734693878,
           -4.591836734693878,
           -4.591836734693878,
           -4.591836734693878,
           -4.591836734693878,
           -4.591836734693878,
           -4.591836734693878,
           -4.591836734693878,
           -4.591836734693878,
           -4.591836734693878,
           -4.591836734693878,
           -4.591836734693878,
           -4.591836734693878,
           -4.591836734693878,
           -4.591836734693878,
           -4.591836734693878,
           -4.591836734693878,
           -4.591836734693878,
           -4.591836734693878,
           -4.591836734693878,
           -4.591836734693878,
           -4.591836734693878,
           -4.591836734693878,
           -4.591836734693878,
           -4.591836734693878,
           -4.591836734693878,
           -4.591836734693878,
           -4.591836734693878,
           -4.591836734693878,
           -4.591836734693878,
           -4.591836734693878,
           -4.591836734693878,
           -4.591836734693878,
           -4.591836734693878,
           -4.591836734693878,
           -4.591836734693878,
           -4.591836734693878,
           -4.591836734693878,
           -4.591836734693878,
           -4.591836734693878,
           -4.591836734693878,
           -4.591836734693878,
           -4.591836734693878,
           -4.591836734693878,
           -4.591836734693878,
           -4.591836734693878
          ],
          [
           -4.387755102040816,
           -4.387755102040816,
           -4.387755102040816,
           -4.387755102040816,
           -4.387755102040816,
           -4.387755102040816,
           -4.387755102040816,
           -4.387755102040816,
           -4.387755102040816,
           -4.387755102040816,
           -4.387755102040816,
           -4.387755102040816,
           -4.387755102040816,
           -4.387755102040816,
           -4.387755102040816,
           -4.387755102040816,
           -4.387755102040816,
           -4.387755102040816,
           -4.387755102040816,
           -4.387755102040816,
           -4.387755102040816,
           -4.387755102040816,
           -4.387755102040816,
           -4.387755102040816,
           -4.387755102040816,
           -4.387755102040816,
           -4.387755102040816,
           -4.387755102040816,
           -4.387755102040816,
           -4.387755102040816,
           -4.387755102040816,
           -4.387755102040816,
           -4.387755102040816,
           -4.387755102040816,
           -4.387755102040816,
           -4.387755102040816,
           -4.387755102040816,
           -4.387755102040816,
           -4.387755102040816,
           -4.387755102040816,
           -4.387755102040816,
           -4.387755102040816,
           -4.387755102040816,
           -4.387755102040816,
           -4.387755102040816,
           -4.387755102040816,
           -4.387755102040816,
           -4.387755102040816,
           -4.387755102040816,
           -4.387755102040816
          ],
          [
           -4.183673469387755,
           -4.183673469387755,
           -4.183673469387755,
           -4.183673469387755,
           -4.183673469387755,
           -4.183673469387755,
           -4.183673469387755,
           -4.183673469387755,
           -4.183673469387755,
           -4.183673469387755,
           -4.183673469387755,
           -4.183673469387755,
           -4.183673469387755,
           -4.183673469387755,
           -4.183673469387755,
           -4.183673469387755,
           -4.183673469387755,
           -4.183673469387755,
           -4.183673469387755,
           -4.183673469387755,
           -4.183673469387755,
           -4.183673469387755,
           -4.183673469387755,
           -4.183673469387755,
           -4.183673469387755,
           -4.183673469387755,
           -4.183673469387755,
           -4.183673469387755,
           -4.183673469387755,
           -4.183673469387755,
           -4.183673469387755,
           -4.183673469387755,
           -4.183673469387755,
           -4.183673469387755,
           -4.183673469387755,
           -4.183673469387755,
           -4.183673469387755,
           -4.183673469387755,
           -4.183673469387755,
           -4.183673469387755,
           -4.183673469387755,
           -4.183673469387755,
           -4.183673469387755,
           -4.183673469387755,
           -4.183673469387755,
           -4.183673469387755,
           -4.183673469387755,
           -4.183673469387755,
           -4.183673469387755,
           -4.183673469387755
          ],
          [
           -3.979591836734694,
           -3.979591836734694,
           -3.979591836734694,
           -3.979591836734694,
           -3.979591836734694,
           -3.979591836734694,
           -3.979591836734694,
           -3.979591836734694,
           -3.979591836734694,
           -3.979591836734694,
           -3.979591836734694,
           -3.979591836734694,
           -3.979591836734694,
           -3.979591836734694,
           -3.979591836734694,
           -3.979591836734694,
           -3.979591836734694,
           -3.979591836734694,
           -3.979591836734694,
           -3.979591836734694,
           -3.979591836734694,
           -3.979591836734694,
           -3.979591836734694,
           -3.979591836734694,
           -3.979591836734694,
           -3.979591836734694,
           -3.979591836734694,
           -3.979591836734694,
           -3.979591836734694,
           -3.979591836734694,
           -3.979591836734694,
           -3.979591836734694,
           -3.979591836734694,
           -3.979591836734694,
           -3.979591836734694,
           -3.979591836734694,
           -3.979591836734694,
           -3.979591836734694,
           -3.979591836734694,
           -3.979591836734694,
           -3.979591836734694,
           -3.979591836734694,
           -3.979591836734694,
           -3.979591836734694,
           -3.979591836734694,
           -3.979591836734694,
           -3.979591836734694,
           -3.979591836734694,
           -3.979591836734694,
           -3.979591836734694
          ],
          [
           -3.7755102040816326,
           -3.7755102040816326,
           -3.7755102040816326,
           -3.7755102040816326,
           -3.7755102040816326,
           -3.7755102040816326,
           -3.7755102040816326,
           -3.7755102040816326,
           -3.7755102040816326,
           -3.7755102040816326,
           -3.7755102040816326,
           -3.7755102040816326,
           -3.7755102040816326,
           -3.7755102040816326,
           -3.7755102040816326,
           -3.7755102040816326,
           -3.7755102040816326,
           -3.7755102040816326,
           -3.7755102040816326,
           -3.7755102040816326,
           -3.7755102040816326,
           -3.7755102040816326,
           -3.7755102040816326,
           -3.7755102040816326,
           -3.7755102040816326,
           -3.7755102040816326,
           -3.7755102040816326,
           -3.7755102040816326,
           -3.7755102040816326,
           -3.7755102040816326,
           -3.7755102040816326,
           -3.7755102040816326,
           -3.7755102040816326,
           -3.7755102040816326,
           -3.7755102040816326,
           -3.7755102040816326,
           -3.7755102040816326,
           -3.7755102040816326,
           -3.7755102040816326,
           -3.7755102040816326,
           -3.7755102040816326,
           -3.7755102040816326,
           -3.7755102040816326,
           -3.7755102040816326,
           -3.7755102040816326,
           -3.7755102040816326,
           -3.7755102040816326,
           -3.7755102040816326,
           -3.7755102040816326,
           -3.7755102040816326
          ],
          [
           -3.571428571428571,
           -3.571428571428571,
           -3.571428571428571,
           -3.571428571428571,
           -3.571428571428571,
           -3.571428571428571,
           -3.571428571428571,
           -3.571428571428571,
           -3.571428571428571,
           -3.571428571428571,
           -3.571428571428571,
           -3.571428571428571,
           -3.571428571428571,
           -3.571428571428571,
           -3.571428571428571,
           -3.571428571428571,
           -3.571428571428571,
           -3.571428571428571,
           -3.571428571428571,
           -3.571428571428571,
           -3.571428571428571,
           -3.571428571428571,
           -3.571428571428571,
           -3.571428571428571,
           -3.571428571428571,
           -3.571428571428571,
           -3.571428571428571,
           -3.571428571428571,
           -3.571428571428571,
           -3.571428571428571,
           -3.571428571428571,
           -3.571428571428571,
           -3.571428571428571,
           -3.571428571428571,
           -3.571428571428571,
           -3.571428571428571,
           -3.571428571428571,
           -3.571428571428571,
           -3.571428571428571,
           -3.571428571428571,
           -3.571428571428571,
           -3.571428571428571,
           -3.571428571428571,
           -3.571428571428571,
           -3.571428571428571,
           -3.571428571428571,
           -3.571428571428571,
           -3.571428571428571,
           -3.571428571428571,
           -3.571428571428571
          ],
          [
           -3.36734693877551,
           -3.36734693877551,
           -3.36734693877551,
           -3.36734693877551,
           -3.36734693877551,
           -3.36734693877551,
           -3.36734693877551,
           -3.36734693877551,
           -3.36734693877551,
           -3.36734693877551,
           -3.36734693877551,
           -3.36734693877551,
           -3.36734693877551,
           -3.36734693877551,
           -3.36734693877551,
           -3.36734693877551,
           -3.36734693877551,
           -3.36734693877551,
           -3.36734693877551,
           -3.36734693877551,
           -3.36734693877551,
           -3.36734693877551,
           -3.36734693877551,
           -3.36734693877551,
           -3.36734693877551,
           -3.36734693877551,
           -3.36734693877551,
           -3.36734693877551,
           -3.36734693877551,
           -3.36734693877551,
           -3.36734693877551,
           -3.36734693877551,
           -3.36734693877551,
           -3.36734693877551,
           -3.36734693877551,
           -3.36734693877551,
           -3.36734693877551,
           -3.36734693877551,
           -3.36734693877551,
           -3.36734693877551,
           -3.36734693877551,
           -3.36734693877551,
           -3.36734693877551,
           -3.36734693877551,
           -3.36734693877551,
           -3.36734693877551,
           -3.36734693877551,
           -3.36734693877551,
           -3.36734693877551,
           -3.36734693877551
          ],
          [
           -3.163265306122449,
           -3.163265306122449,
           -3.163265306122449,
           -3.163265306122449,
           -3.163265306122449,
           -3.163265306122449,
           -3.163265306122449,
           -3.163265306122449,
           -3.163265306122449,
           -3.163265306122449,
           -3.163265306122449,
           -3.163265306122449,
           -3.163265306122449,
           -3.163265306122449,
           -3.163265306122449,
           -3.163265306122449,
           -3.163265306122449,
           -3.163265306122449,
           -3.163265306122449,
           -3.163265306122449,
           -3.163265306122449,
           -3.163265306122449,
           -3.163265306122449,
           -3.163265306122449,
           -3.163265306122449,
           -3.163265306122449,
           -3.163265306122449,
           -3.163265306122449,
           -3.163265306122449,
           -3.163265306122449,
           -3.163265306122449,
           -3.163265306122449,
           -3.163265306122449,
           -3.163265306122449,
           -3.163265306122449,
           -3.163265306122449,
           -3.163265306122449,
           -3.163265306122449,
           -3.163265306122449,
           -3.163265306122449,
           -3.163265306122449,
           -3.163265306122449,
           -3.163265306122449,
           -3.163265306122449,
           -3.163265306122449,
           -3.163265306122449,
           -3.163265306122449,
           -3.163265306122449,
           -3.163265306122449,
           -3.163265306122449
          ],
          [
           -2.9591836734693877,
           -2.9591836734693877,
           -2.9591836734693877,
           -2.9591836734693877,
           -2.9591836734693877,
           -2.9591836734693877,
           -2.9591836734693877,
           -2.9591836734693877,
           -2.9591836734693877,
           -2.9591836734693877,
           -2.9591836734693877,
           -2.9591836734693877,
           -2.9591836734693877,
           -2.9591836734693877,
           -2.9591836734693877,
           -2.9591836734693877,
           -2.9591836734693877,
           -2.9591836734693877,
           -2.9591836734693877,
           -2.9591836734693877,
           -2.9591836734693877,
           -2.9591836734693877,
           -2.9591836734693877,
           -2.9591836734693877,
           -2.9591836734693877,
           -2.9591836734693877,
           -2.9591836734693877,
           -2.9591836734693877,
           -2.9591836734693877,
           -2.9591836734693877,
           -2.9591836734693877,
           -2.9591836734693877,
           -2.9591836734693877,
           -2.9591836734693877,
           -2.9591836734693877,
           -2.9591836734693877,
           -2.9591836734693877,
           -2.9591836734693877,
           -2.9591836734693877,
           -2.9591836734693877,
           -2.9591836734693877,
           -2.9591836734693877,
           -2.9591836734693877,
           -2.9591836734693877,
           -2.9591836734693877,
           -2.9591836734693877,
           -2.9591836734693877,
           -2.9591836734693877,
           -2.9591836734693877,
           -2.9591836734693877
          ],
          [
           -2.7551020408163263,
           -2.7551020408163263,
           -2.7551020408163263,
           -2.7551020408163263,
           -2.7551020408163263,
           -2.7551020408163263,
           -2.7551020408163263,
           -2.7551020408163263,
           -2.7551020408163263,
           -2.7551020408163263,
           -2.7551020408163263,
           -2.7551020408163263,
           -2.7551020408163263,
           -2.7551020408163263,
           -2.7551020408163263,
           -2.7551020408163263,
           -2.7551020408163263,
           -2.7551020408163263,
           -2.7551020408163263,
           -2.7551020408163263,
           -2.7551020408163263,
           -2.7551020408163263,
           -2.7551020408163263,
           -2.7551020408163263,
           -2.7551020408163263,
           -2.7551020408163263,
           -2.7551020408163263,
           -2.7551020408163263,
           -2.7551020408163263,
           -2.7551020408163263,
           -2.7551020408163263,
           -2.7551020408163263,
           -2.7551020408163263,
           -2.7551020408163263,
           -2.7551020408163263,
           -2.7551020408163263,
           -2.7551020408163263,
           -2.7551020408163263,
           -2.7551020408163263,
           -2.7551020408163263,
           -2.7551020408163263,
           -2.7551020408163263,
           -2.7551020408163263,
           -2.7551020408163263,
           -2.7551020408163263,
           -2.7551020408163263,
           -2.7551020408163263,
           -2.7551020408163263,
           -2.7551020408163263,
           -2.7551020408163263
          ],
          [
           -2.5510204081632653,
           -2.5510204081632653,
           -2.5510204081632653,
           -2.5510204081632653,
           -2.5510204081632653,
           -2.5510204081632653,
           -2.5510204081632653,
           -2.5510204081632653,
           -2.5510204081632653,
           -2.5510204081632653,
           -2.5510204081632653,
           -2.5510204081632653,
           -2.5510204081632653,
           -2.5510204081632653,
           -2.5510204081632653,
           -2.5510204081632653,
           -2.5510204081632653,
           -2.5510204081632653,
           -2.5510204081632653,
           -2.5510204081632653,
           -2.5510204081632653,
           -2.5510204081632653,
           -2.5510204081632653,
           -2.5510204081632653,
           -2.5510204081632653,
           -2.5510204081632653,
           -2.5510204081632653,
           -2.5510204081632653,
           -2.5510204081632653,
           -2.5510204081632653,
           -2.5510204081632653,
           -2.5510204081632653,
           -2.5510204081632653,
           -2.5510204081632653,
           -2.5510204081632653,
           -2.5510204081632653,
           -2.5510204081632653,
           -2.5510204081632653,
           -2.5510204081632653,
           -2.5510204081632653,
           -2.5510204081632653,
           -2.5510204081632653,
           -2.5510204081632653,
           -2.5510204081632653,
           -2.5510204081632653,
           -2.5510204081632653,
           -2.5510204081632653,
           -2.5510204081632653,
           -2.5510204081632653,
           -2.5510204081632653
          ],
          [
           -2.3469387755102042,
           -2.3469387755102042,
           -2.3469387755102042,
           -2.3469387755102042,
           -2.3469387755102042,
           -2.3469387755102042,
           -2.3469387755102042,
           -2.3469387755102042,
           -2.3469387755102042,
           -2.3469387755102042,
           -2.3469387755102042,
           -2.3469387755102042,
           -2.3469387755102042,
           -2.3469387755102042,
           -2.3469387755102042,
           -2.3469387755102042,
           -2.3469387755102042,
           -2.3469387755102042,
           -2.3469387755102042,
           -2.3469387755102042,
           -2.3469387755102042,
           -2.3469387755102042,
           -2.3469387755102042,
           -2.3469387755102042,
           -2.3469387755102042,
           -2.3469387755102042,
           -2.3469387755102042,
           -2.3469387755102042,
           -2.3469387755102042,
           -2.3469387755102042,
           -2.3469387755102042,
           -2.3469387755102042,
           -2.3469387755102042,
           -2.3469387755102042,
           -2.3469387755102042,
           -2.3469387755102042,
           -2.3469387755102042,
           -2.3469387755102042,
           -2.3469387755102042,
           -2.3469387755102042,
           -2.3469387755102042,
           -2.3469387755102042,
           -2.3469387755102042,
           -2.3469387755102042,
           -2.3469387755102042,
           -2.3469387755102042,
           -2.3469387755102042,
           -2.3469387755102042,
           -2.3469387755102042,
           -2.3469387755102042
          ],
          [
           -2.142857142857143,
           -2.142857142857143,
           -2.142857142857143,
           -2.142857142857143,
           -2.142857142857143,
           -2.142857142857143,
           -2.142857142857143,
           -2.142857142857143,
           -2.142857142857143,
           -2.142857142857143,
           -2.142857142857143,
           -2.142857142857143,
           -2.142857142857143,
           -2.142857142857143,
           -2.142857142857143,
           -2.142857142857143,
           -2.142857142857143,
           -2.142857142857143,
           -2.142857142857143,
           -2.142857142857143,
           -2.142857142857143,
           -2.142857142857143,
           -2.142857142857143,
           -2.142857142857143,
           -2.142857142857143,
           -2.142857142857143,
           -2.142857142857143,
           -2.142857142857143,
           -2.142857142857143,
           -2.142857142857143,
           -2.142857142857143,
           -2.142857142857143,
           -2.142857142857143,
           -2.142857142857143,
           -2.142857142857143,
           -2.142857142857143,
           -2.142857142857143,
           -2.142857142857143,
           -2.142857142857143,
           -2.142857142857143,
           -2.142857142857143,
           -2.142857142857143,
           -2.142857142857143,
           -2.142857142857143,
           -2.142857142857143,
           -2.142857142857143,
           -2.142857142857143,
           -2.142857142857143,
           -2.142857142857143,
           -2.142857142857143
          ],
          [
           -1.9387755102040813,
           -1.9387755102040813,
           -1.9387755102040813,
           -1.9387755102040813,
           -1.9387755102040813,
           -1.9387755102040813,
           -1.9387755102040813,
           -1.9387755102040813,
           -1.9387755102040813,
           -1.9387755102040813,
           -1.9387755102040813,
           -1.9387755102040813,
           -1.9387755102040813,
           -1.9387755102040813,
           -1.9387755102040813,
           -1.9387755102040813,
           -1.9387755102040813,
           -1.9387755102040813,
           -1.9387755102040813,
           -1.9387755102040813,
           -1.9387755102040813,
           -1.9387755102040813,
           -1.9387755102040813,
           -1.9387755102040813,
           -1.9387755102040813,
           -1.9387755102040813,
           -1.9387755102040813,
           -1.9387755102040813,
           -1.9387755102040813,
           -1.9387755102040813,
           -1.9387755102040813,
           -1.9387755102040813,
           -1.9387755102040813,
           -1.9387755102040813,
           -1.9387755102040813,
           -1.9387755102040813,
           -1.9387755102040813,
           -1.9387755102040813,
           -1.9387755102040813,
           -1.9387755102040813,
           -1.9387755102040813,
           -1.9387755102040813,
           -1.9387755102040813,
           -1.9387755102040813,
           -1.9387755102040813,
           -1.9387755102040813,
           -1.9387755102040813,
           -1.9387755102040813,
           -1.9387755102040813,
           -1.9387755102040813
          ],
          [
           -1.7346938775510203,
           -1.7346938775510203,
           -1.7346938775510203,
           -1.7346938775510203,
           -1.7346938775510203,
           -1.7346938775510203,
           -1.7346938775510203,
           -1.7346938775510203,
           -1.7346938775510203,
           -1.7346938775510203,
           -1.7346938775510203,
           -1.7346938775510203,
           -1.7346938775510203,
           -1.7346938775510203,
           -1.7346938775510203,
           -1.7346938775510203,
           -1.7346938775510203,
           -1.7346938775510203,
           -1.7346938775510203,
           -1.7346938775510203,
           -1.7346938775510203,
           -1.7346938775510203,
           -1.7346938775510203,
           -1.7346938775510203,
           -1.7346938775510203,
           -1.7346938775510203,
           -1.7346938775510203,
           -1.7346938775510203,
           -1.7346938775510203,
           -1.7346938775510203,
           -1.7346938775510203,
           -1.7346938775510203,
           -1.7346938775510203,
           -1.7346938775510203,
           -1.7346938775510203,
           -1.7346938775510203,
           -1.7346938775510203,
           -1.7346938775510203,
           -1.7346938775510203,
           -1.7346938775510203,
           -1.7346938775510203,
           -1.7346938775510203,
           -1.7346938775510203,
           -1.7346938775510203,
           -1.7346938775510203,
           -1.7346938775510203,
           -1.7346938775510203,
           -1.7346938775510203,
           -1.7346938775510203,
           -1.7346938775510203
          ],
          [
           -1.5306122448979593,
           -1.5306122448979593,
           -1.5306122448979593,
           -1.5306122448979593,
           -1.5306122448979593,
           -1.5306122448979593,
           -1.5306122448979593,
           -1.5306122448979593,
           -1.5306122448979593,
           -1.5306122448979593,
           -1.5306122448979593,
           -1.5306122448979593,
           -1.5306122448979593,
           -1.5306122448979593,
           -1.5306122448979593,
           -1.5306122448979593,
           -1.5306122448979593,
           -1.5306122448979593,
           -1.5306122448979593,
           -1.5306122448979593,
           -1.5306122448979593,
           -1.5306122448979593,
           -1.5306122448979593,
           -1.5306122448979593,
           -1.5306122448979593,
           -1.5306122448979593,
           -1.5306122448979593,
           -1.5306122448979593,
           -1.5306122448979593,
           -1.5306122448979593,
           -1.5306122448979593,
           -1.5306122448979593,
           -1.5306122448979593,
           -1.5306122448979593,
           -1.5306122448979593,
           -1.5306122448979593,
           -1.5306122448979593,
           -1.5306122448979593,
           -1.5306122448979593,
           -1.5306122448979593,
           -1.5306122448979593,
           -1.5306122448979593,
           -1.5306122448979593,
           -1.5306122448979593,
           -1.5306122448979593,
           -1.5306122448979593,
           -1.5306122448979593,
           -1.5306122448979593,
           -1.5306122448979593,
           -1.5306122448979593
          ],
          [
           -1.3265306122448979,
           -1.3265306122448979,
           -1.3265306122448979,
           -1.3265306122448979,
           -1.3265306122448979,
           -1.3265306122448979,
           -1.3265306122448979,
           -1.3265306122448979,
           -1.3265306122448979,
           -1.3265306122448979,
           -1.3265306122448979,
           -1.3265306122448979,
           -1.3265306122448979,
           -1.3265306122448979,
           -1.3265306122448979,
           -1.3265306122448979,
           -1.3265306122448979,
           -1.3265306122448979,
           -1.3265306122448979,
           -1.3265306122448979,
           -1.3265306122448979,
           -1.3265306122448979,
           -1.3265306122448979,
           -1.3265306122448979,
           -1.3265306122448979,
           -1.3265306122448979,
           -1.3265306122448979,
           -1.3265306122448979,
           -1.3265306122448979,
           -1.3265306122448979,
           -1.3265306122448979,
           -1.3265306122448979,
           -1.3265306122448979,
           -1.3265306122448979,
           -1.3265306122448979,
           -1.3265306122448979,
           -1.3265306122448979,
           -1.3265306122448979,
           -1.3265306122448979,
           -1.3265306122448979,
           -1.3265306122448979,
           -1.3265306122448979,
           -1.3265306122448979,
           -1.3265306122448979,
           -1.3265306122448979,
           -1.3265306122448979,
           -1.3265306122448979,
           -1.3265306122448979,
           -1.3265306122448979,
           -1.3265306122448979
          ],
          [
           -1.1224489795918364,
           -1.1224489795918364,
           -1.1224489795918364,
           -1.1224489795918364,
           -1.1224489795918364,
           -1.1224489795918364,
           -1.1224489795918364,
           -1.1224489795918364,
           -1.1224489795918364,
           -1.1224489795918364,
           -1.1224489795918364,
           -1.1224489795918364,
           -1.1224489795918364,
           -1.1224489795918364,
           -1.1224489795918364,
           -1.1224489795918364,
           -1.1224489795918364,
           -1.1224489795918364,
           -1.1224489795918364,
           -1.1224489795918364,
           -1.1224489795918364,
           -1.1224489795918364,
           -1.1224489795918364,
           -1.1224489795918364,
           -1.1224489795918364,
           -1.1224489795918364,
           -1.1224489795918364,
           -1.1224489795918364,
           -1.1224489795918364,
           -1.1224489795918364,
           -1.1224489795918364,
           -1.1224489795918364,
           -1.1224489795918364,
           -1.1224489795918364,
           -1.1224489795918364,
           -1.1224489795918364,
           -1.1224489795918364,
           -1.1224489795918364,
           -1.1224489795918364,
           -1.1224489795918364,
           -1.1224489795918364,
           -1.1224489795918364,
           -1.1224489795918364,
           -1.1224489795918364,
           -1.1224489795918364,
           -1.1224489795918364,
           -1.1224489795918364,
           -1.1224489795918364,
           -1.1224489795918364,
           -1.1224489795918364
          ],
          [
           -0.9183673469387754,
           -0.9183673469387754,
           -0.9183673469387754,
           -0.9183673469387754,
           -0.9183673469387754,
           -0.9183673469387754,
           -0.9183673469387754,
           -0.9183673469387754,
           -0.9183673469387754,
           -0.9183673469387754,
           -0.9183673469387754,
           -0.9183673469387754,
           -0.9183673469387754,
           -0.9183673469387754,
           -0.9183673469387754,
           -0.9183673469387754,
           -0.9183673469387754,
           -0.9183673469387754,
           -0.9183673469387754,
           -0.9183673469387754,
           -0.9183673469387754,
           -0.9183673469387754,
           -0.9183673469387754,
           -0.9183673469387754,
           -0.9183673469387754,
           -0.9183673469387754,
           -0.9183673469387754,
           -0.9183673469387754,
           -0.9183673469387754,
           -0.9183673469387754,
           -0.9183673469387754,
           -0.9183673469387754,
           -0.9183673469387754,
           -0.9183673469387754,
           -0.9183673469387754,
           -0.9183673469387754,
           -0.9183673469387754,
           -0.9183673469387754,
           -0.9183673469387754,
           -0.9183673469387754,
           -0.9183673469387754,
           -0.9183673469387754,
           -0.9183673469387754,
           -0.9183673469387754,
           -0.9183673469387754,
           -0.9183673469387754,
           -0.9183673469387754,
           -0.9183673469387754,
           -0.9183673469387754,
           -0.9183673469387754
          ],
          [
           -0.7142857142857144,
           -0.7142857142857144,
           -0.7142857142857144,
           -0.7142857142857144,
           -0.7142857142857144,
           -0.7142857142857144,
           -0.7142857142857144,
           -0.7142857142857144,
           -0.7142857142857144,
           -0.7142857142857144,
           -0.7142857142857144,
           -0.7142857142857144,
           -0.7142857142857144,
           -0.7142857142857144,
           -0.7142857142857144,
           -0.7142857142857144,
           -0.7142857142857144,
           -0.7142857142857144,
           -0.7142857142857144,
           -0.7142857142857144,
           -0.7142857142857144,
           -0.7142857142857144,
           -0.7142857142857144,
           -0.7142857142857144,
           -0.7142857142857144,
           -0.7142857142857144,
           -0.7142857142857144,
           -0.7142857142857144,
           -0.7142857142857144,
           -0.7142857142857144,
           -0.7142857142857144,
           -0.7142857142857144,
           -0.7142857142857144,
           -0.7142857142857144,
           -0.7142857142857144,
           -0.7142857142857144,
           -0.7142857142857144,
           -0.7142857142857144,
           -0.7142857142857144,
           -0.7142857142857144,
           -0.7142857142857144,
           -0.7142857142857144,
           -0.7142857142857144,
           -0.7142857142857144,
           -0.7142857142857144,
           -0.7142857142857144,
           -0.7142857142857144,
           -0.7142857142857144,
           -0.7142857142857144,
           -0.7142857142857144
          ],
          [
           -0.5102040816326525,
           -0.5102040816326525,
           -0.5102040816326525,
           -0.5102040816326525,
           -0.5102040816326525,
           -0.5102040816326525,
           -0.5102040816326525,
           -0.5102040816326525,
           -0.5102040816326525,
           -0.5102040816326525,
           -0.5102040816326525,
           -0.5102040816326525,
           -0.5102040816326525,
           -0.5102040816326525,
           -0.5102040816326525,
           -0.5102040816326525,
           -0.5102040816326525,
           -0.5102040816326525,
           -0.5102040816326525,
           -0.5102040816326525,
           -0.5102040816326525,
           -0.5102040816326525,
           -0.5102040816326525,
           -0.5102040816326525,
           -0.5102040816326525,
           -0.5102040816326525,
           -0.5102040816326525,
           -0.5102040816326525,
           -0.5102040816326525,
           -0.5102040816326525,
           -0.5102040816326525,
           -0.5102040816326525,
           -0.5102040816326525,
           -0.5102040816326525,
           -0.5102040816326525,
           -0.5102040816326525,
           -0.5102040816326525,
           -0.5102040816326525,
           -0.5102040816326525,
           -0.5102040816326525,
           -0.5102040816326525,
           -0.5102040816326525,
           -0.5102040816326525,
           -0.5102040816326525,
           -0.5102040816326525,
           -0.5102040816326525,
           -0.5102040816326525,
           -0.5102040816326525,
           -0.5102040816326525,
           -0.5102040816326525
          ],
          [
           -0.3061224489795915,
           -0.3061224489795915,
           -0.3061224489795915,
           -0.3061224489795915,
           -0.3061224489795915,
           -0.3061224489795915,
           -0.3061224489795915,
           -0.3061224489795915,
           -0.3061224489795915,
           -0.3061224489795915,
           -0.3061224489795915,
           -0.3061224489795915,
           -0.3061224489795915,
           -0.3061224489795915,
           -0.3061224489795915,
           -0.3061224489795915,
           -0.3061224489795915,
           -0.3061224489795915,
           -0.3061224489795915,
           -0.3061224489795915,
           -0.3061224489795915,
           -0.3061224489795915,
           -0.3061224489795915,
           -0.3061224489795915,
           -0.3061224489795915,
           -0.3061224489795915,
           -0.3061224489795915,
           -0.3061224489795915,
           -0.3061224489795915,
           -0.3061224489795915,
           -0.3061224489795915,
           -0.3061224489795915,
           -0.3061224489795915,
           -0.3061224489795915,
           -0.3061224489795915,
           -0.3061224489795915,
           -0.3061224489795915,
           -0.3061224489795915,
           -0.3061224489795915,
           -0.3061224489795915,
           -0.3061224489795915,
           -0.3061224489795915,
           -0.3061224489795915,
           -0.3061224489795915,
           -0.3061224489795915,
           -0.3061224489795915,
           -0.3061224489795915,
           -0.3061224489795915,
           -0.3061224489795915,
           -0.3061224489795915
          ],
          [
           -0.1020408163265305,
           -0.1020408163265305,
           -0.1020408163265305,
           -0.1020408163265305,
           -0.1020408163265305,
           -0.1020408163265305,
           -0.1020408163265305,
           -0.1020408163265305,
           -0.1020408163265305,
           -0.1020408163265305,
           -0.1020408163265305,
           -0.1020408163265305,
           -0.1020408163265305,
           -0.1020408163265305,
           -0.1020408163265305,
           -0.1020408163265305,
           -0.1020408163265305,
           -0.1020408163265305,
           -0.1020408163265305,
           -0.1020408163265305,
           -0.1020408163265305,
           -0.1020408163265305,
           -0.1020408163265305,
           -0.1020408163265305,
           -0.1020408163265305,
           -0.1020408163265305,
           -0.1020408163265305,
           -0.1020408163265305,
           -0.1020408163265305,
           -0.1020408163265305,
           -0.1020408163265305,
           -0.1020408163265305,
           -0.1020408163265305,
           -0.1020408163265305,
           -0.1020408163265305,
           -0.1020408163265305,
           -0.1020408163265305,
           -0.1020408163265305,
           -0.1020408163265305,
           -0.1020408163265305,
           -0.1020408163265305,
           -0.1020408163265305,
           -0.1020408163265305,
           -0.1020408163265305,
           -0.1020408163265305,
           -0.1020408163265305,
           -0.1020408163265305,
           -0.1020408163265305,
           -0.1020408163265305,
           -0.1020408163265305
          ],
          [
           0.1020408163265305,
           0.1020408163265305,
           0.1020408163265305,
           0.1020408163265305,
           0.1020408163265305,
           0.1020408163265305,
           0.1020408163265305,
           0.1020408163265305,
           0.1020408163265305,
           0.1020408163265305,
           0.1020408163265305,
           0.1020408163265305,
           0.1020408163265305,
           0.1020408163265305,
           0.1020408163265305,
           0.1020408163265305,
           0.1020408163265305,
           0.1020408163265305,
           0.1020408163265305,
           0.1020408163265305,
           0.1020408163265305,
           0.1020408163265305,
           0.1020408163265305,
           0.1020408163265305,
           0.1020408163265305,
           0.1020408163265305,
           0.1020408163265305,
           0.1020408163265305,
           0.1020408163265305,
           0.1020408163265305,
           0.1020408163265305,
           0.1020408163265305,
           0.1020408163265305,
           0.1020408163265305,
           0.1020408163265305,
           0.1020408163265305,
           0.1020408163265305,
           0.1020408163265305,
           0.1020408163265305,
           0.1020408163265305,
           0.1020408163265305,
           0.1020408163265305,
           0.1020408163265305,
           0.1020408163265305,
           0.1020408163265305,
           0.1020408163265305,
           0.1020408163265305,
           0.1020408163265305,
           0.1020408163265305,
           0.1020408163265305
          ],
          [
           0.3061224489795915,
           0.3061224489795915,
           0.3061224489795915,
           0.3061224489795915,
           0.3061224489795915,
           0.3061224489795915,
           0.3061224489795915,
           0.3061224489795915,
           0.3061224489795915,
           0.3061224489795915,
           0.3061224489795915,
           0.3061224489795915,
           0.3061224489795915,
           0.3061224489795915,
           0.3061224489795915,
           0.3061224489795915,
           0.3061224489795915,
           0.3061224489795915,
           0.3061224489795915,
           0.3061224489795915,
           0.3061224489795915,
           0.3061224489795915,
           0.3061224489795915,
           0.3061224489795915,
           0.3061224489795915,
           0.3061224489795915,
           0.3061224489795915,
           0.3061224489795915,
           0.3061224489795915,
           0.3061224489795915,
           0.3061224489795915,
           0.3061224489795915,
           0.3061224489795915,
           0.3061224489795915,
           0.3061224489795915,
           0.3061224489795915,
           0.3061224489795915,
           0.3061224489795915,
           0.3061224489795915,
           0.3061224489795915,
           0.3061224489795915,
           0.3061224489795915,
           0.3061224489795915,
           0.3061224489795915,
           0.3061224489795915,
           0.3061224489795915,
           0.3061224489795915,
           0.3061224489795915,
           0.3061224489795915,
           0.3061224489795915
          ],
          [
           0.5102040816326534,
           0.5102040816326534,
           0.5102040816326534,
           0.5102040816326534,
           0.5102040816326534,
           0.5102040816326534,
           0.5102040816326534,
           0.5102040816326534,
           0.5102040816326534,
           0.5102040816326534,
           0.5102040816326534,
           0.5102040816326534,
           0.5102040816326534,
           0.5102040816326534,
           0.5102040816326534,
           0.5102040816326534,
           0.5102040816326534,
           0.5102040816326534,
           0.5102040816326534,
           0.5102040816326534,
           0.5102040816326534,
           0.5102040816326534,
           0.5102040816326534,
           0.5102040816326534,
           0.5102040816326534,
           0.5102040816326534,
           0.5102040816326534,
           0.5102040816326534,
           0.5102040816326534,
           0.5102040816326534,
           0.5102040816326534,
           0.5102040816326534,
           0.5102040816326534,
           0.5102040816326534,
           0.5102040816326534,
           0.5102040816326534,
           0.5102040816326534,
           0.5102040816326534,
           0.5102040816326534,
           0.5102040816326534,
           0.5102040816326534,
           0.5102040816326534,
           0.5102040816326534,
           0.5102040816326534,
           0.5102040816326534,
           0.5102040816326534,
           0.5102040816326534,
           0.5102040816326534,
           0.5102040816326534,
           0.5102040816326534
          ],
          [
           0.7142857142857144,
           0.7142857142857144,
           0.7142857142857144,
           0.7142857142857144,
           0.7142857142857144,
           0.7142857142857144,
           0.7142857142857144,
           0.7142857142857144,
           0.7142857142857144,
           0.7142857142857144,
           0.7142857142857144,
           0.7142857142857144,
           0.7142857142857144,
           0.7142857142857144,
           0.7142857142857144,
           0.7142857142857144,
           0.7142857142857144,
           0.7142857142857144,
           0.7142857142857144,
           0.7142857142857144,
           0.7142857142857144,
           0.7142857142857144,
           0.7142857142857144,
           0.7142857142857144,
           0.7142857142857144,
           0.7142857142857144,
           0.7142857142857144,
           0.7142857142857144,
           0.7142857142857144,
           0.7142857142857144,
           0.7142857142857144,
           0.7142857142857144,
           0.7142857142857144,
           0.7142857142857144,
           0.7142857142857144,
           0.7142857142857144,
           0.7142857142857144,
           0.7142857142857144,
           0.7142857142857144,
           0.7142857142857144,
           0.7142857142857144,
           0.7142857142857144,
           0.7142857142857144,
           0.7142857142857144,
           0.7142857142857144,
           0.7142857142857144,
           0.7142857142857144,
           0.7142857142857144,
           0.7142857142857144,
           0.7142857142857144
          ],
          [
           0.9183673469387754,
           0.9183673469387754,
           0.9183673469387754,
           0.9183673469387754,
           0.9183673469387754,
           0.9183673469387754,
           0.9183673469387754,
           0.9183673469387754,
           0.9183673469387754,
           0.9183673469387754,
           0.9183673469387754,
           0.9183673469387754,
           0.9183673469387754,
           0.9183673469387754,
           0.9183673469387754,
           0.9183673469387754,
           0.9183673469387754,
           0.9183673469387754,
           0.9183673469387754,
           0.9183673469387754,
           0.9183673469387754,
           0.9183673469387754,
           0.9183673469387754,
           0.9183673469387754,
           0.9183673469387754,
           0.9183673469387754,
           0.9183673469387754,
           0.9183673469387754,
           0.9183673469387754,
           0.9183673469387754,
           0.9183673469387754,
           0.9183673469387754,
           0.9183673469387754,
           0.9183673469387754,
           0.9183673469387754,
           0.9183673469387754,
           0.9183673469387754,
           0.9183673469387754,
           0.9183673469387754,
           0.9183673469387754,
           0.9183673469387754,
           0.9183673469387754,
           0.9183673469387754,
           0.9183673469387754,
           0.9183673469387754,
           0.9183673469387754,
           0.9183673469387754,
           0.9183673469387754,
           0.9183673469387754,
           0.9183673469387754
          ],
          [
           1.1224489795918373,
           1.1224489795918373,
           1.1224489795918373,
           1.1224489795918373,
           1.1224489795918373,
           1.1224489795918373,
           1.1224489795918373,
           1.1224489795918373,
           1.1224489795918373,
           1.1224489795918373,
           1.1224489795918373,
           1.1224489795918373,
           1.1224489795918373,
           1.1224489795918373,
           1.1224489795918373,
           1.1224489795918373,
           1.1224489795918373,
           1.1224489795918373,
           1.1224489795918373,
           1.1224489795918373,
           1.1224489795918373,
           1.1224489795918373,
           1.1224489795918373,
           1.1224489795918373,
           1.1224489795918373,
           1.1224489795918373,
           1.1224489795918373,
           1.1224489795918373,
           1.1224489795918373,
           1.1224489795918373,
           1.1224489795918373,
           1.1224489795918373,
           1.1224489795918373,
           1.1224489795918373,
           1.1224489795918373,
           1.1224489795918373,
           1.1224489795918373,
           1.1224489795918373,
           1.1224489795918373,
           1.1224489795918373,
           1.1224489795918373,
           1.1224489795918373,
           1.1224489795918373,
           1.1224489795918373,
           1.1224489795918373,
           1.1224489795918373,
           1.1224489795918373,
           1.1224489795918373,
           1.1224489795918373,
           1.1224489795918373
          ],
          [
           1.3265306122448983,
           1.3265306122448983,
           1.3265306122448983,
           1.3265306122448983,
           1.3265306122448983,
           1.3265306122448983,
           1.3265306122448983,
           1.3265306122448983,
           1.3265306122448983,
           1.3265306122448983,
           1.3265306122448983,
           1.3265306122448983,
           1.3265306122448983,
           1.3265306122448983,
           1.3265306122448983,
           1.3265306122448983,
           1.3265306122448983,
           1.3265306122448983,
           1.3265306122448983,
           1.3265306122448983,
           1.3265306122448983,
           1.3265306122448983,
           1.3265306122448983,
           1.3265306122448983,
           1.3265306122448983,
           1.3265306122448983,
           1.3265306122448983,
           1.3265306122448983,
           1.3265306122448983,
           1.3265306122448983,
           1.3265306122448983,
           1.3265306122448983,
           1.3265306122448983,
           1.3265306122448983,
           1.3265306122448983,
           1.3265306122448983,
           1.3265306122448983,
           1.3265306122448983,
           1.3265306122448983,
           1.3265306122448983,
           1.3265306122448983,
           1.3265306122448983,
           1.3265306122448983,
           1.3265306122448983,
           1.3265306122448983,
           1.3265306122448983,
           1.3265306122448983,
           1.3265306122448983,
           1.3265306122448983,
           1.3265306122448983
          ],
          [
           1.5306122448979593,
           1.5306122448979593,
           1.5306122448979593,
           1.5306122448979593,
           1.5306122448979593,
           1.5306122448979593,
           1.5306122448979593,
           1.5306122448979593,
           1.5306122448979593,
           1.5306122448979593,
           1.5306122448979593,
           1.5306122448979593,
           1.5306122448979593,
           1.5306122448979593,
           1.5306122448979593,
           1.5306122448979593,
           1.5306122448979593,
           1.5306122448979593,
           1.5306122448979593,
           1.5306122448979593,
           1.5306122448979593,
           1.5306122448979593,
           1.5306122448979593,
           1.5306122448979593,
           1.5306122448979593,
           1.5306122448979593,
           1.5306122448979593,
           1.5306122448979593,
           1.5306122448979593,
           1.5306122448979593,
           1.5306122448979593,
           1.5306122448979593,
           1.5306122448979593,
           1.5306122448979593,
           1.5306122448979593,
           1.5306122448979593,
           1.5306122448979593,
           1.5306122448979593,
           1.5306122448979593,
           1.5306122448979593,
           1.5306122448979593,
           1.5306122448979593,
           1.5306122448979593,
           1.5306122448979593,
           1.5306122448979593,
           1.5306122448979593,
           1.5306122448979593,
           1.5306122448979593,
           1.5306122448979593,
           1.5306122448979593
          ],
          [
           1.7346938775510203,
           1.7346938775510203,
           1.7346938775510203,
           1.7346938775510203,
           1.7346938775510203,
           1.7346938775510203,
           1.7346938775510203,
           1.7346938775510203,
           1.7346938775510203,
           1.7346938775510203,
           1.7346938775510203,
           1.7346938775510203,
           1.7346938775510203,
           1.7346938775510203,
           1.7346938775510203,
           1.7346938775510203,
           1.7346938775510203,
           1.7346938775510203,
           1.7346938775510203,
           1.7346938775510203,
           1.7346938775510203,
           1.7346938775510203,
           1.7346938775510203,
           1.7346938775510203,
           1.7346938775510203,
           1.7346938775510203,
           1.7346938775510203,
           1.7346938775510203,
           1.7346938775510203,
           1.7346938775510203,
           1.7346938775510203,
           1.7346938775510203,
           1.7346938775510203,
           1.7346938775510203,
           1.7346938775510203,
           1.7346938775510203,
           1.7346938775510203,
           1.7346938775510203,
           1.7346938775510203,
           1.7346938775510203,
           1.7346938775510203,
           1.7346938775510203,
           1.7346938775510203,
           1.7346938775510203,
           1.7346938775510203,
           1.7346938775510203,
           1.7346938775510203,
           1.7346938775510203,
           1.7346938775510203,
           1.7346938775510203
          ],
          [
           1.9387755102040813,
           1.9387755102040813,
           1.9387755102040813,
           1.9387755102040813,
           1.9387755102040813,
           1.9387755102040813,
           1.9387755102040813,
           1.9387755102040813,
           1.9387755102040813,
           1.9387755102040813,
           1.9387755102040813,
           1.9387755102040813,
           1.9387755102040813,
           1.9387755102040813,
           1.9387755102040813,
           1.9387755102040813,
           1.9387755102040813,
           1.9387755102040813,
           1.9387755102040813,
           1.9387755102040813,
           1.9387755102040813,
           1.9387755102040813,
           1.9387755102040813,
           1.9387755102040813,
           1.9387755102040813,
           1.9387755102040813,
           1.9387755102040813,
           1.9387755102040813,
           1.9387755102040813,
           1.9387755102040813,
           1.9387755102040813,
           1.9387755102040813,
           1.9387755102040813,
           1.9387755102040813,
           1.9387755102040813,
           1.9387755102040813,
           1.9387755102040813,
           1.9387755102040813,
           1.9387755102040813,
           1.9387755102040813,
           1.9387755102040813,
           1.9387755102040813,
           1.9387755102040813,
           1.9387755102040813,
           1.9387755102040813,
           1.9387755102040813,
           1.9387755102040813,
           1.9387755102040813,
           1.9387755102040813,
           1.9387755102040813
          ],
          [
           2.1428571428571432,
           2.1428571428571432,
           2.1428571428571432,
           2.1428571428571432,
           2.1428571428571432,
           2.1428571428571432,
           2.1428571428571432,
           2.1428571428571432,
           2.1428571428571432,
           2.1428571428571432,
           2.1428571428571432,
           2.1428571428571432,
           2.1428571428571432,
           2.1428571428571432,
           2.1428571428571432,
           2.1428571428571432,
           2.1428571428571432,
           2.1428571428571432,
           2.1428571428571432,
           2.1428571428571432,
           2.1428571428571432,
           2.1428571428571432,
           2.1428571428571432,
           2.1428571428571432,
           2.1428571428571432,
           2.1428571428571432,
           2.1428571428571432,
           2.1428571428571432,
           2.1428571428571432,
           2.1428571428571432,
           2.1428571428571432,
           2.1428571428571432,
           2.1428571428571432,
           2.1428571428571432,
           2.1428571428571432,
           2.1428571428571432,
           2.1428571428571432,
           2.1428571428571432,
           2.1428571428571432,
           2.1428571428571432,
           2.1428571428571432,
           2.1428571428571432,
           2.1428571428571432,
           2.1428571428571432,
           2.1428571428571432,
           2.1428571428571432,
           2.1428571428571432,
           2.1428571428571432,
           2.1428571428571432,
           2.1428571428571432
          ],
          [
           2.3469387755102042,
           2.3469387755102042,
           2.3469387755102042,
           2.3469387755102042,
           2.3469387755102042,
           2.3469387755102042,
           2.3469387755102042,
           2.3469387755102042,
           2.3469387755102042,
           2.3469387755102042,
           2.3469387755102042,
           2.3469387755102042,
           2.3469387755102042,
           2.3469387755102042,
           2.3469387755102042,
           2.3469387755102042,
           2.3469387755102042,
           2.3469387755102042,
           2.3469387755102042,
           2.3469387755102042,
           2.3469387755102042,
           2.3469387755102042,
           2.3469387755102042,
           2.3469387755102042,
           2.3469387755102042,
           2.3469387755102042,
           2.3469387755102042,
           2.3469387755102042,
           2.3469387755102042,
           2.3469387755102042,
           2.3469387755102042,
           2.3469387755102042,
           2.3469387755102042,
           2.3469387755102042,
           2.3469387755102042,
           2.3469387755102042,
           2.3469387755102042,
           2.3469387755102042,
           2.3469387755102042,
           2.3469387755102042,
           2.3469387755102042,
           2.3469387755102042,
           2.3469387755102042,
           2.3469387755102042,
           2.3469387755102042,
           2.3469387755102042,
           2.3469387755102042,
           2.3469387755102042,
           2.3469387755102042,
           2.3469387755102042
          ],
          [
           2.5510204081632653,
           2.5510204081632653,
           2.5510204081632653,
           2.5510204081632653,
           2.5510204081632653,
           2.5510204081632653,
           2.5510204081632653,
           2.5510204081632653,
           2.5510204081632653,
           2.5510204081632653,
           2.5510204081632653,
           2.5510204081632653,
           2.5510204081632653,
           2.5510204081632653,
           2.5510204081632653,
           2.5510204081632653,
           2.5510204081632653,
           2.5510204081632653,
           2.5510204081632653,
           2.5510204081632653,
           2.5510204081632653,
           2.5510204081632653,
           2.5510204081632653,
           2.5510204081632653,
           2.5510204081632653,
           2.5510204081632653,
           2.5510204081632653,
           2.5510204081632653,
           2.5510204081632653,
           2.5510204081632653,
           2.5510204081632653,
           2.5510204081632653,
           2.5510204081632653,
           2.5510204081632653,
           2.5510204081632653,
           2.5510204081632653,
           2.5510204081632653,
           2.5510204081632653,
           2.5510204081632653,
           2.5510204081632653,
           2.5510204081632653,
           2.5510204081632653,
           2.5510204081632653,
           2.5510204081632653,
           2.5510204081632653,
           2.5510204081632653,
           2.5510204081632653,
           2.5510204081632653,
           2.5510204081632653,
           2.5510204081632653
          ],
          [
           2.755102040816327,
           2.755102040816327,
           2.755102040816327,
           2.755102040816327,
           2.755102040816327,
           2.755102040816327,
           2.755102040816327,
           2.755102040816327,
           2.755102040816327,
           2.755102040816327,
           2.755102040816327,
           2.755102040816327,
           2.755102040816327,
           2.755102040816327,
           2.755102040816327,
           2.755102040816327,
           2.755102040816327,
           2.755102040816327,
           2.755102040816327,
           2.755102040816327,
           2.755102040816327,
           2.755102040816327,
           2.755102040816327,
           2.755102040816327,
           2.755102040816327,
           2.755102040816327,
           2.755102040816327,
           2.755102040816327,
           2.755102040816327,
           2.755102040816327,
           2.755102040816327,
           2.755102040816327,
           2.755102040816327,
           2.755102040816327,
           2.755102040816327,
           2.755102040816327,
           2.755102040816327,
           2.755102040816327,
           2.755102040816327,
           2.755102040816327,
           2.755102040816327,
           2.755102040816327,
           2.755102040816327,
           2.755102040816327,
           2.755102040816327,
           2.755102040816327,
           2.755102040816327,
           2.755102040816327,
           2.755102040816327,
           2.755102040816327
          ],
          [
           2.959183673469388,
           2.959183673469388,
           2.959183673469388,
           2.959183673469388,
           2.959183673469388,
           2.959183673469388,
           2.959183673469388,
           2.959183673469388,
           2.959183673469388,
           2.959183673469388,
           2.959183673469388,
           2.959183673469388,
           2.959183673469388,
           2.959183673469388,
           2.959183673469388,
           2.959183673469388,
           2.959183673469388,
           2.959183673469388,
           2.959183673469388,
           2.959183673469388,
           2.959183673469388,
           2.959183673469388,
           2.959183673469388,
           2.959183673469388,
           2.959183673469388,
           2.959183673469388,
           2.959183673469388,
           2.959183673469388,
           2.959183673469388,
           2.959183673469388,
           2.959183673469388,
           2.959183673469388,
           2.959183673469388,
           2.959183673469388,
           2.959183673469388,
           2.959183673469388,
           2.959183673469388,
           2.959183673469388,
           2.959183673469388,
           2.959183673469388,
           2.959183673469388,
           2.959183673469388,
           2.959183673469388,
           2.959183673469388,
           2.959183673469388,
           2.959183673469388,
           2.959183673469388,
           2.959183673469388,
           2.959183673469388,
           2.959183673469388
          ],
          [
           3.163265306122449,
           3.163265306122449,
           3.163265306122449,
           3.163265306122449,
           3.163265306122449,
           3.163265306122449,
           3.163265306122449,
           3.163265306122449,
           3.163265306122449,
           3.163265306122449,
           3.163265306122449,
           3.163265306122449,
           3.163265306122449,
           3.163265306122449,
           3.163265306122449,
           3.163265306122449,
           3.163265306122449,
           3.163265306122449,
           3.163265306122449,
           3.163265306122449,
           3.163265306122449,
           3.163265306122449,
           3.163265306122449,
           3.163265306122449,
           3.163265306122449,
           3.163265306122449,
           3.163265306122449,
           3.163265306122449,
           3.163265306122449,
           3.163265306122449,
           3.163265306122449,
           3.163265306122449,
           3.163265306122449,
           3.163265306122449,
           3.163265306122449,
           3.163265306122449,
           3.163265306122449,
           3.163265306122449,
           3.163265306122449,
           3.163265306122449,
           3.163265306122449,
           3.163265306122449,
           3.163265306122449,
           3.163265306122449,
           3.163265306122449,
           3.163265306122449,
           3.163265306122449,
           3.163265306122449,
           3.163265306122449,
           3.163265306122449
          ],
          [
           3.36734693877551,
           3.36734693877551,
           3.36734693877551,
           3.36734693877551,
           3.36734693877551,
           3.36734693877551,
           3.36734693877551,
           3.36734693877551,
           3.36734693877551,
           3.36734693877551,
           3.36734693877551,
           3.36734693877551,
           3.36734693877551,
           3.36734693877551,
           3.36734693877551,
           3.36734693877551,
           3.36734693877551,
           3.36734693877551,
           3.36734693877551,
           3.36734693877551,
           3.36734693877551,
           3.36734693877551,
           3.36734693877551,
           3.36734693877551,
           3.36734693877551,
           3.36734693877551,
           3.36734693877551,
           3.36734693877551,
           3.36734693877551,
           3.36734693877551,
           3.36734693877551,
           3.36734693877551,
           3.36734693877551,
           3.36734693877551,
           3.36734693877551,
           3.36734693877551,
           3.36734693877551,
           3.36734693877551,
           3.36734693877551,
           3.36734693877551,
           3.36734693877551,
           3.36734693877551,
           3.36734693877551,
           3.36734693877551,
           3.36734693877551,
           3.36734693877551,
           3.36734693877551,
           3.36734693877551,
           3.36734693877551,
           3.36734693877551
          ],
          [
           3.571428571428571,
           3.571428571428571,
           3.571428571428571,
           3.571428571428571,
           3.571428571428571,
           3.571428571428571,
           3.571428571428571,
           3.571428571428571,
           3.571428571428571,
           3.571428571428571,
           3.571428571428571,
           3.571428571428571,
           3.571428571428571,
           3.571428571428571,
           3.571428571428571,
           3.571428571428571,
           3.571428571428571,
           3.571428571428571,
           3.571428571428571,
           3.571428571428571,
           3.571428571428571,
           3.571428571428571,
           3.571428571428571,
           3.571428571428571,
           3.571428571428571,
           3.571428571428571,
           3.571428571428571,
           3.571428571428571,
           3.571428571428571,
           3.571428571428571,
           3.571428571428571,
           3.571428571428571,
           3.571428571428571,
           3.571428571428571,
           3.571428571428571,
           3.571428571428571,
           3.571428571428571,
           3.571428571428571,
           3.571428571428571,
           3.571428571428571,
           3.571428571428571,
           3.571428571428571,
           3.571428571428571,
           3.571428571428571,
           3.571428571428571,
           3.571428571428571,
           3.571428571428571,
           3.571428571428571,
           3.571428571428571,
           3.571428571428571
          ],
          [
           3.775510204081632,
           3.775510204081632,
           3.775510204081632,
           3.775510204081632,
           3.775510204081632,
           3.775510204081632,
           3.775510204081632,
           3.775510204081632,
           3.775510204081632,
           3.775510204081632,
           3.775510204081632,
           3.775510204081632,
           3.775510204081632,
           3.775510204081632,
           3.775510204081632,
           3.775510204081632,
           3.775510204081632,
           3.775510204081632,
           3.775510204081632,
           3.775510204081632,
           3.775510204081632,
           3.775510204081632,
           3.775510204081632,
           3.775510204081632,
           3.775510204081632,
           3.775510204081632,
           3.775510204081632,
           3.775510204081632,
           3.775510204081632,
           3.775510204081632,
           3.775510204081632,
           3.775510204081632,
           3.775510204081632,
           3.775510204081632,
           3.775510204081632,
           3.775510204081632,
           3.775510204081632,
           3.775510204081632,
           3.775510204081632,
           3.775510204081632,
           3.775510204081632,
           3.775510204081632,
           3.775510204081632,
           3.775510204081632,
           3.775510204081632,
           3.775510204081632,
           3.775510204081632,
           3.775510204081632,
           3.775510204081632,
           3.775510204081632
          ],
          [
           3.979591836734695,
           3.979591836734695,
           3.979591836734695,
           3.979591836734695,
           3.979591836734695,
           3.979591836734695,
           3.979591836734695,
           3.979591836734695,
           3.979591836734695,
           3.979591836734695,
           3.979591836734695,
           3.979591836734695,
           3.979591836734695,
           3.979591836734695,
           3.979591836734695,
           3.979591836734695,
           3.979591836734695,
           3.979591836734695,
           3.979591836734695,
           3.979591836734695,
           3.979591836734695,
           3.979591836734695,
           3.979591836734695,
           3.979591836734695,
           3.979591836734695,
           3.979591836734695,
           3.979591836734695,
           3.979591836734695,
           3.979591836734695,
           3.979591836734695,
           3.979591836734695,
           3.979591836734695,
           3.979591836734695,
           3.979591836734695,
           3.979591836734695,
           3.979591836734695,
           3.979591836734695,
           3.979591836734695,
           3.979591836734695,
           3.979591836734695,
           3.979591836734695,
           3.979591836734695,
           3.979591836734695,
           3.979591836734695,
           3.979591836734695,
           3.979591836734695,
           3.979591836734695,
           3.979591836734695,
           3.979591836734695,
           3.979591836734695
          ],
          [
           4.183673469387756,
           4.183673469387756,
           4.183673469387756,
           4.183673469387756,
           4.183673469387756,
           4.183673469387756,
           4.183673469387756,
           4.183673469387756,
           4.183673469387756,
           4.183673469387756,
           4.183673469387756,
           4.183673469387756,
           4.183673469387756,
           4.183673469387756,
           4.183673469387756,
           4.183673469387756,
           4.183673469387756,
           4.183673469387756,
           4.183673469387756,
           4.183673469387756,
           4.183673469387756,
           4.183673469387756,
           4.183673469387756,
           4.183673469387756,
           4.183673469387756,
           4.183673469387756,
           4.183673469387756,
           4.183673469387756,
           4.183673469387756,
           4.183673469387756,
           4.183673469387756,
           4.183673469387756,
           4.183673469387756,
           4.183673469387756,
           4.183673469387756,
           4.183673469387756,
           4.183673469387756,
           4.183673469387756,
           4.183673469387756,
           4.183673469387756,
           4.183673469387756,
           4.183673469387756,
           4.183673469387756,
           4.183673469387756,
           4.183673469387756,
           4.183673469387756,
           4.183673469387756,
           4.183673469387756,
           4.183673469387756,
           4.183673469387756
          ],
          [
           4.387755102040817,
           4.387755102040817,
           4.387755102040817,
           4.387755102040817,
           4.387755102040817,
           4.387755102040817,
           4.387755102040817,
           4.387755102040817,
           4.387755102040817,
           4.387755102040817,
           4.387755102040817,
           4.387755102040817,
           4.387755102040817,
           4.387755102040817,
           4.387755102040817,
           4.387755102040817,
           4.387755102040817,
           4.387755102040817,
           4.387755102040817,
           4.387755102040817,
           4.387755102040817,
           4.387755102040817,
           4.387755102040817,
           4.387755102040817,
           4.387755102040817,
           4.387755102040817,
           4.387755102040817,
           4.387755102040817,
           4.387755102040817,
           4.387755102040817,
           4.387755102040817,
           4.387755102040817,
           4.387755102040817,
           4.387755102040817,
           4.387755102040817,
           4.387755102040817,
           4.387755102040817,
           4.387755102040817,
           4.387755102040817,
           4.387755102040817,
           4.387755102040817,
           4.387755102040817,
           4.387755102040817,
           4.387755102040817,
           4.387755102040817,
           4.387755102040817,
           4.387755102040817,
           4.387755102040817,
           4.387755102040817,
           4.387755102040817
          ],
          [
           4.591836734693878,
           4.591836734693878,
           4.591836734693878,
           4.591836734693878,
           4.591836734693878,
           4.591836734693878,
           4.591836734693878,
           4.591836734693878,
           4.591836734693878,
           4.591836734693878,
           4.591836734693878,
           4.591836734693878,
           4.591836734693878,
           4.591836734693878,
           4.591836734693878,
           4.591836734693878,
           4.591836734693878,
           4.591836734693878,
           4.591836734693878,
           4.591836734693878,
           4.591836734693878,
           4.591836734693878,
           4.591836734693878,
           4.591836734693878,
           4.591836734693878,
           4.591836734693878,
           4.591836734693878,
           4.591836734693878,
           4.591836734693878,
           4.591836734693878,
           4.591836734693878,
           4.591836734693878,
           4.591836734693878,
           4.591836734693878,
           4.591836734693878,
           4.591836734693878,
           4.591836734693878,
           4.591836734693878,
           4.591836734693878,
           4.591836734693878,
           4.591836734693878,
           4.591836734693878,
           4.591836734693878,
           4.591836734693878,
           4.591836734693878,
           4.591836734693878,
           4.591836734693878,
           4.591836734693878,
           4.591836734693878,
           4.591836734693878
          ],
          [
           4.795918367346939,
           4.795918367346939,
           4.795918367346939,
           4.795918367346939,
           4.795918367346939,
           4.795918367346939,
           4.795918367346939,
           4.795918367346939,
           4.795918367346939,
           4.795918367346939,
           4.795918367346939,
           4.795918367346939,
           4.795918367346939,
           4.795918367346939,
           4.795918367346939,
           4.795918367346939,
           4.795918367346939,
           4.795918367346939,
           4.795918367346939,
           4.795918367346939,
           4.795918367346939,
           4.795918367346939,
           4.795918367346939,
           4.795918367346939,
           4.795918367346939,
           4.795918367346939,
           4.795918367346939,
           4.795918367346939,
           4.795918367346939,
           4.795918367346939,
           4.795918367346939,
           4.795918367346939,
           4.795918367346939,
           4.795918367346939,
           4.795918367346939,
           4.795918367346939,
           4.795918367346939,
           4.795918367346939,
           4.795918367346939,
           4.795918367346939,
           4.795918367346939,
           4.795918367346939,
           4.795918367346939,
           4.795918367346939,
           4.795918367346939,
           4.795918367346939,
           4.795918367346939,
           4.795918367346939,
           4.795918367346939,
           4.795918367346939
          ],
          [
           5,
           5,
           5,
           5,
           5,
           5,
           5,
           5,
           5,
           5,
           5,
           5,
           5,
           5,
           5,
           5,
           5,
           5,
           5,
           5,
           5,
           5,
           5,
           5,
           5,
           5,
           5,
           5,
           5,
           5,
           5,
           5,
           5,
           5,
           5,
           5,
           5,
           5,
           5,
           5,
           5,
           5,
           5,
           5,
           5,
           5,
           5,
           5,
           5,
           5
          ]
         ],
         "z": [
          [
           0.7088612918380416,
           0.6012607971825358,
           0.4841622483917459,
           0.360740791993862,
           0.23406493127955216,
           0.10700466225365904,
           -0.01784499952657662,
           -0.13822328993897426,
           -0.2522448220518735,
           -0.3584224731231146,
           -0.4556727299161993,
           -0.5433048854762593,
           -0.620996052891945,
           -0.6887543890600372,
           -0.7468731919599996,
           -0.7958786461366034,
           -0.83647395067372,
           -0.8694823891841047,
           -0.8957916179629645,
           -0.9163010888039721,
           -0.9318741234556186,
           -0.9432957545573809,
           -0.9512370776303138,
           -0.9562265483608537,
           -0.9586284273783965,
           -0.9586284273783965,
           -0.9562265483608537,
           -0.9512370776303138,
           -0.9432957545573809,
           -0.9318741234556186,
           -0.9163010888039721,
           -0.8957916179629645,
           -0.8694823891841047,
           -0.83647395067372,
           -0.7958786461366034,
           -0.7468731919599996,
           -0.6887543890600372,
           -0.620996052891945,
           -0.5433048854762593,
           -0.4556727299161985,
           -0.3584224731231146,
           -0.2522448220518735,
           -0.13822328993897426,
           -0.017844999526577508,
           0.10700466225365993,
           0.23406493127955216,
           0.360740791993862,
           0.4841622483917459,
           0.6012607971825358,
           0.7088612918380416
          ],
          [
           0.6012607971825358,
           0.4787825737542306,
           0.34902302025601734,
           0.2153624576519015,
           0.08099775378767857,
           -0.05115012570670397,
           -0.17851055045240807,
           -0.2989180310406672,
           -0.41064674598171086,
           -0.5124250649044807,
           -0.6034311923969353,
           -0.6832717906406616,
           -0.751946025875903,
           -0.8097979013448551,
           -0.8574599755140856,
           -0.895791617962964,
           -0.9258148366660262,
           -0.9486504409541008,
           -0.965456915754715,
           -0.977373914471971,
           -0.9854717750053216,
           -0.990707972300244,
           -0.9938909847590379,
           -0.9956517061941569,
           -0.9964223027670561,
           -0.9964223027670561,
           -0.9956517061941569,
           -0.9938909847590379,
           -0.990707972300244,
           -0.9854717750053216,
           -0.977373914471971,
           -0.965456915754715,
           -0.9486504409541008,
           -0.9258148366660262,
           -0.895791617962964,
           -0.8574599755140856,
           -0.8097979013448551,
           -0.751946025875903,
           -0.6832717906406616,
           -0.6034311923969345,
           -0.5124250649044807,
           -0.41064674598171086,
           -0.2989180310406672,
           -0.17851055045240807,
           -0.05115012570670397,
           0.08099775378767857,
           0.21536245765190237,
           0.34902302025601734,
           0.4787825737542306,
           0.6012607971825358
          ],
          [
           0.4841622483917459,
           0.34902302025601734,
           0.20909800028278805,
           0.06793226150604893,
           -0.07119390310572965,
           -0.20535673066895674,
           -0.3320600109190605,
           -0.4492840140880052,
           -0.5555120114914418,
           -0.6497350816682486,
           -0.7314368038393049,
           -0.8005602112050231,
           -0.8574599755140856,
           -0.9028431975074762,
           -0.9377023726321769,
           -0.9632440875473253,
           -0.9808167930961705,
           -0.9918406192094589,
           -0.9977416843494716,
           -0.9998927545197778,
           -0.9995614795786069,
           -0.9978668353032332,
           -0.99574388311018,
           -0.9939165709838492,
           -0.992878068874843,
           -0.992878068874843,
           -0.9939165709838492,
           -0.99574388311018,
           -0.9978668353032332,
           -0.9995614795786069,
           -0.9998927545197778,
           -0.9977416843494716,
           -0.9918406192094589,
           -0.9808167930961705,
           -0.9632440875473253,
           -0.9377023726321769,
           -0.9028431975074762,
           -0.8574599755140856,
           -0.8005602112050231,
           -0.7314368038393049,
           -0.6497350816682486,
           -0.5555120114914418,
           -0.4492840140880052,
           -0.3320600109190605,
           -0.20535673066895674,
           -0.07119390310572876,
           0.06793226150604893,
           0.20909800028278805,
           0.34902302025601734,
           0.4841622483917459
          ],
          [
           0.360740791993862,
           0.2153624576519015,
           0.06793226150604893,
           -0.07788357941865572,
           -0.21876861380640927,
           -0.35184587228704123,
           -0.4747440732968901,
           -0.5856392385719423,
           -0.6832717906406616,
           -0.7669402914077502,
           -0.8364739506737204,
           -0.8921868412775968,
           -0.9348173671173666,
           -0.9654569157547153,
           -0.9854717750053218,
           -0.9964223027670561,
           -0.9999830257715537,
           -0.9978668353032332,
           -0.9917557900811913,
           -0.9832402852966412,
           -0.9737675690019731,
           -0.9645998543799191,
           -0.9567816586908864,
           -0.9511155564018553,
           -0.9481453054689806,
           -0.9481453054689806,
           -0.9511155564018553,
           -0.9567816586908864,
           -0.9645998543799191,
           -0.9737675690019731,
           -0.9832402852966413,
           -0.9917557900811913,
           -0.9978668353032332,
           -0.9999830257715537,
           -0.9964223027670561,
           -0.9854717750053218,
           -0.9654569157547153,
           -0.9348173671173666,
           -0.8921868412775968,
           -0.83647395067372,
           -0.7669402914077502,
           -0.6832717906406616,
           -0.5856392385719423,
           -0.4747440732968901,
           -0.3518458722870404,
           -0.21876861380640839,
           -0.07788357941865483,
           0.06793226150604893,
           0.2153624576519015,
           0.360740791993862
          ],
          [
           0.23406493127955216,
           0.08099775378767857,
           -0.07119390310572965,
           -0.21876861380640927,
           -0.3584224731231146,
           -0.48737541697146297,
           -0.6034311923969353,
           -0.7050102250547493,
           -0.7911558854006354,
           -0.861515825248745,
           -0.9163010888039721,
           -0.956226548360854,
           -0.9824368352235746,
           -0.9964223027670561,
           -0.999929655554278,
           -0.9948717052000141,
           -0.9832402852966413,
           -0.9670257062264789,
           -0.9481453054689809,
           -0.9283827160723326,
           -0.9093385153328563,
           -0.8923920163458386,
           -0.8786732166221107,
           -0.8690433997821212,
           -0.8640826548883445,
           -0.8640826548883445,
           -0.8690433997821212,
           -0.8786732166221107,
           -0.8923920163458386,
           -0.9093385153328563,
           -0.9283827160723329,
           -0.9481453054689809,
           -0.9670257062264789,
           -0.9832402852966413,
           -0.9948717052000141,
           -0.999929655554278,
           -0.9964223027670561,
           -0.9824368352235746,
           -0.9562265483608537,
           -0.9163010888039721,
           -0.861515825248745,
           -0.7911558854006354,
           -0.7050102250547493,
           -0.603431192396936,
           -0.4873754169714622,
           -0.3584224731231146,
           -0.21876861380640839,
           -0.07119390310572965,
           0.08099775378767857,
           0.23406493127955216
          ],
          [
           0.10700466225365904,
           -0.05115012570670397,
           -0.20535673066895674,
           -0.35184587228704123,
           -0.48737541697146297,
           -0.6093119405193429,
           -0.7156830555601232,
           -0.805200117568719,
           -0.8772522797178085,
           -0.9318741234556183,
           -0.9696901893208025,
           -0.9918406192094589,
           -0.9998927545197778,
           -0.99574388311018,
           -0.9815203738412592,
           -0.959478177716202,
           -0.9319091233076362,
           -0.9010566240932906,
           -0.8690433997821212,
           -0.8378126671114393,
           -0.8090830722571187,
           -0.7843165265789442,
           -0.7646971857339709,
           -0.7511191869706257,
           -0.7441805122262523,
           -0.7441805122262523,
           -0.7511191869706257,
           -0.7646971857339715,
           -0.7843165265789442,
           -0.8090830722571187,
           -0.8378126671114393,
           -0.8690433997821216,
           -0.9010566240932906,
           -0.9319091233076362,
           -0.959478177716202,
           -0.9815203738412592,
           -0.99574388311018,
           -0.9998927545197778,
           -0.9918406192094588,
           -0.9696901893208025,
           -0.9318741234556183,
           -0.8772522797178085,
           -0.805200117568719,
           -0.7156830555601232,
           -0.6093119405193429,
           -0.4873754169714622,
           -0.3518458722870404,
           -0.20535673066895674,
           -0.05115012570670397,
           0.10700466225365904
          ],
          [
           -0.01784499952657662,
           -0.17851055045240807,
           -0.3320600109190605,
           -0.4747440732968901,
           -0.6034311923969353,
           -0.7156830555601232,
           -0.8097979013448555,
           -0.8848216987933307,
           -0.9405286613129401,
           -0.977373914471971,
           -0.9964223027670561,
           -0.9992582513658551,
           -0.987882249132002,
           -0.9645998543799194,
           -0.9319091233076362,
           -0.8923920163458386,
           -0.8486146603353995,
           -0.8030403651008998,
           -0.7579580655414144,
           -0.7154274651797491,
           -0.6772407024821496,
           -0.6448989808702906,
           -0.6196014471103654,
           -0.6022428190665525,
           -0.5934159736850025,
           -0.5934159736850025,
           -0.6022428190665525,
           -0.6196014471103654,
           -0.6448989808702906,
           -0.6772407024821496,
           -0.7154274651797494,
           -0.7579580655414144,
           -0.8030403651008998,
           -0.8486146603353995,
           -0.8923920163458386,
           -0.9319091233076362,
           -0.9645998543799194,
           -0.987882249132002,
           -0.9992582513658551,
           -0.9964223027670561,
           -0.977373914471971,
           -0.9405286613129401,
           -0.8848216987933307,
           -0.8097979013448561,
           -0.7156830555601226,
           -0.6034311923969345,
           -0.47474407329688934,
           -0.3320600109190605,
           -0.17851055045240807,
           -0.01784499952657662
          ],
          [
           -0.13822328993897426,
           -0.2989180310406672,
           -0.4492840140880052,
           -0.5856392385719423,
           -0.7050102250547493,
           -0.805200117568719,
           -0.8848216987933307,
           -0.9432957545573809,
           -0.9808167930961706,
           -0.9982895603893998,
           -0.9972410299067794,
           -0.9797135249281832,
           -0.9481453054689809,
           -0.9052452818261828,
           -0.853868477186095,
           -0.7968984406841626,
           -0.7371420139536714,
           -0.6772407024821496,
           -0.6196014471103654,
           -0.5663479117189782,
           -0.5192916196550724,
           -0.4799205433235368,
           -0.44940127196520535,
           -0.4285898585129561,
           -0.41804606103374153,
           -0.41804606103374153,
           -0.4285898585129561,
           -0.44940127196520535,
           -0.4799205433235368,
           -0.5192916196550724,
           -0.5663479117189786,
           -0.6196014471103654,
           -0.6772407024821496,
           -0.7371420139536714,
           -0.7968984406841626,
           -0.853868477186095,
           -0.9052452818261828,
           -0.9481453054689809,
           -0.9797135249281834,
           -0.9972410299067794,
           -0.9982895603893998,
           -0.9808167930961706,
           -0.9432957545573809,
           -0.8848216987933307,
           -0.8052001175687185,
           -0.7050102250547493,
           -0.5856392385719423,
           -0.4492840140880052,
           -0.2989180310406672,
           -0.13822328993897426
          ],
          [
           -0.2522448220518735,
           -0.41064674598171086,
           -0.5555120114914418,
           -0.6832717906406616,
           -0.7911558854006354,
           -0.8772522797178085,
           -0.9405286613129401,
           -0.9808167930961706,
           -0.998762289817337,
           -0.9957438831101799,
           -0.9737675690019734,
           -0.9353420657918389,
           -0.8833427159121674,
           -0.8208713022067209,
           -0.7511191869706254,
           -0.6772407024821496,
           -0.6022428190665525,
           -0.5288958024126512,
           -0.45966788174604684,
           -0.3966849561727841,
           -0.34171418946716886,
           -0.2961681669245546,
           -0.2611243577153724,
           -0.23735323133272504,
           -0.22534779979163747,
           -0.22534779979163747,
           -0.23735323133272504,
           -0.2611243577153724,
           -0.2961681669245546,
           -0.34171418946716886,
           -0.39668495617278454,
           -0.45966788174604684,
           -0.5288958024126512,
           -0.6022428190665525,
           -0.6772407024821496,
           -0.7511191869706257,
           -0.8208713022067209,
           -0.8833427159121674,
           -0.9353420657918391,
           -0.9737675690019734,
           -0.9957438831101799,
           -0.998762289817337,
           -0.9808167930961706,
           -0.9405286613129404,
           -0.8772522797178082,
           -0.7911558854006349,
           -0.6832717906406616,
           -0.5555120114914418,
           -0.41064674598171086,
           -0.2522448220518735
          ],
          [
           -0.3584224731231146,
           -0.5124250649044807,
           -0.6497350816682486,
           -0.7669402914077502,
           -0.861515825248745,
           -0.9318741234556183,
           -0.977373914471971,
           -0.9982895603893998,
           -0.9957438831101799,
           -0.9716092040101532,
           -0.9283827160723329,
           -0.8690433997821212,
           -0.7968984406841626,
           -0.7154274651797494,
           -0.6281328485308598,
           -0.5384038395399217,
           -0.44940127196520574,
           -0.3639681856286138,
           -0.284569771119161,
           -0.21326372672191662,
           -0.15169948053775142,
           -0.10114197960234647,
           -0.06251318492515723,
           -0.0364424391018862,
           -0.023315931153386156,
           -0.023315931153386156,
           -0.0364424391018862,
           -0.06251318492515723,
           -0.10114197960234647,
           -0.15169948053775142,
           -0.21326372672191662,
           -0.284569771119161,
           -0.3639681856286138,
           -0.44940127196520574,
           -0.5384038395399217,
           -0.6281328485308598,
           -0.7154274651797494,
           -0.7968984406841626,
           -0.8690433997821216,
           -0.9283827160723329,
           -0.9716092040101532,
           -0.9957438831101799,
           -0.9982895603893998,
           -0.9773739144719712,
           -0.9318741234556183,
           -0.8615158252487446,
           -0.7669402914077497,
           -0.6497350816682486,
           -0.5124250649044807,
           -0.3584224731231146
          ],
          [
           -0.4556727299161993,
           -0.6034311923969353,
           -0.7314368038393049,
           -0.8364739506737204,
           -0.9163010888039721,
           -0.9696901893208025,
           -0.9964223027670561,
           -0.9972410299067794,
           -0.9737675690019734,
           -0.9283827160723329,
           -0.8640826548883445,
           -0.7843165265789442,
           -0.6928145641316081,
           -0.5934159736850025,
           -0.4899057084333991,
           -0.38586878159541044,
           -0.28456977111916054,
           -0.18886364761916918,
           -0.10114197960234647,
           -0.023315931153385268,
           0.043165676047458926,
           0.09726843668303074,
           0.1383032214252014,
           0.16584734834905887,
           0.17966920943455034,
           0.17966920943455034,
           0.16584734834905887,
           0.1383032214252014,
           0.09726843668303074,
           0.043165676047458926,
           -0.023315931153385712,
           -0.10114197960234647,
           -0.18886364761916918,
           -0.28456977111916054,
           -0.38586878159541044,
           -0.4899057084333991,
           -0.5934159736850025,
           -0.6928145641316081,
           -0.7843165265789442,
           -0.8640826548883445,
           -0.9283827160723329,
           -0.9737675690019734,
           -0.9972410299067794,
           -0.9964223027670562,
           -0.9696901893208023,
           -0.9163010888039718,
           -0.83647395067372,
           -0.7314368038393049,
           -0.6034311923969353,
           -0.4556727299161993
          ],
          [
           -0.5433048854762593,
           -0.6832717906406616,
           -0.8005602112050231,
           -0.8921868412775968,
           -0.956226548360854,
           -0.9918406192094589,
           -0.9992582513658551,
           -0.9797135249281832,
           -0.9353420657918389,
           -0.8690433997821212,
           -0.7843165265789442,
           -0.6850774543943259,
           -0.575468284375136,
           -0.45966788174604684,
           -0.34171418946716886,
           -0.22534779979163702,
           -0.11388545947420621,
           -0.01013068566252859,
           0.08367347071051748,
           0.16584734834905887,
           0.23523476933467943,
           0.2911261248565428,
           0.3331549495368374,
           0.3611827732559608,
           0.3751898849254924,
           0.3751898849254924,
           0.3611827732559608,
           0.3331549495368374,
           0.2911261248565428,
           0.23523476933467943,
           0.16584734834905843,
           0.08367347071051748,
           -0.01013068566252859,
           -0.11388545947420621,
           -0.22534779979163702,
           -0.34171418946716886,
           -0.45966788174604684,
           -0.575468284375136,
           -0.6850774543943262,
           -0.7843165265789442,
           -0.8690433997821212,
           -0.9353420657918389,
           -0.9797135249281832,
           -0.9992582513658551,
           -0.9918406192094588,
           -0.9562265483608537,
           -0.8921868412775968,
           -0.8005602112050231,
           -0.6832717906406616,
           -0.5433048854762593
          ],
          [
           -0.620996052891945,
           -0.751946025875903,
           -0.8574599755140856,
           -0.9348173671173666,
           -0.9824368352235746,
           -0.9998927545197778,
           -0.987882249132002,
           -0.9481453054689809,
           -0.8833427159121674,
           -0.7968984406841626,
           -0.6928145641316081,
           -0.575468284375136,
           -0.44940127196520535,
           -0.3191122379464057,
           -0.18886364761916877,
           -0.06251318492515634,
           0.05662022295801467,
           0.16584734834905843,
           0.2631501206136793,
           0.3471700578206414,
           0.4171441683762549,
           0.47279410466809624,
           0.5141806650813584,
           0.5415422335833872,
           0.555140806540871,
           0.555140806540871,
           0.5415422335833872,
           0.5141806650813584,
           0.47279410466809624,
           0.4171441683762549,
           0.347170057820641,
           0.2631501206136789,
           0.16584734834905843,
           0.05662022295801467,
           -0.06251318492515634,
           -0.18886364761916918,
           -0.3191122379464057,
           -0.44940127196520535,
           -0.5754682843751368,
           -0.6928145641316085,
           -0.7968984406841626,
           -0.8833427159121674,
           -0.9481453054689809,
           -0.9878822491320018,
           -0.9998927545197778,
           -0.9824368352235745,
           -0.9348173671173666,
           -0.8574599755140856,
           -0.751946025875903,
           -0.620996052891945
          ],
          [
           -0.6887543890600372,
           -0.8097979013448551,
           -0.9028431975074762,
           -0.9654569157547153,
           -0.9964223027670561,
           -0.99574388311018,
           -0.9645998543799194,
           -0.9052452818261828,
           -0.8208713022067209,
           -0.7154274651797494,
           -0.5934159736850025,
           -0.45966788174604684,
           -0.3191122379464057,
           -0.17654971439887726,
           -0.03644243910188576,
           0.0972684366830303,
           0.22130646463193865,
           0.333154949536837,
           0.4310949772394066,
           0.5141806650813581,
           0.5821499548559335,
           0.635275379801158,
           0.6741675935905257,
           0.6995542917626514,
           0.7120661843929749,
           0.7120661843929749,
           0.6995542917626514,
           0.6741675935905257,
           0.635275379801158,
           0.5821499548559335,
           0.5141806650813576,
           0.4310949772394066,
           0.333154949536837,
           0.22130646463193865,
           0.0972684366830303,
           -0.0364424391018862,
           -0.17654971439887726,
           -0.3191122379464057,
           -0.4596678817460476,
           -0.593415973685003,
           -0.7154274651797494,
           -0.8208713022067209,
           -0.9052452818261828,
           -0.9645998543799191,
           -0.99574388311018,
           -0.996422302767056,
           -0.965456915754715,
           -0.9028431975074762,
           -0.8097979013448551,
           -0.6887543890600372
          ],
          [
           -0.7468731919599996,
           -0.8574599755140856,
           -0.9377023726321769,
           -0.9854717750053218,
           -0.999929655554278,
           -0.9815203738412592,
           -0.9319091233076362,
           -0.853868477186095,
           -0.7511191869706254,
           -0.6281328485308598,
           -0.4899057084333991,
           -0.34171418946716886,
           -0.18886364761916877,
           -0.03644243910188576,
           0.11090638986676159,
           0.24918352070193622,
           0.3751898849254924,
           0.4866297822356027,
           0.5821499548559338,
           0.6613056640049528,
           0.7244481797707406,
           0.7725344172264372,
           0.8068699588413698,
           0.8288114102467763,
           0.8394701013464742,
           0.8394701013464742,
           0.8288114102467763,
           0.8068699588413696,
           0.7725344172264372,
           0.7244481797707406,
           0.6613056640049525,
           0.5821499548559335,
           0.4866297822356027,
           0.3751898849254924,
           0.24918352070193622,
           0.11090638986676159,
           -0.03644243910188576,
           -0.18886364761916877,
           -0.3417141894671697,
           -0.4899057084333995,
           -0.6281328485308598,
           -0.7511191869706254,
           -0.853868477186095,
           -0.9319091233076359,
           -0.9815203738412592,
           -0.9999296555542782,
           -0.9854717750053216,
           -0.9377023726321769,
           -0.8574599755140856,
           -0.7468731919599996
          ],
          [
           -0.7958786461366034,
           -0.895791617962964,
           -0.9632440875473253,
           -0.9964223027670561,
           -0.9948717052000141,
           -0.959478177716202,
           -0.8923920163458386,
           -0.7968984406841626,
           -0.6772407024821496,
           -0.5384038395399217,
           -0.38586878159541044,
           -0.22534779979163702,
           -0.06251318492515634,
           0.0972684366830303,
           0.24918352070193622,
           0.3891880949804339,
           0.5141806650813584,
           0.6221187700281382,
           0.7120661843929752,
           0.7841577453622239,
           0.8394701013464744,
           0.8797915913928462,
           0.9072962038501222,
           0.9241476110796848,
           0.9320875305880044,
           0.9320875305880044,
           0.9241476110796848,
           0.9072962038501222,
           0.8797915913928462,
           0.8394701013464744,
           0.7841577453622234,
           0.7120661843929752,
           0.6221187700281382,
           0.5141806650813584,
           0.3891880949804339,
           0.24918352070193536,
           0.0972684366830303,
           -0.06251318492515634,
           -0.22534779979163788,
           -0.38586878159541127,
           -0.5384038395399217,
           -0.6772407024821496,
           -0.7968984406841626,
           -0.8923920163458386,
           -0.9594781777162024,
           -0.9948717052000142,
           -0.996422302767056,
           -0.9632440875473253,
           -0.895791617962964,
           -0.7958786461366034
          ],
          [
           -0.83647395067372,
           -0.9258148366660262,
           -0.9808167930961705,
           -0.9999830257715537,
           -0.9832402852966413,
           -0.9319091233076362,
           -0.8486146603353995,
           -0.7371420139536714,
           -0.6022428190665525,
           -0.44940127196520574,
           -0.28456977111916054,
           -0.11388545947420621,
           0.05662022295801467,
           0.22130646463193865,
           0.3751898849254924,
           0.5141806650813584,
           0.6352753798011583,
           0.7366933130895098,
           0.8179415474121817,
           0.8797915913928462,
           0.9241476110796847,
           0.9537864974641171,
           0.9719594093395033,
           0.9818715515601063,
           0.9861051336171377,
           0.9861051336171377,
           0.9818715515601063,
           0.9719594093395032,
           0.9537864974641171,
           0.9241476110796847,
           0.8797915913928461,
           0.8179415474121815,
           0.7366933130895098,
           0.6352753798011583,
           0.5141806650813584,
           0.375189884925492,
           0.22130646463193865,
           0.05662022295801467,
           -0.1138854594742071,
           -0.284569771119161,
           -0.44940127196520574,
           -0.6022428190665525,
           -0.7371420139536714,
           -0.848614660335399,
           -0.9319091233076365,
           -0.9832402852966415,
           -0.9999830257715537,
           -0.9808167930961705,
           -0.9258148366660262,
           -0.83647395067372
          ],
          [
           -0.8694823891841047,
           -0.9486504409541008,
           -0.9918406192094589,
           -0.9978668353032332,
           -0.9670257062264789,
           -0.9010566240932906,
           -0.8030403651008998,
           -0.6772407024821496,
           -0.5288958024126512,
           -0.3639681856286138,
           -0.18886364761916918,
           -0.01013068566252859,
           0.16584734834905843,
           0.333154949536837,
           0.4866297822356027,
           0.6221187700281382,
           0.7366933130895098,
           0.8288114102467761,
           0.8984121304048717,
           0.9469226267544921,
           0.9771491088995428,
           0.9930131040399486,
           0.9990923039171957,
           0.9999512723429395,
           0.9993234532930169,
           0.9993234532930169,
           0.9999512723429395,
           0.9990923039171957,
           0.9930131040399486,
           0.9771491088995428,
           0.9469226267544919,
           0.8984121304048716,
           0.8288114102467761,
           0.7366933130895098,
           0.6221187700281382,
           0.4866297822356027,
           0.333154949536837,
           0.16584734834905843,
           -0.010130685662529034,
           -0.18886364761916963,
           -0.3639681856286138,
           -0.5288958024126512,
           -0.6772407024821496,
           -0.8030403651008998,
           -0.9010566240932909,
           -0.9670257062264791,
           -0.9978668353032332,
           -0.9918406192094589,
           -0.9486504409541008,
           -0.8694823891841047
          ],
          [
           -0.8957916179629645,
           -0.965456915754715,
           -0.9977416843494716,
           -0.9917557900811913,
           -0.9481453054689809,
           -0.8690433997821212,
           -0.7579580655414144,
           -0.6196014471103654,
           -0.45966788174604684,
           -0.284569771119161,
           -0.10114197960234647,
           0.08367347071051748,
           0.2631501206136793,
           0.4310949772394066,
           0.5821499548559338,
           0.7120661843929752,
           0.8179415474121817,
           0.8984121304048717,
           0.9537864974641171,
           0.9861051336171377,
           0.9990923039171957,
           0.9979410597706855,
           0.9888408743876644,
           0.9781553916835463,
           0.9712554677588867,
           0.9712554677588867,
           0.9781553916835463,
           0.9888408743876645,
           0.9979410597706855,
           0.9990923039171957,
           0.9861051336171376,
           0.9537864974641171,
           0.8984121304048717,
           0.8179415474121817,
           0.7120661843929752,
           0.5821499548559335,
           0.4310949772394066,
           0.2631501206136793,
           0.08367347071051705,
           -0.10114197960234692,
           -0.284569771119161,
           -0.45966788174604684,
           -0.6196014471103654,
           -0.7579580655414139,
           -0.8690433997821216,
           -0.9481453054689811,
           -0.9917557900811914,
           -0.9977416843494716,
           -0.965456915754715,
           -0.8957916179629645
          ],
          [
           -0.9163010888039721,
           -0.977373914471971,
           -0.9998927545197778,
           -0.9832402852966412,
           -0.9283827160723326,
           -0.8378126671114393,
           -0.7154274651797491,
           -0.5663479117189782,
           -0.3966849561727841,
           -0.21326372672191662,
           -0.023315931153385268,
           0.16584734834905887,
           0.3471700578206414,
           0.5141806650813581,
           0.6613056640049528,
           0.7841577453622239,
           0.8797915913928462,
           0.9469226267544921,
           0.9861051336171377,
           0.9998624514213788,
           0.99274579000098,
           0.9712554677588867,
           0.943475299607924,
           0.9181731175752762,
           0.903161482035054,
           0.903161482035054,
           0.9181731175752762,
           0.9434752996079241,
           0.9712554677588867,
           0.99274579000098,
           0.9998624514213788,
           0.9861051336171376,
           0.9469226267544921,
           0.8797915913928462,
           0.7841577453622239,
           0.6613056640049525,
           0.5141806650813581,
           0.3471700578206414,
           0.16584734834905798,
           -0.023315931153386156,
           -0.21326372672191662,
           -0.3966849561727841,
           -0.5663479117189782,
           -0.7154274651797488,
           -0.8378126671114399,
           -0.9283827160723329,
           -0.9832402852966413,
           -0.9998927545197778,
           -0.977373914471971,
           -0.9163010888039721
          ],
          [
           -0.9318741234556186,
           -0.9854717750053216,
           -0.9995614795786069,
           -0.9737675690019731,
           -0.9093385153328563,
           -0.8090830722571187,
           -0.6772407024821496,
           -0.5192916196550724,
           -0.34171418946716886,
           -0.15169948053775142,
           0.043165676047458926,
           0.23523476933467943,
           0.4171441683762549,
           0.5821499548559335,
           0.7244481797707406,
           0.8394701013464744,
           0.9241476110796847,
           0.9771491088995428,
           0.9990923039171957,
           0.99274579000098,
           0.9632277767356585,
           0.9181731175752763,
           0.867708939077614,
           0.8237785131800275,
           0.7980299139820347,
           0.7980299139820347,
           0.8237785131800275,
           0.8677089390776143,
           0.9181731175752763,
           0.9632277767356585,
           0.99274579000098,
           0.9990923039171957,
           0.9771491088995428,
           0.9241476110796847,
           0.8394701013464744,
           0.7244481797707403,
           0.5821499548559335,
           0.4171441683762549,
           0.235234769334679,
           0.04316567604745804,
           -0.15169948053775142,
           -0.34171418946716886,
           -0.5192916196550724,
           -0.6772407024821493,
           -0.8090830722571192,
           -0.9093385153328566,
           -0.9737675690019734,
           -0.9995614795786069,
           -0.9854717750053216,
           -0.9318741234556186
          ],
          [
           -0.9432957545573809,
           -0.990707972300244,
           -0.9978668353032332,
           -0.9645998543799191,
           -0.8923920163458386,
           -0.7843165265789442,
           -0.6448989808702906,
           -0.4799205433235368,
           -0.2961681669245546,
           -0.10114197960234647,
           0.09726843668303074,
           0.2911261248565428,
           0.47279410466809624,
           0.635275379801158,
           0.7725344172264372,
           0.8797915913928462,
           0.9537864974641171,
           0.9930131040399486,
           0.9979410597706855,
           0.9712554677588867,
           0.9181731175752763,
           0.8469129672204603,
           0.7693278030272884,
           0.7012288638586048,
           0.6605398173554289,
           0.6605398173554289,
           0.7012288638586048,
           0.7693278030272888,
           0.8469129672204603,
           0.9181731175752763,
           0.9712554677588869,
           0.9979410597706855,
           0.9930131040399486,
           0.9537864974641171,
           0.8797915913928462,
           0.772534417226437,
           0.635275379801158,
           0.47279410466809624,
           0.29112612485654193,
           0.0972684366830303,
           -0.10114197960234647,
           -0.2961681669245546,
           -0.4799205433235368,
           -0.6448989808702903,
           -0.7843165265789448,
           -0.892392016345839,
           -0.9645998543799194,
           -0.9978668353032332,
           -0.990707972300244,
           -0.9432957545573809
          ],
          [
           -0.9512370776303138,
           -0.9938909847590379,
           -0.99574388311018,
           -0.9567816586908864,
           -0.8786732166221107,
           -0.7646971857339709,
           -0.6196014471103654,
           -0.44940127196520535,
           -0.2611243577153724,
           -0.06251318492515723,
           0.1383032214252014,
           0.3331549495368374,
           0.5141806650813584,
           0.6741675935905257,
           0.8068699588413698,
           0.9072962038501222,
           0.9719594093395033,
           0.9990923039171957,
           0.9888408743876644,
           0.943475299607924,
           0.867708939077614,
           0.7693278030272884,
           0.6605398173554282,
           0.5605046893683531,
           0.4971475011733913,
           0.4971475011733913,
           0.5605046893683531,
           0.6605398173554287,
           0.7693278030272884,
           0.867708939077614,
           0.9434752996079242,
           0.9888408743876645,
           0.9990923039171957,
           0.9719594093395033,
           0.9072962038501222,
           0.8068699588413696,
           0.6741675935905257,
           0.5141806650813584,
           0.333154949536837,
           0.13830322142520096,
           -0.06251318492515723,
           -0.2611243577153724,
           -0.44940127196520535,
           -0.619601447110365,
           -0.7646971857339715,
           -0.8786732166221112,
           -0.9567816586908866,
           -0.99574388311018,
           -0.9938909847590379,
           -0.9512370776303138
          ],
          [
           -0.9562265483608537,
           -0.9956517061941569,
           -0.9939165709838492,
           -0.9511155564018553,
           -0.8690433997821212,
           -0.7511191869706257,
           -0.6022428190665525,
           -0.4285898585129561,
           -0.23735323133272504,
           -0.0364424391018862,
           0.16584734834905887,
           0.3611827732559608,
           0.5415422335833872,
           0.6995542917626514,
           0.8288114102467763,
           0.9241476110796848,
           0.9818715515601063,
           0.9999512723429395,
           0.9781553916835463,
           0.9181731175752762,
           0.8237785131800275,
           0.7012288638586048,
           0.5605046893683531,
           0.4195254881366548,
           0.3171107007746285,
           0.3171107007746285,
           0.4195254881366548,
           0.5605046893683537,
           0.7012288638586048,
           0.8237785131800275,
           0.9181731175752765,
           0.9781553916835464,
           0.9999512723429395,
           0.9818715515601063,
           0.9241476110796848,
           0.8288114102467761,
           0.6995542917626514,
           0.5415422335833872,
           0.36118277325596,
           0.16584734834905798,
           -0.0364424391018862,
           -0.23735323133272504,
           -0.4285898585129561,
           -0.6022428190665522,
           -0.7511191869706263,
           -0.8690433997821216,
           -0.9511155564018556,
           -0.9939165709838492,
           -0.9956517061941569,
           -0.9562265483608537
          ],
          [
           -0.9586284273783965,
           -0.9964223027670561,
           -0.992878068874843,
           -0.9481453054689806,
           -0.8640826548883445,
           -0.7441805122262523,
           -0.5934159736850025,
           -0.41804606103374153,
           -0.22534779979163747,
           -0.023315931153386156,
           0.17966920943455034,
           0.3751898849254924,
           0.555140806540871,
           0.7120661843929749,
           0.8394701013464742,
           0.9320875305880044,
           0.9861051336171377,
           0.9993234532930169,
           0.9712554677588867,
           0.903161482035054,
           0.7980299139820347,
           0.6605398173554289,
           0.4971475011733913,
           0.3171107007746285,
           0.14380716857780124,
           0.14380716857780124,
           0.3171107007746285,
           0.49714750117339196,
           0.6605398173554289,
           0.7980299139820347,
           0.9031614820350544,
           0.9712554677588868,
           0.9993234532930169,
           0.9861051336171377,
           0.9320875305880044,
           0.8394701013464739,
           0.7120661843929749,
           0.555140806540871,
           0.3751898849254916,
           0.17966920943454992,
           -0.023315931153386156,
           -0.22534779979163747,
           -0.41804606103374153,
           -0.5934159736850022,
           -0.7441805122262529,
           -0.8640826548883449,
           -0.9481453054689809,
           -0.992878068874843,
           -0.9964223027670561,
           -0.9586284273783965
          ],
          [
           -0.9586284273783965,
           -0.9964223027670561,
           -0.992878068874843,
           -0.9481453054689806,
           -0.8640826548883445,
           -0.7441805122262523,
           -0.5934159736850025,
           -0.41804606103374153,
           -0.22534779979163747,
           -0.023315931153386156,
           0.17966920943455034,
           0.3751898849254924,
           0.555140806540871,
           0.7120661843929749,
           0.8394701013464742,
           0.9320875305880044,
           0.9861051336171377,
           0.9993234532930169,
           0.9712554677588867,
           0.903161482035054,
           0.7980299139820347,
           0.6605398173554289,
           0.4971475011733913,
           0.3171107007746285,
           0.14380716857780124,
           0.14380716857780124,
           0.3171107007746285,
           0.49714750117339196,
           0.6605398173554289,
           0.7980299139820347,
           0.9031614820350544,
           0.9712554677588868,
           0.9993234532930169,
           0.9861051336171377,
           0.9320875305880044,
           0.8394701013464739,
           0.7120661843929749,
           0.555140806540871,
           0.3751898849254916,
           0.17966920943454992,
           -0.023315931153386156,
           -0.22534779979163747,
           -0.41804606103374153,
           -0.5934159736850022,
           -0.7441805122262529,
           -0.8640826548883449,
           -0.9481453054689809,
           -0.992878068874843,
           -0.9964223027670561,
           -0.9586284273783965
          ],
          [
           -0.9562265483608537,
           -0.9956517061941569,
           -0.9939165709838492,
           -0.9511155564018553,
           -0.8690433997821212,
           -0.7511191869706257,
           -0.6022428190665525,
           -0.4285898585129561,
           -0.23735323133272504,
           -0.0364424391018862,
           0.16584734834905887,
           0.3611827732559608,
           0.5415422335833872,
           0.6995542917626514,
           0.8288114102467763,
           0.9241476110796848,
           0.9818715515601063,
           0.9999512723429395,
           0.9781553916835463,
           0.9181731175752762,
           0.8237785131800275,
           0.7012288638586048,
           0.5605046893683531,
           0.4195254881366548,
           0.3171107007746285,
           0.3171107007746285,
           0.4195254881366548,
           0.5605046893683537,
           0.7012288638586048,
           0.8237785131800275,
           0.9181731175752765,
           0.9781553916835464,
           0.9999512723429395,
           0.9818715515601063,
           0.9241476110796848,
           0.8288114102467761,
           0.6995542917626514,
           0.5415422335833872,
           0.36118277325596,
           0.16584734834905798,
           -0.0364424391018862,
           -0.23735323133272504,
           -0.4285898585129561,
           -0.6022428190665522,
           -0.7511191869706263,
           -0.8690433997821216,
           -0.9511155564018556,
           -0.9939165709838492,
           -0.9956517061941569,
           -0.9562265483608537
          ],
          [
           -0.9512370776303138,
           -0.9938909847590379,
           -0.99574388311018,
           -0.9567816586908864,
           -0.8786732166221107,
           -0.7646971857339715,
           -0.6196014471103654,
           -0.44940127196520535,
           -0.2611243577153724,
           -0.06251318492515723,
           0.1383032214252014,
           0.3331549495368374,
           0.5141806650813584,
           0.6741675935905257,
           0.8068699588413696,
           0.9072962038501222,
           0.9719594093395032,
           0.9990923039171957,
           0.9888408743876645,
           0.9434752996079241,
           0.8677089390776143,
           0.7693278030272888,
           0.6605398173554287,
           0.5605046893683537,
           0.49714750117339196,
           0.49714750117339196,
           0.5605046893683537,
           0.6605398173554292,
           0.7693278030272888,
           0.8677089390776143,
           0.9434752996079244,
           0.9888408743876645,
           0.9990923039171957,
           0.9719594093395032,
           0.9072962038501222,
           0.8068699588413694,
           0.6741675935905257,
           0.5141806650813584,
           0.33315494953683655,
           0.13830322142520096,
           -0.06251318492515723,
           -0.2611243577153724,
           -0.44940127196520535,
           -0.619601447110365,
           -0.764697185733972,
           -0.8786732166221112,
           -0.9567816586908866,
           -0.99574388311018,
           -0.9938909847590379,
           -0.9512370776303138
          ],
          [
           -0.9432957545573809,
           -0.990707972300244,
           -0.9978668353032332,
           -0.9645998543799191,
           -0.8923920163458386,
           -0.7843165265789442,
           -0.6448989808702906,
           -0.4799205433235368,
           -0.2961681669245546,
           -0.10114197960234647,
           0.09726843668303074,
           0.2911261248565428,
           0.47279410466809624,
           0.635275379801158,
           0.7725344172264372,
           0.8797915913928462,
           0.9537864974641171,
           0.9930131040399486,
           0.9979410597706855,
           0.9712554677588867,
           0.9181731175752763,
           0.8469129672204603,
           0.7693278030272884,
           0.7012288638586048,
           0.6605398173554289,
           0.6605398173554289,
           0.7012288638586048,
           0.7693278030272888,
           0.8469129672204603,
           0.9181731175752763,
           0.9712554677588869,
           0.9979410597706855,
           0.9930131040399486,
           0.9537864974641171,
           0.8797915913928462,
           0.772534417226437,
           0.635275379801158,
           0.47279410466809624,
           0.29112612485654193,
           0.0972684366830303,
           -0.10114197960234647,
           -0.2961681669245546,
           -0.4799205433235368,
           -0.6448989808702903,
           -0.7843165265789448,
           -0.892392016345839,
           -0.9645998543799194,
           -0.9978668353032332,
           -0.990707972300244,
           -0.9432957545573809
          ],
          [
           -0.9318741234556186,
           -0.9854717750053216,
           -0.9995614795786069,
           -0.9737675690019731,
           -0.9093385153328563,
           -0.8090830722571187,
           -0.6772407024821496,
           -0.5192916196550724,
           -0.34171418946716886,
           -0.15169948053775142,
           0.043165676047458926,
           0.23523476933467943,
           0.4171441683762549,
           0.5821499548559335,
           0.7244481797707406,
           0.8394701013464744,
           0.9241476110796847,
           0.9771491088995428,
           0.9990923039171957,
           0.99274579000098,
           0.9632277767356585,
           0.9181731175752763,
           0.867708939077614,
           0.8237785131800275,
           0.7980299139820347,
           0.7980299139820347,
           0.8237785131800275,
           0.8677089390776143,
           0.9181731175752763,
           0.9632277767356585,
           0.99274579000098,
           0.9990923039171957,
           0.9771491088995428,
           0.9241476110796847,
           0.8394701013464744,
           0.7244481797707403,
           0.5821499548559335,
           0.4171441683762549,
           0.235234769334679,
           0.04316567604745804,
           -0.15169948053775142,
           -0.34171418946716886,
           -0.5192916196550724,
           -0.6772407024821493,
           -0.8090830722571192,
           -0.9093385153328566,
           -0.9737675690019734,
           -0.9995614795786069,
           -0.9854717750053216,
           -0.9318741234556186
          ],
          [
           -0.9163010888039721,
           -0.977373914471971,
           -0.9998927545197778,
           -0.9832402852966413,
           -0.9283827160723329,
           -0.8378126671114393,
           -0.7154274651797494,
           -0.5663479117189786,
           -0.39668495617278454,
           -0.21326372672191662,
           -0.023315931153385712,
           0.16584734834905843,
           0.347170057820641,
           0.5141806650813576,
           0.6613056640049525,
           0.7841577453622234,
           0.8797915913928461,
           0.9469226267544919,
           0.9861051336171376,
           0.9998624514213788,
           0.99274579000098,
           0.9712554677588869,
           0.9434752996079242,
           0.9181731175752765,
           0.9031614820350544,
           0.9031614820350544,
           0.9181731175752765,
           0.9434752996079244,
           0.9712554677588869,
           0.99274579000098,
           0.9998624514213788,
           0.9861051336171375,
           0.9469226267544919,
           0.8797915913928461,
           0.7841577453622234,
           0.6613056640049525,
           0.5141806650813576,
           0.347170057820641,
           0.16584734834905798,
           -0.023315931153386156,
           -0.21326372672191662,
           -0.39668495617278454,
           -0.5663479117189786,
           -0.7154274651797491,
           -0.8378126671114399,
           -0.9283827160723332,
           -0.9832402852966415,
           -0.9998927545197778,
           -0.977373914471971,
           -0.9163010888039721
          ],
          [
           -0.8957916179629645,
           -0.965456915754715,
           -0.9977416843494716,
           -0.9917557900811913,
           -0.9481453054689809,
           -0.8690433997821216,
           -0.7579580655414144,
           -0.6196014471103654,
           -0.45966788174604684,
           -0.284569771119161,
           -0.10114197960234647,
           0.08367347071051748,
           0.2631501206136789,
           0.4310949772394066,
           0.5821499548559335,
           0.7120661843929752,
           0.8179415474121815,
           0.8984121304048716,
           0.9537864974641171,
           0.9861051336171376,
           0.9990923039171957,
           0.9979410597706855,
           0.9888408743876645,
           0.9781553916835464,
           0.9712554677588868,
           0.9712554677588868,
           0.9781553916835464,
           0.9888408743876645,
           0.9979410597706855,
           0.9990923039171957,
           0.9861051336171375,
           0.9537864974641169,
           0.8984121304048716,
           0.8179415474121815,
           0.7120661843929752,
           0.5821499548559335,
           0.4310949772394066,
           0.2631501206136789,
           0.0836734707105166,
           -0.10114197960234692,
           -0.284569771119161,
           -0.45966788174604684,
           -0.6196014471103654,
           -0.7579580655414139,
           -0.8690433997821221,
           -0.9481453054689811,
           -0.9917557900811914,
           -0.9977416843494716,
           -0.965456915754715,
           -0.8957916179629645
          ],
          [
           -0.8694823891841047,
           -0.9486504409541008,
           -0.9918406192094589,
           -0.9978668353032332,
           -0.9670257062264789,
           -0.9010566240932906,
           -0.8030403651008998,
           -0.6772407024821496,
           -0.5288958024126512,
           -0.3639681856286138,
           -0.18886364761916918,
           -0.01013068566252859,
           0.16584734834905843,
           0.333154949536837,
           0.4866297822356027,
           0.6221187700281382,
           0.7366933130895098,
           0.8288114102467761,
           0.8984121304048717,
           0.9469226267544921,
           0.9771491088995428,
           0.9930131040399486,
           0.9990923039171957,
           0.9999512723429395,
           0.9993234532930169,
           0.9993234532930169,
           0.9999512723429395,
           0.9990923039171957,
           0.9930131040399486,
           0.9771491088995428,
           0.9469226267544919,
           0.8984121304048716,
           0.8288114102467761,
           0.7366933130895098,
           0.6221187700281382,
           0.4866297822356027,
           0.333154949536837,
           0.16584734834905843,
           -0.010130685662529034,
           -0.18886364761916963,
           -0.3639681856286138,
           -0.5288958024126512,
           -0.6772407024821496,
           -0.8030403651008998,
           -0.9010566240932909,
           -0.9670257062264791,
           -0.9978668353032332,
           -0.9918406192094589,
           -0.9486504409541008,
           -0.8694823891841047
          ],
          [
           -0.83647395067372,
           -0.9258148366660262,
           -0.9808167930961705,
           -0.9999830257715537,
           -0.9832402852966413,
           -0.9319091233076362,
           -0.8486146603353995,
           -0.7371420139536714,
           -0.6022428190665525,
           -0.44940127196520574,
           -0.28456977111916054,
           -0.11388545947420621,
           0.05662022295801467,
           0.22130646463193865,
           0.3751898849254924,
           0.5141806650813584,
           0.6352753798011583,
           0.7366933130895098,
           0.8179415474121817,
           0.8797915913928462,
           0.9241476110796847,
           0.9537864974641171,
           0.9719594093395033,
           0.9818715515601063,
           0.9861051336171377,
           0.9861051336171377,
           0.9818715515601063,
           0.9719594093395032,
           0.9537864974641171,
           0.9241476110796847,
           0.8797915913928461,
           0.8179415474121815,
           0.7366933130895098,
           0.6352753798011583,
           0.5141806650813584,
           0.375189884925492,
           0.22130646463193865,
           0.05662022295801467,
           -0.1138854594742071,
           -0.284569771119161,
           -0.44940127196520574,
           -0.6022428190665525,
           -0.7371420139536714,
           -0.848614660335399,
           -0.9319091233076365,
           -0.9832402852966415,
           -0.9999830257715537,
           -0.9808167930961705,
           -0.9258148366660262,
           -0.83647395067372
          ],
          [
           -0.7958786461366034,
           -0.895791617962964,
           -0.9632440875473253,
           -0.9964223027670561,
           -0.9948717052000141,
           -0.959478177716202,
           -0.8923920163458386,
           -0.7968984406841626,
           -0.6772407024821496,
           -0.5384038395399217,
           -0.38586878159541044,
           -0.22534779979163702,
           -0.06251318492515634,
           0.0972684366830303,
           0.24918352070193622,
           0.3891880949804339,
           0.5141806650813584,
           0.6221187700281382,
           0.7120661843929752,
           0.7841577453622239,
           0.8394701013464744,
           0.8797915913928462,
           0.9072962038501222,
           0.9241476110796848,
           0.9320875305880044,
           0.9320875305880044,
           0.9241476110796848,
           0.9072962038501222,
           0.8797915913928462,
           0.8394701013464744,
           0.7841577453622234,
           0.7120661843929752,
           0.6221187700281382,
           0.5141806650813584,
           0.3891880949804339,
           0.24918352070193536,
           0.0972684366830303,
           -0.06251318492515634,
           -0.22534779979163788,
           -0.38586878159541127,
           -0.5384038395399217,
           -0.6772407024821496,
           -0.7968984406841626,
           -0.8923920163458386,
           -0.9594781777162024,
           -0.9948717052000142,
           -0.996422302767056,
           -0.9632440875473253,
           -0.895791617962964,
           -0.7958786461366034
          ],
          [
           -0.7468731919599996,
           -0.8574599755140856,
           -0.9377023726321769,
           -0.9854717750053218,
           -0.999929655554278,
           -0.9815203738412592,
           -0.9319091233076362,
           -0.853868477186095,
           -0.7511191869706257,
           -0.6281328485308598,
           -0.4899057084333991,
           -0.34171418946716886,
           -0.18886364761916918,
           -0.0364424391018862,
           0.11090638986676159,
           0.24918352070193536,
           0.375189884925492,
           0.4866297822356027,
           0.5821499548559335,
           0.6613056640049525,
           0.7244481797707403,
           0.772534417226437,
           0.8068699588413696,
           0.8288114102467761,
           0.8394701013464739,
           0.8394701013464739,
           0.8288114102467761,
           0.8068699588413694,
           0.772534417226437,
           0.7244481797707403,
           0.6613056640049525,
           0.5821499548559335,
           0.4866297822356027,
           0.375189884925492,
           0.24918352070193536,
           0.11090638986676114,
           -0.0364424391018862,
           -0.18886364761916918,
           -0.3417141894671697,
           -0.4899057084333995,
           -0.6281328485308598,
           -0.7511191869706257,
           -0.853868477186095,
           -0.9319091233076359,
           -0.9815203738412595,
           -0.9999296555542782,
           -0.9854717750053216,
           -0.9377023726321769,
           -0.8574599755140856,
           -0.7468731919599996
          ],
          [
           -0.6887543890600372,
           -0.8097979013448551,
           -0.9028431975074762,
           -0.9654569157547153,
           -0.9964223027670561,
           -0.99574388311018,
           -0.9645998543799194,
           -0.9052452818261828,
           -0.8208713022067209,
           -0.7154274651797494,
           -0.5934159736850025,
           -0.45966788174604684,
           -0.3191122379464057,
           -0.17654971439887726,
           -0.03644243910188576,
           0.0972684366830303,
           0.22130646463193865,
           0.333154949536837,
           0.4310949772394066,
           0.5141806650813581,
           0.5821499548559335,
           0.635275379801158,
           0.6741675935905257,
           0.6995542917626514,
           0.7120661843929749,
           0.7120661843929749,
           0.6995542917626514,
           0.6741675935905257,
           0.635275379801158,
           0.5821499548559335,
           0.5141806650813576,
           0.4310949772394066,
           0.333154949536837,
           0.22130646463193865,
           0.0972684366830303,
           -0.0364424391018862,
           -0.17654971439887726,
           -0.3191122379464057,
           -0.4596678817460476,
           -0.593415973685003,
           -0.7154274651797494,
           -0.8208713022067209,
           -0.9052452818261828,
           -0.9645998543799191,
           -0.99574388311018,
           -0.996422302767056,
           -0.965456915754715,
           -0.9028431975074762,
           -0.8097979013448551,
           -0.6887543890600372
          ],
          [
           -0.620996052891945,
           -0.751946025875903,
           -0.8574599755140856,
           -0.9348173671173666,
           -0.9824368352235746,
           -0.9998927545197778,
           -0.987882249132002,
           -0.9481453054689809,
           -0.8833427159121674,
           -0.7968984406841626,
           -0.6928145641316081,
           -0.575468284375136,
           -0.44940127196520535,
           -0.3191122379464057,
           -0.18886364761916877,
           -0.06251318492515634,
           0.05662022295801467,
           0.16584734834905843,
           0.2631501206136793,
           0.3471700578206414,
           0.4171441683762549,
           0.47279410466809624,
           0.5141806650813584,
           0.5415422335833872,
           0.555140806540871,
           0.555140806540871,
           0.5415422335833872,
           0.5141806650813584,
           0.47279410466809624,
           0.4171441683762549,
           0.347170057820641,
           0.2631501206136789,
           0.16584734834905843,
           0.05662022295801467,
           -0.06251318492515634,
           -0.18886364761916918,
           -0.3191122379464057,
           -0.44940127196520535,
           -0.5754682843751368,
           -0.6928145641316085,
           -0.7968984406841626,
           -0.8833427159121674,
           -0.9481453054689809,
           -0.9878822491320018,
           -0.9998927545197778,
           -0.9824368352235745,
           -0.9348173671173666,
           -0.8574599755140856,
           -0.751946025875903,
           -0.620996052891945
          ],
          [
           -0.5433048854762593,
           -0.6832717906406616,
           -0.8005602112050231,
           -0.8921868412775968,
           -0.9562265483608537,
           -0.9918406192094588,
           -0.9992582513658551,
           -0.9797135249281834,
           -0.9353420657918391,
           -0.8690433997821216,
           -0.7843165265789442,
           -0.6850774543943262,
           -0.5754682843751368,
           -0.4596678817460476,
           -0.3417141894671697,
           -0.22534779979163788,
           -0.1138854594742071,
           -0.010130685662529034,
           0.08367347071051705,
           0.16584734834905798,
           0.235234769334679,
           0.29112612485654193,
           0.333154949536837,
           0.36118277325596,
           0.3751898849254916,
           0.3751898849254916,
           0.36118277325596,
           0.33315494953683655,
           0.29112612485654193,
           0.235234769334679,
           0.16584734834905798,
           0.0836734707105166,
           -0.010130685662529034,
           -0.1138854594742071,
           -0.22534779979163788,
           -0.3417141894671697,
           -0.4596678817460476,
           -0.5754682843751368,
           -0.6850774543943269,
           -0.7843165265789448,
           -0.8690433997821216,
           -0.9353420657918391,
           -0.9797135249281834,
           -0.9992582513658551,
           -0.9918406192094587,
           -0.9562265483608537,
           -0.8921868412775964,
           -0.8005602112050231,
           -0.6832717906406616,
           -0.5433048854762593
          ],
          [
           -0.4556727299161985,
           -0.6034311923969345,
           -0.7314368038393049,
           -0.83647395067372,
           -0.9163010888039721,
           -0.9696901893208025,
           -0.9964223027670561,
           -0.9972410299067794,
           -0.9737675690019734,
           -0.9283827160723329,
           -0.8640826548883445,
           -0.7843165265789442,
           -0.6928145641316085,
           -0.593415973685003,
           -0.4899057084333995,
           -0.38586878159541127,
           -0.284569771119161,
           -0.18886364761916963,
           -0.10114197960234692,
           -0.023315931153386156,
           0.04316567604745804,
           0.0972684366830303,
           0.13830322142520096,
           0.16584734834905798,
           0.17966920943454992,
           0.17966920943454992,
           0.16584734834905798,
           0.13830322142520096,
           0.0972684366830303,
           0.04316567604745804,
           -0.023315931153386156,
           -0.10114197960234692,
           -0.18886364761916963,
           -0.284569771119161,
           -0.38586878159541127,
           -0.4899057084333995,
           -0.593415973685003,
           -0.6928145641316085,
           -0.7843165265789448,
           -0.8640826548883449,
           -0.9283827160723329,
           -0.9737675690019734,
           -0.9972410299067794,
           -0.9964223027670561,
           -0.9696901893208023,
           -0.9163010888039718,
           -0.83647395067372,
           -0.7314368038393049,
           -0.6034311923969345,
           -0.4556727299161985
          ],
          [
           -0.3584224731231146,
           -0.5124250649044807,
           -0.6497350816682486,
           -0.7669402914077502,
           -0.861515825248745,
           -0.9318741234556183,
           -0.977373914471971,
           -0.9982895603893998,
           -0.9957438831101799,
           -0.9716092040101532,
           -0.9283827160723329,
           -0.8690433997821212,
           -0.7968984406841626,
           -0.7154274651797494,
           -0.6281328485308598,
           -0.5384038395399217,
           -0.44940127196520574,
           -0.3639681856286138,
           -0.284569771119161,
           -0.21326372672191662,
           -0.15169948053775142,
           -0.10114197960234647,
           -0.06251318492515723,
           -0.0364424391018862,
           -0.023315931153386156,
           -0.023315931153386156,
           -0.0364424391018862,
           -0.06251318492515723,
           -0.10114197960234647,
           -0.15169948053775142,
           -0.21326372672191662,
           -0.284569771119161,
           -0.3639681856286138,
           -0.44940127196520574,
           -0.5384038395399217,
           -0.6281328485308598,
           -0.7154274651797494,
           -0.7968984406841626,
           -0.8690433997821216,
           -0.9283827160723329,
           -0.9716092040101532,
           -0.9957438831101799,
           -0.9982895603893998,
           -0.9773739144719712,
           -0.9318741234556183,
           -0.8615158252487446,
           -0.7669402914077497,
           -0.6497350816682486,
           -0.5124250649044807,
           -0.3584224731231146
          ],
          [
           -0.2522448220518735,
           -0.41064674598171086,
           -0.5555120114914418,
           -0.6832717906406616,
           -0.7911558854006354,
           -0.8772522797178085,
           -0.9405286613129401,
           -0.9808167930961706,
           -0.998762289817337,
           -0.9957438831101799,
           -0.9737675690019734,
           -0.9353420657918389,
           -0.8833427159121674,
           -0.8208713022067209,
           -0.7511191869706254,
           -0.6772407024821496,
           -0.6022428190665525,
           -0.5288958024126512,
           -0.45966788174604684,
           -0.3966849561727841,
           -0.34171418946716886,
           -0.2961681669245546,
           -0.2611243577153724,
           -0.23735323133272504,
           -0.22534779979163747,
           -0.22534779979163747,
           -0.23735323133272504,
           -0.2611243577153724,
           -0.2961681669245546,
           -0.34171418946716886,
           -0.39668495617278454,
           -0.45966788174604684,
           -0.5288958024126512,
           -0.6022428190665525,
           -0.6772407024821496,
           -0.7511191869706257,
           -0.8208713022067209,
           -0.8833427159121674,
           -0.9353420657918391,
           -0.9737675690019734,
           -0.9957438831101799,
           -0.998762289817337,
           -0.9808167930961706,
           -0.9405286613129404,
           -0.8772522797178082,
           -0.7911558854006349,
           -0.6832717906406616,
           -0.5555120114914418,
           -0.41064674598171086,
           -0.2522448220518735
          ],
          [
           -0.13822328993897426,
           -0.2989180310406672,
           -0.4492840140880052,
           -0.5856392385719423,
           -0.7050102250547493,
           -0.805200117568719,
           -0.8848216987933307,
           -0.9432957545573809,
           -0.9808167930961706,
           -0.9982895603893998,
           -0.9972410299067794,
           -0.9797135249281832,
           -0.9481453054689809,
           -0.9052452818261828,
           -0.853868477186095,
           -0.7968984406841626,
           -0.7371420139536714,
           -0.6772407024821496,
           -0.6196014471103654,
           -0.5663479117189782,
           -0.5192916196550724,
           -0.4799205433235368,
           -0.44940127196520535,
           -0.4285898585129561,
           -0.41804606103374153,
           -0.41804606103374153,
           -0.4285898585129561,
           -0.44940127196520535,
           -0.4799205433235368,
           -0.5192916196550724,
           -0.5663479117189786,
           -0.6196014471103654,
           -0.6772407024821496,
           -0.7371420139536714,
           -0.7968984406841626,
           -0.853868477186095,
           -0.9052452818261828,
           -0.9481453054689809,
           -0.9797135249281834,
           -0.9972410299067794,
           -0.9982895603893998,
           -0.9808167930961706,
           -0.9432957545573809,
           -0.8848216987933307,
           -0.8052001175687185,
           -0.7050102250547493,
           -0.5856392385719423,
           -0.4492840140880052,
           -0.2989180310406672,
           -0.13822328993897426
          ],
          [
           -0.017844999526577508,
           -0.17851055045240807,
           -0.3320600109190605,
           -0.4747440732968901,
           -0.603431192396936,
           -0.7156830555601232,
           -0.8097979013448561,
           -0.8848216987933307,
           -0.9405286613129404,
           -0.9773739144719712,
           -0.9964223027670562,
           -0.9992582513658551,
           -0.9878822491320018,
           -0.9645998543799191,
           -0.9319091233076359,
           -0.8923920163458386,
           -0.848614660335399,
           -0.8030403651008998,
           -0.7579580655414139,
           -0.7154274651797488,
           -0.6772407024821493,
           -0.6448989808702903,
           -0.619601447110365,
           -0.6022428190665522,
           -0.5934159736850022,
           -0.5934159736850022,
           -0.6022428190665522,
           -0.619601447110365,
           -0.6448989808702903,
           -0.6772407024821493,
           -0.7154274651797491,
           -0.7579580655414139,
           -0.8030403651008998,
           -0.848614660335399,
           -0.8923920163458386,
           -0.9319091233076359,
           -0.9645998543799191,
           -0.9878822491320018,
           -0.9992582513658551,
           -0.9964223027670561,
           -0.9773739144719712,
           -0.9405286613129404,
           -0.8848216987933307,
           -0.8097979013448561,
           -0.7156830555601232,
           -0.6034311923969353,
           -0.4747440732968901,
           -0.3320600109190605,
           -0.17851055045240807,
           -0.017844999526577508
          ],
          [
           0.10700466225365993,
           -0.05115012570670397,
           -0.20535673066895674,
           -0.3518458722870404,
           -0.4873754169714622,
           -0.6093119405193429,
           -0.7156830555601226,
           -0.8052001175687185,
           -0.8772522797178082,
           -0.9318741234556183,
           -0.9696901893208023,
           -0.9918406192094588,
           -0.9998927545197778,
           -0.99574388311018,
           -0.9815203738412592,
           -0.9594781777162024,
           -0.9319091233076365,
           -0.9010566240932909,
           -0.8690433997821216,
           -0.8378126671114399,
           -0.8090830722571192,
           -0.7843165265789448,
           -0.7646971857339715,
           -0.7511191869706263,
           -0.7441805122262529,
           -0.7441805122262529,
           -0.7511191869706263,
           -0.764697185733972,
           -0.7843165265789448,
           -0.8090830722571192,
           -0.8378126671114399,
           -0.8690433997821221,
           -0.9010566240932909,
           -0.9319091233076365,
           -0.9594781777162024,
           -0.9815203738412595,
           -0.99574388311018,
           -0.9998927545197778,
           -0.9918406192094587,
           -0.9696901893208023,
           -0.9318741234556183,
           -0.8772522797178082,
           -0.8052001175687185,
           -0.7156830555601232,
           -0.6093119405193422,
           -0.4873754169714622,
           -0.35184587228703956,
           -0.20535673066895674,
           -0.05115012570670397,
           0.10700466225365993
          ],
          [
           0.23406493127955216,
           0.08099775378767857,
           -0.07119390310572876,
           -0.21876861380640839,
           -0.3584224731231146,
           -0.4873754169714622,
           -0.6034311923969345,
           -0.7050102250547493,
           -0.7911558854006349,
           -0.8615158252487446,
           -0.9163010888039718,
           -0.9562265483608537,
           -0.9824368352235745,
           -0.996422302767056,
           -0.9999296555542782,
           -0.9948717052000142,
           -0.9832402852966415,
           -0.9670257062264791,
           -0.9481453054689811,
           -0.9283827160723329,
           -0.9093385153328566,
           -0.892392016345839,
           -0.8786732166221112,
           -0.8690433997821216,
           -0.8640826548883449,
           -0.8640826548883449,
           -0.8690433997821216,
           -0.8786732166221112,
           -0.892392016345839,
           -0.9093385153328566,
           -0.9283827160723332,
           -0.9481453054689811,
           -0.9670257062264791,
           -0.9832402852966415,
           -0.9948717052000142,
           -0.9999296555542782,
           -0.996422302767056,
           -0.9824368352235745,
           -0.9562265483608537,
           -0.9163010888039718,
           -0.8615158252487446,
           -0.7911558854006349,
           -0.7050102250547493,
           -0.6034311923969353,
           -0.4873754169714622,
           -0.35842247312311376,
           -0.21876861380640839,
           -0.07119390310572876,
           0.08099775378767857,
           0.23406493127955216
          ],
          [
           0.360740791993862,
           0.21536245765190237,
           0.06793226150604893,
           -0.07788357941865483,
           -0.21876861380640839,
           -0.3518458722870404,
           -0.47474407329688934,
           -0.5856392385719423,
           -0.6832717906406616,
           -0.7669402914077497,
           -0.83647395067372,
           -0.8921868412775968,
           -0.9348173671173666,
           -0.965456915754715,
           -0.9854717750053216,
           -0.996422302767056,
           -0.9999830257715537,
           -0.9978668353032332,
           -0.9917557900811914,
           -0.9832402852966413,
           -0.9737675690019734,
           -0.9645998543799194,
           -0.9567816586908866,
           -0.9511155564018556,
           -0.9481453054689809,
           -0.9481453054689809,
           -0.9511155564018556,
           -0.9567816586908866,
           -0.9645998543799194,
           -0.9737675690019734,
           -0.9832402852966415,
           -0.9917557900811914,
           -0.9978668353032332,
           -0.9999830257715537,
           -0.996422302767056,
           -0.9854717750053216,
           -0.965456915754715,
           -0.9348173671173666,
           -0.8921868412775964,
           -0.83647395067372,
           -0.7669402914077497,
           -0.6832717906406616,
           -0.5856392385719423,
           -0.4747440732968901,
           -0.35184587228703956,
           -0.21876861380640839,
           -0.07788357941865483,
           0.06793226150604893,
           0.21536245765190237,
           0.360740791993862
          ],
          [
           0.4841622483917459,
           0.34902302025601734,
           0.20909800028278805,
           0.06793226150604893,
           -0.07119390310572965,
           -0.20535673066895674,
           -0.3320600109190605,
           -0.4492840140880052,
           -0.5555120114914418,
           -0.6497350816682486,
           -0.7314368038393049,
           -0.8005602112050231,
           -0.8574599755140856,
           -0.9028431975074762,
           -0.9377023726321769,
           -0.9632440875473253,
           -0.9808167930961705,
           -0.9918406192094589,
           -0.9977416843494716,
           -0.9998927545197778,
           -0.9995614795786069,
           -0.9978668353032332,
           -0.99574388311018,
           -0.9939165709838492,
           -0.992878068874843,
           -0.992878068874843,
           -0.9939165709838492,
           -0.99574388311018,
           -0.9978668353032332,
           -0.9995614795786069,
           -0.9998927545197778,
           -0.9977416843494716,
           -0.9918406192094589,
           -0.9808167930961705,
           -0.9632440875473253,
           -0.9377023726321769,
           -0.9028431975074762,
           -0.8574599755140856,
           -0.8005602112050231,
           -0.7314368038393049,
           -0.6497350816682486,
           -0.5555120114914418,
           -0.4492840140880052,
           -0.3320600109190605,
           -0.20535673066895674,
           -0.07119390310572876,
           0.06793226150604893,
           0.20909800028278805,
           0.34902302025601734,
           0.4841622483917459
          ],
          [
           0.6012607971825358,
           0.4787825737542306,
           0.34902302025601734,
           0.2153624576519015,
           0.08099775378767857,
           -0.05115012570670397,
           -0.17851055045240807,
           -0.2989180310406672,
           -0.41064674598171086,
           -0.5124250649044807,
           -0.6034311923969353,
           -0.6832717906406616,
           -0.751946025875903,
           -0.8097979013448551,
           -0.8574599755140856,
           -0.895791617962964,
           -0.9258148366660262,
           -0.9486504409541008,
           -0.965456915754715,
           -0.977373914471971,
           -0.9854717750053216,
           -0.990707972300244,
           -0.9938909847590379,
           -0.9956517061941569,
           -0.9964223027670561,
           -0.9964223027670561,
           -0.9956517061941569,
           -0.9938909847590379,
           -0.990707972300244,
           -0.9854717750053216,
           -0.977373914471971,
           -0.965456915754715,
           -0.9486504409541008,
           -0.9258148366660262,
           -0.895791617962964,
           -0.8574599755140856,
           -0.8097979013448551,
           -0.751946025875903,
           -0.6832717906406616,
           -0.6034311923969345,
           -0.5124250649044807,
           -0.41064674598171086,
           -0.2989180310406672,
           -0.17851055045240807,
           -0.05115012570670397,
           0.08099775378767857,
           0.21536245765190237,
           0.34902302025601734,
           0.4787825737542306,
           0.6012607971825358
          ],
          [
           0.7088612918380416,
           0.6012607971825358,
           0.4841622483917459,
           0.360740791993862,
           0.23406493127955216,
           0.10700466225365904,
           -0.01784499952657662,
           -0.13822328993897426,
           -0.2522448220518735,
           -0.3584224731231146,
           -0.4556727299161993,
           -0.5433048854762593,
           -0.620996052891945,
           -0.6887543890600372,
           -0.7468731919599996,
           -0.7958786461366034,
           -0.83647395067372,
           -0.8694823891841047,
           -0.8957916179629645,
           -0.9163010888039721,
           -0.9318741234556186,
           -0.9432957545573809,
           -0.9512370776303138,
           -0.9562265483608537,
           -0.9586284273783965,
           -0.9586284273783965,
           -0.9562265483608537,
           -0.9512370776303138,
           -0.9432957545573809,
           -0.9318741234556186,
           -0.9163010888039721,
           -0.8957916179629645,
           -0.8694823891841047,
           -0.83647395067372,
           -0.7958786461366034,
           -0.7468731919599996,
           -0.6887543890600372,
           -0.620996052891945,
           -0.5433048854762593,
           -0.4556727299161985,
           -0.3584224731231146,
           -0.2522448220518735,
           -0.13822328993897426,
           -0.017844999526577508,
           0.10700466225365993,
           0.23406493127955216,
           0.360740791993862,
           0.4841622483917459,
           0.6012607971825358,
           0.7088612918380416
          ]
         ]
        }
       ],
       "layout": {
        "template": {
         "data": {
          "bar": [
           {
            "error_x": {
             "color": "#2a3f5f"
            },
            "error_y": {
             "color": "#2a3f5f"
            },
            "marker": {
             "line": {
              "color": "#E5ECF6",
              "width": 0.5
             },
             "pattern": {
              "fillmode": "overlay",
              "size": 10,
              "solidity": 0.2
             }
            },
            "type": "bar"
           }
          ],
          "barpolar": [
           {
            "marker": {
             "line": {
              "color": "#E5ECF6",
              "width": 0.5
             },
             "pattern": {
              "fillmode": "overlay",
              "size": 10,
              "solidity": 0.2
             }
            },
            "type": "barpolar"
           }
          ],
          "carpet": [
           {
            "aaxis": {
             "endlinecolor": "#2a3f5f",
             "gridcolor": "white",
             "linecolor": "white",
             "minorgridcolor": "white",
             "startlinecolor": "#2a3f5f"
            },
            "baxis": {
             "endlinecolor": "#2a3f5f",
             "gridcolor": "white",
             "linecolor": "white",
             "minorgridcolor": "white",
             "startlinecolor": "#2a3f5f"
            },
            "type": "carpet"
           }
          ],
          "choropleth": [
           {
            "colorbar": {
             "outlinewidth": 0,
             "ticks": ""
            },
            "type": "choropleth"
           }
          ],
          "contour": [
           {
            "colorbar": {
             "outlinewidth": 0,
             "ticks": ""
            },
            "colorscale": [
             [
              0,
              "#0d0887"
             ],
             [
              0.1111111111111111,
              "#46039f"
             ],
             [
              0.2222222222222222,
              "#7201a8"
             ],
             [
              0.3333333333333333,
              "#9c179e"
             ],
             [
              0.4444444444444444,
              "#bd3786"
             ],
             [
              0.5555555555555556,
              "#d8576b"
             ],
             [
              0.6666666666666666,
              "#ed7953"
             ],
             [
              0.7777777777777778,
              "#fb9f3a"
             ],
             [
              0.8888888888888888,
              "#fdca26"
             ],
             [
              1,
              "#f0f921"
             ]
            ],
            "type": "contour"
           }
          ],
          "contourcarpet": [
           {
            "colorbar": {
             "outlinewidth": 0,
             "ticks": ""
            },
            "type": "contourcarpet"
           }
          ],
          "heatmap": [
           {
            "colorbar": {
             "outlinewidth": 0,
             "ticks": ""
            },
            "colorscale": [
             [
              0,
              "#0d0887"
             ],
             [
              0.1111111111111111,
              "#46039f"
             ],
             [
              0.2222222222222222,
              "#7201a8"
             ],
             [
              0.3333333333333333,
              "#9c179e"
             ],
             [
              0.4444444444444444,
              "#bd3786"
             ],
             [
              0.5555555555555556,
              "#d8576b"
             ],
             [
              0.6666666666666666,
              "#ed7953"
             ],
             [
              0.7777777777777778,
              "#fb9f3a"
             ],
             [
              0.8888888888888888,
              "#fdca26"
             ],
             [
              1,
              "#f0f921"
             ]
            ],
            "type": "heatmap"
           }
          ],
          "heatmapgl": [
           {
            "colorbar": {
             "outlinewidth": 0,
             "ticks": ""
            },
            "colorscale": [
             [
              0,
              "#0d0887"
             ],
             [
              0.1111111111111111,
              "#46039f"
             ],
             [
              0.2222222222222222,
              "#7201a8"
             ],
             [
              0.3333333333333333,
              "#9c179e"
             ],
             [
              0.4444444444444444,
              "#bd3786"
             ],
             [
              0.5555555555555556,
              "#d8576b"
             ],
             [
              0.6666666666666666,
              "#ed7953"
             ],
             [
              0.7777777777777778,
              "#fb9f3a"
             ],
             [
              0.8888888888888888,
              "#fdca26"
             ],
             [
              1,
              "#f0f921"
             ]
            ],
            "type": "heatmapgl"
           }
          ],
          "histogram": [
           {
            "marker": {
             "pattern": {
              "fillmode": "overlay",
              "size": 10,
              "solidity": 0.2
             }
            },
            "type": "histogram"
           }
          ],
          "histogram2d": [
           {
            "colorbar": {
             "outlinewidth": 0,
             "ticks": ""
            },
            "colorscale": [
             [
              0,
              "#0d0887"
             ],
             [
              0.1111111111111111,
              "#46039f"
             ],
             [
              0.2222222222222222,
              "#7201a8"
             ],
             [
              0.3333333333333333,
              "#9c179e"
             ],
             [
              0.4444444444444444,
              "#bd3786"
             ],
             [
              0.5555555555555556,
              "#d8576b"
             ],
             [
              0.6666666666666666,
              "#ed7953"
             ],
             [
              0.7777777777777778,
              "#fb9f3a"
             ],
             [
              0.8888888888888888,
              "#fdca26"
             ],
             [
              1,
              "#f0f921"
             ]
            ],
            "type": "histogram2d"
           }
          ],
          "histogram2dcontour": [
           {
            "colorbar": {
             "outlinewidth": 0,
             "ticks": ""
            },
            "colorscale": [
             [
              0,
              "#0d0887"
             ],
             [
              0.1111111111111111,
              "#46039f"
             ],
             [
              0.2222222222222222,
              "#7201a8"
             ],
             [
              0.3333333333333333,
              "#9c179e"
             ],
             [
              0.4444444444444444,
              "#bd3786"
             ],
             [
              0.5555555555555556,
              "#d8576b"
             ],
             [
              0.6666666666666666,
              "#ed7953"
             ],
             [
              0.7777777777777778,
              "#fb9f3a"
             ],
             [
              0.8888888888888888,
              "#fdca26"
             ],
             [
              1,
              "#f0f921"
             ]
            ],
            "type": "histogram2dcontour"
           }
          ],
          "mesh3d": [
           {
            "colorbar": {
             "outlinewidth": 0,
             "ticks": ""
            },
            "type": "mesh3d"
           }
          ],
          "parcoords": [
           {
            "line": {
             "colorbar": {
              "outlinewidth": 0,
              "ticks": ""
             }
            },
            "type": "parcoords"
           }
          ],
          "pie": [
           {
            "automargin": true,
            "type": "pie"
           }
          ],
          "scatter": [
           {
            "fillpattern": {
             "fillmode": "overlay",
             "size": 10,
             "solidity": 0.2
            },
            "type": "scatter"
           }
          ],
          "scatter3d": [
           {
            "line": {
             "colorbar": {
              "outlinewidth": 0,
              "ticks": ""
             }
            },
            "marker": {
             "colorbar": {
              "outlinewidth": 0,
              "ticks": ""
             }
            },
            "type": "scatter3d"
           }
          ],
          "scattercarpet": [
           {
            "marker": {
             "colorbar": {
              "outlinewidth": 0,
              "ticks": ""
             }
            },
            "type": "scattercarpet"
           }
          ],
          "scattergeo": [
           {
            "marker": {
             "colorbar": {
              "outlinewidth": 0,
              "ticks": ""
             }
            },
            "type": "scattergeo"
           }
          ],
          "scattergl": [
           {
            "marker": {
             "colorbar": {
              "outlinewidth": 0,
              "ticks": ""
             }
            },
            "type": "scattergl"
           }
          ],
          "scattermapbox": [
           {
            "marker": {
             "colorbar": {
              "outlinewidth": 0,
              "ticks": ""
             }
            },
            "type": "scattermapbox"
           }
          ],
          "scatterpolar": [
           {
            "marker": {
             "colorbar": {
              "outlinewidth": 0,
              "ticks": ""
             }
            },
            "type": "scatterpolar"
           }
          ],
          "scatterpolargl": [
           {
            "marker": {
             "colorbar": {
              "outlinewidth": 0,
              "ticks": ""
             }
            },
            "type": "scatterpolargl"
           }
          ],
          "scatterternary": [
           {
            "marker": {
             "colorbar": {
              "outlinewidth": 0,
              "ticks": ""
             }
            },
            "type": "scatterternary"
           }
          ],
          "surface": [
           {
            "colorbar": {
             "outlinewidth": 0,
             "ticks": ""
            },
            "colorscale": [
             [
              0,
              "#0d0887"
             ],
             [
              0.1111111111111111,
              "#46039f"
             ],
             [
              0.2222222222222222,
              "#7201a8"
             ],
             [
              0.3333333333333333,
              "#9c179e"
             ],
             [
              0.4444444444444444,
              "#bd3786"
             ],
             [
              0.5555555555555556,
              "#d8576b"
             ],
             [
              0.6666666666666666,
              "#ed7953"
             ],
             [
              0.7777777777777778,
              "#fb9f3a"
             ],
             [
              0.8888888888888888,
              "#fdca26"
             ],
             [
              1,
              "#f0f921"
             ]
            ],
            "type": "surface"
           }
          ],
          "table": [
           {
            "cells": {
             "fill": {
              "color": "#EBF0F8"
             },
             "line": {
              "color": "white"
             }
            },
            "header": {
             "fill": {
              "color": "#C8D4E3"
             },
             "line": {
              "color": "white"
             }
            },
            "type": "table"
           }
          ]
         },
         "layout": {
          "annotationdefaults": {
           "arrowcolor": "#2a3f5f",
           "arrowhead": 0,
           "arrowwidth": 1
          },
          "autotypenumbers": "strict",
          "coloraxis": {
           "colorbar": {
            "outlinewidth": 0,
            "ticks": ""
           }
          },
          "colorscale": {
           "diverging": [
            [
             0,
             "#8e0152"
            ],
            [
             0.1,
             "#c51b7d"
            ],
            [
             0.2,
             "#de77ae"
            ],
            [
             0.3,
             "#f1b6da"
            ],
            [
             0.4,
             "#fde0ef"
            ],
            [
             0.5,
             "#f7f7f7"
            ],
            [
             0.6,
             "#e6f5d0"
            ],
            [
             0.7,
             "#b8e186"
            ],
            [
             0.8,
             "#7fbc41"
            ],
            [
             0.9,
             "#4d9221"
            ],
            [
             1,
             "#276419"
            ]
           ],
           "sequential": [
            [
             0,
             "#0d0887"
            ],
            [
             0.1111111111111111,
             "#46039f"
            ],
            [
             0.2222222222222222,
             "#7201a8"
            ],
            [
             0.3333333333333333,
             "#9c179e"
            ],
            [
             0.4444444444444444,
             "#bd3786"
            ],
            [
             0.5555555555555556,
             "#d8576b"
            ],
            [
             0.6666666666666666,
             "#ed7953"
            ],
            [
             0.7777777777777778,
             "#fb9f3a"
            ],
            [
             0.8888888888888888,
             "#fdca26"
            ],
            [
             1,
             "#f0f921"
            ]
           ],
           "sequentialminus": [
            [
             0,
             "#0d0887"
            ],
            [
             0.1111111111111111,
             "#46039f"
            ],
            [
             0.2222222222222222,
             "#7201a8"
            ],
            [
             0.3333333333333333,
             "#9c179e"
            ],
            [
             0.4444444444444444,
             "#bd3786"
            ],
            [
             0.5555555555555556,
             "#d8576b"
            ],
            [
             0.6666666666666666,
             "#ed7953"
            ],
            [
             0.7777777777777778,
             "#fb9f3a"
            ],
            [
             0.8888888888888888,
             "#fdca26"
            ],
            [
             1,
             "#f0f921"
            ]
           ]
          },
          "colorway": [
           "#636efa",
           "#EF553B",
           "#00cc96",
           "#ab63fa",
           "#FFA15A",
           "#19d3f3",
           "#FF6692",
           "#B6E880",
           "#FF97FF",
           "#FECB52"
          ],
          "font": {
           "color": "#2a3f5f"
          },
          "geo": {
           "bgcolor": "white",
           "lakecolor": "white",
           "landcolor": "#E5ECF6",
           "showlakes": true,
           "showland": true,
           "subunitcolor": "white"
          },
          "hoverlabel": {
           "align": "left"
          },
          "hovermode": "closest",
          "mapbox": {
           "style": "light"
          },
          "paper_bgcolor": "white",
          "plot_bgcolor": "#E5ECF6",
          "polar": {
           "angularaxis": {
            "gridcolor": "white",
            "linecolor": "white",
            "ticks": ""
           },
           "bgcolor": "#E5ECF6",
           "radialaxis": {
            "gridcolor": "white",
            "linecolor": "white",
            "ticks": ""
           }
          },
          "scene": {
           "xaxis": {
            "backgroundcolor": "#E5ECF6",
            "gridcolor": "white",
            "gridwidth": 2,
            "linecolor": "white",
            "showbackground": true,
            "ticks": "",
            "zerolinecolor": "white"
           },
           "yaxis": {
            "backgroundcolor": "#E5ECF6",
            "gridcolor": "white",
            "gridwidth": 2,
            "linecolor": "white",
            "showbackground": true,
            "ticks": "",
            "zerolinecolor": "white"
           },
           "zaxis": {
            "backgroundcolor": "#E5ECF6",
            "gridcolor": "white",
            "gridwidth": 2,
            "linecolor": "white",
            "showbackground": true,
            "ticks": "",
            "zerolinecolor": "white"
           }
          },
          "shapedefaults": {
           "line": {
            "color": "#2a3f5f"
           }
          },
          "ternary": {
           "aaxis": {
            "gridcolor": "white",
            "linecolor": "white",
            "ticks": ""
           },
           "baxis": {
            "gridcolor": "white",
            "linecolor": "white",
            "ticks": ""
           },
           "bgcolor": "#E5ECF6",
           "caxis": {
            "gridcolor": "white",
            "linecolor": "white",
            "ticks": ""
           }
          },
          "title": {
           "x": 0.05
          },
          "xaxis": {
           "automargin": true,
           "gridcolor": "white",
           "linecolor": "white",
           "ticks": "",
           "title": {
            "standoff": 15
           },
           "zerolinecolor": "white",
           "zerolinewidth": 2
          },
          "yaxis": {
           "automargin": true,
           "gridcolor": "white",
           "linecolor": "white",
           "ticks": "",
           "title": {
            "standoff": 15
           },
           "zerolinecolor": "white",
           "zerolinewidth": 2
          }
         }
        }
       }
      }
     },
     "metadata": {},
     "output_type": "display_data"
    }
   ],
   "source": [
    "fig = go.Figure(\n",
    "    data=[go.Surface(\n",
    "        x=x,\n",
    "        y=y,\n",
    "        z=z,\n",
    "        colorscale='Viridis',\n",
    "        showscale=True,\n",
    "        opacity=0.9\n",
    "    )]\n",
    ")\n",
    "fig"
   ]
  },
  {
   "cell_type": "code",
   "execution_count": 13,
   "id": "aafdc417",
   "metadata": {},
   "outputs": [
    {
     "data": {
      "application/vnd.plotly.v1+json": {
       "config": {
        "plotlyServerURL": "https://plot.ly"
       },
       "data": [
        {
         "line": {
          "color": "blue",
          "width": 2
         },
         "mode": "lines",
         "type": "scatter3d",
         "x": [
          1,
          2,
          3,
          4,
          5
         ],
         "y": [
          10,
          11,
          12,
          13,
          14
         ],
         "z": [
          5,
          6,
          2,
          3,
          4
         ]
        }
       ],
       "layout": {
        "scene": {
         "xaxis": {
          "title": {
           "text": "X Axis"
          }
         },
         "yaxis": {
          "title": {
           "text": "Y Axis"
          }
         },
         "zaxis": {
          "title": {
           "text": "Z Axis"
          }
         }
        },
        "template": {
         "data": {
          "bar": [
           {
            "error_x": {
             "color": "#2a3f5f"
            },
            "error_y": {
             "color": "#2a3f5f"
            },
            "marker": {
             "line": {
              "color": "#E5ECF6",
              "width": 0.5
             },
             "pattern": {
              "fillmode": "overlay",
              "size": 10,
              "solidity": 0.2
             }
            },
            "type": "bar"
           }
          ],
          "barpolar": [
           {
            "marker": {
             "line": {
              "color": "#E5ECF6",
              "width": 0.5
             },
             "pattern": {
              "fillmode": "overlay",
              "size": 10,
              "solidity": 0.2
             }
            },
            "type": "barpolar"
           }
          ],
          "carpet": [
           {
            "aaxis": {
             "endlinecolor": "#2a3f5f",
             "gridcolor": "white",
             "linecolor": "white",
             "minorgridcolor": "white",
             "startlinecolor": "#2a3f5f"
            },
            "baxis": {
             "endlinecolor": "#2a3f5f",
             "gridcolor": "white",
             "linecolor": "white",
             "minorgridcolor": "white",
             "startlinecolor": "#2a3f5f"
            },
            "type": "carpet"
           }
          ],
          "choropleth": [
           {
            "colorbar": {
             "outlinewidth": 0,
             "ticks": ""
            },
            "type": "choropleth"
           }
          ],
          "contour": [
           {
            "colorbar": {
             "outlinewidth": 0,
             "ticks": ""
            },
            "colorscale": [
             [
              0,
              "#0d0887"
             ],
             [
              0.1111111111111111,
              "#46039f"
             ],
             [
              0.2222222222222222,
              "#7201a8"
             ],
             [
              0.3333333333333333,
              "#9c179e"
             ],
             [
              0.4444444444444444,
              "#bd3786"
             ],
             [
              0.5555555555555556,
              "#d8576b"
             ],
             [
              0.6666666666666666,
              "#ed7953"
             ],
             [
              0.7777777777777778,
              "#fb9f3a"
             ],
             [
              0.8888888888888888,
              "#fdca26"
             ],
             [
              1,
              "#f0f921"
             ]
            ],
            "type": "contour"
           }
          ],
          "contourcarpet": [
           {
            "colorbar": {
             "outlinewidth": 0,
             "ticks": ""
            },
            "type": "contourcarpet"
           }
          ],
          "heatmap": [
           {
            "colorbar": {
             "outlinewidth": 0,
             "ticks": ""
            },
            "colorscale": [
             [
              0,
              "#0d0887"
             ],
             [
              0.1111111111111111,
              "#46039f"
             ],
             [
              0.2222222222222222,
              "#7201a8"
             ],
             [
              0.3333333333333333,
              "#9c179e"
             ],
             [
              0.4444444444444444,
              "#bd3786"
             ],
             [
              0.5555555555555556,
              "#d8576b"
             ],
             [
              0.6666666666666666,
              "#ed7953"
             ],
             [
              0.7777777777777778,
              "#fb9f3a"
             ],
             [
              0.8888888888888888,
              "#fdca26"
             ],
             [
              1,
              "#f0f921"
             ]
            ],
            "type": "heatmap"
           }
          ],
          "heatmapgl": [
           {
            "colorbar": {
             "outlinewidth": 0,
             "ticks": ""
            },
            "colorscale": [
             [
              0,
              "#0d0887"
             ],
             [
              0.1111111111111111,
              "#46039f"
             ],
             [
              0.2222222222222222,
              "#7201a8"
             ],
             [
              0.3333333333333333,
              "#9c179e"
             ],
             [
              0.4444444444444444,
              "#bd3786"
             ],
             [
              0.5555555555555556,
              "#d8576b"
             ],
             [
              0.6666666666666666,
              "#ed7953"
             ],
             [
              0.7777777777777778,
              "#fb9f3a"
             ],
             [
              0.8888888888888888,
              "#fdca26"
             ],
             [
              1,
              "#f0f921"
             ]
            ],
            "type": "heatmapgl"
           }
          ],
          "histogram": [
           {
            "marker": {
             "pattern": {
              "fillmode": "overlay",
              "size": 10,
              "solidity": 0.2
             }
            },
            "type": "histogram"
           }
          ],
          "histogram2d": [
           {
            "colorbar": {
             "outlinewidth": 0,
             "ticks": ""
            },
            "colorscale": [
             [
              0,
              "#0d0887"
             ],
             [
              0.1111111111111111,
              "#46039f"
             ],
             [
              0.2222222222222222,
              "#7201a8"
             ],
             [
              0.3333333333333333,
              "#9c179e"
             ],
             [
              0.4444444444444444,
              "#bd3786"
             ],
             [
              0.5555555555555556,
              "#d8576b"
             ],
             [
              0.6666666666666666,
              "#ed7953"
             ],
             [
              0.7777777777777778,
              "#fb9f3a"
             ],
             [
              0.8888888888888888,
              "#fdca26"
             ],
             [
              1,
              "#f0f921"
             ]
            ],
            "type": "histogram2d"
           }
          ],
          "histogram2dcontour": [
           {
            "colorbar": {
             "outlinewidth": 0,
             "ticks": ""
            },
            "colorscale": [
             [
              0,
              "#0d0887"
             ],
             [
              0.1111111111111111,
              "#46039f"
             ],
             [
              0.2222222222222222,
              "#7201a8"
             ],
             [
              0.3333333333333333,
              "#9c179e"
             ],
             [
              0.4444444444444444,
              "#bd3786"
             ],
             [
              0.5555555555555556,
              "#d8576b"
             ],
             [
              0.6666666666666666,
              "#ed7953"
             ],
             [
              0.7777777777777778,
              "#fb9f3a"
             ],
             [
              0.8888888888888888,
              "#fdca26"
             ],
             [
              1,
              "#f0f921"
             ]
            ],
            "type": "histogram2dcontour"
           }
          ],
          "mesh3d": [
           {
            "colorbar": {
             "outlinewidth": 0,
             "ticks": ""
            },
            "type": "mesh3d"
           }
          ],
          "parcoords": [
           {
            "line": {
             "colorbar": {
              "outlinewidth": 0,
              "ticks": ""
             }
            },
            "type": "parcoords"
           }
          ],
          "pie": [
           {
            "automargin": true,
            "type": "pie"
           }
          ],
          "scatter": [
           {
            "fillpattern": {
             "fillmode": "overlay",
             "size": 10,
             "solidity": 0.2
            },
            "type": "scatter"
           }
          ],
          "scatter3d": [
           {
            "line": {
             "colorbar": {
              "outlinewidth": 0,
              "ticks": ""
             }
            },
            "marker": {
             "colorbar": {
              "outlinewidth": 0,
              "ticks": ""
             }
            },
            "type": "scatter3d"
           }
          ],
          "scattercarpet": [
           {
            "marker": {
             "colorbar": {
              "outlinewidth": 0,
              "ticks": ""
             }
            },
            "type": "scattercarpet"
           }
          ],
          "scattergeo": [
           {
            "marker": {
             "colorbar": {
              "outlinewidth": 0,
              "ticks": ""
             }
            },
            "type": "scattergeo"
           }
          ],
          "scattergl": [
           {
            "marker": {
             "colorbar": {
              "outlinewidth": 0,
              "ticks": ""
             }
            },
            "type": "scattergl"
           }
          ],
          "scattermapbox": [
           {
            "marker": {
             "colorbar": {
              "outlinewidth": 0,
              "ticks": ""
             }
            },
            "type": "scattermapbox"
           }
          ],
          "scatterpolar": [
           {
            "marker": {
             "colorbar": {
              "outlinewidth": 0,
              "ticks": ""
             }
            },
            "type": "scatterpolar"
           }
          ],
          "scatterpolargl": [
           {
            "marker": {
             "colorbar": {
              "outlinewidth": 0,
              "ticks": ""
             }
            },
            "type": "scatterpolargl"
           }
          ],
          "scatterternary": [
           {
            "marker": {
             "colorbar": {
              "outlinewidth": 0,
              "ticks": ""
             }
            },
            "type": "scatterternary"
           }
          ],
          "surface": [
           {
            "colorbar": {
             "outlinewidth": 0,
             "ticks": ""
            },
            "colorscale": [
             [
              0,
              "#0d0887"
             ],
             [
              0.1111111111111111,
              "#46039f"
             ],
             [
              0.2222222222222222,
              "#7201a8"
             ],
             [
              0.3333333333333333,
              "#9c179e"
             ],
             [
              0.4444444444444444,
              "#bd3786"
             ],
             [
              0.5555555555555556,
              "#d8576b"
             ],
             [
              0.6666666666666666,
              "#ed7953"
             ],
             [
              0.7777777777777778,
              "#fb9f3a"
             ],
             [
              0.8888888888888888,
              "#fdca26"
             ],
             [
              1,
              "#f0f921"
             ]
            ],
            "type": "surface"
           }
          ],
          "table": [
           {
            "cells": {
             "fill": {
              "color": "#EBF0F8"
             },
             "line": {
              "color": "white"
             }
            },
            "header": {
             "fill": {
              "color": "#C8D4E3"
             },
             "line": {
              "color": "white"
             }
            },
            "type": "table"
           }
          ]
         },
         "layout": {
          "annotationdefaults": {
           "arrowcolor": "#2a3f5f",
           "arrowhead": 0,
           "arrowwidth": 1
          },
          "autotypenumbers": "strict",
          "coloraxis": {
           "colorbar": {
            "outlinewidth": 0,
            "ticks": ""
           }
          },
          "colorscale": {
           "diverging": [
            [
             0,
             "#8e0152"
            ],
            [
             0.1,
             "#c51b7d"
            ],
            [
             0.2,
             "#de77ae"
            ],
            [
             0.3,
             "#f1b6da"
            ],
            [
             0.4,
             "#fde0ef"
            ],
            [
             0.5,
             "#f7f7f7"
            ],
            [
             0.6,
             "#e6f5d0"
            ],
            [
             0.7,
             "#b8e186"
            ],
            [
             0.8,
             "#7fbc41"
            ],
            [
             0.9,
             "#4d9221"
            ],
            [
             1,
             "#276419"
            ]
           ],
           "sequential": [
            [
             0,
             "#0d0887"
            ],
            [
             0.1111111111111111,
             "#46039f"
            ],
            [
             0.2222222222222222,
             "#7201a8"
            ],
            [
             0.3333333333333333,
             "#9c179e"
            ],
            [
             0.4444444444444444,
             "#bd3786"
            ],
            [
             0.5555555555555556,
             "#d8576b"
            ],
            [
             0.6666666666666666,
             "#ed7953"
            ],
            [
             0.7777777777777778,
             "#fb9f3a"
            ],
            [
             0.8888888888888888,
             "#fdca26"
            ],
            [
             1,
             "#f0f921"
            ]
           ],
           "sequentialminus": [
            [
             0,
             "#0d0887"
            ],
            [
             0.1111111111111111,
             "#46039f"
            ],
            [
             0.2222222222222222,
             "#7201a8"
            ],
            [
             0.3333333333333333,
             "#9c179e"
            ],
            [
             0.4444444444444444,
             "#bd3786"
            ],
            [
             0.5555555555555556,
             "#d8576b"
            ],
            [
             0.6666666666666666,
             "#ed7953"
            ],
            [
             0.7777777777777778,
             "#fb9f3a"
            ],
            [
             0.8888888888888888,
             "#fdca26"
            ],
            [
             1,
             "#f0f921"
            ]
           ]
          },
          "colorway": [
           "#636efa",
           "#EF553B",
           "#00cc96",
           "#ab63fa",
           "#FFA15A",
           "#19d3f3",
           "#FF6692",
           "#B6E880",
           "#FF97FF",
           "#FECB52"
          ],
          "font": {
           "color": "#2a3f5f"
          },
          "geo": {
           "bgcolor": "white",
           "lakecolor": "white",
           "landcolor": "#E5ECF6",
           "showlakes": true,
           "showland": true,
           "subunitcolor": "white"
          },
          "hoverlabel": {
           "align": "left"
          },
          "hovermode": "closest",
          "mapbox": {
           "style": "light"
          },
          "paper_bgcolor": "white",
          "plot_bgcolor": "#E5ECF6",
          "polar": {
           "angularaxis": {
            "gridcolor": "white",
            "linecolor": "white",
            "ticks": ""
           },
           "bgcolor": "#E5ECF6",
           "radialaxis": {
            "gridcolor": "white",
            "linecolor": "white",
            "ticks": ""
           }
          },
          "scene": {
           "xaxis": {
            "backgroundcolor": "#E5ECF6",
            "gridcolor": "white",
            "gridwidth": 2,
            "linecolor": "white",
            "showbackground": true,
            "ticks": "",
            "zerolinecolor": "white"
           },
           "yaxis": {
            "backgroundcolor": "#E5ECF6",
            "gridcolor": "white",
            "gridwidth": 2,
            "linecolor": "white",
            "showbackground": true,
            "ticks": "",
            "zerolinecolor": "white"
           },
           "zaxis": {
            "backgroundcolor": "#E5ECF6",
            "gridcolor": "white",
            "gridwidth": 2,
            "linecolor": "white",
            "showbackground": true,
            "ticks": "",
            "zerolinecolor": "white"
           }
          },
          "shapedefaults": {
           "line": {
            "color": "#2a3f5f"
           }
          },
          "ternary": {
           "aaxis": {
            "gridcolor": "white",
            "linecolor": "white",
            "ticks": ""
           },
           "baxis": {
            "gridcolor": "white",
            "linecolor": "white",
            "ticks": ""
           },
           "bgcolor": "#E5ECF6",
           "caxis": {
            "gridcolor": "white",
            "linecolor": "white",
            "ticks": ""
           }
          },
          "title": {
           "x": 0.05
          },
          "xaxis": {
           "automargin": true,
           "gridcolor": "white",
           "linecolor": "white",
           "ticks": "",
           "title": {
            "standoff": 15
           },
           "zerolinecolor": "white",
           "zerolinewidth": 2
          },
          "yaxis": {
           "automargin": true,
           "gridcolor": "white",
           "linecolor": "white",
           "ticks": "",
           "title": {
            "standoff": 15
           },
           "zerolinecolor": "white",
           "zerolinewidth": 2
          }
         }
        },
        "title": {
         "text": "3D Scatter plot with custom marker colorscale"
        }
       }
      }
     },
     "metadata": {},
     "output_type": "display_data"
    }
   ],
   "source": [
    "fig = go.Figure(\n",
    "    data=[go.Scatter3d(\n",
    "        x=[1, 2, 3, 4, 5],\n",
    "        y=[10, 11, 12, 13, 14],\n",
    "        z=[5, 6, 2, 3, 4],\n",
    "        mode='lines',\n",
    "        line={\n",
    "            'color': 'blue',\n",
    "            'width': 2,\n",
    "        }\n",
    "    )]\n",
    ")\n",
    "fig.update_layout(\n",
    "    title='3D Scatter plot with custom marker colorscale',\n",
    "    scene=dict(\n",
    "        xaxis_title='X Axis',\n",
    "        yaxis_title='Y Axis',\n",
    "        zaxis_title='Z Axis'\n",
    "    )\n",
    ")"
   ]
  }
 ],
 "metadata": {
  "kernelspec": {
   "display_name": "base",
   "language": "python",
   "name": "python3"
  },
  "language_info": {
   "codemirror_mode": {
    "name": "ipython",
    "version": 3
   },
   "file_extension": ".py",
   "mimetype": "text/x-python",
   "name": "python",
   "nbconvert_exporter": "python",
   "pygments_lexer": "ipython3",
   "version": "3.12.7"
  }
 },
 "nbformat": 4,
 "nbformat_minor": 5
}
