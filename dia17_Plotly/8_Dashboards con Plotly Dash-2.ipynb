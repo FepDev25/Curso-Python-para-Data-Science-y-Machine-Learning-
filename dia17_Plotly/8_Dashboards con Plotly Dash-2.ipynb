{
 "cells": [
  {
   "cell_type": "code",
   "execution_count": 6,
   "id": "174b61ef",
   "metadata": {},
   "outputs": [],
   "source": [
    "import dash\n",
    "from dash import dcc, html"
   ]
  },
  {
   "cell_type": "code",
   "execution_count": 7,
   "id": "c447b6ec",
   "metadata": {},
   "outputs": [],
   "source": [
    "app = dash.Dash(__name__)"
   ]
  },
  {
   "cell_type": "code",
   "execution_count": 8,
   "id": "8bbed722",
   "metadata": {},
   "outputs": [],
   "source": [
    "app.layout = html.Div(\n",
    "    children=[\n",
    "        dcc.Input(id = \"input\", value=\"\", type=\"text\"),\n",
    "        html.Button( \"Enviar\", id=\"button\"),\n",
    "        html.Div(id=\"output\", children=\"\"),\n",
    "    ]\n",
    ")\n"
   ]
  },
  {
   "cell_type": "code",
   "execution_count": 9,
   "id": "fd75cb04",
   "metadata": {},
   "outputs": [],
   "source": [
    "@app.callback(\n",
    "  dash.Output(\"output\", \"children\"),     \n",
    "  dash.Input(\"button\", \"n_clicks\"), \n",
    "  dash.State(\"input\", \"value\"),\n",
    ")\n",
    "def actualizar_salida(n_clicks, value):\n",
    "    if n_clicks is None:\n",
    "        return \"Introduce un valor y presiona el botón\"\n",
    "    else:\n",
    "        return f\"El valor ingresado es: {value}\""
   ]
  },
  {
   "cell_type": "code",
   "execution_count": 10,
   "id": "09934213",
   "metadata": {},
   "outputs": [
    {
     "data": {
      "text/html": [
       "\n",
       "        <iframe\n",
       "            width=\"100%\"\n",
       "            height=\"650\"\n",
       "            src=\"http://127.0.0.1:8050/\"\n",
       "            frameborder=\"0\"\n",
       "            allowfullscreen\n",
       "            \n",
       "        ></iframe>\n",
       "        "
      ],
      "text/plain": [
       "<IPython.lib.display.IFrame at 0x7f4f4ea65520>"
      ]
     },
     "metadata": {},
     "output_type": "display_data"
    }
   ],
   "source": [
    "if __name__ == \"__main__\":\n",
    "    app.run(debug=True)"
   ]
  },
  {
   "cell_type": "code",
   "execution_count": null,
   "id": "61e9d2e2",
   "metadata": {},
   "outputs": [],
   "source": []
  }
 ],
 "metadata": {
  "kernelspec": {
   "display_name": "base",
   "language": "python",
   "name": "python3"
  },
  "language_info": {
   "codemirror_mode": {
    "name": "ipython",
    "version": 3
   },
   "file_extension": ".py",
   "mimetype": "text/x-python",
   "name": "python",
   "nbconvert_exporter": "python",
   "pygments_lexer": "ipython3",
   "version": "3.12.7"
  }
 },
 "nbformat": 4,
 "nbformat_minor": 5
}
