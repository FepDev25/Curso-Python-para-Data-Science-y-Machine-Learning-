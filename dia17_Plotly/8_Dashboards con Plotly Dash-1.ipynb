{
 "cells": [
  {
   "cell_type": "code",
   "execution_count": 1,
   "id": "174b61ef",
   "metadata": {},
   "outputs": [],
   "source": [
    "import dash\n",
    "from dash import dcc, html"
   ]
  },
  {
   "cell_type": "code",
   "execution_count": 2,
   "id": "0865acd4",
   "metadata": {},
   "outputs": [],
   "source": [
    "app = dash.Dash(__name__)"
   ]
  },
  {
   "cell_type": "code",
   "execution_count": 3,
   "id": "216daa88",
   "metadata": {},
   "outputs": [],
   "source": [
    "app.layout = html.Div(\n",
    "    children=[\n",
    "        html.H1(children=\"Hola mundo\"),\n",
    "        html.Div(children=\"Dash: A web application framework for Python.\"),\n",
    "        dcc.Graph(\n",
    "            id=\"grafico-ejemplo\",\n",
    "            figure={\n",
    "                \"data\" : [\n",
    "                    {'x' : [1, 2, 3, 4],'y' : [10, 11, 12, 13], 'type' : 'bar','name' : 'Bogotá' },\n",
    "                    {'x' : [1, 2, 3, 4],'y' : [16, 5, 11, 9], 'type' : 'bar','name' : 'Medellín' },\n",
    "                    {'x' : [1, 2, 3, 4],'y' : [12, 9, 15, 7], 'type' : 'bar','name' : 'Cali' }\n",
    "                ],\n",
    "                \"layout\" : { \"title\" : \"Ejemplo de gráfico\" }\n",
    "            }\n",
    "        )\n",
    "    ]\n",
    ")"
   ]
  },
  {
   "cell_type": "code",
   "execution_count": 4,
   "id": "d0270195",
   "metadata": {},
   "outputs": [
    {
     "data": {
      "text/html": [
       "\n",
       "        <iframe\n",
       "            width=\"100%\"\n",
       "            height=\"650\"\n",
       "            src=\"http://127.0.0.1:8050/\"\n",
       "            frameborder=\"0\"\n",
       "            allowfullscreen\n",
       "            \n",
       "        ></iframe>\n",
       "        "
      ],
      "text/plain": [
       "<IPython.lib.display.IFrame at 0x7f8ada965d60>"
      ]
     },
     "metadata": {},
     "output_type": "display_data"
    }
   ],
   "source": [
    "if __name__ == \"__main__\":\n",
    "    app.run(debug=True)"
   ]
  }
 ],
 "metadata": {
  "kernelspec": {
   "display_name": "base",
   "language": "python",
   "name": "python3"
  },
  "language_info": {
   "codemirror_mode": {
    "name": "ipython",
    "version": 3
   },
   "file_extension": ".py",
   "mimetype": "text/x-python",
   "name": "python",
   "nbconvert_exporter": "python",
   "pygments_lexer": "ipython3",
   "version": "3.12.7"
  }
 },
 "nbformat": 4,
 "nbformat_minor": 5
}
