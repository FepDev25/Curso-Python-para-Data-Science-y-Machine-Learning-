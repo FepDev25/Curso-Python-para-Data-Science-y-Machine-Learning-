{
 "cells": [
  {
   "cell_type": "code",
   "execution_count": 10,
   "metadata": {},
   "outputs": [
    {
     "name": "stdout",
     "output_type": "stream",
     "text": [
      "102 98 200 50.0\n",
      "50 0 10000 10.0\n"
     ]
    }
   ],
   "source": [
    "a = 100\n",
    "b = 2\n",
    "\n",
    "suma = a + b\n",
    "resta = a - b\n",
    "multiplicacion = a * b\n",
    "division = a / b\n",
    "division_piso = a // b\n",
    "residuo = a % b\n",
    "potencia = a ** b\n",
    "raiz_cuadrada = a ** 0.5\n",
    "\n",
    "print(suma, resta, multiplicacion, division)\n",
    "print(division_piso, residuo, potencia, raiz_cuadrada)"
   ]
  },
  {
   "cell_type": "code",
   "execution_count": 8,
   "metadata": {},
   "outputs": [
    {
     "name": "stdout",
     "output_type": "stream",
     "text": [
      "(24+21j) (12+7j) (10+210j) (2.4235294117647057-0.49411764705882355j)\n"
     ]
    }
   ],
   "source": [
    "complex1 = 18 + 14j\n",
    "complex2 = 6 + 7j\n",
    "\n",
    "suma_complex = complex1 + complex2\n",
    "resta_complex = complex1 - complex2\n",
    "multiplicacion_complex = complex1 * complex2\n",
    "division_complex = complex1 / complex2\n",
    "\n",
    "print(suma_complex, resta_complex, multiplicacion_complex, division_complex)"
   ]
  },
  {
   "cell_type": "code",
   "execution_count": 7,
   "metadata": {},
   "outputs": [
    {
     "name": "stdout",
     "output_type": "stream",
     "text": [
      "100100\n",
      "200\n"
     ]
    }
   ],
   "source": [
    "num_str = \"100\"\n",
    "print(num_str + num_str)\n",
    "print(int(num_str) + int(num_str))"
   ]
  }
 ],
 "metadata": {
  "kernelspec": {
   "display_name": "base",
   "language": "python",
   "name": "python3"
  },
  "language_info": {
   "codemirror_mode": {
    "name": "ipython",
    "version": 3
   },
   "file_extension": ".py",
   "mimetype": "text/x-python",
   "name": "python",
   "nbconvert_exporter": "python",
   "pygments_lexer": "ipython3",
   "version": "3.12.7"
  }
 },
 "nbformat": 4,
 "nbformat_minor": 2
}
