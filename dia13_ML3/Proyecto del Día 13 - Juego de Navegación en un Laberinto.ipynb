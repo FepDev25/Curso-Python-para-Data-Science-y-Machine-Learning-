{
 "cells": [
  {
   "cell_type": "markdown",
   "id": "d7bf2362",
   "metadata": {},
   "source": [
    "## Proyecto del Día 13 - Juego de Navegación en un Laberinto\n",
    "\n",
    "Este proyecto tiene como objetivo desarrollar un entorno de laberinto simple y aplicar un algoritmo de **Aprendizaje por Refuerzo** para enseñar a una IA a navegar desde un punto inicial hasta un objetivo.\n",
    "\n",
    "Dada la naturaleza de este proyecto, considero que el algoritmo más adecuado para este tipo de probleas es **Q-Learning**, por su facilidad de implelentación y comprensión, su estabilidad y su relación entre la exploración y la explotación.\n",
    "\n",
    "Por esa razón te propongo resolverlo usando ese algoritmo, aunque dejo a tu criterio si quieres resolverlo con otro algoritmo de tu elección. Siempre estaré a favor de que investigues, y expandas las habilidades propuestas por tu cuenta.\n",
    "\n",
    "### Descripción del Laberinto:\n",
    "\n",
    "El laberinto se representa como una matriz de dos dimensiones, donde cada elemento puede ser:\n",
    "+ un camino libre (0)\n",
    "+ un obstáculo (1)\n",
    "+ el objetivo (G)\n",
    "\n",
    "La tarea es desarrollar un agente que pueda aprender a encontrar el camino desde un punto de inicio hasta el objetivo evitando obstáculos.\n",
    "\n",
    "\n",
    "### Creación del Laberinto\n",
    "\n",
    "Debido a que el desafío de hoy es bastante complejo, y que el objetivo final no se trata de que sepas desarrollar laberintos, sino sistemas para resolverlos, voy a facilitar la tarea entregando en este cuaderno el código para generar nuestros laberintos.\n",
    "\n",
    "Tu parte será la siguiente, que es diseñar y entrenar un modelo de Q-Learning para resolver el laberinto de la manera mpas eficiente, y luego mostrar una visualización sobre cómo lo ha hecho.\n",
    "\n",
    "Te deseo toda la suerte del mundo, y sobre todo, que te diviertas de a montones."
   ]
  },
  {
   "cell_type": "code",
   "execution_count": 68,
   "id": "3e7ecc11",
   "metadata": {},
   "outputs": [],
   "source": [
    "# Librerías necesarias para todo el ejercicio\n",
    "import numpy as np\n",
    "import matplotlib.pyplot as plt\n",
    "import random"
   ]
  },
  {
   "cell_type": "code",
   "execution_count": 69,
   "id": "6370346d",
   "metadata": {},
   "outputs": [],
   "source": [
    "# Función para crear el laberinto\n",
    "def crear_laberinto(tamanio, porcentaje_paredes=20, inicio=(0, 0), meta=None):\n",
    "    laberinto = np.zeros((tamanio, tamanio))\n",
    "    numero_paredes = int((tamanio * tamanio) * porcentaje_paredes / 100)\n",
    "    \n",
    "    # Ubicar paredes\n",
    "    for pared in range(numero_paredes):\n",
    "        x, y = random.randint(0, tamanio-1), random.randint(0, tamanio-1)\n",
    "        \n",
    "        # Cuidar que inicio y meta no sean paredes\n",
    "        if (x, y) != inicio and (meta is None or (x, y) != meta):\n",
    "            laberinto[x, y] = 1\n",
    "            \n",
    "    # Ubicar la meta\n",
    "    if meta:\n",
    "        laberinto[meta] = 9  # Representa la meta con 9\n",
    "    else:\n",
    "        # Ubicar la meta aleatoriamente si no está especificado\n",
    "        while True:\n",
    "            x, y = random.randint(0, tamanio-1), random.randint(0, tamanio-1)\n",
    "            if laberinto[x, y] == 0 and (x, y) != inicio:\n",
    "                laberinto[x, y] = 9\n",
    "                break\n",
    "    \n",
    "    return laberinto"
   ]
  },
  {
   "cell_type": "code",
   "execution_count": 70,
   "id": "6c648cc8",
   "metadata": {},
   "outputs": [],
   "source": [
    "# Función para visualizar el laberinto\n",
    "def ver_laberinto(laberinto):\n",
    "    plt.figure(figsize=(5, 5))\n",
    "    plt.imshow(laberinto, cmap='hot', interpolation='nearest')\n",
    "    plt.colorbar();"
   ]
  },
  {
   "cell_type": "code",
   "execution_count": 71,
   "id": "10e052cc",
   "metadata": {},
   "outputs": [
    {
     "data": {
      "image/png": "[encoded data removed]",
      "text/plain": [
       "<Figure size 500x500 with 2 Axes>"
      ]
     },
     "metadata": {},
     "output_type": "display_data"
    }
   ],
   "source": [
    "# Ejemplo de crear y mostrar laberintos\n",
    "laberinto = crear_laberinto(10, 20, inicio=(0, 0), meta=(9, 9))\n",
    "ver_laberinto(laberinto)"
   ]
  },
  {
   "cell_type": "markdown",
   "id": "7f986ed5",
   "metadata": {},
   "source": [
    "### Ahora te toca a ti\n",
    "\n",
    "Lo que sigue es implementar todo el código para que un algoritmo de Q-Learning encuentre la manera más eficiente de llegar a la meta. Voy a dejarte los pasos que considero que son los necesarios para lograrlo\n",
    "\n",
    "##### 1. Parámetros para el algoritmo Q-Learning"
   ]
  },
  {
   "cell_type": "code",
   "execution_count": 72,
   "id": "234853df",
   "metadata": {},
   "outputs": [
    {
     "data": {
      "text/plain": [
       "array([[0., 0., 0., 0., 0., 0., 0., 0., 0., 0.],\n",
       "       [0., 0., 0., 0., 0., 1., 1., 0., 0., 0.],\n",
       "       [0., 1., 0., 0., 0., 0., 1., 0., 0., 1.],\n",
       "       [0., 0., 0., 0., 0., 0., 0., 0., 0., 0.],\n",
       "       [1., 1., 0., 0., 0., 0., 0., 1., 0., 0.],\n",
       "       [0., 0., 0., 0., 0., 1., 0., 0., 0., 0.],\n",
       "       [0., 0., 1., 0., 1., 0., 0., 1., 0., 1.],\n",
       "       [1., 0., 0., 0., 0., 0., 1., 1., 1., 1.],\n",
       "       [1., 0., 0., 0., 0., 0., 0., 0., 0., 0.],\n",
       "       [0., 0., 0., 0., 0., 0., 0., 0., 0., 9.]])"
      ]
     },
     "execution_count": 72,
     "metadata": {},
     "output_type": "execute_result"
    }
   ],
   "source": [
    "laberinto"
   ]
  },
  {
   "cell_type": "code",
   "execution_count": 73,
   "id": "adb3f9d3",
   "metadata": {},
   "outputs": [],
   "source": [
    "def obtener_obstaculos(laberinto):\n",
    "    return [\n",
    "        (i, j)\n",
    "        for i, fila in enumerate(laberinto)\n",
    "        for j, valor in enumerate(fila)\n",
    "        if valor == 1\n",
    "    ]\n"
   ]
  },
  {
   "cell_type": "code",
   "execution_count": 74,
   "id": "50629ff0",
   "metadata": {},
   "outputs": [],
   "source": [
    "dimensiones = (10,10)\n",
    "estado_inicial = (0,0)\n",
    "estado_objetivo = (9,9)\n",
    "obstaculos = obtener_obstaculos(laberinto)\n",
    "num_estados = dimensiones[0] * dimensiones[1]\n",
    "\n",
    "# Cada acción es una tupla (Δfila, Δcolumna).\n",
    "acciones = [(-1, 0), (1, 0), (0, -1), (0, 1)]\n",
    "num_acciones = len(acciones)\n",
    "\n",
    "Q = np.zeros((num_estados, num_acciones))\n",
    "\n",
    "alpha = 0.1\n",
    "gamma = 0.99\n",
    "epsilon = 0.2\n",
    "episodios = 100"
   ]
  },
  {
   "cell_type": "markdown",
   "id": "bac97336",
   "metadata": {},
   "source": [
    "##### 2. Función para convertir coordenadas a índice lineal"
   ]
  },
  {
   "cell_type": "code",
   "execution_count": 75,
   "id": "6ec51474",
   "metadata": {},
   "outputs": [],
   "source": [
    "def estado_a_indice(estado):\n",
    "    return estado[0] * dimensiones[1] + estado[1]"
   ]
  },
  {
   "cell_type": "markdown",
   "id": "125709aa",
   "metadata": {},
   "source": [
    "##### 3. Función para elegir acciones equilibrando entre explotación y exploración"
   ]
  },
  {
   "cell_type": "code",
   "execution_count": 76,
   "id": "abbd3e3c",
   "metadata": {},
   "outputs": [],
   "source": [
    "def elegir_accion(estado):\n",
    "    if random.uniform(0, 1) < epsilon:\n",
    "        return random.choice(range(0, num_acciones)) \n",
    "    else:\n",
    "        return np.argmax(Q[estado_a_indice(estado)])"
   ]
  },
  {
   "cell_type": "markdown",
   "id": "003a6550",
   "metadata": {},
   "source": [
    "##### 4. Función para simular la acción en el laberinto"
   ]
  },
  {
   "cell_type": "code",
   "execution_count": 77,
   "id": "f719b2e4",
   "metadata": {},
   "outputs": [],
   "source": [
    "def aplicar_accion(estado, accion_idx):\n",
    "    accion = acciones[accion_idx]\n",
    "    nuevo_estado = (estado[0] + accion[0], estado[1] + accion[1])\n",
    "\n",
    "    # Verificar que no salga del laberinto\n",
    "    if not (0 <= nuevo_estado[0] < dimensiones[0] and 0 <= nuevo_estado[1] < dimensiones[1]):\n",
    "        return estado, -100, False  # Golpe contra un borde\n",
    "    \n",
    "    if nuevo_estado in obstaculos:\n",
    "        return estado, -100, False \n",
    "\n",
    "    if nuevo_estado == estado_objetivo:\n",
    "        return nuevo_estado, 100, True \n",
    "\n",
    "    return nuevo_estado, -1, False\n"
   ]
  },
  {
   "cell_type": "markdown",
   "id": "24c3dc48",
   "metadata": {},
   "source": [
    "##### 5. Función principal para ejecutar el algoritmo Q-Learning"
   ]
  },
  {
   "cell_type": "code",
   "execution_count": 78,
   "id": "b5311d5e",
   "metadata": {},
   "outputs": [],
   "source": [
    "def funcion():\n",
    "\n",
    "    for episodio in range(episodios):\n",
    "\n",
    "        estado = estado_inicial\n",
    "        terminado = False\n",
    "\n",
    "        while not terminado:\n",
    "\n",
    "            idx_estado = estado_a_indice(estado)\n",
    "\n",
    "            accion_idx = elegir_accion(estado)\n",
    "\n",
    "            nuevo_estado, recompensa, terminado = aplicar_accion(estado, accion_idx)\n",
    "\n",
    "            idx_nuevo_estado = estado_a_indice(nuevo_estado)\n",
    "\n",
    "            Q[idx_estado, accion_idx] = Q[idx_estado, accion_idx] + alpha * (recompensa + gamma * np.max(Q[idx_nuevo_estado]) - Q[idx_estado, accion_idx])\n",
    "\n",
    "            estado = nuevo_estado"
   ]
  },
  {
   "cell_type": "markdown",
   "id": "f60f0d38",
   "metadata": {},
   "source": [
    "##### 6. Iniciar el laberinto y configurar el algoritmo Q-Learning"
   ]
  },
  {
   "cell_type": "code",
   "execution_count": 79,
   "id": "2355b8a2",
   "metadata": {},
   "outputs": [],
   "source": [
    "funcion()"
   ]
  },
  {
   "cell_type": "markdown",
   "id": "addf32a0",
   "metadata": {},
   "source": [
    "##### 7. Función para mostrar el aprendizaje del agente"
   ]
  },
  {
   "cell_type": "code",
   "execution_count": 80,
   "id": "e42f818e",
   "metadata": {},
   "outputs": [
    {
     "name": "stdout",
     "output_type": "stream",
     "text": [
      "Tabla Q (valores por estado y acción):\n",
      "Estado (0, 0) (0): [-83.30119262  -6.95648024 -87.51148652  -6.96334217]\n",
      "Estado (0, 1) (1): [-73.93604664  -6.47290864  -6.49134172  -6.41321093]\n",
      "Estado (0, 2) (2): [-66.74376053  -5.90660754  -6.01930699  -5.92591825]\n",
      "Estado (0, 3) (3): [-71.1337136   -5.49894605  -5.52598161  -5.55454717]\n",
      "Estado (0, 4) (4): [-66.78937181  -5.27378437  -5.27043584  -5.27326354]\n",
      "Estado (0, 5) (5): [-62.70995153 -58.25522456  -5.08380285  -5.04718861]\n",
      "Estado (0, 6) (6): [-53.32311185 -27.36789607  -4.83105781  -4.86667292]\n",
      "Estado (0, 7) (7): [-83.52733985  -4.54311036  -4.67599946  -4.48941397]\n",
      "Estado (0, 8) (8): [-62.59646098  -4.35353025  -4.39337283  -4.36759306]\n",
      "Estado (0, 9) (9): [-47.88814924  -4.2540783   -4.31679073 -27.48829391]\n",
      "Estado (1, 0) (10): [ -6.49072679  -6.49488417 -67.26323174  -6.48787284]\n",
      "Estado (1, 1) (11): [ -6.2008968  -66.99600091  -6.30276654  -6.20046183]\n",
      "Estado (1, 2) (12): [-5.73532461 -5.6421263  -5.79521773 -5.70483478]\n",
      "Estado (1, 3) (13): [-5.31275348 -5.33096487 -5.33654648 -5.35748999]\n",
      "Estado (1, 4) (14): [ -5.15099422  -5.09852184  -5.20572812 -58.31171323]\n",
      "Estado (1, 5) (15): [0. 0. 0. 0.]\n",
      "Estado (1, 6) (16): [0. 0. 0. 0.]\n",
      "Estado (1, 7) (17): [ -4.36376637  -4.35244467 -62.46050226  -4.35314196]\n",
      "Estado (1, 8) (18): [-4.29400661 -4.33183585 -4.28830828 -4.27611947]\n",
      "Estado (1, 9) (19): [ -4.18732297 -35.24417914  -4.33587539 -57.97943352]\n",
      "Estado (2, 0) (20): [ -6.08479844  -6.16609148 -48.55108681 -76.99223554]\n",
      "Estado (2, 1) (21): [0. 0. 0. 0.]\n",
      "Estado (2, 2) (22): [ -5.19558028  -5.19235197 -67.14674732  -5.17383892]\n",
      "Estado (2, 3) (23): [-4.84638859 -4.6330091  -4.96009469 -4.88070777]\n",
      "Estado (2, 4) (24): [-4.77367203 -4.74788538 -4.76599966 -4.74086791]\n",
      "Estado (2, 5) (25): [-34.46799162  -4.44708671  -4.62410278 -34.83078086]\n",
      "Estado (2, 6) (26): [0. 0. 0. 0.]\n",
      "Estado (2, 7) (27): [ -4.19048132  -4.17992613 -48.17143108  -4.10912613]\n",
      "Estado (2, 8) (28): [ -4.15053787  -4.15672412  -4.09408987 -52.82999247]\n",
      "Estado (2, 9) (29): [0. 0. 0. 0.]\n",
      "Estado (3, 0) (30): [ -5.76147831 -42.2102307  -63.40098549  -5.76813006]\n",
      "Estado (3, 1) (31): [-42.24347029 -19.24357188  -5.29394539  -5.30766073]\n",
      "Estado (3, 2) (32): [-4.86562523 -4.7540661  -4.77995885 -4.49530615]\n",
      "Estado (3, 3) (33): [-4.48113762 -1.46116101 -4.51326749 -4.3499635 ]\n",
      "Estado (3, 4) (34): [-4.35955141 -4.2842511  -4.41236345 -4.33010028]\n",
      "Estado (3, 5) (35): [-4.29192044 -4.13432568 -4.09965637 -4.1570022 ]\n",
      "Estado (3, 6) (36): [-66.47904743  -3.76704969  -3.87775393  -3.94230975]\n",
      "Estado (3, 7) (37): [ -4.00513345 -53.27891163  -4.06908349  -4.03709667]\n",
      "Estado (3, 8) (38): [-3.91985266 -4.00217018 -4.02742715 -3.9060404 ]\n",
      "Estado (3, 9) (39): [-69.96521222  -3.90249649  -3.81323369 -62.67611241]\n",
      "Estado (4, 0) (40): [0. 0. 0. 0.]\n",
      "Estado (4, 1) (41): [0. 0. 0. 0.]\n",
      "Estado (4, 2) (42): [ -4.18993392  -3.6802762  -66.63889586  -4.14470818]\n",
      "Estado (4, 3) (43): [-3.89917862  5.7518721  -4.04161213 -4.06149927]\n",
      "Estado (4, 4) (44): [-4.02253138 -3.9655851  -3.9381801  -4.0017979 ]\n",
      "Estado (4, 5) (45): [ -3.87999129 -47.73346857  -3.91162351  -3.83405886]\n",
      "Estado (4, 6) (46): [ -3.75861654  -2.04051401  -3.60824746 -47.39528203]\n",
      "Estado (4, 7) (47): [0. 0. 0. 0.]\n",
      "Estado (4, 8) (48): [ -3.85102911  -3.87484164 -41.71921946  -3.74567622]\n",
      "Estado (4, 9) (49): [ -3.80698474  -3.84739742  -3.76056196 -57.74372757]\n",
      "Estado (5, 0) (50): [-47.27461779  -3.06877624 -27.19810869  -3.26772825]\n",
      "Estado (5, 1) (51): [-41.61120394  -3.29726745  -3.272525    -3.34627935]\n",
      "Estado (5, 2) (52): [ -3.62317244 -57.33659352  -3.59669223   0.30957184]\n",
      "Estado (5, 3) (53): [-3.33575111 18.22895354 -3.31635299 -3.54277574]\n",
      "Estado (5, 4) (54): [ -3.64954521 -27.57062059  -2.03763354 -27.34403181]\n",
      "Estado (5, 5) (55): [0. 0. 0. 0.]\n",
      "Estado (5, 6) (56): [ -3.22490162   2.82799114 -62.2566219   -3.09029994]\n",
      "Estado (5, 7) (57): [-41.62956537 -47.38827312  -2.6637164   -3.31613085]\n",
      "Estado (5, 8) (58): [-3.7341     -3.63441426 -3.69231315 -3.60911224]\n",
      "Estado (5, 9) (59): [ -3.73354989 -52.87021512  -3.74989737 -34.77888673]\n",
      "Estado (6, 0) (60): [ -3.05055013 -34.94018408 -27.50719618  -3.0689448 ]\n",
      "Estado (6, 1) (61): [ -2.98142971  -3.0225199   -3.03447577 -57.87095918]\n",
      "Estado (6, 2) (62): [0. 0. 0. 0.]\n",
      "Estado (6, 3) (63): [ -2.70505295  33.46968816 -52.44128053 -67.37379702]\n",
      "Estado (6, 4) (64): [0. 0. 0. 0.]\n",
      "Estado (6, 5) (65): [-27.19915706  30.46154025 -19.12360045  -0.17013524]\n",
      "Estado (6, 6) (66): [ -2.22828374 -45.82777124  13.71140102 -34.75840221]\n",
      "Estado (6, 7) (67): [0. 0. 0. 0.]\n",
      "Estado (6, 8) (68): [ -3.65659006 -19.14552309 -10.         -19.2350631 ]\n",
      "Estado (6, 9) (69): [0. 0. 0. 0.]\n",
      "Estado (7, 0) (70): [0. 0. 0. 0.]\n",
      "Estado (7, 1) (71): [ -2.84240703  -2.49587235 -47.55975397  -2.4358096 ]\n",
      "Estado (7, 2) (72): [-19.04800485  -1.40232014  -2.26435315  -2.13043605]\n",
      "Estado (7, 3) (73): [-0.72882811 49.89349055 -2.12921504  0.28259197]\n",
      "Estado (7, 4) (74): [-41.25920639  20.46059997  -1.49873112  -1.44487642]\n",
      "Estado (7, 5) (75): [-3.76326780e-02  5.81633351e+01 -1.31722035e+00 -3.45469819e+01]\n",
      "Estado (7, 6) (76): [0. 0. 0. 0.]\n",
      "Estado (7, 7) (77): [0. 0. 0. 0.]\n",
      "Estado (7, 8) (78): [0. 0. 0. 0.]\n",
      "Estado (7, 9) (79): [0. 0. 0. 0.]\n",
      "Estado (8, 0) (80): [0. 0. 0. 0.]\n",
      "Estado (8, 1) (81): [ -2.1359738   -2.12831042 -19.19416595   0.23541852]\n",
      "Estado (8, 2) (82): [-2.08954024 -1.84159374 -1.95501565 15.77841171]\n",
      "Estado (8, 3) (83): [ 6.50739039 -0.78652565  0.21098738 66.19844286]\n",
      "Estado (8, 4) (84): [-0.85227926  7.52660966  2.43497103 81.54628228]\n",
      "Estado (8, 5) (85): [ 0.18565121 89.01953182 25.64675435 18.71921459]\n",
      "Estado (8, 6) (86): [-10.          58.47922299   7.32276781  -0.453268  ]\n",
      "Estado (8, 7) (87): [-10.          -0.28981     -0.2008801    6.01013739]\n",
      "Estado (8, 8) (88): [-19.0099      65.28165287  -0.1099       0.8       ]\n",
      "Estado (8, 9) (89): [-10.  19.   0.   0.]\n",
      "Estado (9, 0) (90): [-19.17802476 -10.         -19.13888339  -2.09029714]\n",
      "Estado (9, 1) (91): [ -1.93698897 -34.59791983  -2.08998925  -1.9855512 ]\n",
      "Estado (9, 2) (92): [ -1.7258359  -10.          -1.78788483  -0.12952298]\n",
      "Estado (9, 3) (93): [ -1.3291906  -34.54138188  -1.54712974  11.72666629]\n",
      "Estado (9, 4) (94): [  0.45690954 -13.84925647  -1.07309121  55.88071319]\n",
      "Estado (9, 5) (95): [ 17.67976655 -28.48529298  11.89595411  93.12922608]\n",
      "Estado (9, 6) (96): [ 11.57867512 -15.07689807  38.71593965  95.77307828]\n",
      "Estado (9, 7) (97): [ -0.15949781 -18.12458004   6.13295383  97.96160378]\n",
      "Estado (9, 8) (98): [23.77745533 -5.48001482 11.34686956 99.99672081]\n",
      "Estado (9, 9) (99): [0. 0. 0. 0.]\n"
     ]
    }
   ],
   "source": [
    "def mostrar_q_table():\n",
    "    print(\"Tabla Q (valores por estado y acción):\")\n",
    "    for fila in range(dimensiones[0]):\n",
    "        for col in range(dimensiones[1]):\n",
    "            estado = (fila, col)\n",
    "            idx = estado_a_indice(estado)\n",
    "            print(f\"Estado {estado} ({idx}): {Q[idx]}\")\n",
    "\n",
    "mostrar_q_table()"
   ]
  },
  {
   "cell_type": "markdown",
   "id": "060cb8db",
   "metadata": {},
   "source": [
    "##### 8. Visualizar el resultado"
   ]
  },
  {
   "cell_type": "code",
   "execution_count": 81,
   "id": "a38f1228",
   "metadata": {},
   "outputs": [
    {
     "name": "stdout",
     "output_type": "stream",
     "text": [
      "\n",
      "Política aprendida (mejor acción por estado):\n",
      "\n",
      " ↓   →   ↓   ↓   ←   →   ←   →   ↓   ↓  \n",
      " →   →   ↓   ↑   ↓   ⛔  ⛔  ↓   →   ↑  \n",
      " ↑   ⛔  →   ↓   →   ↓   ⛔  →   ←   ⛔ \n",
      " ↑   ←   →   ↓   ↓   ←   ↓   ↑   →   ←  \n",
      " ⛔  ⛔  ↓   ↓   ←   →   ↓   ⛔  →   ←  \n",
      " ↓   ←   →   ↓   ←   ⛔  ↓   ←   →   ↑  \n",
      " ↑   ↑   ⛔  ↓   ⛔  ↓   ←   ⛔  ↑   ⛔ \n",
      " ⛔  →   ↓   ↓   ↓   ↓   ⛔  ⛔  ⛔  ⛔ \n",
      " ⛔  →   →   →   →   ↓   ↓   →   ↓   ↓  \n",
      " →   ↑   →   →   →   →   →   →   →   🎯 \n"
     ]
    }
   ],
   "source": [
    "def mostrar_politica():\n",
    "    simbolos_accion = {\n",
    "        0: '↑',   # (-1, 0)\n",
    "        1: '↓',   # (1, 0)\n",
    "        2: '←',   # (0, -1)\n",
    "        3: '→'    # (0, 1)\n",
    "    }\n",
    "\n",
    "    print(\"\\nPolítica aprendida (mejor acción por estado):\\n\")\n",
    "    for fila in range(dimensiones[0]):\n",
    "        linea = \"\"\n",
    "        for col in range(dimensiones[1]):\n",
    "            estado = (fila, col)\n",
    "            if estado in obstaculos:\n",
    "                linea += \" ⛔ \"  # obstáculo\n",
    "            elif estado == estado_objetivo:\n",
    "                linea += \" 🎯 \"  # objetivo\n",
    "            else:\n",
    "                idx = estado_a_indice(estado)\n",
    "                mejor_accion = np.argmax(Q[idx])\n",
    "                linea += f\" {simbolos_accion[mejor_accion]}  \"\n",
    "        print(linea)\n",
    "\n",
    "mostrar_politica()"
   ]
  }
 ],
 "metadata": {
  "kernelspec": {
   "display_name": "base",
   "language": "python",
   "name": "python3"
  },
  "language_info": {
   "codemirror_mode": {
    "name": "ipython",
    "version": 3
   },
   "file_extension": ".py",
   "mimetype": "text/x-python",
   "name": "python",
   "nbconvert_exporter": "python",
   "pygments_lexer": "ipython3",
   "version": "3.12.7"
  }
 },
 "nbformat": 4,
 "nbformat_minor": 5
}
