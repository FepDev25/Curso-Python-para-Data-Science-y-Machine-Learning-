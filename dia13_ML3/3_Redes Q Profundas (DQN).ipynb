{
 "cells": [
  {
   "cell_type": "code",
   "execution_count": 47,
   "id": "ac5e1e8d",
   "metadata": {},
   "outputs": [],
   "source": [
    "# Importamos la librería para realizar gráficos y visualizaciones.\n",
    "import matplotlib.pyplot as plt\n",
    "\n",
    "# Importamos NumPy, una librería esencial para operaciones numéricas con arreglos.\n",
    "import numpy as np\n",
    "\n",
    "# Cargamos el dataset MNIST directamente desde Keras.\n",
    "# MNIST contiene imágenes de dígitos escritos a mano (0-9), con 60,000 ejemplos para entrenamiento y 10,000 para prueba.\n",
    "from keras.datasets import mnist\n",
    "\n",
    "# Importamos herramientas de Keras para construir un modelo de red neuronal secuencial.\n",
    "from keras.models import Sequential\n",
    "\n",
    "# Importamos capas: Flatten convierte imágenes 2D en vectores 1D; Dense es una capa completamente conectada.\n",
    "from keras.layers import Dense, Flatten\n",
    "\n",
    "# Utilidad de Keras para convertir etiquetas numéricas (0-9) a vectores codificados one-hot.\n",
    "from keras.utils import to_categorical\n"
   ]
  },
  {
   "cell_type": "markdown",
   "id": "7802dd48",
   "metadata": {},
   "source": [
    "- Combina por un lado redes neuronales y Q learning\n",
    "- La idea es que la red neuronal produnda prediga los valores Q que se van a encargar de estimar que tan buena es cada acción.\n",
    "\n",
    "1. Entender el estado del entorno\n",
    "2. Puntuar las acciones posibles\n",
    "3. Elegir mejor movida\n",
    "4. Aprende de las consecuencias\n",
    "5. Explorar nuevas estrategias"
   ]
  },
  {
   "cell_type": "code",
   "execution_count": 48,
   "id": "1217eb61",
   "metadata": {},
   "outputs": [
    {
     "data": {
      "text/plain": [
       "((array([[[0, 0, 0, ..., 0, 0, 0],\n",
       "          [0, 0, 0, ..., 0, 0, 0],\n",
       "          [0, 0, 0, ..., 0, 0, 0],\n",
       "          ...,\n",
       "          [0, 0, 0, ..., 0, 0, 0],\n",
       "          [0, 0, 0, ..., 0, 0, 0],\n",
       "          [0, 0, 0, ..., 0, 0, 0]],\n",
       "  \n",
       "         [[0, 0, 0, ..., 0, 0, 0],\n",
       "          [0, 0, 0, ..., 0, 0, 0],\n",
       "          [0, 0, 0, ..., 0, 0, 0],\n",
       "          ...,\n",
       "          [0, 0, 0, ..., 0, 0, 0],\n",
       "          [0, 0, 0, ..., 0, 0, 0],\n",
       "          [0, 0, 0, ..., 0, 0, 0]],\n",
       "  \n",
       "         [[0, 0, 0, ..., 0, 0, 0],\n",
       "          [0, 0, 0, ..., 0, 0, 0],\n",
       "          [0, 0, 0, ..., 0, 0, 0],\n",
       "          ...,\n",
       "          [0, 0, 0, ..., 0, 0, 0],\n",
       "          [0, 0, 0, ..., 0, 0, 0],\n",
       "          [0, 0, 0, ..., 0, 0, 0]],\n",
       "  \n",
       "         ...,\n",
       "  \n",
       "         [[0, 0, 0, ..., 0, 0, 0],\n",
       "          [0, 0, 0, ..., 0, 0, 0],\n",
       "          [0, 0, 0, ..., 0, 0, 0],\n",
       "          ...,\n",
       "          [0, 0, 0, ..., 0, 0, 0],\n",
       "          [0, 0, 0, ..., 0, 0, 0],\n",
       "          [0, 0, 0, ..., 0, 0, 0]],\n",
       "  \n",
       "         [[0, 0, 0, ..., 0, 0, 0],\n",
       "          [0, 0, 0, ..., 0, 0, 0],\n",
       "          [0, 0, 0, ..., 0, 0, 0],\n",
       "          ...,\n",
       "          [0, 0, 0, ..., 0, 0, 0],\n",
       "          [0, 0, 0, ..., 0, 0, 0],\n",
       "          [0, 0, 0, ..., 0, 0, 0]],\n",
       "  \n",
       "         [[0, 0, 0, ..., 0, 0, 0],\n",
       "          [0, 0, 0, ..., 0, 0, 0],\n",
       "          [0, 0, 0, ..., 0, 0, 0],\n",
       "          ...,\n",
       "          [0, 0, 0, ..., 0, 0, 0],\n",
       "          [0, 0, 0, ..., 0, 0, 0],\n",
       "          [0, 0, 0, ..., 0, 0, 0]]], dtype=uint8),\n",
       "  array([5, 0, 4, ..., 5, 6, 8], dtype=uint8)),\n",
       " (array([[[0, 0, 0, ..., 0, 0, 0],\n",
       "          [0, 0, 0, ..., 0, 0, 0],\n",
       "          [0, 0, 0, ..., 0, 0, 0],\n",
       "          ...,\n",
       "          [0, 0, 0, ..., 0, 0, 0],\n",
       "          [0, 0, 0, ..., 0, 0, 0],\n",
       "          [0, 0, 0, ..., 0, 0, 0]],\n",
       "  \n",
       "         [[0, 0, 0, ..., 0, 0, 0],\n",
       "          [0, 0, 0, ..., 0, 0, 0],\n",
       "          [0, 0, 0, ..., 0, 0, 0],\n",
       "          ...,\n",
       "          [0, 0, 0, ..., 0, 0, 0],\n",
       "          [0, 0, 0, ..., 0, 0, 0],\n",
       "          [0, 0, 0, ..., 0, 0, 0]],\n",
       "  \n",
       "         [[0, 0, 0, ..., 0, 0, 0],\n",
       "          [0, 0, 0, ..., 0, 0, 0],\n",
       "          [0, 0, 0, ..., 0, 0, 0],\n",
       "          ...,\n",
       "          [0, 0, 0, ..., 0, 0, 0],\n",
       "          [0, 0, 0, ..., 0, 0, 0],\n",
       "          [0, 0, 0, ..., 0, 0, 0]],\n",
       "  \n",
       "         ...,\n",
       "  \n",
       "         [[0, 0, 0, ..., 0, 0, 0],\n",
       "          [0, 0, 0, ..., 0, 0, 0],\n",
       "          [0, 0, 0, ..., 0, 0, 0],\n",
       "          ...,\n",
       "          [0, 0, 0, ..., 0, 0, 0],\n",
       "          [0, 0, 0, ..., 0, 0, 0],\n",
       "          [0, 0, 0, ..., 0, 0, 0]],\n",
       "  \n",
       "         [[0, 0, 0, ..., 0, 0, 0],\n",
       "          [0, 0, 0, ..., 0, 0, 0],\n",
       "          [0, 0, 0, ..., 0, 0, 0],\n",
       "          ...,\n",
       "          [0, 0, 0, ..., 0, 0, 0],\n",
       "          [0, 0, 0, ..., 0, 0, 0],\n",
       "          [0, 0, 0, ..., 0, 0, 0]],\n",
       "  \n",
       "         [[0, 0, 0, ..., 0, 0, 0],\n",
       "          [0, 0, 0, ..., 0, 0, 0],\n",
       "          [0, 0, 0, ..., 0, 0, 0],\n",
       "          ...,\n",
       "          [0, 0, 0, ..., 0, 0, 0],\n",
       "          [0, 0, 0, ..., 0, 0, 0],\n",
       "          [0, 0, 0, ..., 0, 0, 0]]], dtype=uint8),\n",
       "  array([7, 2, 1, ..., 4, 5, 6], dtype=uint8)))"
      ]
     },
     "execution_count": 48,
     "metadata": {},
     "output_type": "execute_result"
    }
   ],
   "source": [
    "# Contiene una tupla que contiene 2 grandes tuplas\n",
    "mnist.load_data()"
   ]
  },
  {
   "cell_type": "code",
   "execution_count": 49,
   "id": "b0bdf155",
   "metadata": {},
   "outputs": [],
   "source": [
    "# Cargamos el conjunto de datos MNIST, que contiene imágenes de dígitos escritos a mano.\n",
    "# La función `mnist.load_data()` devuelve dos tuplas:\n",
    "# - La primera tupla corresponde al conjunto de entrenamiento: (imágenes_entrenamiento, etiquetas_entrenamiento)\n",
    "# - La segunda tupla corresponde al conjunto de prueba: (imagenes_prueba, etiquetas_prueba)\n",
    "# Cada imagen tiene tamaño 28x28 píxeles y las etiquetas son enteros del 0 al 9.\n",
    "(imagenes_entrenamiento, etiquetas_entrenamiento), (imagenes_prueba, etiquetas_prueba) = mnist.load_data()\n"
   ]
  },
  {
   "cell_type": "markdown",
   "id": "034199b7",
   "metadata": {},
   "source": [
    "### Normalizar los valores\n"
   ]
  },
  {
   "cell_type": "code",
   "execution_count": 50,
   "id": "1977ebd6",
   "metadata": {},
   "outputs": [],
   "source": [
    "# Normalizamos los valores de píxeles de las imágenes.\n",
    "# Las imágenes están representadas por matrices con valores enteros entre 0 y 255.\n",
    "# Dividimos cada valor por 255.0 para que los valores estén en el rango [0, 1],\n",
    "# lo cual ayuda a que la red neuronal entrene de forma más eficiente y estable.\n",
    "imagenes_entrenamiento = imagenes_entrenamiento / 255.0\n",
    "imagenes_prueba = imagenes_prueba / 255.0\n"
   ]
  },
  {
   "cell_type": "code",
   "execution_count": 51,
   "id": "ecf3d883",
   "metadata": {},
   "outputs": [
    {
     "data": {
      "text/plain": [
       "array([[0.        , 0.        , 0.        , 0.        , 0.        ,\n",
       "        0.        , 0.        , 0.        , 0.        , 0.        ,\n",
       "        0.        , 0.        , 0.        , 0.        , 0.        ,\n",
       "        0.        , 0.        , 0.        , 0.        , 0.        ,\n",
       "        0.        , 0.        , 0.        , 0.        , 0.        ,\n",
       "        0.        , 0.        , 0.        ],\n",
       "       [0.        , 0.        , 0.        , 0.        , 0.        ,\n",
       "        0.        , 0.        , 0.        , 0.        , 0.        ,\n",
       "        0.        , 0.        , 0.        , 0.        , 0.        ,\n",
       "        0.        , 0.        , 0.        , 0.        , 0.        ,\n",
       "        0.        , 0.        , 0.        , 0.        , 0.        ,\n",
       "        0.        , 0.        , 0.        ],\n",
       "       [0.        , 0.        , 0.        , 0.        , 0.        ,\n",
       "        0.        , 0.        , 0.        , 0.        , 0.        ,\n",
       "        0.        , 0.        , 0.        , 0.        , 0.        ,\n",
       "        0.        , 0.        , 0.        , 0.        , 0.        ,\n",
       "        0.        , 0.        , 0.        , 0.        , 0.        ,\n",
       "        0.        , 0.        , 0.        ],\n",
       "       [0.        , 0.        , 0.        , 0.        , 0.        ,\n",
       "        0.        , 0.        , 0.        , 0.        , 0.        ,\n",
       "        0.        , 0.        , 0.        , 0.        , 0.        ,\n",
       "        0.        , 0.        , 0.        , 0.        , 0.        ,\n",
       "        0.        , 0.        , 0.        , 0.        , 0.        ,\n",
       "        0.        , 0.        , 0.        ],\n",
       "       [0.        , 0.        , 0.        , 0.        , 0.        ,\n",
       "        0.        , 0.        , 0.        , 0.        , 0.        ,\n",
       "        0.        , 0.        , 0.        , 0.        , 0.        ,\n",
       "        0.        , 0.        , 0.        , 0.        , 0.        ,\n",
       "        0.        , 0.        , 0.        , 0.        , 0.        ,\n",
       "        0.        , 0.        , 0.        ],\n",
       "       [0.        , 0.        , 0.        , 0.        , 0.        ,\n",
       "        0.        , 0.        , 0.        , 0.        , 0.        ,\n",
       "        0.        , 0.        , 0.01176471, 0.07058824, 0.07058824,\n",
       "        0.07058824, 0.49411765, 0.53333333, 0.68627451, 0.10196078,\n",
       "        0.65098039, 1.        , 0.96862745, 0.49803922, 0.        ,\n",
       "        0.        , 0.        , 0.        ],\n",
       "       [0.        , 0.        , 0.        , 0.        , 0.        ,\n",
       "        0.        , 0.        , 0.        , 0.11764706, 0.14117647,\n",
       "        0.36862745, 0.60392157, 0.66666667, 0.99215686, 0.99215686,\n",
       "        0.99215686, 0.99215686, 0.99215686, 0.88235294, 0.6745098 ,\n",
       "        0.99215686, 0.94901961, 0.76470588, 0.25098039, 0.        ,\n",
       "        0.        , 0.        , 0.        ],\n",
       "       [0.        , 0.        , 0.        , 0.        , 0.        ,\n",
       "        0.        , 0.        , 0.19215686, 0.93333333, 0.99215686,\n",
       "        0.99215686, 0.99215686, 0.99215686, 0.99215686, 0.99215686,\n",
       "        0.99215686, 0.99215686, 0.98431373, 0.36470588, 0.32156863,\n",
       "        0.32156863, 0.21960784, 0.15294118, 0.        , 0.        ,\n",
       "        0.        , 0.        , 0.        ],\n",
       "       [0.        , 0.        , 0.        , 0.        , 0.        ,\n",
       "        0.        , 0.        , 0.07058824, 0.85882353, 0.99215686,\n",
       "        0.99215686, 0.99215686, 0.99215686, 0.99215686, 0.77647059,\n",
       "        0.71372549, 0.96862745, 0.94509804, 0.        , 0.        ,\n",
       "        0.        , 0.        , 0.        , 0.        , 0.        ,\n",
       "        0.        , 0.        , 0.        ],\n",
       "       [0.        , 0.        , 0.        , 0.        , 0.        ,\n",
       "        0.        , 0.        , 0.        , 0.31372549, 0.61176471,\n",
       "        0.41960784, 0.99215686, 0.99215686, 0.80392157, 0.04313725,\n",
       "        0.        , 0.16862745, 0.60392157, 0.        , 0.        ,\n",
       "        0.        , 0.        , 0.        , 0.        , 0.        ,\n",
       "        0.        , 0.        , 0.        ],\n",
       "       [0.        , 0.        , 0.        , 0.        , 0.        ,\n",
       "        0.        , 0.        , 0.        , 0.        , 0.05490196,\n",
       "        0.00392157, 0.60392157, 0.99215686, 0.35294118, 0.        ,\n",
       "        0.        , 0.        , 0.        , 0.        , 0.        ,\n",
       "        0.        , 0.        , 0.        , 0.        , 0.        ,\n",
       "        0.        , 0.        , 0.        ],\n",
       "       [0.        , 0.        , 0.        , 0.        , 0.        ,\n",
       "        0.        , 0.        , 0.        , 0.        , 0.        ,\n",
       "        0.        , 0.54509804, 0.99215686, 0.74509804, 0.00784314,\n",
       "        0.        , 0.        , 0.        , 0.        , 0.        ,\n",
       "        0.        , 0.        , 0.        , 0.        , 0.        ,\n",
       "        0.        , 0.        , 0.        ],\n",
       "       [0.        , 0.        , 0.        , 0.        , 0.        ,\n",
       "        0.        , 0.        , 0.        , 0.        , 0.        ,\n",
       "        0.        , 0.04313725, 0.74509804, 0.99215686, 0.2745098 ,\n",
       "        0.        , 0.        , 0.        , 0.        , 0.        ,\n",
       "        0.        , 0.        , 0.        , 0.        , 0.        ,\n",
       "        0.        , 0.        , 0.        ],\n",
       "       [0.        , 0.        , 0.        , 0.        , 0.        ,\n",
       "        0.        , 0.        , 0.        , 0.        , 0.        ,\n",
       "        0.        , 0.        , 0.1372549 , 0.94509804, 0.88235294,\n",
       "        0.62745098, 0.42352941, 0.00392157, 0.        , 0.        ,\n",
       "        0.        , 0.        , 0.        , 0.        , 0.        ,\n",
       "        0.        , 0.        , 0.        ],\n",
       "       [0.        , 0.        , 0.        , 0.        , 0.        ,\n",
       "        0.        , 0.        , 0.        , 0.        , 0.        ,\n",
       "        0.        , 0.        , 0.        , 0.31764706, 0.94117647,\n",
       "        0.99215686, 0.99215686, 0.46666667, 0.09803922, 0.        ,\n",
       "        0.        , 0.        , 0.        , 0.        , 0.        ,\n",
       "        0.        , 0.        , 0.        ],\n",
       "       [0.        , 0.        , 0.        , 0.        , 0.        ,\n",
       "        0.        , 0.        , 0.        , 0.        , 0.        ,\n",
       "        0.        , 0.        , 0.        , 0.        , 0.17647059,\n",
       "        0.72941176, 0.99215686, 0.99215686, 0.58823529, 0.10588235,\n",
       "        0.        , 0.        , 0.        , 0.        , 0.        ,\n",
       "        0.        , 0.        , 0.        ],\n",
       "       [0.        , 0.        , 0.        , 0.        , 0.        ,\n",
       "        0.        , 0.        , 0.        , 0.        , 0.        ,\n",
       "        0.        , 0.        , 0.        , 0.        , 0.        ,\n",
       "        0.0627451 , 0.36470588, 0.98823529, 0.99215686, 0.73333333,\n",
       "        0.        , 0.        , 0.        , 0.        , 0.        ,\n",
       "        0.        , 0.        , 0.        ],\n",
       "       [0.        , 0.        , 0.        , 0.        , 0.        ,\n",
       "        0.        , 0.        , 0.        , 0.        , 0.        ,\n",
       "        0.        , 0.        , 0.        , 0.        , 0.        ,\n",
       "        0.        , 0.        , 0.97647059, 0.99215686, 0.97647059,\n",
       "        0.25098039, 0.        , 0.        , 0.        , 0.        ,\n",
       "        0.        , 0.        , 0.        ],\n",
       "       [0.        , 0.        , 0.        , 0.        , 0.        ,\n",
       "        0.        , 0.        , 0.        , 0.        , 0.        ,\n",
       "        0.        , 0.        , 0.        , 0.        , 0.18039216,\n",
       "        0.50980392, 0.71764706, 0.99215686, 0.99215686, 0.81176471,\n",
       "        0.00784314, 0.        , 0.        , 0.        , 0.        ,\n",
       "        0.        , 0.        , 0.        ],\n",
       "       [0.        , 0.        , 0.        , 0.        , 0.        ,\n",
       "        0.        , 0.        , 0.        , 0.        , 0.        ,\n",
       "        0.        , 0.        , 0.15294118, 0.58039216, 0.89803922,\n",
       "        0.99215686, 0.99215686, 0.99215686, 0.98039216, 0.71372549,\n",
       "        0.        , 0.        , 0.        , 0.        , 0.        ,\n",
       "        0.        , 0.        , 0.        ],\n",
       "       [0.        , 0.        , 0.        , 0.        , 0.        ,\n",
       "        0.        , 0.        , 0.        , 0.        , 0.        ,\n",
       "        0.09411765, 0.44705882, 0.86666667, 0.99215686, 0.99215686,\n",
       "        0.99215686, 0.99215686, 0.78823529, 0.30588235, 0.        ,\n",
       "        0.        , 0.        , 0.        , 0.        , 0.        ,\n",
       "        0.        , 0.        , 0.        ],\n",
       "       [0.        , 0.        , 0.        , 0.        , 0.        ,\n",
       "        0.        , 0.        , 0.        , 0.09019608, 0.25882353,\n",
       "        0.83529412, 0.99215686, 0.99215686, 0.99215686, 0.99215686,\n",
       "        0.77647059, 0.31764706, 0.00784314, 0.        , 0.        ,\n",
       "        0.        , 0.        , 0.        , 0.        , 0.        ,\n",
       "        0.        , 0.        , 0.        ],\n",
       "       [0.        , 0.        , 0.        , 0.        , 0.        ,\n",
       "        0.        , 0.07058824, 0.67058824, 0.85882353, 0.99215686,\n",
       "        0.99215686, 0.99215686, 0.99215686, 0.76470588, 0.31372549,\n",
       "        0.03529412, 0.        , 0.        , 0.        , 0.        ,\n",
       "        0.        , 0.        , 0.        , 0.        , 0.        ,\n",
       "        0.        , 0.        , 0.        ],\n",
       "       [0.        , 0.        , 0.        , 0.        , 0.21568627,\n",
       "        0.6745098 , 0.88627451, 0.99215686, 0.99215686, 0.99215686,\n",
       "        0.99215686, 0.95686275, 0.52156863, 0.04313725, 0.        ,\n",
       "        0.        , 0.        , 0.        , 0.        , 0.        ,\n",
       "        0.        , 0.        , 0.        , 0.        , 0.        ,\n",
       "        0.        , 0.        , 0.        ],\n",
       "       [0.        , 0.        , 0.        , 0.        , 0.53333333,\n",
       "        0.99215686, 0.99215686, 0.99215686, 0.83137255, 0.52941176,\n",
       "        0.51764706, 0.0627451 , 0.        , 0.        , 0.        ,\n",
       "        0.        , 0.        , 0.        , 0.        , 0.        ,\n",
       "        0.        , 0.        , 0.        , 0.        , 0.        ,\n",
       "        0.        , 0.        , 0.        ],\n",
       "       [0.        , 0.        , 0.        , 0.        , 0.        ,\n",
       "        0.        , 0.        , 0.        , 0.        , 0.        ,\n",
       "        0.        , 0.        , 0.        , 0.        , 0.        ,\n",
       "        0.        , 0.        , 0.        , 0.        , 0.        ,\n",
       "        0.        , 0.        , 0.        , 0.        , 0.        ,\n",
       "        0.        , 0.        , 0.        ],\n",
       "       [0.        , 0.        , 0.        , 0.        , 0.        ,\n",
       "        0.        , 0.        , 0.        , 0.        , 0.        ,\n",
       "        0.        , 0.        , 0.        , 0.        , 0.        ,\n",
       "        0.        , 0.        , 0.        , 0.        , 0.        ,\n",
       "        0.        , 0.        , 0.        , 0.        , 0.        ,\n",
       "        0.        , 0.        , 0.        ],\n",
       "       [0.        , 0.        , 0.        , 0.        , 0.        ,\n",
       "        0.        , 0.        , 0.        , 0.        , 0.        ,\n",
       "        0.        , 0.        , 0.        , 0.        , 0.        ,\n",
       "        0.        , 0.        , 0.        , 0.        , 0.        ,\n",
       "        0.        , 0.        , 0.        , 0.        , 0.        ,\n",
       "        0.        , 0.        , 0.        ]])"
      ]
     },
     "execution_count": 51,
     "metadata": {},
     "output_type": "execute_result"
    }
   ],
   "source": [
    "imagenes_entrenamiento[0]"
   ]
  },
  {
   "cell_type": "code",
   "execution_count": 52,
   "id": "e1f16a1f",
   "metadata": {},
   "outputs": [],
   "source": [
    "# Convertimos las etiquetas de los dígitos a codificación one-hot.\n",
    "# Por ejemplo, la etiqueta '3' se convierte en [0, 0, 0, 1, 0, 0, 0, 0, 0, 0].\n",
    "# Esto es necesario para problemas de clasificación multiclase, como el reconocimiento de dígitos (0-9).\n",
    "etiquetas_entrenamiento = to_categorical(etiquetas_entrenamiento)\n",
    "etiquetas_prueba = to_categorical(etiquetas_prueba)\n"
   ]
  },
  {
   "cell_type": "code",
   "execution_count": 53,
   "id": "ea37350f",
   "metadata": {},
   "outputs": [
    {
     "data": {
      "text/plain": [
       "array([0., 0., 0., 0., 0., 1., 0., 0., 0., 0.])"
      ]
     },
     "execution_count": 53,
     "metadata": {},
     "output_type": "execute_result"
    }
   ],
   "source": [
    "etiquetas_entrenamiento[0]"
   ]
  },
  {
   "cell_type": "markdown",
   "id": "753b937d",
   "metadata": {},
   "source": [
    "### Definir el modelo"
   ]
  },
  {
   "cell_type": "code",
   "execution_count": 54,
   "id": "e6c7de79",
   "metadata": {},
   "outputs": [
    {
     "name": "stderr",
     "output_type": "stream",
     "text": [
      "/home/felipep/anaconda3/lib/python3.12/site-packages/keras/src/layers/reshaping/flatten.py:37: UserWarning: Do not pass an `input_shape`/`input_dim` argument to a layer. When using Sequential models, prefer using an `Input(shape)` object as the first layer in the model instead.\n",
      "  super().__init__(**kwargs)\n"
     ]
    }
   ],
   "source": [
    "# Definimos un modelo secuencial, lo que significa que las capas se apilan una tras otra.\n",
    "modelo = Sequential([\n",
    "    # Capa de aplanamiento (Flatten): convierte cada imagen 28x28 en un vector de 784 elementos.\n",
    "    # Esto es necesario porque las capas Dense (completamente conectadas) esperan vectores 1D como entrada.\n",
    "    Flatten(input_shape=(28, 28)),\n",
    "    \n",
    "    # Primera capa oculta completamente conectada con 128 neuronas y función de activación ReLU.\n",
    "    # ReLU (Rectified Linear Unit) ayuda a introducir no linealidades en el modelo.\n",
    "    Dense(128, activation=\"relu\"),\n",
    "    \n",
    "    # Capa de salida con 10 neuronas (una por cada dígito del 0 al 9) y activación softmax.\n",
    "    # Softmax convierte las salidas en probabilidades que suman 1, útiles para clasificación multiclase.\n",
    "    Dense(10, activation=\"softmax\")\n",
    "])\n"
   ]
  },
  {
   "cell_type": "markdown",
   "id": "bdda5ec7",
   "metadata": {},
   "source": [
    "### Compilar el modelo"
   ]
  },
  {
   "cell_type": "code",
   "execution_count": 55,
   "id": "a5a0ab6f",
   "metadata": {},
   "outputs": [],
   "source": [
    "# Compilamos el modelo antes de entrenarlo. Esto define cómo se actualizarán los pesos internos.\n",
    "modelo.compile(\n",
    "    # Optimizador: Adam es un algoritmo de optimización eficiente que combina las ventajas de AdaGrad y RMSProp.\n",
    "    optimizer=\"adam\",\n",
    "    \n",
    "    # Función de pérdida: categorical_crossentropy se usa para clasificación multiclase con etiquetas one-hot.\n",
    "    loss=\"categorical_crossentropy\",\n",
    "    \n",
    "    # Métricas: queremos evaluar el rendimiento del modelo con la precisión (accuracy), es decir,\n",
    "    # el porcentaje de predicciones correctas.\n",
    "    metrics=[\"accuracy\"]\n",
    ")\n"
   ]
  },
  {
   "cell_type": "markdown",
   "id": "5cb68328",
   "metadata": {},
   "source": [
    "### Entrenar el modelo"
   ]
  },
  {
   "cell_type": "code",
   "execution_count": 56,
   "id": "7578e360",
   "metadata": {},
   "outputs": [
    {
     "name": "stdout",
     "output_type": "stream",
     "text": [
      "Epoch 1/5\n",
      "\u001b[1m1875/1875\u001b[0m \u001b[32m━━━━━━━━━━━━━━━━━━━━\u001b[0m\u001b[37m\u001b[0m \u001b[1m10s\u001b[0m 5ms/step - accuracy: 0.8790 - loss: 0.4318 - val_accuracy: 0.9609 - val_loss: 0.1322\n",
      "Epoch 2/5\n",
      "\u001b[1m1875/1875\u001b[0m \u001b[32m━━━━━━━━━━━━━━━━━━━━\u001b[0m\u001b[37m\u001b[0m \u001b[1m9s\u001b[0m 5ms/step - accuracy: 0.9654 - loss: 0.1175 - val_accuracy: 0.9699 - val_loss: 0.1000\n",
      "Epoch 3/5\n",
      "\u001b[1m1875/1875\u001b[0m \u001b[32m━━━━━━━━━━━━━━━━━━━━\u001b[0m\u001b[37m\u001b[0m \u001b[1m9s\u001b[0m 5ms/step - accuracy: 0.9767 - loss: 0.0787 - val_accuracy: 0.9706 - val_loss: 0.0880\n",
      "Epoch 4/5\n",
      "\u001b[1m1875/1875\u001b[0m \u001b[32m━━━━━━━━━━━━━━━━━━━━\u001b[0m\u001b[37m\u001b[0m \u001b[1m9s\u001b[0m 5ms/step - accuracy: 0.9819 - loss: 0.0595 - val_accuracy: 0.9747 - val_loss: 0.0806\n",
      "Epoch 5/5\n",
      "\u001b[1m1875/1875\u001b[0m \u001b[32m━━━━━━━━━━━━━━━━━━━━\u001b[0m\u001b[37m\u001b[0m \u001b[1m9s\u001b[0m 5ms/step - accuracy: 0.9871 - loss: 0.0436 - val_accuracy: 0.9778 - val_loss: 0.0733\n"
     ]
    },
    {
     "data": {
      "text/plain": [
       "<keras.src.callbacks.history.History at 0x7efc88102720>"
      ]
     },
     "execution_count": 56,
     "metadata": {},
     "output_type": "execute_result"
    }
   ],
   "source": [
    "# Entrenamos el modelo con el conjunto de entrenamiento usando la función fit().\n",
    "modelo.fit(\n",
    "    # Imágenes de entrada del conjunto de entrenamiento.\n",
    "    imagenes_entrenamiento,\n",
    "    \n",
    "    # Etiquetas en formato one-hot correspondientes a las imágenes de entrenamiento.\n",
    "    etiquetas_entrenamiento,\n",
    "    \n",
    "    # Número de épocas: indica cuántas veces el modelo verá todos los datos de entrenamiento.\n",
    "    # Más épocas pueden mejorar el aprendizaje, pero también pueden causar sobreajuste si son muchas.\n",
    "    epochs=5,\n",
    "    \n",
    "    # Datos de validación: se usan para evaluar el rendimiento del modelo después de cada época,\n",
    "    # pero sin usarlos para entrenar, lo que permite detectar sobreajuste.\n",
    "    validation_data=(imagenes_prueba, etiquetas_prueba)\n",
    ")\n"
   ]
  },
  {
   "cell_type": "code",
   "execution_count": 57,
   "id": "4ed8ead4",
   "metadata": {},
   "outputs": [
    {
     "name": "stdout",
     "output_type": "stream",
     "text": [
      "\u001b[1m313/313\u001b[0m \u001b[32m━━━━━━━━━━━━━━━━━━━━\u001b[0m\u001b[37m\u001b[0m \u001b[1m1s\u001b[0m 2ms/step\n"
     ]
    }
   ],
   "source": [
    "# Usamos el modelo entrenado para hacer predicciones sobre el conjunto de prueba.\n",
    "# La función `predict()` devuelve una matriz de probabilidades.\n",
    "# Cada fila contiene 10 valores, uno por cada clase (dígitos del 0 al 9).\n",
    "# Por ejemplo, predicciones[0] puede ser algo como [0.01, 0.03, ..., 0.90, ..., 0.01].\n",
    "predicciones = modelo.predict(imagenes_prueba)"
   ]
  },
  {
   "cell_type": "code",
   "execution_count": 58,
   "id": "fd402669",
   "metadata": {},
   "outputs": [],
   "source": [
    "# Función para visualizar una imagen junto con su etiqueta real y la predicción del modelo.\n",
    "# Parámetros:\n",
    "# - array_predicciones: vector de probabilidades para una imagen (output de modelo.predict()).\n",
    "# - etiqueta_real: vector one-hot que representa la etiqueta verdadera.\n",
    "# - img: la imagen correspondiente (matriz 28x28 de píxeles normalizados).\n",
    "\n",
    "def ver_imagen(array_predicciones, etiqueta_real, img):\n",
    "    # Convertimos la etiqueta real de one-hot a valor numérico.\n",
    "    etiqueta_real, img = etiqueta_real.argmax(), img.squeeze()\n",
    "    \n",
    "    # Configuramos la visualización de la imagen:\n",
    "    plt.grid(False)           # Quitamos la cuadrícula\n",
    "    plt.xticks([])            # Quitamos marcas del eje x\n",
    "    plt.yticks([])            # Quitamos marcas del eje y\n",
    "    plt.imshow(img, cmap=plt.cm.binary)  # Mostramos la imagen en escala de grises (blanco y negro)\n",
    "    \n",
    "    # Obtenemos la clase predicha (el índice con mayor probabilidad).\n",
    "    etiqueta_predicha = np.argmax(array_predicciones)\n",
    "\n",
    "    # Comparamos la etiqueta predicha con la real para definir el color del texto.\n",
    "    if etiqueta_predicha == etiqueta_real:\n",
    "        color = \"blue\"  # Azul si la predicción es correcta\n",
    "    else:\n",
    "        color = \"red\"   # Rojo si es incorrecta\n",
    "\n",
    "    # Mostramos el texto con predicción y etiqueta real en el borde inferior de la imagen.\n",
    "    plt.xlabel(f\"Pred: {etiqueta_predicha} Real: {etiqueta_real}\", color=color)\n",
    "\n",
    "    return plt  # Retornamos el objeto plt para poder usar .show() externamente\n"
   ]
  },
  {
   "cell_type": "code",
   "execution_count": 59,
   "id": "e6a72218",
   "metadata": {},
   "outputs": [
    {
     "data": {
      "image/png": "[encoded data removed]",
      "text/plain": [
       "<Figure size 1200x1000 with 15 Axes>"
      ]
     },
     "metadata": {},
     "output_type": "display_data"
    }
   ],
   "source": [
    "# Definimos cuántas filas y columnas tendrá nuestra grilla de visualización.\n",
    "filas = 5\n",
    "columnas = 3\n",
    "numero_imagenes = filas * columnas  # Total de imágenes a mostrar\n",
    "\n",
    "# Creamos una figura de tamaño proporcional al número de filas y columnas.\n",
    "plt.figure(figsize=(2*2*columnas, 2*filas))\n",
    "\n",
    "# Iteramos sobre cada imagen a mostrar\n",
    "for item in range(numero_imagenes):\n",
    "    # Añadimos un subplot a la figura en la posición correspondiente\n",
    "    # Usamos 2*columnas porque podemos dejar espacio para otra visualización si se desea\n",
    "    plt.subplot(\n",
    "        filas,           # número de filas en la grilla\n",
    "        2*columnas,      # número de columnas duplicadas (por ejemplo, para mostrar también gráficas de barras)\n",
    "        2*item+1         # posición del subplot (solo usamos las impares)\n",
    "    )\n",
    "    \n",
    "    # Mostramos la imagen con su predicción y etiqueta real usando la función previamente definida\n",
    "    ver_imagen(predicciones[item], etiquetas_prueba[item], imagenes_prueba[item])\n",
    "\n",
    "# Mostramos toda la figura completa\n",
    "plt.show()\n"
   ]
  }
 ],
 "metadata": {
  "kernelspec": {
   "display_name": "base",
   "language": "python",
   "name": "python3"
  },
  "language_info": {
   "codemirror_mode": {
    "name": "ipython",
    "version": 3
   },
   "file_extension": ".py",
   "mimetype": "text/x-python",
   "name": "python",
   "nbconvert_exporter": "python",
   "pygments_lexer": "ipython3",
   "version": "3.12.7"
  }
 },
 "nbformat": 4,
 "nbformat_minor": 5
}
