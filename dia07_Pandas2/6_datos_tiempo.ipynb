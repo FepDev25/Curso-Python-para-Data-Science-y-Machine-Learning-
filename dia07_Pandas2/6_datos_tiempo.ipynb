{
 "cells": [
  {
   "cell_type": "code",
   "execution_count": 2,
   "id": "55386420",
   "metadata": {},
   "outputs": [],
   "source": [
    "import pandas as pd"
   ]
  },
  {
   "cell_type": "code",
   "execution_count": 3,
   "id": "4431831e",
   "metadata": {},
   "outputs": [
    {
     "data": {
      "text/plain": [
       "0     2025-01-01\n",
       "1     2025-01-02\n",
       "2     2025-01-03\n",
       "3     2025-01-04\n",
       "4     2025-01-05\n",
       "         ...    \n",
       "360   2025-12-27\n",
       "361   2025-12-28\n",
       "362   2025-12-29\n",
       "363   2025-12-30\n",
       "364   2025-12-31\n",
       "Length: 365, dtype: datetime64[ns]"
      ]
     },
     "execution_count": 3,
     "metadata": {},
     "output_type": "execute_result"
    }
   ],
   "source": [
    "# Datos especificos para fechas y horas\n",
    "fechas = pd.Series(pd.date_range(\"2025-01-01\", periods=365)) # Por defecto la frecuencia del periodo es en dias\n",
    "fechas"
   ]
  },
  {
   "cell_type": "code",
   "execution_count": 4,
   "id": "78829997",
   "metadata": {},
   "outputs": [
    {
     "data": {
      "text/plain": [
       "Timestamp('2025-02-15 00:00:00')"
      ]
     },
     "execution_count": 4,
     "metadata": {},
     "output_type": "execute_result"
    }
   ],
   "source": [
    "fechas[45]"
   ]
  },
  {
   "cell_type": "code",
   "execution_count": 5,
   "id": "35cf5f94",
   "metadata": {},
   "outputs": [
    {
     "data": {
      "text/plain": [
       "0   2025-01-31\n",
       "1   2025-02-28\n",
       "2   2025-03-31\n",
       "3   2025-04-30\n",
       "4   2025-05-31\n",
       "5   2025-06-30\n",
       "dtype: datetime64[ns]"
      ]
     },
     "execution_count": 5,
     "metadata": {},
     "output_type": "execute_result"
    }
   ],
   "source": [
    "fechas = pd.Series(pd.date_range(\"2025-01-01\", periods=6, freq=\"ME\")) # Meses\n",
    "fechas"
   ]
  },
  {
   "cell_type": "code",
   "execution_count": null,
   "id": "b224ed2d",
   "metadata": {},
   "outputs": [
    {
     "data": {
      "text/plain": [
       "0   2025-12-31\n",
       "1   2026-12-31\n",
       "2   2027-12-31\n",
       "3   2028-12-31\n",
       "4   2029-12-31\n",
       "5   2030-12-31\n",
       "dtype: datetime64[ns]"
      ]
     },
     "execution_count": 10,
     "metadata": {},
     "output_type": "execute_result"
    }
   ],
   "source": [
    "fechas = pd.Series(pd.date_range(\"2025-01-01\", periods=6, freq=\"YE\")) # Años\n",
    "fechas"
   ]
  },
  {
   "cell_type": "code",
   "execution_count": 6,
   "id": "d0f7c12f",
   "metadata": {},
   "outputs": [
    {
     "data": {
      "text/plain": [
       "0   2025-01-01 00:00:00\n",
       "1   2025-01-01 01:00:00\n",
       "2   2025-01-01 02:00:00\n",
       "3   2025-01-01 03:00:00\n",
       "4   2025-01-01 04:00:00\n",
       "5   2025-01-01 05:00:00\n",
       "dtype: datetime64[ns]"
      ]
     },
     "execution_count": 6,
     "metadata": {},
     "output_type": "execute_result"
    }
   ],
   "source": [
    "fechas = pd.Series(pd.date_range(\"2025-01-01\", periods=6, freq=\"h\")) # Horas\n",
    "fechas"
   ]
  },
  {
   "cell_type": "code",
   "execution_count": 7,
   "id": "644aa2b4",
   "metadata": {},
   "outputs": [
    {
     "data": {
      "text/plain": [
       "0    2025-01-01 12:45:00\n",
       "1    2025-01-01 12:46:00\n",
       "2    2025-01-01 12:47:00\n",
       "3    2025-01-01 12:48:00\n",
       "4    2025-01-01 12:49:00\n",
       "5    2025-01-01 12:50:00\n",
       "6    2025-01-01 12:51:00\n",
       "7    2025-01-01 12:52:00\n",
       "8    2025-01-01 12:53:00\n",
       "9    2025-01-01 12:54:00\n",
       "10   2025-01-01 12:55:00\n",
       "11   2025-01-01 12:56:00\n",
       "12   2025-01-01 12:57:00\n",
       "13   2025-01-01 12:58:00\n",
       "14   2025-01-01 12:59:00\n",
       "15   2025-01-01 13:00:00\n",
       "dtype: datetime64[ns]"
      ]
     },
     "execution_count": 7,
     "metadata": {},
     "output_type": "execute_result"
    }
   ],
   "source": [
    "fechas = pd.Series(pd.date_range(\"2025-01-01 12:45:00\", periods=16, freq=\"min\")) # Minutos\n",
    "fechas"
   ]
  },
  {
   "cell_type": "code",
   "execution_count": 9,
   "id": "9bd0923c",
   "metadata": {},
   "outputs": [
    {
     "data": {
      "text/html": [
       "<div>\n",
       "<style scoped>\n",
       "    .dataframe tbody tr th:only-of-type {\n",
       "        vertical-align: middle;\n",
       "    }\n",
       "\n",
       "    .dataframe tbody tr th {\n",
       "        vertical-align: top;\n",
       "    }\n",
       "\n",
       "    .dataframe thead th {\n",
       "        text-align: right;\n",
       "    }\n",
       "</style>\n",
       "<table border=\"1\" class=\"dataframe\">\n",
       "  <thead>\n",
       "    <tr style=\"text-align: right;\">\n",
       "      <th></th>\n",
       "      <th>Ticker</th>\n",
       "      <th>Fecha</th>\n",
       "      <th>Cierre</th>\n",
       "      <th>Referencia</th>\n",
       "      <th>Volumen</th>\n",
       "      <th>Rotacion</th>\n",
       "      <th>Ultimo</th>\n",
       "      <th>Alto</th>\n",
       "      <th>Bajo</th>\n",
       "      <th>Promedio</th>\n",
       "    </tr>\n",
       "  </thead>\n",
       "  <tbody>\n",
       "    <tr>\n",
       "      <th>0</th>\n",
       "      <td>ANA</td>\n",
       "      <td>02/01/2019</td>\n",
       "      <td>74.80</td>\n",
       "      <td>73.90</td>\n",
       "      <td>156300</td>\n",
       "      <td>11621188.98</td>\n",
       "      <td>74.80</td>\n",
       "      <td>75.16</td>\n",
       "      <td>72.38</td>\n",
       "      <td>74.3518</td>\n",
       "    </tr>\n",
       "    <tr>\n",
       "      <th>1</th>\n",
       "      <td>ANA</td>\n",
       "      <td>03/01/2019</td>\n",
       "      <td>76.34</td>\n",
       "      <td>74.80</td>\n",
       "      <td>140331</td>\n",
       "      <td>10632703.64</td>\n",
       "      <td>76.34</td>\n",
       "      <td>76.60</td>\n",
       "      <td>74.54</td>\n",
       "      <td>75.7687</td>\n",
       "    </tr>\n",
       "    <tr>\n",
       "      <th>2</th>\n",
       "      <td>ANA</td>\n",
       "      <td>04/01/2019</td>\n",
       "      <td>76.62</td>\n",
       "      <td>76.34</td>\n",
       "      <td>130309</td>\n",
       "      <td>10010838.76</td>\n",
       "      <td>76.62</td>\n",
       "      <td>77.40</td>\n",
       "      <td>76.40</td>\n",
       "      <td>76.8162</td>\n",
       "    </tr>\n",
       "    <tr>\n",
       "      <th>3</th>\n",
       "      <td>ANA</td>\n",
       "      <td>07/01/2019</td>\n",
       "      <td>77.14</td>\n",
       "      <td>76.62</td>\n",
       "      <td>63349</td>\n",
       "      <td>4855724.92</td>\n",
       "      <td>77.14</td>\n",
       "      <td>77.30</td>\n",
       "      <td>75.62</td>\n",
       "      <td>76.6504</td>\n",
       "    </tr>\n",
       "    <tr>\n",
       "      <th>4</th>\n",
       "      <td>ANA</td>\n",
       "      <td>08/01/2019</td>\n",
       "      <td>78.24</td>\n",
       "      <td>77.14</td>\n",
       "      <td>99300</td>\n",
       "      <td>7749464.70</td>\n",
       "      <td>78.24</td>\n",
       "      <td>78.46</td>\n",
       "      <td>77.00</td>\n",
       "      <td>78.0409</td>\n",
       "    </tr>\n",
       "  </tbody>\n",
       "</table>\n",
       "</div>"
      ],
      "text/plain": [
       "  Ticker       Fecha  Cierre  Referencia  Volumen     Rotacion  Ultimo   Alto  \\\n",
       "0    ANA  02/01/2019   74.80       73.90   156300  11621188.98   74.80  75.16   \n",
       "1    ANA  03/01/2019   76.34       74.80   140331  10632703.64   76.34  76.60   \n",
       "2    ANA  04/01/2019   76.62       76.34   130309  10010838.76   76.62  77.40   \n",
       "3    ANA  07/01/2019   77.14       76.62    63349   4855724.92   77.14  77.30   \n",
       "4    ANA  08/01/2019   78.24       77.14    99300   7749464.70   78.24  78.46   \n",
       "\n",
       "    Bajo  Promedio  \n",
       "0  72.38   74.3518  \n",
       "1  74.54   75.7687  \n",
       "2  76.40   76.8162  \n",
       "3  75.62   76.6504  \n",
       "4  77.00   78.0409  "
      ]
     },
     "execution_count": 9,
     "metadata": {},
     "output_type": "execute_result"
    }
   ],
   "source": [
    "df  = pd.read_csv(\"./Mercado+de+Valores+España.csv\")\n",
    "df.head(5)"
   ]
  },
  {
   "cell_type": "code",
   "execution_count": 10,
   "id": "fd8e0a67",
   "metadata": {},
   "outputs": [
    {
     "name": "stdout",
     "output_type": "stream",
     "text": [
      "<class 'pandas.core.frame.DataFrame'>\n",
      "RangeIndex: 8575 entries, 0 to 8574\n",
      "Data columns (total 10 columns):\n",
      " #   Column      Non-Null Count  Dtype  \n",
      "---  ------      --------------  -----  \n",
      " 0   Ticker      8575 non-null   object \n",
      " 1   Fecha       8575 non-null   object \n",
      " 2   Cierre      8575 non-null   float64\n",
      " 3   Referencia  8575 non-null   float64\n",
      " 4   Volumen     8575 non-null   int64  \n",
      " 5   Rotacion    8575 non-null   float64\n",
      " 6   Ultimo      8575 non-null   float64\n",
      " 7   Alto        8575 non-null   float64\n",
      " 8   Bajo        8575 non-null   float64\n",
      " 9   Promedio    8575 non-null   float64\n",
      "dtypes: float64(7), int64(1), object(2)\n",
      "memory usage: 670.1+ KB\n"
     ]
    }
   ],
   "source": [
    "df.info()"
   ]
  },
  {
   "cell_type": "code",
   "execution_count": 12,
   "id": "ee3d48b1",
   "metadata": {},
   "outputs": [
    {
     "data": {
      "text/plain": [
       "str"
      ]
     },
     "execution_count": 12,
     "metadata": {},
     "output_type": "execute_result"
    }
   ],
   "source": [
    "type(df[\"Fecha\"][0])"
   ]
  },
  {
   "cell_type": "code",
   "execution_count": 14,
   "id": "aeb0e368",
   "metadata": {},
   "outputs": [
    {
     "data": {
      "text/html": [
       "<div>\n",
       "<style scoped>\n",
       "    .dataframe tbody tr th:only-of-type {\n",
       "        vertical-align: middle;\n",
       "    }\n",
       "\n",
       "    .dataframe tbody tr th {\n",
       "        vertical-align: top;\n",
       "    }\n",
       "\n",
       "    .dataframe thead th {\n",
       "        text-align: right;\n",
       "    }\n",
       "</style>\n",
       "<table border=\"1\" class=\"dataframe\">\n",
       "  <thead>\n",
       "    <tr style=\"text-align: right;\">\n",
       "      <th></th>\n",
       "      <th>Ticker</th>\n",
       "      <th>Fecha</th>\n",
       "      <th>Cierre</th>\n",
       "      <th>Referencia</th>\n",
       "      <th>Volumen</th>\n",
       "      <th>Rotacion</th>\n",
       "      <th>Ultimo</th>\n",
       "      <th>Alto</th>\n",
       "      <th>Bajo</th>\n",
       "      <th>Promedio</th>\n",
       "    </tr>\n",
       "  </thead>\n",
       "  <tbody>\n",
       "    <tr>\n",
       "      <th>0</th>\n",
       "      <td>ANA</td>\n",
       "      <td>2019-01-02</td>\n",
       "      <td>74.80</td>\n",
       "      <td>73.90</td>\n",
       "      <td>156300</td>\n",
       "      <td>11621188.98</td>\n",
       "      <td>74.80</td>\n",
       "      <td>75.16</td>\n",
       "      <td>72.38</td>\n",
       "      <td>74.3518</td>\n",
       "    </tr>\n",
       "    <tr>\n",
       "      <th>1</th>\n",
       "      <td>ANA</td>\n",
       "      <td>2019-01-03</td>\n",
       "      <td>76.34</td>\n",
       "      <td>74.80</td>\n",
       "      <td>140331</td>\n",
       "      <td>10632703.64</td>\n",
       "      <td>76.34</td>\n",
       "      <td>76.60</td>\n",
       "      <td>74.54</td>\n",
       "      <td>75.7687</td>\n",
       "    </tr>\n",
       "    <tr>\n",
       "      <th>2</th>\n",
       "      <td>ANA</td>\n",
       "      <td>2019-01-04</td>\n",
       "      <td>76.62</td>\n",
       "      <td>76.34</td>\n",
       "      <td>130309</td>\n",
       "      <td>10010838.76</td>\n",
       "      <td>76.62</td>\n",
       "      <td>77.40</td>\n",
       "      <td>76.40</td>\n",
       "      <td>76.8162</td>\n",
       "    </tr>\n",
       "    <tr>\n",
       "      <th>3</th>\n",
       "      <td>ANA</td>\n",
       "      <td>2019-01-07</td>\n",
       "      <td>77.14</td>\n",
       "      <td>76.62</td>\n",
       "      <td>63349</td>\n",
       "      <td>4855724.92</td>\n",
       "      <td>77.14</td>\n",
       "      <td>77.30</td>\n",
       "      <td>75.62</td>\n",
       "      <td>76.6504</td>\n",
       "    </tr>\n",
       "    <tr>\n",
       "      <th>4</th>\n",
       "      <td>ANA</td>\n",
       "      <td>2019-01-08</td>\n",
       "      <td>78.24</td>\n",
       "      <td>77.14</td>\n",
       "      <td>99300</td>\n",
       "      <td>7749464.70</td>\n",
       "      <td>78.24</td>\n",
       "      <td>78.46</td>\n",
       "      <td>77.00</td>\n",
       "      <td>78.0409</td>\n",
       "    </tr>\n",
       "  </tbody>\n",
       "</table>\n",
       "</div>"
      ],
      "text/plain": [
       "  Ticker      Fecha  Cierre  Referencia  Volumen     Rotacion  Ultimo   Alto  \\\n",
       "0    ANA 2019-01-02   74.80       73.90   156300  11621188.98   74.80  75.16   \n",
       "1    ANA 2019-01-03   76.34       74.80   140331  10632703.64   76.34  76.60   \n",
       "2    ANA 2019-01-04   76.62       76.34   130309  10010838.76   76.62  77.40   \n",
       "3    ANA 2019-01-07   77.14       76.62    63349   4855724.92   77.14  77.30   \n",
       "4    ANA 2019-01-08   78.24       77.14    99300   7749464.70   78.24  78.46   \n",
       "\n",
       "    Bajo  Promedio  \n",
       "0  72.38   74.3518  \n",
       "1  74.54   75.7687  \n",
       "2  76.40   76.8162  \n",
       "3  75.62   76.6504  \n",
       "4  77.00   78.0409  "
      ]
     },
     "execution_count": 14,
     "metadata": {},
     "output_type": "execute_result"
    }
   ],
   "source": [
    "# Cambiar el tipo de dato de la columna Fecha a datetime\n",
    "df[\"Fecha\"] = pd.to_datetime( df[\"Fecha\"], format=\"%d/%m/%Y\" )\n",
    "df.head(5)"
   ]
  },
  {
   "cell_type": "code",
   "execution_count": 15,
   "id": "c55fadc8",
   "metadata": {},
   "outputs": [
    {
     "name": "stdout",
     "output_type": "stream",
     "text": [
      "<class 'pandas.core.frame.DataFrame'>\n",
      "RangeIndex: 8575 entries, 0 to 8574\n",
      "Data columns (total 10 columns):\n",
      " #   Column      Non-Null Count  Dtype         \n",
      "---  ------      --------------  -----         \n",
      " 0   Ticker      8575 non-null   object        \n",
      " 1   Fecha       8575 non-null   datetime64[ns]\n",
      " 2   Cierre      8575 non-null   float64       \n",
      " 3   Referencia  8575 non-null   float64       \n",
      " 4   Volumen     8575 non-null   int64         \n",
      " 5   Rotacion    8575 non-null   float64       \n",
      " 6   Ultimo      8575 non-null   float64       \n",
      " 7   Alto        8575 non-null   float64       \n",
      " 8   Bajo        8575 non-null   float64       \n",
      " 9   Promedio    8575 non-null   float64       \n",
      "dtypes: datetime64[ns](1), float64(7), int64(1), object(1)\n",
      "memory usage: 670.1+ KB\n"
     ]
    }
   ],
   "source": [
    "df.info()"
   ]
  },
  {
   "cell_type": "code",
   "execution_count": 16,
   "id": "4c13b269",
   "metadata": {},
   "outputs": [
    {
     "data": {
      "text/plain": [
       "pandas._libs.tslibs.timestamps.Timestamp"
      ]
     },
     "execution_count": 16,
     "metadata": {},
     "output_type": "execute_result"
    }
   ],
   "source": [
    "type(df[\"Fecha\"][0])"
   ]
  },
  {
   "cell_type": "code",
   "execution_count": 21,
   "id": "64c57c73",
   "metadata": {},
   "outputs": [
    {
     "name": "stdout",
     "output_type": "stream",
     "text": [
      "Año:  2019\n",
      "Mes:  1\n",
      "Dia:  2\n"
     ]
    }
   ],
   "source": [
    "print(\"Año: \", df[\"Fecha\"][0].year)\n",
    "print(\"Mes: \", df[\"Fecha\"][0].month)\n",
    "print(\"Dia: \", df[\"Fecha\"][0].day)\n"
   ]
  },
  {
   "cell_type": "code",
   "execution_count": 22,
   "id": "489e896e",
   "metadata": {},
   "outputs": [
    {
     "data": {
      "text/plain": [
       "0   2019-01-07\n",
       "1   2019-01-08\n",
       "2   2019-01-09\n",
       "3   2019-01-12\n",
       "4   2019-01-13\n",
       "Name: Fecha, dtype: datetime64[ns]"
      ]
     },
     "execution_count": 22,
     "metadata": {},
     "output_type": "execute_result"
    }
   ],
   "source": [
    "df_mas_5_dias = df[\"Fecha\"] + pd.Timedelta(days=5)\n",
    "df_mas_5_dias.head(5)"
   ]
  },
  {
   "cell_type": "markdown",
   "id": "dddafb9f",
   "metadata": {},
   "source": [
    "### Ejercicios"
   ]
  },
  {
   "cell_type": "code",
   "execution_count": 25,
   "id": "814df97c",
   "metadata": {},
   "outputs": [
    {
     "name": "stdout",
     "output_type": "stream",
     "text": [
      "0   2024-01-01\n",
      "1   2024-01-02\n",
      "2   2024-01-03\n",
      "3   2024-01-04\n",
      "4   2024-01-05\n",
      "5   2024-01-06\n",
      "6   2024-01-07\n",
      "dtype: datetime64[ns]\n"
     ]
    }
   ],
   "source": [
    "\"\"\"\n",
    "Crea una serie temporal que represente todos los días desde el inicio del año 2024 hasta el septimo dia del mismo mes y año. \n",
    "Usa el método adecuado para generar esta serie y asígnala a una variable llamada primera_semana_2024 \n",
    "\"\"\"\n",
    "\n",
    "import pandas as pd\n",
    "\n",
    "primera_semana_2024 = pd.Series( pd.date_range(\"2024-01-01\", periods=7) )\n",
    "print(primera_semana_2024)"
   ]
  },
  {
   "cell_type": "code",
   "execution_count": 62,
   "id": "f4a3d2e0",
   "metadata": {},
   "outputs": [
    {
     "data": {
      "text/html": [
       "<div>\n",
       "<style scoped>\n",
       "    .dataframe tbody tr th:only-of-type {\n",
       "        vertical-align: middle;\n",
       "    }\n",
       "\n",
       "    .dataframe tbody tr th {\n",
       "        vertical-align: top;\n",
       "    }\n",
       "\n",
       "    .dataframe thead th {\n",
       "        text-align: right;\n",
       "    }\n",
       "</style>\n",
       "<table border=\"1\" class=\"dataframe\">\n",
       "  <thead>\n",
       "    <tr style=\"text-align: right;\">\n",
       "      <th></th>\n",
       "      <th>fecha</th>\n",
       "    </tr>\n",
       "  </thead>\n",
       "  <tbody>\n",
       "    <tr>\n",
       "      <th>0</th>\n",
       "      <td>01/01/2024</td>\n",
       "    </tr>\n",
       "    <tr>\n",
       "      <th>1</th>\n",
       "      <td>02/01/2024</td>\n",
       "    </tr>\n",
       "    <tr>\n",
       "      <th>2</th>\n",
       "      <td>03/01/2024</td>\n",
       "    </tr>\n",
       "  </tbody>\n",
       "</table>\n",
       "</div>"
      ],
      "text/plain": [
       "        fecha\n",
       "0  01/01/2024\n",
       "1  02/01/2024\n",
       "2  03/01/2024"
      ]
     },
     "execution_count": 62,
     "metadata": {},
     "output_type": "execute_result"
    }
   ],
   "source": [
    "import pandas as pd\n",
    "\n",
    "df = pd.read_csv(\"./fechas.csv\")\n",
    "\n",
    "df[\"fecha\"] = pd.to_datetime(df[\"fecha\"], format=\"%Y-%m-%d\")\n",
    "\n",
    "df[\"fecha\"] = df[\"fecha\"].dt.strftime(\"%d/%m/%Y\")\n",
    "\n",
    "df"
   ]
  },
  {
   "cell_type": "code",
   "execution_count": 58,
   "id": "c8ab3db7",
   "metadata": {},
   "outputs": [
    {
     "data": {
      "text/html": [
       "<div>\n",
       "<style scoped>\n",
       "    .dataframe tbody tr th:only-of-type {\n",
       "        vertical-align: middle;\n",
       "    }\n",
       "\n",
       "    .dataframe tbody tr th {\n",
       "        vertical-align: top;\n",
       "    }\n",
       "\n",
       "    .dataframe thead th {\n",
       "        text-align: right;\n",
       "    }\n",
       "</style>\n",
       "<table border=\"1\" class=\"dataframe\">\n",
       "  <thead>\n",
       "    <tr style=\"text-align: right;\">\n",
       "      <th></th>\n",
       "      <th>fecha</th>\n",
       "    </tr>\n",
       "  </thead>\n",
       "  <tbody>\n",
       "    <tr>\n",
       "      <th>0</th>\n",
       "      <td>2023-01-06</td>\n",
       "    </tr>\n",
       "    <tr>\n",
       "      <th>1</th>\n",
       "      <td>2023-01-07</td>\n",
       "    </tr>\n",
       "  </tbody>\n",
       "</table>\n",
       "</div>"
      ],
      "text/plain": [
       "       fecha\n",
       "0 2023-01-06\n",
       "1 2023-01-07"
      ]
     },
     "execution_count": 58,
     "metadata": {},
     "output_type": "execute_result"
    }
   ],
   "source": [
    "import pandas as pd\n",
    " \n",
    "df = pd.read_csv('fechas.csv')\n",
    " \n",
    "df['fecha'] = pd.to_datetime(df['fecha'], format='%d-%m-%Y')\n",
    " \n",
    "df['fecha'] = df['fecha'] + pd.Timedelta(days=5)\n",
    "\n",
    "df"
   ]
  }
 ],
 "metadata": {
  "kernelspec": {
   "display_name": "base",
   "language": "python",
   "name": "python3"
  },
  "language_info": {
   "codemirror_mode": {
    "name": "ipython",
    "version": 3
   },
   "file_extension": ".py",
   "mimetype": "text/x-python",
   "name": "python",
   "nbconvert_exporter": "python",
   "pygments_lexer": "ipython3",
   "version": "3.12.7"
  }
 },
 "nbformat": 4,
 "nbformat_minor": 5
}
