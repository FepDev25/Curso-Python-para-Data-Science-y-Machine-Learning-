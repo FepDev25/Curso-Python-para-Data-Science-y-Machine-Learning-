{
 "cells": [
  {
   "cell_type": "markdown",
   "id": "7df964a1",
   "metadata": {},
   "source": [
    "## Pseudonimización\n",
    "\n",
    "- En lugar de que los datos sean anónimos, nos podemos referir a ellos como pseudónimos.\n",
    "- Reemplazar los datos reales por datos de fantasía que enmascarn los reales."
   ]
  },
  {
   "cell_type": "code",
   "execution_count": 1,
   "id": "04c28269",
   "metadata": {},
   "outputs": [],
   "source": [
    "import pandas as pd\n",
    "import uuid\n",
    "import hashlib"
   ]
  },
  {
   "cell_type": "code",
   "execution_count": 2,
   "id": "817a9289",
   "metadata": {
    "scrolled": true
   },
   "outputs": [
    {
     "data": {
      "text/html": [
       "<div>\n",
       "<style scoped>\n",
       "    .dataframe tbody tr th:only-of-type {\n",
       "        vertical-align: middle;\n",
       "    }\n",
       "\n",
       "    .dataframe tbody tr th {\n",
       "        vertical-align: top;\n",
       "    }\n",
       "\n",
       "    .dataframe thead th {\n",
       "        text-align: right;\n",
       "    }\n",
       "</style>\n",
       "<table border=\"1\" class=\"dataframe\">\n",
       "  <thead>\n",
       "    <tr style=\"text-align: right;\">\n",
       "      <th></th>\n",
       "      <th>nombre</th>\n",
       "      <th>email</th>\n",
       "      <th>ubicacion</th>\n",
       "    </tr>\n",
       "  </thead>\n",
       "  <tbody>\n",
       "    <tr>\n",
       "      <th>0</th>\n",
       "      <td>Ana</td>\n",
       "      <td>ana@example.com</td>\n",
       "      <td>Ciudad A</td>\n",
       "    </tr>\n",
       "    <tr>\n",
       "      <th>1</th>\n",
       "      <td>Juan</td>\n",
       "      <td>juan@example.com</td>\n",
       "      <td>Ciudad B</td>\n",
       "    </tr>\n",
       "    <tr>\n",
       "      <th>2</th>\n",
       "      <td>Luis</td>\n",
       "      <td>luis@example.com</td>\n",
       "      <td>Ciudad C</td>\n",
       "    </tr>\n",
       "  </tbody>\n",
       "</table>\n",
       "</div>"
      ],
      "text/plain": [
       "  nombre             email ubicacion\n",
       "0    Ana   ana@example.com  Ciudad A\n",
       "1   Juan  juan@example.com  Ciudad B\n",
       "2   Luis  luis@example.com  Ciudad C"
      ]
     },
     "execution_count": 2,
     "metadata": {},
     "output_type": "execute_result"
    }
   ],
   "source": [
    "data = pd.DataFrame({\n",
    "    'nombre': ['Ana', 'Juan', 'Luis'],\n",
    "    'email': ['ana@example.com', 'juan@example.com', 'luis@example.com'],\n",
    "    'ubicacion': ['Ciudad A', 'Ciudad B', 'Ciudad C']\n",
    "})\n",
    "\n",
    "data"
   ]
  },
  {
   "cell_type": "markdown",
   "id": "d55d72c0",
   "metadata": {},
   "source": [
    "### uuid\n",
    "- Reemplazar el nombre de la persona por un identificador único"
   ]
  },
  {
   "cell_type": "code",
   "execution_count": 3,
   "id": "c15bcc93",
   "metadata": {},
   "outputs": [],
   "source": [
    "id_psuedo = []"
   ]
  },
  {
   "cell_type": "code",
   "execution_count": 4,
   "id": "0cfcd102",
   "metadata": {},
   "outputs": [
    {
     "data": {
      "text/plain": [
       "['2be8efbd-d113-4f34-92c9-6b08b61021a3',\n",
       " 'b9967dbd-f910-474d-ae91-1ef1d0becb87',\n",
       " 'caea5673-318a-4aaf-8a09-aab46ce38493']"
      ]
     },
     "execution_count": 4,
     "metadata": {},
     "output_type": "execute_result"
    }
   ],
   "source": [
    "for n in range(len(data)):\n",
    "    id_psuedo.append(str(uuid.uuid4()))\n",
    "id_psuedo"
   ]
  },
  {
   "cell_type": "code",
   "execution_count": 10,
   "id": "8e0589cd",
   "metadata": {},
   "outputs": [
    {
     "data": {
      "text/html": [
       "<div>\n",
       "<style scoped>\n",
       "    .dataframe tbody tr th:only-of-type {\n",
       "        vertical-align: middle;\n",
       "    }\n",
       "\n",
       "    .dataframe tbody tr th {\n",
       "        vertical-align: top;\n",
       "    }\n",
       "\n",
       "    .dataframe thead th {\n",
       "        text-align: right;\n",
       "    }\n",
       "</style>\n",
       "<table border=\"1\" class=\"dataframe\">\n",
       "  <thead>\n",
       "    <tr style=\"text-align: right;\">\n",
       "      <th></th>\n",
       "      <th>email</th>\n",
       "      <th>ubicacion</th>\n",
       "      <th>id_psuedo</th>\n",
       "    </tr>\n",
       "  </thead>\n",
       "  <tbody>\n",
       "    <tr>\n",
       "      <th>0</th>\n",
       "      <td>ana@example.com</td>\n",
       "      <td>Ciudad A</td>\n",
       "      <td>2be8efbd-d113-4f34-92c9-6b08b61021a3</td>\n",
       "    </tr>\n",
       "    <tr>\n",
       "      <th>1</th>\n",
       "      <td>juan@example.com</td>\n",
       "      <td>Ciudad B</td>\n",
       "      <td>b9967dbd-f910-474d-ae91-1ef1d0becb87</td>\n",
       "    </tr>\n",
       "    <tr>\n",
       "      <th>2</th>\n",
       "      <td>luis@example.com</td>\n",
       "      <td>Ciudad C</td>\n",
       "      <td>caea5673-318a-4aaf-8a09-aab46ce38493</td>\n",
       "    </tr>\n",
       "  </tbody>\n",
       "</table>\n",
       "</div>"
      ],
      "text/plain": [
       "              email ubicacion                             id_psuedo\n",
       "0   ana@example.com  Ciudad A  2be8efbd-d113-4f34-92c9-6b08b61021a3\n",
       "1  juan@example.com  Ciudad B  b9967dbd-f910-474d-ae91-1ef1d0becb87\n",
       "2  luis@example.com  Ciudad C  caea5673-318a-4aaf-8a09-aab46ce38493"
      ]
     },
     "execution_count": 10,
     "metadata": {},
     "output_type": "execute_result"
    }
   ],
   "source": [
    "data.drop(\"nombre\", axis= 1, inplace=True)\n",
    "data[\"id_psuedo\"] = id_psuedo\n",
    "data"
   ]
  },
  {
   "cell_type": "markdown",
   "id": "beb6056e",
   "metadata": {},
   "source": [
    "### hashlib\n",
    "- Otra manera de realizar"
   ]
  },
  {
   "cell_type": "code",
   "execution_count": 13,
   "id": "2f42a345",
   "metadata": {},
   "outputs": [],
   "source": [
    "def hash_data(data):\n",
    "    return hashlib.sha256(data.encode()).hexdigest()\n",
    "\n",
    "hash_emails = []"
   ]
  },
  {
   "cell_type": "code",
   "execution_count": 14,
   "id": "6b2ffca3",
   "metadata": {},
   "outputs": [
    {
     "data": {
      "text/plain": [
       "['8e43ca37701228e74983efdbd0cff5c16b3b1e5d4e29a7c05626d4d25a018e11',\n",
       " '81b562a0fe2aecc8831e2d7c9942f319736afc2a99415e5144712f25a888dd82',\n",
       " '861d62c5b964e71b42e61aeb4e876f86908a86300b15b2c26fe4f33ab88e03ad']"
      ]
     },
     "execution_count": 14,
     "metadata": {},
     "output_type": "execute_result"
    }
   ],
   "source": [
    "for email in data[\"email\"]:\n",
    "    hash_emails.append(hash_data(email))\n",
    "hash_emails"
   ]
  },
  {
   "cell_type": "code",
   "execution_count": 15,
   "id": "93f48ec8",
   "metadata": {},
   "outputs": [
    {
     "data": {
      "text/html": [
       "<div>\n",
       "<style scoped>\n",
       "    .dataframe tbody tr th:only-of-type {\n",
       "        vertical-align: middle;\n",
       "    }\n",
       "\n",
       "    .dataframe tbody tr th {\n",
       "        vertical-align: top;\n",
       "    }\n",
       "\n",
       "    .dataframe thead th {\n",
       "        text-align: right;\n",
       "    }\n",
       "</style>\n",
       "<table border=\"1\" class=\"dataframe\">\n",
       "  <thead>\n",
       "    <tr style=\"text-align: right;\">\n",
       "      <th></th>\n",
       "      <th>ubicacion</th>\n",
       "      <th>id_psuedo</th>\n",
       "      <th>email_hash</th>\n",
       "    </tr>\n",
       "  </thead>\n",
       "  <tbody>\n",
       "    <tr>\n",
       "      <th>0</th>\n",
       "      <td>Ciudad A</td>\n",
       "      <td>2be8efbd-d113-4f34-92c9-6b08b61021a3</td>\n",
       "      <td>8e43ca37701228e74983efdbd0cff5c16b3b1e5d4e29a7...</td>\n",
       "    </tr>\n",
       "    <tr>\n",
       "      <th>1</th>\n",
       "      <td>Ciudad B</td>\n",
       "      <td>b9967dbd-f910-474d-ae91-1ef1d0becb87</td>\n",
       "      <td>81b562a0fe2aecc8831e2d7c9942f319736afc2a99415e...</td>\n",
       "    </tr>\n",
       "    <tr>\n",
       "      <th>2</th>\n",
       "      <td>Ciudad C</td>\n",
       "      <td>caea5673-318a-4aaf-8a09-aab46ce38493</td>\n",
       "      <td>861d62c5b964e71b42e61aeb4e876f86908a86300b15b2...</td>\n",
       "    </tr>\n",
       "  </tbody>\n",
       "</table>\n",
       "</div>"
      ],
      "text/plain": [
       "  ubicacion                             id_psuedo  \\\n",
       "0  Ciudad A  2be8efbd-d113-4f34-92c9-6b08b61021a3   \n",
       "1  Ciudad B  b9967dbd-f910-474d-ae91-1ef1d0becb87   \n",
       "2  Ciudad C  caea5673-318a-4aaf-8a09-aab46ce38493   \n",
       "\n",
       "                                          email_hash  \n",
       "0  8e43ca37701228e74983efdbd0cff5c16b3b1e5d4e29a7...  \n",
       "1  81b562a0fe2aecc8831e2d7c9942f319736afc2a99415e...  \n",
       "2  861d62c5b964e71b42e61aeb4e876f86908a86300b15b2...  "
      ]
     },
     "execution_count": 15,
     "metadata": {},
     "output_type": "execute_result"
    }
   ],
   "source": [
    "data[\"email_hash\"] = hash_emails\n",
    "data.drop(\"email\", axis= 1, inplace=True)\n",
    "data"
   ]
  },
  {
   "cell_type": "markdown",
   "id": "ac8fc083",
   "metadata": {},
   "source": [
    "- NO se pueden decodificar los datos en infunno de los dos métodos"
   ]
  },
  {
   "cell_type": "markdown",
   "id": "d3d4c37f",
   "metadata": {},
   "source": [
    "### Tokenization"
   ]
  },
  {
   "cell_type": "code",
   "execution_count": 30,
   "id": "3678e195",
   "metadata": {},
   "outputs": [],
   "source": [
    "mis_tokens = {}"
   ]
  },
  {
   "cell_type": "code",
   "execution_count": 31,
   "id": "2f2b2691",
   "metadata": {},
   "outputs": [],
   "source": [
    "def tokenizar(dato):\n",
    "    token = str(uuid.uuid4())\n",
    "    mis_tokens[token] = dato\n",
    "    return token"
   ]
  },
  {
   "cell_type": "code",
   "execution_count": 32,
   "id": "00654dbf",
   "metadata": {},
   "outputs": [],
   "source": [
    "def recuperar_dato(token):\n",
    "    return mis_tokens.get(token, \"Token no encontrado\")"
   ]
  },
  {
   "cell_type": "code",
   "execution_count": 33,
   "id": "767c90cf",
   "metadata": {},
   "outputs": [
    {
     "name": "stdout",
     "output_type": "stream",
     "text": [
      "Token generado: bf685ac5-77a7-4f15-9b3f-8ae305da57a4\n",
      "Dato recuperado: 2875-755\n"
     ]
    }
   ],
   "source": [
    "dato_original = \"2875-755\"\n",
    "\n",
    "token = tokenizar(dato_original)\n",
    "print(f\"Token generado: {token}\")\n",
    "\n",
    "recuperado = recuperar_dato(token)\n",
    "print(f\"Dato recuperado: {recuperado}\")"
   ]
  },
  {
   "cell_type": "markdown",
   "id": "4400d305",
   "metadata": {},
   "source": [
    "### Ejercicios"
   ]
  },
  {
   "cell_type": "code",
   "execution_count": 42,
   "id": "0de684a5",
   "metadata": {},
   "outputs": [
    {
     "data": {
      "text/html": [
       "<div>\n",
       "<style scoped>\n",
       "    .dataframe tbody tr th:only-of-type {\n",
       "        vertical-align: middle;\n",
       "    }\n",
       "\n",
       "    .dataframe tbody tr th {\n",
       "        vertical-align: top;\n",
       "    }\n",
       "\n",
       "    .dataframe thead th {\n",
       "        text-align: right;\n",
       "    }\n",
       "</style>\n",
       "<table border=\"1\" class=\"dataframe\">\n",
       "  <thead>\n",
       "    <tr style=\"text-align: right;\">\n",
       "      <th></th>\n",
       "      <th>email</th>\n",
       "      <th>ubicacion</th>\n",
       "      <th>id_pseudo</th>\n",
       "    </tr>\n",
       "  </thead>\n",
       "  <tbody>\n",
       "    <tr>\n",
       "      <th>0</th>\n",
       "      <td>ana@example.com</td>\n",
       "      <td>Ciudad A</td>\n",
       "      <td>b88d389d-a589-409d-9758-6da841dd1ade</td>\n",
       "    </tr>\n",
       "    <tr>\n",
       "      <th>1</th>\n",
       "      <td>juan@example.com</td>\n",
       "      <td>Ciudad B</td>\n",
       "      <td>fa23f465-7ff7-494c-b2e4-9993e17f3e4b</td>\n",
       "    </tr>\n",
       "    <tr>\n",
       "      <th>2</th>\n",
       "      <td>luis@example.com</td>\n",
       "      <td>Ciudad C</td>\n",
       "      <td>7c57cbbe-1ed1-4b7e-8098-2e88b1510e28</td>\n",
       "    </tr>\n",
       "  </tbody>\n",
       "</table>\n",
       "</div>"
      ],
      "text/plain": [
       "              email ubicacion                             id_pseudo\n",
       "0   ana@example.com  Ciudad A  b88d389d-a589-409d-9758-6da841dd1ade\n",
       "1  juan@example.com  Ciudad B  fa23f465-7ff7-494c-b2e4-9993e17f3e4b\n",
       "2  luis@example.com  Ciudad C  7c57cbbe-1ed1-4b7e-8098-2e88b1510e28"
      ]
     },
     "execution_count": 42,
     "metadata": {},
     "output_type": "execute_result"
    }
   ],
   "source": [
    "import uuid\n",
    "import pandas as pd\n",
    "\n",
    "df = pd.DataFrame({\n",
    "    'nombre': ['Ana', 'Juan', 'Luis'],\n",
    "    'email': ['ana@example.com', 'juan@example.com', 'luis@example.com'],\n",
    "    'ubicacion': ['Ciudad A', 'Ciudad B', 'Ciudad C']\n",
    "})\n",
    "\n",
    "id_psuedo=[]\n",
    "\n",
    "for n in range(len(df)):\n",
    "    id_psuedo.append(str(uuid.uuid4()))\n",
    "\n",
    "\n",
    "df.drop(\"nombre\", axis= 1, inplace=True)\n",
    "df[\"id_pseudo\"] = id_psuedo\n",
    "\n",
    "df"
   ]
  },
  {
   "cell_type": "code",
   "execution_count": 43,
   "id": "14e24018",
   "metadata": {},
   "outputs": [
    {
     "data": {
      "text/html": [
       "<div>\n",
       "<style scoped>\n",
       "    .dataframe tbody tr th:only-of-type {\n",
       "        vertical-align: middle;\n",
       "    }\n",
       "\n",
       "    .dataframe tbody tr th {\n",
       "        vertical-align: top;\n",
       "    }\n",
       "\n",
       "    .dataframe thead th {\n",
       "        text-align: right;\n",
       "    }\n",
       "</style>\n",
       "<table border=\"1\" class=\"dataframe\">\n",
       "  <thead>\n",
       "    <tr style=\"text-align: right;\">\n",
       "      <th></th>\n",
       "      <th>nombre</th>\n",
       "      <th>ubicacion</th>\n",
       "      <th>email_pseudo</th>\n",
       "    </tr>\n",
       "  </thead>\n",
       "  <tbody>\n",
       "    <tr>\n",
       "      <th>0</th>\n",
       "      <td>Ana</td>\n",
       "      <td>Ciudad A</td>\n",
       "      <td>8e43ca37701228e74983efdbd0cff5c16b3b1e5d4e29a7...</td>\n",
       "    </tr>\n",
       "    <tr>\n",
       "      <th>1</th>\n",
       "      <td>Juan</td>\n",
       "      <td>Ciudad B</td>\n",
       "      <td>81b562a0fe2aecc8831e2d7c9942f319736afc2a99415e...</td>\n",
       "    </tr>\n",
       "    <tr>\n",
       "      <th>2</th>\n",
       "      <td>Luis</td>\n",
       "      <td>Ciudad C</td>\n",
       "      <td>861d62c5b964e71b42e61aeb4e876f86908a86300b15b2...</td>\n",
       "    </tr>\n",
       "  </tbody>\n",
       "</table>\n",
       "</div>"
      ],
      "text/plain": [
       "  nombre ubicacion                                       email_pseudo\n",
       "0    Ana  Ciudad A  8e43ca37701228e74983efdbd0cff5c16b3b1e5d4e29a7...\n",
       "1   Juan  Ciudad B  81b562a0fe2aecc8831e2d7c9942f319736afc2a99415e...\n",
       "2   Luis  Ciudad C  861d62c5b964e71b42e61aeb4e876f86908a86300b15b2..."
      ]
     },
     "execution_count": 43,
     "metadata": {},
     "output_type": "execute_result"
    }
   ],
   "source": [
    "import pandas as pd\n",
    "import hashlib\n",
    "    \n",
    "df = pd.DataFrame({\n",
    "    'nombre': ['Ana', 'Juan', 'Luis'],\n",
    "    'email': ['ana@example.com', 'juan@example.com', 'luis@example.com'],\n",
    "    'ubicacion': ['Ciudad A', 'Ciudad B', 'Ciudad C']\n",
    "})\n",
    "\n",
    "def hash_data(data):\n",
    "    return hashlib.sha256(data.encode()).hexdigest()\n",
    "\n",
    "hash_emails = []\n",
    "\n",
    "for email in df[\"email\"]:\n",
    "    hash_emails.append(hash_data(email))\n",
    "\n",
    "df[\"email_pseudo\"] = hash_emails\n",
    "df.drop(\"email\", axis= 1, inplace=True)\n",
    "df\n"
   ]
  },
  {
   "cell_type": "code",
   "execution_count": 44,
   "id": "b7a9eac1",
   "metadata": {},
   "outputs": [],
   "source": [
    "import pandas as pd\n",
    "import uuid\n",
    "    \n",
    "mis_tokens = {}\n",
    "    \n",
    "# Función para generar token y guardar el nombre original\n",
    "def tokenizar(nombre):\n",
    "    token = str(uuid.uuid4())\n",
    "    mis_tokens[token] = nombre\n",
    "    return token\n",
    "    \n",
    "# Función para recuperar el nombre a partir de un token\n",
    "def recuperar_dato(token):\n",
    "    return mis_tokens.get(token, \"Token no encontrado\")\n",
    "    \n",
    "dato_original = \"Ana\"\n",
    "token = tokenizar(dato_original)"
   ]
  }
 ],
 "metadata": {
  "kernelspec": {
   "display_name": "base",
   "language": "python",
   "name": "python3"
  },
  "language_info": {
   "codemirror_mode": {
    "name": "ipython",
    "version": 3
   },
   "file_extension": ".py",
   "mimetype": "text/x-python",
   "name": "python",
   "nbconvert_exporter": "python",
   "pygments_lexer": "ipython3",
   "version": "3.12.7"
  }
 },
 "nbformat": 4,
 "nbformat_minor": 5
}
