{
 "cells": [
  {
   "cell_type": "markdown",
   "id": "0c48c59c",
   "metadata": {},
   "source": [
    "# Proyecto del Día 14 - Gestión Segura de Datos de Clientes\n",
    "\n",
    "Este notebook implementa un sistema básico de gestión y análisis de datos de clientes, aplicando técnicas de pseudonimización, anonimización y balanceo de datos.\n",
    "\n",
    "\n",
    "## Objetivo\n",
    "El proyecto consiste en desarrollar un sistema de gestión y análisis de datos de clientes que implemente técnicas de pseudonimización, anonimización y balanceo de datos para proteger la privacidad de los usuarios y asegurar un análisis equitativo.\n",
    "\n",
    "\n",
    "## Consignas del Proyecto\n",
    "1. Cargar los datos de clientes provistos en un archivo CSV.\n",
    "2. Aplicar técnicas de anonimización al campo `direccion`, `edad` y `salario` para proteger la identidad de los clientes.\n",
    "3. Aplicar técnicas de pseudonimización al campo `nombre`.\n",
    "4. Implementar una función de balanceo de datos para asegurar la representación equitativa de diversas categorías en el análisis posterior.\n",
    "5. Realizar un análisis simple de los datos para identificar tendencias o patrones que podrían ser útiles para decisiones de negocios o marketing.\n",
    "\n",
    "\n",
    "Este proyecto te permitirá aplicar prácticas esenciales de privacidad de datos y técnicas de manipulación de datos en un entorno práctico, preparándote para desafíos similares en entornos profesionales.\n",
    "\n",
    "¡Mucha suerte y que te diviertas!"
   ]
  },
  {
   "cell_type": "markdown",
   "id": "ba1696fd",
   "metadata": {},
   "source": [
    "### 0. Importar librerias"
   ]
  },
  {
   "cell_type": "code",
   "execution_count": 85,
   "id": "288a2768",
   "metadata": {},
   "outputs": [],
   "source": [
    "import pandas as pd\n",
    "import numpy as np\n",
    "import uuid\n",
    "from sklearn.utils import resample\n",
    "import matplotlib.pyplot as plt\n",
    "import seaborn as sns"
   ]
  },
  {
   "cell_type": "markdown",
   "id": "bb2a42e4",
   "metadata": {},
   "source": [
    "### 1. Cargar los datos"
   ]
  },
  {
   "cell_type": "code",
   "execution_count": 70,
   "id": "d3979ca3",
   "metadata": {},
   "outputs": [
    {
     "data": {
      "text/html": [
       "<div>\n",
       "<style scoped>\n",
       "    .dataframe tbody tr th:only-of-type {\n",
       "        vertical-align: middle;\n",
       "    }\n",
       "\n",
       "    .dataframe tbody tr th {\n",
       "        vertical-align: top;\n",
       "    }\n",
       "\n",
       "    .dataframe thead th {\n",
       "        text-align: right;\n",
       "    }\n",
       "</style>\n",
       "<table border=\"1\" class=\"dataframe\">\n",
       "  <thead>\n",
       "    <tr style=\"text-align: right;\">\n",
       "      <th></th>\n",
       "      <th>nombre</th>\n",
       "      <th>direccion</th>\n",
       "      <th>edad</th>\n",
       "      <th>categoria</th>\n",
       "      <th>salario</th>\n",
       "    </tr>\n",
       "  </thead>\n",
       "  <tbody>\n",
       "    <tr>\n",
       "      <th>0</th>\n",
       "      <td>Richard Martin</td>\n",
       "      <td>784 Stevens</td>\n",
       "      <td>62</td>\n",
       "      <td>0</td>\n",
       "      <td>61050</td>\n",
       "    </tr>\n",
       "    <tr>\n",
       "      <th>1</th>\n",
       "      <td>James Jones</td>\n",
       "      <td>729 Neruda</td>\n",
       "      <td>65</td>\n",
       "      <td>1</td>\n",
       "      <td>53824</td>\n",
       "    </tr>\n",
       "    <tr>\n",
       "      <th>2</th>\n",
       "      <td>Patricia Wilson</td>\n",
       "      <td>935 Dickinson</td>\n",
       "      <td>18</td>\n",
       "      <td>0</td>\n",
       "      <td>60281</td>\n",
       "    </tr>\n",
       "    <tr>\n",
       "      <th>3</th>\n",
       "      <td>Elizabeth Robinson</td>\n",
       "      <td>459 Rilke</td>\n",
       "      <td>21</td>\n",
       "      <td>1</td>\n",
       "      <td>42187</td>\n",
       "    </tr>\n",
       "    <tr>\n",
       "      <th>4</th>\n",
       "      <td>Charles Brown</td>\n",
       "      <td>823 Ginsberg</td>\n",
       "      <td>21</td>\n",
       "      <td>1</td>\n",
       "      <td>37589</td>\n",
       "    </tr>\n",
       "  </tbody>\n",
       "</table>\n",
       "</div>"
      ],
      "text/plain": [
       "               nombre      direccion  edad  categoria  salario\n",
       "0      Richard Martin    784 Stevens    62          0    61050\n",
       "1         James Jones     729 Neruda    65          1    53824\n",
       "2     Patricia Wilson  935 Dickinson    18          0    60281\n",
       "3  Elizabeth Robinson      459 Rilke    21          1    42187\n",
       "4       Charles Brown   823 Ginsberg    21          1    37589"
      ]
     },
     "execution_count": 70,
     "metadata": {},
     "output_type": "execute_result"
    }
   ],
   "source": [
    "df = pd.read_csv(\"clientes.csv\")\n",
    "df.head()"
   ]
  },
  {
   "cell_type": "markdown",
   "id": "c7d26bf4",
   "metadata": {},
   "source": [
    "### 2. Aplicar técnicas de anonimización al campo `direccion`, `edad` y `salario` para proteger la identidad de los clientes."
   ]
  },
  {
   "cell_type": "code",
   "execution_count": 71,
   "id": "2228ae39",
   "metadata": {},
   "outputs": [
    {
     "data": {
      "text/html": [
       "<div>\n",
       "<style scoped>\n",
       "    .dataframe tbody tr th:only-of-type {\n",
       "        vertical-align: middle;\n",
       "    }\n",
       "\n",
       "    .dataframe tbody tr th {\n",
       "        vertical-align: top;\n",
       "    }\n",
       "\n",
       "    .dataframe thead th {\n",
       "        text-align: right;\n",
       "    }\n",
       "</style>\n",
       "<table border=\"1\" class=\"dataframe\">\n",
       "  <thead>\n",
       "    <tr style=\"text-align: right;\">\n",
       "      <th></th>\n",
       "      <th>nombre</th>\n",
       "      <th>direccion</th>\n",
       "      <th>edad</th>\n",
       "      <th>categoria</th>\n",
       "      <th>salario</th>\n",
       "    </tr>\n",
       "  </thead>\n",
       "  <tbody>\n",
       "    <tr>\n",
       "      <th>0</th>\n",
       "      <td>Richard Martin</td>\n",
       "      <td>125 Browning</td>\n",
       "      <td>62</td>\n",
       "      <td>0</td>\n",
       "      <td>61050</td>\n",
       "    </tr>\n",
       "    <tr>\n",
       "      <th>1</th>\n",
       "      <td>James Jones</td>\n",
       "      <td>989 Cummings</td>\n",
       "      <td>65</td>\n",
       "      <td>1</td>\n",
       "      <td>53824</td>\n",
       "    </tr>\n",
       "    <tr>\n",
       "      <th>2</th>\n",
       "      <td>Patricia Wilson</td>\n",
       "      <td>317 Sandburg</td>\n",
       "      <td>18</td>\n",
       "      <td>0</td>\n",
       "      <td>60281</td>\n",
       "    </tr>\n",
       "    <tr>\n",
       "      <th>3</th>\n",
       "      <td>Elizabeth Robinson</td>\n",
       "      <td>369 Naidu</td>\n",
       "      <td>21</td>\n",
       "      <td>1</td>\n",
       "      <td>42187</td>\n",
       "    </tr>\n",
       "    <tr>\n",
       "      <th>4</th>\n",
       "      <td>Charles Brown</td>\n",
       "      <td>316 Auden</td>\n",
       "      <td>21</td>\n",
       "      <td>1</td>\n",
       "      <td>37589</td>\n",
       "    </tr>\n",
       "  </tbody>\n",
       "</table>\n",
       "</div>"
      ],
      "text/plain": [
       "               nombre     direccion  edad  categoria  salario\n",
       "0      Richard Martin  125 Browning    62          0    61050\n",
       "1         James Jones  989 Cummings    65          1    53824\n",
       "2     Patricia Wilson  317 Sandburg    18          0    60281\n",
       "3  Elizabeth Robinson     369 Naidu    21          1    42187\n",
       "4       Charles Brown     316 Auden    21          1    37589"
      ]
     },
     "execution_count": 71,
     "metadata": {},
     "output_type": "execute_result"
    }
   ],
   "source": [
    "df[\"direccion\"] = np.random.permutation(df[\"direccion\"])\n",
    "df.head()"
   ]
  },
  {
   "cell_type": "code",
   "execution_count": 72,
   "id": "7a603062",
   "metadata": {},
   "outputs": [
    {
     "data": {
      "text/html": [
       "<div>\n",
       "<style scoped>\n",
       "    .dataframe tbody tr th:only-of-type {\n",
       "        vertical-align: middle;\n",
       "    }\n",
       "\n",
       "    .dataframe tbody tr th {\n",
       "        vertical-align: top;\n",
       "    }\n",
       "\n",
       "    .dataframe thead th {\n",
       "        text-align: right;\n",
       "    }\n",
       "</style>\n",
       "<table border=\"1\" class=\"dataframe\">\n",
       "  <thead>\n",
       "    <tr style=\"text-align: right;\">\n",
       "      <th></th>\n",
       "      <th>nombre</th>\n",
       "      <th>direccion</th>\n",
       "      <th>edad</th>\n",
       "      <th>categoria</th>\n",
       "      <th>salario</th>\n",
       "    </tr>\n",
       "  </thead>\n",
       "  <tbody>\n",
       "    <tr>\n",
       "      <th>0</th>\n",
       "      <td>Richard Martin</td>\n",
       "      <td>125 Browning</td>\n",
       "      <td>60</td>\n",
       "      <td>0</td>\n",
       "      <td>61050</td>\n",
       "    </tr>\n",
       "    <tr>\n",
       "      <th>1</th>\n",
       "      <td>James Jones</td>\n",
       "      <td>989 Cummings</td>\n",
       "      <td>60</td>\n",
       "      <td>1</td>\n",
       "      <td>53824</td>\n",
       "    </tr>\n",
       "    <tr>\n",
       "      <th>2</th>\n",
       "      <td>Patricia Wilson</td>\n",
       "      <td>317 Sandburg</td>\n",
       "      <td>10</td>\n",
       "      <td>0</td>\n",
       "      <td>60281</td>\n",
       "    </tr>\n",
       "    <tr>\n",
       "      <th>3</th>\n",
       "      <td>Elizabeth Robinson</td>\n",
       "      <td>369 Naidu</td>\n",
       "      <td>20</td>\n",
       "      <td>1</td>\n",
       "      <td>42187</td>\n",
       "    </tr>\n",
       "    <tr>\n",
       "      <th>4</th>\n",
       "      <td>Charles Brown</td>\n",
       "      <td>316 Auden</td>\n",
       "      <td>20</td>\n",
       "      <td>1</td>\n",
       "      <td>37589</td>\n",
       "    </tr>\n",
       "  </tbody>\n",
       "</table>\n",
       "</div>"
      ],
      "text/plain": [
       "               nombre     direccion  edad  categoria  salario\n",
       "0      Richard Martin  125 Browning    60          0    61050\n",
       "1         James Jones  989 Cummings    60          1    53824\n",
       "2     Patricia Wilson  317 Sandburg    10          0    60281\n",
       "3  Elizabeth Robinson     369 Naidu    20          1    42187\n",
       "4       Charles Brown     316 Auden    20          1    37589"
      ]
     },
     "execution_count": 72,
     "metadata": {},
     "output_type": "execute_result"
    }
   ],
   "source": [
    "df[\"edad\"] = ( df[\"edad\"] // 10 ) * 10\n",
    "df.head()"
   ]
  },
  {
   "cell_type": "code",
   "execution_count": 73,
   "id": "48f35f47",
   "metadata": {},
   "outputs": [
    {
     "data": {
      "text/html": [
       "<div>\n",
       "<style scoped>\n",
       "    .dataframe tbody tr th:only-of-type {\n",
       "        vertical-align: middle;\n",
       "    }\n",
       "\n",
       "    .dataframe tbody tr th {\n",
       "        vertical-align: top;\n",
       "    }\n",
       "\n",
       "    .dataframe thead th {\n",
       "        text-align: right;\n",
       "    }\n",
       "</style>\n",
       "<table border=\"1\" class=\"dataframe\">\n",
       "  <thead>\n",
       "    <tr style=\"text-align: right;\">\n",
       "      <th></th>\n",
       "      <th>nombre</th>\n",
       "      <th>direccion</th>\n",
       "      <th>edad</th>\n",
       "      <th>categoria</th>\n",
       "      <th>salario</th>\n",
       "    </tr>\n",
       "  </thead>\n",
       "  <tbody>\n",
       "    <tr>\n",
       "      <th>0</th>\n",
       "      <td>Richard Martin</td>\n",
       "      <td>125 Browning</td>\n",
       "      <td>60</td>\n",
       "      <td>0</td>\n",
       "      <td>61257.480237</td>\n",
       "    </tr>\n",
       "    <tr>\n",
       "      <th>1</th>\n",
       "      <td>James Jones</td>\n",
       "      <td>989 Cummings</td>\n",
       "      <td>60</td>\n",
       "      <td>1</td>\n",
       "      <td>53830.017889</td>\n",
       "    </tr>\n",
       "    <tr>\n",
       "      <th>2</th>\n",
       "      <td>Patricia Wilson</td>\n",
       "      <td>317 Sandburg</td>\n",
       "      <td>10</td>\n",
       "      <td>0</td>\n",
       "      <td>60273.184604</td>\n",
       "    </tr>\n",
       "    <tr>\n",
       "      <th>3</th>\n",
       "      <td>Elizabeth Robinson</td>\n",
       "      <td>369 Naidu</td>\n",
       "      <td>20</td>\n",
       "      <td>1</td>\n",
       "      <td>42136.594855</td>\n",
       "    </tr>\n",
       "    <tr>\n",
       "      <th>4</th>\n",
       "      <td>Charles Brown</td>\n",
       "      <td>316 Auden</td>\n",
       "      <td>20</td>\n",
       "      <td>1</td>\n",
       "      <td>37423.805816</td>\n",
       "    </tr>\n",
       "  </tbody>\n",
       "</table>\n",
       "</div>"
      ],
      "text/plain": [
       "               nombre     direccion  edad  categoria       salario\n",
       "0      Richard Martin  125 Browning    60          0  61257.480237\n",
       "1         James Jones  989 Cummings    60          1  53830.017889\n",
       "2     Patricia Wilson  317 Sandburg    10          0  60273.184604\n",
       "3  Elizabeth Robinson     369 Naidu    20          1  42136.594855\n",
       "4       Charles Brown     316 Auden    20          1  37423.805816"
      ]
     },
     "execution_count": 73,
     "metadata": {},
     "output_type": "execute_result"
    }
   ],
   "source": [
    "ruido = np.random.normal(\n",
    "    0, \n",
    "    100, \n",
    "    size=df[\"salario\"].shape\n",
    ")\n",
    "\n",
    "df[\"salario\"] = df[\"salario\"] + ruido\n",
    "df.head()"
   ]
  },
  {
   "cell_type": "code",
   "execution_count": 74,
   "id": "cbdaca71",
   "metadata": {},
   "outputs": [],
   "source": [
    "df_anonimizados = df.copy()"
   ]
  },
  {
   "cell_type": "markdown",
   "id": "8c9dc204",
   "metadata": {},
   "source": [
    "### 3. Aplicar técnicas de pseudonimización al campo `nombre`."
   ]
  },
  {
   "cell_type": "code",
   "execution_count": 75,
   "id": "230942b6",
   "metadata": {},
   "outputs": [],
   "source": [
    "tokens_nombres = {}\n",
    "\n",
    "def tokenizar(nombre):\n",
    "    token = str(uuid.uuid4())\n",
    "    tokens_nombres[token] = nombre\n",
    "    return token\n",
    "\n",
    "def recupear_nombre(token):\n",
    "    return tokens_nombres[token]"
   ]
  },
  {
   "cell_type": "code",
   "execution_count": 76,
   "id": "2198dcc8",
   "metadata": {},
   "outputs": [
    {
     "data": {
      "text/html": [
       "<div>\n",
       "<style scoped>\n",
       "    .dataframe tbody tr th:only-of-type {\n",
       "        vertical-align: middle;\n",
       "    }\n",
       "\n",
       "    .dataframe tbody tr th {\n",
       "        vertical-align: top;\n",
       "    }\n",
       "\n",
       "    .dataframe thead th {\n",
       "        text-align: right;\n",
       "    }\n",
       "</style>\n",
       "<table border=\"1\" class=\"dataframe\">\n",
       "  <thead>\n",
       "    <tr style=\"text-align: right;\">\n",
       "      <th></th>\n",
       "      <th>nombre</th>\n",
       "      <th>direccion</th>\n",
       "      <th>edad</th>\n",
       "      <th>categoria</th>\n",
       "      <th>salario</th>\n",
       "    </tr>\n",
       "  </thead>\n",
       "  <tbody>\n",
       "    <tr>\n",
       "      <th>0</th>\n",
       "      <td>c2e301af-4c53-4b42-85be-cc452c9cc233</td>\n",
       "      <td>125 Browning</td>\n",
       "      <td>60</td>\n",
       "      <td>0</td>\n",
       "      <td>61257.480237</td>\n",
       "    </tr>\n",
       "    <tr>\n",
       "      <th>1</th>\n",
       "      <td>c19e67c0-387b-4002-9b13-37d3e9b3ab72</td>\n",
       "      <td>989 Cummings</td>\n",
       "      <td>60</td>\n",
       "      <td>1</td>\n",
       "      <td>53830.017889</td>\n",
       "    </tr>\n",
       "    <tr>\n",
       "      <th>2</th>\n",
       "      <td>655a7bb1-6fae-4d4c-b4fa-c392dd79e200</td>\n",
       "      <td>317 Sandburg</td>\n",
       "      <td>10</td>\n",
       "      <td>0</td>\n",
       "      <td>60273.184604</td>\n",
       "    </tr>\n",
       "    <tr>\n",
       "      <th>3</th>\n",
       "      <td>556c5de2-3b81-4abb-94aa-09e6b35f2ccd</td>\n",
       "      <td>369 Naidu</td>\n",
       "      <td>20</td>\n",
       "      <td>1</td>\n",
       "      <td>42136.594855</td>\n",
       "    </tr>\n",
       "    <tr>\n",
       "      <th>4</th>\n",
       "      <td>ef9e077b-1e18-427b-8ba3-79ca8b477830</td>\n",
       "      <td>316 Auden</td>\n",
       "      <td>20</td>\n",
       "      <td>1</td>\n",
       "      <td>37423.805816</td>\n",
       "    </tr>\n",
       "  </tbody>\n",
       "</table>\n",
       "</div>"
      ],
      "text/plain": [
       "                                 nombre     direccion  edad  categoria  \\\n",
       "0  c2e301af-4c53-4b42-85be-cc452c9cc233  125 Browning    60          0   \n",
       "1  c19e67c0-387b-4002-9b13-37d3e9b3ab72  989 Cummings    60          1   \n",
       "2  655a7bb1-6fae-4d4c-b4fa-c392dd79e200  317 Sandburg    10          0   \n",
       "3  556c5de2-3b81-4abb-94aa-09e6b35f2ccd     369 Naidu    20          1   \n",
       "4  ef9e077b-1e18-427b-8ba3-79ca8b477830     316 Auden    20          1   \n",
       "\n",
       "        salario  \n",
       "0  61257.480237  \n",
       "1  53830.017889  \n",
       "2  60273.184604  \n",
       "3  42136.594855  \n",
       "4  37423.805816  "
      ]
     },
     "execution_count": 76,
     "metadata": {},
     "output_type": "execute_result"
    }
   ],
   "source": [
    "df_anonimizados[\"nombre\"] = df_anonimizados[\"nombre\"].apply(tokenizar)\n",
    "df_anonimizados.head()"
   ]
  },
  {
   "cell_type": "code",
   "execution_count": 79,
   "id": "03afe522",
   "metadata": {},
   "outputs": [],
   "source": [
    "df_pseudo = df_anonimizados.copy()"
   ]
  },
  {
   "cell_type": "code",
   "execution_count": 80,
   "id": "922c7641",
   "metadata": {},
   "outputs": [
    {
     "data": {
      "text/plain": [
       "'Richard Martin'"
      ]
     },
     "execution_count": 80,
     "metadata": {},
     "output_type": "execute_result"
    }
   ],
   "source": [
    "recupear_nombre(df_pseudo[\"nombre\"][0])"
   ]
  },
  {
   "cell_type": "markdown",
   "id": "42262fbb",
   "metadata": {},
   "source": [
    "### 4. Implementar una función de balanceo de datos para asegurar la representación equitativa de diversas categorías en el análisis posterior."
   ]
  },
  {
   "cell_type": "code",
   "execution_count": 81,
   "id": "531fda98",
   "metadata": {},
   "outputs": [
    {
     "data": {
      "text/plain": [
       "categoria\n",
       "1    114\n",
       "0     86\n",
       "Name: count, dtype: int64"
      ]
     },
     "execution_count": 81,
     "metadata": {},
     "output_type": "execute_result"
    }
   ],
   "source": [
    "df_pseudo[\"categoria\"].value_counts()"
   ]
  },
  {
   "cell_type": "code",
   "execution_count": 82,
   "id": "7803a6b9",
   "metadata": {},
   "outputs": [
    {
     "data": {
      "text/html": [
       "<div>\n",
       "<style scoped>\n",
       "    .dataframe tbody tr th:only-of-type {\n",
       "        vertical-align: middle;\n",
       "    }\n",
       "\n",
       "    .dataframe tbody tr th {\n",
       "        vertical-align: top;\n",
       "    }\n",
       "\n",
       "    .dataframe thead th {\n",
       "        text-align: right;\n",
       "    }\n",
       "</style>\n",
       "<table border=\"1\" class=\"dataframe\">\n",
       "  <thead>\n",
       "    <tr style=\"text-align: right;\">\n",
       "      <th></th>\n",
       "      <th>nombre</th>\n",
       "      <th>direccion</th>\n",
       "      <th>edad</th>\n",
       "      <th>categoria</th>\n",
       "      <th>salario</th>\n",
       "    </tr>\n",
       "  </thead>\n",
       "  <tbody>\n",
       "    <tr>\n",
       "      <th>158</th>\n",
       "      <td>b6996d5b-240a-4686-9203-917d45bbcce2</td>\n",
       "      <td>187 Goethe</td>\n",
       "      <td>50</td>\n",
       "      <td>0</td>\n",
       "      <td>41406.285456</td>\n",
       "    </tr>\n",
       "    <tr>\n",
       "      <th>42</th>\n",
       "      <td>473ca410-8017-431c-976f-64a8324e3a41</td>\n",
       "      <td>147 Dickinson</td>\n",
       "      <td>30</td>\n",
       "      <td>0</td>\n",
       "      <td>59329.936807</td>\n",
       "    </tr>\n",
       "    <tr>\n",
       "      <th>194</th>\n",
       "      <td>a143bacc-12c1-4a12-9318-c5c0bb36ca5e</td>\n",
       "      <td>745 Hesse</td>\n",
       "      <td>40</td>\n",
       "      <td>0</td>\n",
       "      <td>49741.244164</td>\n",
       "    </tr>\n",
       "    <tr>\n",
       "      <th>133</th>\n",
       "      <td>4f5e775b-5a8f-4c43-a734-84f27aa2d073</td>\n",
       "      <td>523 Goethe</td>\n",
       "      <td>50</td>\n",
       "      <td>0</td>\n",
       "      <td>41853.712723</td>\n",
       "    </tr>\n",
       "    <tr>\n",
       "      <th>114</th>\n",
       "      <td>4053a324-051c-461b-aee0-2377023cffdc</td>\n",
       "      <td>815 Whitman</td>\n",
       "      <td>60</td>\n",
       "      <td>0</td>\n",
       "      <td>53582.606637</td>\n",
       "    </tr>\n",
       "  </tbody>\n",
       "</table>\n",
       "</div>"
      ],
      "text/plain": [
       "                                   nombre      direccion  edad  categoria  \\\n",
       "158  b6996d5b-240a-4686-9203-917d45bbcce2     187 Goethe    50          0   \n",
       "42   473ca410-8017-431c-976f-64a8324e3a41  147 Dickinson    30          0   \n",
       "194  a143bacc-12c1-4a12-9318-c5c0bb36ca5e      745 Hesse    40          0   \n",
       "133  4f5e775b-5a8f-4c43-a734-84f27aa2d073     523 Goethe    50          0   \n",
       "114  4053a324-051c-461b-aee0-2377023cffdc    815 Whitman    60          0   \n",
       "\n",
       "          salario  \n",
       "158  41406.285456  \n",
       "42   59329.936807  \n",
       "194  49741.244164  \n",
       "133  41853.712723  \n",
       "114  53582.606637  "
      ]
     },
     "execution_count": 82,
     "metadata": {},
     "output_type": "execute_result"
    }
   ],
   "source": [
    "agrupado = df_pseudo.groupby('categoria')\n",
    "\n",
    "df_balanceado = pd.DataFrame()\n",
    "\n",
    "for nombre, grupo in agrupado:\n",
    "    grupo_balanceado = resample(\n",
    "        grupo,\n",
    "        replace=True,\n",
    "        n_samples=114,\n",
    "        random_state=123\n",
    "    )\n",
    "\n",
    "    df_balanceado = pd.concat([df_balanceado, grupo_balanceado])\n",
    "\n",
    "df_balanceado.head()"
   ]
  },
  {
   "cell_type": "code",
   "execution_count": 83,
   "id": "1b31b46f",
   "metadata": {},
   "outputs": [
    {
     "data": {
      "text/plain": [
       "categoria\n",
       "0    114\n",
       "1    114\n",
       "Name: count, dtype: int64"
      ]
     },
     "execution_count": 83,
     "metadata": {},
     "output_type": "execute_result"
    }
   ],
   "source": [
    "df_balanceado[\"categoria\"].value_counts()"
   ]
  },
  {
   "cell_type": "markdown",
   "id": "5d3bb55f",
   "metadata": {},
   "source": [
    "### 5. Realizar un análisis simple de los datos para identificar tendencias o patrones que podrían ser útiles para decisiones de negocios o marketing.\n"
   ]
  },
  {
   "cell_type": "code",
   "execution_count": 92,
   "id": "f1c6ad76",
   "metadata": {},
   "outputs": [
    {
     "data": {
      "text/plain": [
       "[Text(0.5, 1.0, 'Histograma de Edad'),\n",
       " Text(0.5, 0, 'Edad'),\n",
       " Text(0, 0.5, 'Frecuencia')]"
      ]
     },
     "execution_count": 92,
     "metadata": {},
     "output_type": "execute_result"
    },
    {
     "data": {
      "image/png": "[encoded data removed]",
      "text/plain": [
       "<Figure size 1200x600 with 1 Axes>"
      ]
     },
     "metadata": {},
     "output_type": "display_data"
    }
   ],
   "source": [
    "plt.figure(figsize=(12,6))\n",
    "ax = sns.histplot(\n",
    "    df_balanceado[\"edad\"],\n",
    "    kde=True,\n",
    "    bins=30\n",
    ")\n",
    "ax.set(\n",
    "    title=\"Histograma de Edad\",\n",
    "    xlabel=\"Edad\",\n",
    "    ylabel=\"Frecuencia\"\n",
    ")"
   ]
  },
  {
   "cell_type": "code",
   "execution_count": 93,
   "id": "8df2b46c",
   "metadata": {},
   "outputs": [
    {
     "data": {
      "text/plain": [
       "[Text(0.5, 1.0, 'Scatterplot de Edad vs Salario'),\n",
       " Text(0.5, 0, 'Edad'),\n",
       " Text(0, 0.5, 'Salario')]"
      ]
     },
     "execution_count": 93,
     "metadata": {},
     "output_type": "execute_result"
    },
    {
     "data": {
      "image/png": "[encoded data removed]",
      "text/plain": [
       "<Figure size 1200x600 with 1 Axes>"
      ]
     },
     "metadata": {},
     "output_type": "display_data"
    }
   ],
   "source": [
    "plt.figure(figsize=(12,6))\n",
    "sizes = df_balanceado[\"categoria\"].replace({0: 50, 1: 100})\n",
    "scatter = sns.scatterplot(\n",
    "    x=\"edad\",\n",
    "    y=\"salario\",\n",
    "    legend=False,\n",
    "    sizes=sizes,\n",
    "    data=df_balanceado\n",
    ")\n",
    "scatter.set(\n",
    "    title=\"Scatterplot de Edad vs Salario\",\n",
    "    xlabel=\"Edad\",\n",
    "    ylabel=\"Salario\"\n",
    ")"
   ]
  },
  {
   "cell_type": "code",
   "execution_count": 94,
   "id": "06a4e9dd",
   "metadata": {},
   "outputs": [
    {
     "data": {
      "text/plain": [
       "[Text(0.5, 1.0, 'Matriz de Correlación')]"
      ]
     },
     "execution_count": 94,
     "metadata": {},
     "output_type": "execute_result"
    },
    {
     "data": {
      "image/png": "[encoded data removed]",
      "text/plain": [
       "<Figure size 1200x600 with 2 Axes>"
      ]
     },
     "metadata": {},
     "output_type": "display_data"
    }
   ],
   "source": [
    "plt.figure(figsize=(12,6))\n",
    "correlation_matrix = df_balanceado[[\"edad\", \"salario\", \"categoria\"]].corr()\n",
    "heatmap = sns.heatmap(\n",
    "    correlation_matrix,\n",
    "    annot=True,\n",
    "    cmap=\"coolwarm\"\n",
    ")\n",
    "heatmap.set(\n",
    "    title=\"Matriz de Correlación\",\n",
    ")"
   ]
  }
 ],
 "metadata": {
  "kernelspec": {
   "display_name": "base",
   "language": "python",
   "name": "python3"
  },
  "language_info": {
   "codemirror_mode": {
    "name": "ipython",
    "version": 3
   },
   "file_extension": ".py",
   "mimetype": "text/x-python",
   "name": "python",
   "nbconvert_exporter": "python",
   "pygments_lexer": "ipython3",
   "version": "3.12.7"
  }
 },
 "nbformat": 4,
 "nbformat_minor": 5
}
