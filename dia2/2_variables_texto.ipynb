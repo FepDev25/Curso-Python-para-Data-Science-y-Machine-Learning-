{
 "cells": [
  {
   "cell_type": "code",
   "execution_count": 1,
   "id": "d2cae988-eced-4487-9219-58ec8c4c94e0",
   "metadata": {},
   "outputs": [
    {
     "data": {
      "text/plain": [
       "'Hola mundo'"
      ]
     },
     "execution_count": 1,
     "metadata": {},
     "output_type": "execute_result"
    }
   ],
   "source": [
    "\"Hola mundo\""
   ]
  },
  {
   "cell_type": "code",
   "execution_count": 2,
   "id": "5b4218b7-fc74-4172-bd2b-2456541217bc",
   "metadata": {},
   "outputs": [
    {
     "data": {
      "text/plain": [
       "\"Hola mundo, me llamo 'Felipe' \""
      ]
     },
     "execution_count": 2,
     "metadata": {},
     "output_type": "execute_result"
    }
   ],
   "source": [
    "\"Hola mundo, me llamo 'Felipe' \""
   ]
  },
  {
   "cell_type": "code",
   "execution_count": 3,
   "id": "d4f3218d-8f7b-48ab-9a9e-7b049915767c",
   "metadata": {},
   "outputs": [
    {
     "data": {
      "text/plain": [
       "'Hola mundo, me llamo \"Felipe\" '"
      ]
     },
     "execution_count": 3,
     "metadata": {},
     "output_type": "execute_result"
    }
   ],
   "source": [
    "'Hola mundo, me llamo \"Felipe\" '"
   ]
  },
  {
   "cell_type": "code",
   "execution_count": 4,
   "id": "d7ec01c4-6689-43dc-948f-61accd5ee4fd",
   "metadata": {},
   "outputs": [],
   "source": [
    "mi_nombre = \"Diego Felipe Peralta Peralta\""
   ]
  },
  {
   "cell_type": "code",
   "execution_count": 5,
   "id": "924e61f1-0752-4aa4-b4d7-65021cd253b3",
   "metadata": {},
   "outputs": [
    {
     "data": {
      "text/plain": [
       "'Diego Felipe Peralta Peralta'"
      ]
     },
     "execution_count": 5,
     "metadata": {},
     "output_type": "execute_result"
    }
   ],
   "source": [
    "mi_nombre"
   ]
  },
  {
   "cell_type": "code",
   "execution_count": 6,
   "id": "4f1eb799-e604-43a9-b135-818f50056849",
   "metadata": {},
   "outputs": [],
   "source": [
    "nombre_papa = \"Diego Remigio Peralta Bravo\""
   ]
  },
  {
   "cell_type": "code",
   "execution_count": 9,
   "id": "6ec2302b-688d-424d-bcfc-3c62cbae2c24",
   "metadata": {},
   "outputs": [
    {
     "data": {
      "text/plain": [
       "True"
      ]
     },
     "execution_count": 9,
     "metadata": {},
     "output_type": "execute_result"
    }
   ],
   "source": [
    "primer_nombre_iguales = mi_nombre.split()[0] == nombre_papa.split()[0]\n",
    "primer_nombre_iguales"
   ]
  }
 ],
 "metadata": {
  "kernelspec": {
   "display_name": "base",
   "language": "python",
   "name": "python3"
  },
  "language_info": {
   "codemirror_mode": {
    "name": "ipython",
    "version": 3
   },
   "file_extension": ".py",
   "mimetype": "text/x-python",
   "name": "python",
   "nbconvert_exporter": "python",
   "pygments_lexer": "ipython3",
   "version": "3.12.7"
  }
 },
 "nbformat": 4,
 "nbformat_minor": 5
}
