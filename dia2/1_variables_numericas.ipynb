{
 "cells": [
  {
   "cell_type": "code",
   "execution_count": 1,
   "id": "deb6af06-7a18-41b7-ba90-49d63c194b63",
   "metadata": {},
   "outputs": [
    {
     "data": {
      "text/plain": [
       "1"
      ]
     },
     "execution_count": 1,
     "metadata": {},
     "output_type": "execute_result"
    }
   ],
   "source": [
    "1"
   ]
  },
  {
   "cell_type": "code",
   "execution_count": 2,
   "id": "9410fe28-8282-42f1-b0f4-3f905dd0380f",
   "metadata": {},
   "outputs": [],
   "source": [
    "num = 2"
   ]
  },
  {
   "cell_type": "code",
   "execution_count": 13,
   "id": "0399520e-ad54-4c7f-a2c6-47268214e0a2",
   "metadata": {},
   "outputs": [
    {
     "data": {
      "text/plain": [
       "4"
      ]
     },
     "execution_count": 13,
     "metadata": {},
     "output_type": "execute_result"
    }
   ],
   "source": [
    "2 + num"
   ]
  },
  {
   "cell_type": "code",
   "execution_count": 3,
   "id": "4f709e05-1ae9-45ab-ad26-e3b5459555d9",
   "metadata": {},
   "outputs": [],
   "source": [
    "otro_num = 10"
   ]
  },
  {
   "cell_type": "code",
   "execution_count": 15,
   "id": "9b160c05-c618-441c-bcd4-0bad04983112",
   "metadata": {},
   "outputs": [
    {
     "data": {
      "text/plain": [
       "12"
      ]
     },
     "execution_count": 15,
     "metadata": {},
     "output_type": "execute_result"
    }
   ],
   "source": [
    "num + otro_num"
   ]
  },
  {
   "cell_type": "code",
   "execution_count": 4,
   "id": "2cf43ddf-d2c4-4a2b-aef1-8a86bead2456",
   "metadata": {},
   "outputs": [],
   "source": [
    "num = 100"
   ]
  },
  {
   "cell_type": "code",
   "execution_count": 5,
   "id": "cb569e34-3c7b-453c-a0e8-147809de5183",
   "metadata": {},
   "outputs": [],
   "source": [
    "num = num + 4"
   ]
  },
  {
   "cell_type": "code",
   "execution_count": 6,
   "id": "d98d0a12-f6a9-4327-9a59-fd67e8f50ab1",
   "metadata": {},
   "outputs": [
    {
     "data": {
      "text/plain": [
       "104"
      ]
     },
     "execution_count": 6,
     "metadata": {},
     "output_type": "execute_result"
    }
   ],
   "source": [
    "num"
   ]
  }
 ],
 "metadata": {
  "kernelspec": {
   "display_name": "base",
   "language": "python",
   "name": "python3"
  },
  "language_info": {
   "codemirror_mode": {
    "name": "ipython",
    "version": 3
   },
   "file_extension": ".py",
   "mimetype": "text/x-python",
   "name": "python",
   "nbconvert_exporter": "python",
   "pygments_lexer": "ipython3",
   "version": "3.12.7"
  }
 },
 "nbformat": 4,
 "nbformat_minor": 5
}
