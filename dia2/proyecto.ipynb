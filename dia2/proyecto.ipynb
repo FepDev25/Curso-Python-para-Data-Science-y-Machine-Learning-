{
 "cells": [
  {
   "cell_type": "code",
   "execution_count": 12,
   "metadata": {},
   "outputs": [],
   "source": [
    "nombre = input(\"Ingrese su nombre: \")\n",
    "fecha_hoy = input(\"Ingrese la fecha de hoy: \")"
   ]
  },
  {
   "cell_type": "code",
   "execution_count": 10,
   "metadata": {},
   "outputs": [
    {
     "name": "stdout",
     "output_type": "stream",
     "text": [
      "Hola Felipe, hoy es 28/03/2025\n"
     ]
    }
   ],
   "source": [
    "saludo = \"Hola \" + nombre + \", hoy es \" + fecha_hoy\n",
    "print(saludo)"
   ]
  },
  {
   "cell_type": "code",
   "execution_count": 17,
   "metadata": {},
   "outputs": [
    {
     "name": "stdout",
     "output_type": "stream",
     "text": [
      "Usted recibira 737.28 euros\n"
     ]
    }
   ],
   "source": [
    "dolares = input(\"Ingrese la cantidad de dolares: \")\n",
    "dolares = float(dolares)\n",
    "\n",
    "euros_a_recibir = dolares * 0.82\n",
    "euros_a_recibir = round(euros_a_recibir, 2)\n",
    "\n",
    "print(\"Usted recibira \" + str(euros_a_recibir) + \" euros\")"
   ]
  },
  {
   "cell_type": "code",
   "execution_count": 18,
   "metadata": {},
   "outputs": [
    {
     "name": "stdout",
     "output_type": "stream",
     "text": [
      "Usted recibira 73 billetes de 10 euros y 7 billetes de 1 euro y 0.2799999999999727 centimos de euro\n"
     ]
    }
   ],
   "source": [
    "billetes_10 = 0\n",
    "billetes_1 = 0\n",
    "\n",
    "while euros_a_recibir >= 10:\n",
    "    billetes_10 += 1\n",
    "    euros_a_recibir -= 10\n",
    "\n",
    "while euros_a_recibir >= 1:\n",
    "    billetes_1 += 1\n",
    "    euros_a_recibir -= 1\n",
    "\n",
    "print(\"Usted recibira \" + str(billetes_10) + \" billetes de 10 euros y \" + str(billetes_1) + \" billetes de 1 euro y \" + str(euros_a_recibir) + \" centimos de euro\")"
   ]
  }
 ],
 "metadata": {
  "kernelspec": {
   "display_name": "base",
   "language": "python",
   "name": "python3"
  },
  "language_info": {
   "codemirror_mode": {
    "name": "ipython",
    "version": 3
   },
   "file_extension": ".py",
   "mimetype": "text/x-python",
   "name": "python",
   "nbconvert_exporter": "python",
   "pygments_lexer": "ipython3",
   "version": "3.12.7"
  }
 },
 "nbformat": 4,
 "nbformat_minor": 2
}
