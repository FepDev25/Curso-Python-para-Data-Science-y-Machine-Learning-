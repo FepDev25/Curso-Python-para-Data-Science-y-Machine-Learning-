{
 "cells": [
  {
   "cell_type": "code",
   "execution_count": 19,
   "id": "865595f0",
   "metadata": {},
   "outputs": [],
   "source": [
    "import requests"
   ]
  },
  {
   "cell_type": "code",
   "execution_count": 20,
   "id": "2ac2e7de",
   "metadata": {},
   "outputs": [],
   "source": [
    "ciudad=\"Cuenca\"\n",
    "latitud=\"-2.9005\"\n",
    "longitud=\"-79.0048\""
   ]
  },
  {
   "cell_type": "code",
   "execution_count": 21,
   "id": "65726050",
   "metadata": {},
   "outputs": [],
   "source": [
    "api_key=\"bd2454ab9db5c2b7f02de33f7dbe6f15\""
   ]
  },
  {
   "cell_type": "code",
   "execution_count": 22,
   "id": "c87a5cfb",
   "metadata": {},
   "outputs": [],
   "source": [
    "url = f\"https://api.openweathermap.org/data/2.5/weather?lat={latitud}&lon={longitud}&appid={api_key}\""
   ]
  },
  {
   "cell_type": "code",
   "execution_count": 23,
   "id": "deb24422",
   "metadata": {},
   "outputs": [],
   "source": [
    "respuesta =requests.get(url)"
   ]
  },
  {
   "cell_type": "code",
   "execution_count": 24,
   "id": "0fd0ef51",
   "metadata": {},
   "outputs": [],
   "source": [
    "data = respuesta.json()"
   ]
  },
  {
   "cell_type": "code",
   "execution_count": 25,
   "id": "ff5052f7",
   "metadata": {},
   "outputs": [
    {
     "data": {
      "text/plain": [
       "{'cod': 401,\n",
       " 'message': 'Invalid API key. Please see https://openweathermap.org/faq#error401 for more info.'}"
      ]
     },
     "execution_count": 25,
     "metadata": {},
     "output_type": "execute_result"
    }
   ],
   "source": [
    "data"
   ]
  }
 ],
 "metadata": {
  "kernelspec": {
   "display_name": "base",
   "language": "python",
   "name": "python3"
  },
  "language_info": {
   "codemirror_mode": {
    "name": "ipython",
    "version": 3
   },
   "file_extension": ".py",
   "mimetype": "text/x-python",
   "name": "python",
   "nbconvert_exporter": "python",
   "pygments_lexer": "ipython3",
   "version": "3.12.7"
  }
 },
 "nbformat": 4,
 "nbformat_minor": 5
}
