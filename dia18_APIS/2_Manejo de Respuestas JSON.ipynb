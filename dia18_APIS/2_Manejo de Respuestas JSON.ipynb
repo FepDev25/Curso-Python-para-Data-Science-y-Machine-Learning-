{
 "cells": [
  {
   "cell_type": "code",
   "execution_count": 7,
   "id": "28413e95",
   "metadata": {},
   "outputs": [],
   "source": [
    "import requests\n",
    "import pandas as pd\n",
    "import matplotlib.pyplot as plt"
   ]
  },
  {
   "cell_type": "code",
   "execution_count": 2,
   "id": "1193d372",
   "metadata": {},
   "outputs": [],
   "source": [
    "url = \"https://jsonplaceholder.typicode.com/posts\"\n",
    "url_2 = \"https://jsonplaceholder.typicode.com/posts/1\""
   ]
  },
  {
   "cell_type": "markdown",
   "id": "1bb0e86b",
   "metadata": {},
   "source": [
    "## Obtener todos"
   ]
  },
  {
   "cell_type": "code",
   "execution_count": 3,
   "id": "e15d7355",
   "metadata": {},
   "outputs": [
    {
     "data": {
      "text/plain": [
       "requests.models.Response"
      ]
     },
     "execution_count": 3,
     "metadata": {},
     "output_type": "execute_result"
    }
   ],
   "source": [
    "response = requests.get(url)\n",
    "type(response)"
   ]
  },
  {
   "cell_type": "code",
   "execution_count": 4,
   "id": "002f7b93",
   "metadata": {},
   "outputs": [
    {
     "data": {
      "text/plain": [
       "list"
      ]
     },
     "execution_count": 4,
     "metadata": {},
     "output_type": "execute_result"
    }
   ],
   "source": [
    "data = response.json()\n",
    "type(data)"
   ]
  },
  {
   "cell_type": "code",
   "execution_count": 5,
   "id": "e1ae2b87",
   "metadata": {},
   "outputs": [],
   "source": [
    "usuarios = []\n",
    "titulos = []\n",
    "body = []\n",
    "for post in data:\n",
    "    usuarios.append(post['userId'])\n",
    "    titulos.append(post['title'])\n",
    "    body.append(post['body'])\n"
   ]
  },
  {
   "cell_type": "code",
   "execution_count": 14,
   "id": "9d15dee4",
   "metadata": {},
   "outputs": [
    {
     "data": {
      "text/html": [
       "<div>\n",
       "<style scoped>\n",
       "    .dataframe tbody tr th:only-of-type {\n",
       "        vertical-align: middle;\n",
       "    }\n",
       "\n",
       "    .dataframe tbody tr th {\n",
       "        vertical-align: top;\n",
       "    }\n",
       "\n",
       "    .dataframe thead th {\n",
       "        text-align: right;\n",
       "    }\n",
       "</style>\n",
       "<table border=\"1\" class=\"dataframe\">\n",
       "  <thead>\n",
       "    <tr style=\"text-align: right;\">\n",
       "      <th></th>\n",
       "      <th>usuarios</th>\n",
       "      <th>titulos</th>\n",
       "      <th>body</th>\n",
       "    </tr>\n",
       "  </thead>\n",
       "  <tbody>\n",
       "    <tr>\n",
       "      <th>0</th>\n",
       "      <td>1</td>\n",
       "      <td>sunt aut facere repellat provident occaecati e...</td>\n",
       "      <td>quia et suscipit\\nsuscipit recusandae consequu...</td>\n",
       "    </tr>\n",
       "    <tr>\n",
       "      <th>1</th>\n",
       "      <td>1</td>\n",
       "      <td>qui est esse</td>\n",
       "      <td>est rerum tempore vitae\\nsequi sint nihil repr...</td>\n",
       "    </tr>\n",
       "    <tr>\n",
       "      <th>2</th>\n",
       "      <td>1</td>\n",
       "      <td>ea molestias quasi exercitationem repellat qui...</td>\n",
       "      <td>et iusto sed quo iure\\nvoluptatem occaecati om...</td>\n",
       "    </tr>\n",
       "    <tr>\n",
       "      <th>3</th>\n",
       "      <td>1</td>\n",
       "      <td>eum et est occaecati</td>\n",
       "      <td>ullam et saepe reiciendis voluptatem adipisci\\...</td>\n",
       "    </tr>\n",
       "    <tr>\n",
       "      <th>4</th>\n",
       "      <td>1</td>\n",
       "      <td>nesciunt quas odio</td>\n",
       "      <td>repudiandae veniam quaerat sunt sed\\nalias aut...</td>\n",
       "    </tr>\n",
       "    <tr>\n",
       "      <th>5</th>\n",
       "      <td>1</td>\n",
       "      <td>dolorem eum magni eos aperiam quia</td>\n",
       "      <td>ut aspernatur corporis harum nihil quis provid...</td>\n",
       "    </tr>\n",
       "    <tr>\n",
       "      <th>6</th>\n",
       "      <td>1</td>\n",
       "      <td>magnam facilis autem</td>\n",
       "      <td>dolore placeat quibusdam ea quo vitae\\nmagni q...</td>\n",
       "    </tr>\n",
       "    <tr>\n",
       "      <th>7</th>\n",
       "      <td>1</td>\n",
       "      <td>dolorem dolore est ipsam</td>\n",
       "      <td>dignissimos aperiam dolorem qui eum\\nfacilis q...</td>\n",
       "    </tr>\n",
       "    <tr>\n",
       "      <th>8</th>\n",
       "      <td>1</td>\n",
       "      <td>nesciunt iure omnis dolorem tempora et accusan...</td>\n",
       "      <td>consectetur animi nesciunt iure dolore\\nenim q...</td>\n",
       "    </tr>\n",
       "    <tr>\n",
       "      <th>9</th>\n",
       "      <td>1</td>\n",
       "      <td>optio molestias id quia eum</td>\n",
       "      <td>quo et expedita modi cum officia vel magni\\ndo...</td>\n",
       "    </tr>\n",
       "    <tr>\n",
       "      <th>10</th>\n",
       "      <td>2</td>\n",
       "      <td>et ea vero quia laudantium autem</td>\n",
       "      <td>delectus reiciendis molestiae occaecati non mi...</td>\n",
       "    </tr>\n",
       "    <tr>\n",
       "      <th>11</th>\n",
       "      <td>2</td>\n",
       "      <td>in quibusdam tempore odit est dolorem</td>\n",
       "      <td>itaque id aut magnam\\npraesentium quia et ea o...</td>\n",
       "    </tr>\n",
       "    <tr>\n",
       "      <th>12</th>\n",
       "      <td>2</td>\n",
       "      <td>dolorum ut in voluptas mollitia et saepe quo a...</td>\n",
       "      <td>aut dicta possimus sint mollitia voluptas comm...</td>\n",
       "    </tr>\n",
       "    <tr>\n",
       "      <th>13</th>\n",
       "      <td>2</td>\n",
       "      <td>voluptatem eligendi optio</td>\n",
       "      <td>fuga et accusamus dolorum perferendis illo vol...</td>\n",
       "    </tr>\n",
       "    <tr>\n",
       "      <th>14</th>\n",
       "      <td>2</td>\n",
       "      <td>eveniet quod temporibus</td>\n",
       "      <td>reprehenderit quos placeat\\nvelit minima offic...</td>\n",
       "    </tr>\n",
       "  </tbody>\n",
       "</table>\n",
       "</div>"
      ],
      "text/plain": [
       "    usuarios                                            titulos  \\\n",
       "0          1  sunt aut facere repellat provident occaecati e...   \n",
       "1          1                                       qui est esse   \n",
       "2          1  ea molestias quasi exercitationem repellat qui...   \n",
       "3          1                               eum et est occaecati   \n",
       "4          1                                 nesciunt quas odio   \n",
       "5          1                 dolorem eum magni eos aperiam quia   \n",
       "6          1                               magnam facilis autem   \n",
       "7          1                           dolorem dolore est ipsam   \n",
       "8          1  nesciunt iure omnis dolorem tempora et accusan...   \n",
       "9          1                        optio molestias id quia eum   \n",
       "10         2                   et ea vero quia laudantium autem   \n",
       "11         2              in quibusdam tempore odit est dolorem   \n",
       "12         2  dolorum ut in voluptas mollitia et saepe quo a...   \n",
       "13         2                          voluptatem eligendi optio   \n",
       "14         2                            eveniet quod temporibus   \n",
       "\n",
       "                                                 body  \n",
       "0   quia et suscipit\\nsuscipit recusandae consequu...  \n",
       "1   est rerum tempore vitae\\nsequi sint nihil repr...  \n",
       "2   et iusto sed quo iure\\nvoluptatem occaecati om...  \n",
       "3   ullam et saepe reiciendis voluptatem adipisci\\...  \n",
       "4   repudiandae veniam quaerat sunt sed\\nalias aut...  \n",
       "5   ut aspernatur corporis harum nihil quis provid...  \n",
       "6   dolore placeat quibusdam ea quo vitae\\nmagni q...  \n",
       "7   dignissimos aperiam dolorem qui eum\\nfacilis q...  \n",
       "8   consectetur animi nesciunt iure dolore\\nenim q...  \n",
       "9   quo et expedita modi cum officia vel magni\\ndo...  \n",
       "10  delectus reiciendis molestiae occaecati non mi...  \n",
       "11  itaque id aut magnam\\npraesentium quia et ea o...  \n",
       "12  aut dicta possimus sint mollitia voluptas comm...  \n",
       "13  fuga et accusamus dolorum perferendis illo vol...  \n",
       "14  reprehenderit quos placeat\\nvelit minima offic...  "
      ]
     },
     "execution_count": 14,
     "metadata": {},
     "output_type": "execute_result"
    }
   ],
   "source": [
    "df = pd.DataFrame({\n",
    "    'usuarios': usuarios,\n",
    "    'titulos': titulos,\n",
    "    'body': body\n",
    "})\n",
    "df.head(15)"
   ]
  },
  {
   "cell_type": "code",
   "execution_count": 8,
   "id": "a633c912",
   "metadata": {},
   "outputs": [
    {
     "data": {
      "image/png": "[encoded data removed]",
      "text/plain": [
       "<Figure size 640x480 with 1 Axes>"
      ]
     },
     "metadata": {},
     "output_type": "display_data"
    }
   ],
   "source": [
    "plt.boxplot(df['usuarios'])\n",
    "plt.title('Boxplot de usuarios')\n",
    "plt.show()"
   ]
  },
  {
   "cell_type": "markdown",
   "id": "5e729b9a",
   "metadata": {},
   "source": [
    "## Obtener uno"
   ]
  },
  {
   "cell_type": "code",
   "execution_count": 11,
   "id": "fa68ea3e",
   "metadata": {},
   "outputs": [
    {
     "name": "stdout",
     "output_type": "stream",
     "text": [
      "Title: sunt aut facere repellat provident occaecati excepturi optio reprehenderit\n",
      "Body: quia et suscipit\n",
      "suscipit recusandae consequuntur expedita et cum\n",
      "reprehenderit molestiae ut ut quas totam\n",
      "nostrum rerum est autem sunt rem eveniet architecto\n",
      "User ID: 1\n",
      "Post ID: 1\n",
      "URL: https://jsonplaceholder.typicode.com/posts/1\n",
      "Status Code: 200\n"
     ]
    }
   ],
   "source": [
    "response2 = requests.get(url_2)\n",
    "data2 = response2.json()\n",
    "print(f\"Title: {data2['title']}\")\n",
    "print(f\"Body: {data2['body']}\")\n",
    "print(f\"User ID: {data2['userId']}\")\n",
    "print(f\"Post ID: {data2['id']}\")\n",
    "print(f\"URL: {response2.url}\")\n",
    "print(f\"Status Code: {response2.status_code}\")"
   ]
  }
 ],
 "metadata": {
  "kernelspec": {
   "display_name": "base",
   "language": "python",
   "name": "python3"
  },
  "language_info": {
   "codemirror_mode": {
    "name": "ipython",
    "version": 3
   },
   "file_extension": ".py",
   "mimetype": "text/x-python",
   "name": "python",
   "nbconvert_exporter": "python",
   "pygments_lexer": "ipython3",
   "version": "3.12.7"
  }
 },
 "nbformat": 4,
 "nbformat_minor": 5
}
