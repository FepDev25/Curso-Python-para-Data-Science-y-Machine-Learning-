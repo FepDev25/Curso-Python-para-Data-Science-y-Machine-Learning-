{
 "cells": [
  {
   "cell_type": "code",
   "execution_count": 8,
   "id": "ad1a90a8",
   "metadata": {},
   "outputs": [],
   "source": [
    "import requests\n",
    "\n",
    "url = \"https://jsonplaceholder.typicode.com/posts/1\"\n",
    "url_mal = \"https://jsonplaceholder.typicode.com/postssssss/1\"\n",
    "\n",
    "respuesta = requests.get(url)\n",
    "respuesta_mal = requests.get(url_mal)"
   ]
  },
  {
   "cell_type": "markdown",
   "id": "9cb715c8",
   "metadata": {},
   "source": [
    "### Obtener el estado"
   ]
  },
  {
   "cell_type": "code",
   "execution_count": 9,
   "id": "11c0d969",
   "metadata": {},
   "outputs": [
    {
     "data": {
      "text/plain": [
       "200"
      ]
     },
     "execution_count": 9,
     "metadata": {},
     "output_type": "execute_result"
    }
   ],
   "source": [
    "respuesta.status_code"
   ]
  },
  {
   "cell_type": "code",
   "execution_count": 10,
   "id": "c35e34f3",
   "metadata": {},
   "outputs": [],
   "source": [
    "def evaluar_respuesta(respuesta):\n",
    "    if respuesta.status_code == 200:\n",
    "        data = respuesta.json()\n",
    "        print(data)\n",
    "    else:\n",
    "        print(f\"Error: {respuesta.status_code}\")"
   ]
  },
  {
   "cell_type": "code",
   "execution_count": 11,
   "id": "015f6700",
   "metadata": {},
   "outputs": [
    {
     "name": "stdout",
     "output_type": "stream",
     "text": [
      "{'userId': 1, 'id': 1, 'title': 'sunt aut facere repellat provident occaecati excepturi optio reprehenderit', 'body': 'quia et suscipit\\nsuscipit recusandae consequuntur expedita et cum\\nreprehenderit molestiae ut ut quas totam\\nnostrum rerum est autem sunt rem eveniet architecto'}\n"
     ]
    }
   ],
   "source": [
    "evaluar_respuesta(respuesta)"
   ]
  },
  {
   "cell_type": "code",
   "execution_count": 12,
   "id": "68358d95",
   "metadata": {},
   "outputs": [
    {
     "name": "stdout",
     "output_type": "stream",
     "text": [
      "Error: 404\n"
     ]
    }
   ],
   "source": [
    "evaluar_respuesta(respuesta_mal)"
   ]
  }
 ],
 "metadata": {
  "kernelspec": {
   "display_name": "base",
   "language": "python",
   "name": "python3"
  },
  "language_info": {
   "codemirror_mode": {
    "name": "ipython",
    "version": 3
   },
   "file_extension": ".py",
   "mimetype": "text/x-python",
   "name": "python",
   "nbconvert_exporter": "python",
   "pygments_lexer": "ipython3",
   "version": "3.12.7"
  }
 },
 "nbformat": 4,
 "nbformat_minor": 5
}
