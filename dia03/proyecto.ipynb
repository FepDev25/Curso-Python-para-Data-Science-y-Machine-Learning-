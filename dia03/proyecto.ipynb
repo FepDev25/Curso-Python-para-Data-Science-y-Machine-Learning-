{
 "cells": [
  {
   "cell_type": "markdown",
   "id": "9572445f",
   "metadata": {},
   "source": [
    "# Proyecto del Día 3: Analizador de Texto\n",
    "\n",
    "Este proyecto tiene como objetivo aplicar los conceptos aprendidos sobre strings, input, indexación y formateo de strings en Python. El programa permitirá al usuario ingresar un texto y luego elegir realizar diversas operaciones de análisis sobre ese texto.\n",
    "\n",
    "## Consigna\n",
    "Vas a crear un programa que le pida al usuario que ingrese un texto de al menos 10 palabras. Tu programa va a procesar ese texto, lo va a procesar, y le va a devolver un análisis detallado, que incluya:\n",
    "1. Contar el número total de caracteres en el texto\n",
    "2. Contar el número de caracteres sin incluir los espacios\n",
    "3. Contar la cantidad de vocales que hay en el texto\n",
    "4. Contar el número total de palabras en el texto ingresado\n",
    "\n",
    "**nota**: para resolver los siguientes items, deberás investigar otros métodos de strings que no hemos visto. Recuerda valerte de *type*, *dir* y *help*\n",
    "\n",
    "5. Eliminar la primera palabra\n",
    "6. Reemplazar todos los espacios por guiones medios (-)\n",
    "8. Cambia las mayúsculas a minúsculas y las minúsculas a mayúsculas \n",
    "\n",
    "Al finalizar el procesamiento, se imprimirán 8 cadenas literales mostrando los resultados del análisis (una cadena por cada resultado).\n",
    "<br>\n",
    "<br>\n",
    "<br>"
   ]
  },
  {
   "cell_type": "markdown",
   "id": "e5cd9e4d",
   "metadata": {},
   "source": [
    "### Resolución\n",
    "\n",
    "Ingreso del usuario:"
   ]
  },
  {
   "cell_type": "code",
   "execution_count": 27,
   "id": "fa27da8c",
   "metadata": {},
   "outputs": [
    {
     "name": "stdout",
     "output_type": "stream",
     "text": [
      "El texto ingresado es:  Hola me llamo Felipe y me gusta el pan\n"
     ]
    }
   ],
   "source": [
    "usuario = input(\"Ingrese el texto del usuario: \")\n",
    "print(\"El texto ingresado es: \", usuario)"
   ]
  },
  {
   "cell_type": "markdown",
   "id": "41214377",
   "metadata": {},
   "source": [
    "1. Contar el número total de caracteres en el texto"
   ]
  },
  {
   "cell_type": "code",
   "execution_count": 29,
   "id": "40448873",
   "metadata": {},
   "outputs": [],
   "source": [
    "num_caracteres = len(usuario)"
   ]
  },
  {
   "cell_type": "markdown",
   "id": "3d6378dc",
   "metadata": {},
   "source": [
    "2. Contar el número de caracteres sin incluir los espacios"
   ]
  },
  {
   "cell_type": "code",
   "execution_count": 30,
   "id": "991b29c7",
   "metadata": {},
   "outputs": [],
   "source": [
    "caracteres_sin_espacios = len(usuario.replace(\" \", \"\"))"
   ]
  },
  {
   "cell_type": "markdown",
   "id": "c6e62385",
   "metadata": {},
   "source": [
    "3. Contar la cantidad de vocales que hay en el texto"
   ]
  },
  {
   "cell_type": "code",
   "execution_count": 31,
   "id": "65b19bc7",
   "metadata": {},
   "outputs": [],
   "source": [
    "cantidad_vocales= usuario.count(\"a\") + usuario.count(\"e\") + usuario.count(\"i\") + usuario.count(\"o\") + usuario.count(\"u\")"
   ]
  },
  {
   "cell_type": "markdown",
   "id": "4b6211c5",
   "metadata": {},
   "source": [
    "4. Contar el número total de palabras en el texto ingresado"
   ]
  },
  {
   "cell_type": "code",
   "execution_count": 32,
   "id": "5b6eb1b1",
   "metadata": {},
   "outputs": [],
   "source": [
    "numero_palabras =  len(usuario.split())"
   ]
  },
  {
   "cell_type": "markdown",
   "id": "bee5597e",
   "metadata": {},
   "source": [
    "5. Eliminar la primera palabra"
   ]
  },
  {
   "cell_type": "code",
   "execution_count": 33,
   "id": "8bcbfe9d",
   "metadata": {},
   "outputs": [],
   "source": [
    "eliminar_primera_palabra = usuario.split(\" \", 1)[1]"
   ]
  },
  {
   "cell_type": "markdown",
   "id": "d5b05440",
   "metadata": {},
   "source": [
    "6. Reemplazar todos los espacios por guiones medios (-)"
   ]
  },
  {
   "cell_type": "code",
   "execution_count": 34,
   "id": "90a21e61",
   "metadata": {},
   "outputs": [],
   "source": [
    "reemplazar_espacios_por_guiones = usuario.replace(\" \", \"-\")"
   ]
  },
  {
   "cell_type": "markdown",
   "id": "8a61c508",
   "metadata": {},
   "source": [
    "7. Cambia las mayúsculas a minúsculas y las minúsculas a mayúsculas"
   ]
  },
  {
   "cell_type": "code",
   "execution_count": 35,
   "id": "8cb35aaf",
   "metadata": {},
   "outputs": [],
   "source": [
    "cambiar_mayusculas_minusculas = usuario.swapcase()"
   ]
  },
  {
   "cell_type": "markdown",
   "id": "66b8d816",
   "metadata": {},
   "source": [
    "Muéstrale al usuario los resultados del análisis de su texto."
   ]
  },
  {
   "cell_type": "code",
   "execution_count": 37,
   "id": "eb0d449a",
   "metadata": {},
   "outputs": [
    {
     "name": "stdout",
     "output_type": "stream",
     "text": [
      "El texto ingresado es:  Hola me llamo Felipe y me gusta el pan\n",
      "Numero de caracteres:  38\n",
      "El texto tiene 30 caracteres sin espacios\n",
      "El texto tiene 13 vocales\n",
      "Numero de palabras:  9\n",
      "Primera palabra eliminada:  me llamo Felipe y me gusta el pan\n",
      "Reemplazar espacios por guiones:  Hola-me-llamo-Felipe-y-me-gusta-el-pan\n",
      "Mayusculas y minusculas intercambiadas:  hOLA ME LLAMO fELIPE Y ME GUSTA EL PAN\n"
     ]
    }
   ],
   "source": [
    "print(\"El texto ingresado es: \", usuario)\n",
    "print(\"Numero de caracteres: \", num_caracteres)\n",
    "print(\"El texto tiene\", caracteres_sin_espacios, \"caracteres sin espacios\")\n",
    "print(\"El texto tiene\", cantidad_vocales, \"vocales\")\n",
    "print(\"Numero de palabras: \", numero_palabras)\n",
    "print(\"Primera palabra eliminada: \", eliminar_primera_palabra)\n",
    "print(\"Reemplazar espacios por guiones: \", reemplazar_espacios_por_guiones)\n",
    "print(\"Mayusculas y minusculas intercambiadas: \", cambiar_mayusculas_minusculas)"
   ]
  }
 ],
 "metadata": {
  "kernelspec": {
   "display_name": "base",
   "language": "python",
   "name": "python3"
  },
  "language_info": {
   "codemirror_mode": {
    "name": "ipython",
    "version": 3
   },
   "file_extension": ".py",
   "mimetype": "text/x-python",
   "name": "python",
   "nbconvert_exporter": "python",
   "pygments_lexer": "ipython3",
   "version": "3.12.7"
  }
 },
 "nbformat": 4,
 "nbformat_minor": 5
}
