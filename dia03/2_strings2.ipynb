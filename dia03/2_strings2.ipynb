{
 "cells": [
  {
   "cell_type": "code",
   "execution_count": 2,
   "metadata": {},
   "outputs": [],
   "source": [
    "palabra = \"manzana\""
   ]
  },
  {
   "cell_type": "code",
   "execution_count": 3,
   "metadata": {},
   "outputs": [
    {
     "data": {
      "text/plain": [
       "str"
      ]
     },
     "execution_count": 3,
     "metadata": {},
     "output_type": "execute_result"
    }
   ],
   "source": [
    "type(palabra)"
   ]
  },
  {
   "cell_type": "code",
   "execution_count": 4,
   "metadata": {},
   "outputs": [
    {
     "data": {
      "text/plain": [
       "'manzana'"
      ]
     },
     "execution_count": 4,
     "metadata": {},
     "output_type": "execute_result"
    }
   ],
   "source": [
    "palabra"
   ]
  },
  {
   "cell_type": "code",
   "execution_count": null,
   "metadata": {},
   "outputs": [
    {
     "name": "stdout",
     "output_type": "stream",
     "text": [
      "word: manzana\n",
      "len 7\n",
      "mayusculas:MANZANA\n",
      "minusculas:manzana\n",
      "capitalizada: Manzana\n",
      "title: Manzana\n",
      "swapcase: MANZANA\n",
      "isUpper: False\n",
      "isLower: True\n",
      "isAlpha True\n",
      "isNumeric False\n",
      "isDigit False\n",
      "isAlnum True\n",
      "isSpace False\n",
      "Start with m: True\n",
      "End with a: True\n",
      "Find z: 3\n",
      "Count a: 3\n",
      "Replace a with o: monzono\n",
      "Split a: ['m', 'nz', 'n', '']\n",
      "Join 1234: 1manzana2manzana3manzana4\n",
      "Strip m: anzana\n",
      "lstrip m: anzana\n",
      "rstrip a: manzan\n",
      "center 10 -: -manzana--\n",
      "ljust 10 -: manzana---\n",
      "rjust 10 -: ---manzana\n",
      "zfill 10: 000manzana\n",
      "index a: 1\n",
      "rindex a: 6\n",
      "partition a: ('m', 'a', 'nzana')\n",
      "rpartition a: ('manzan', 'a', '')\n",
      "format: manzana\n",
      "format_map: manzana\n",
      "encode: b'manzana'\n",
      "expandtabs 10: manzana\n",
      "casefold: manzana\n",
      "isidentifier True\n",
      "isprintable True\n"
     ]
    }
   ],
   "source": [
    "print(\"word: \" + palabra)\n",
    "print(\"len \" + str(len(palabra)))\n",
    "print(\"mayusculas:\" + palabra.upper())\n",
    "print(\"minusculas:\" + palabra.lower())\n",
    "print(\"capitalizada: \" + palabra.capitalize())\n",
    "print(\"title: \" + palabra.title())\n",
    "print(\"swapcase: \" + palabra.swapcase())\n",
    "print(\"isUpper: \" + str(palabra.isupper()))\n",
    "print(\"isLower: \" + str(palabra.islower()))\n",
    "print(\"isAlpha \" + str(palabra.isalpha()))\n",
    "print(\"isNumeric \" + str(palabra.isnumeric()))\n",
    "print(\"isDigit \" + str(palabra.isdigit()))\n",
    "print(\"isAlnum \" + str(palabra.isalnum()))\n",
    "print(\"isSpace \" + str(palabra.isspace()))\n",
    "print(\"Start with m: \" + str(palabra.startswith('m')))\n",
    "print(\"End with a: \" + str(palabra.endswith('a')))\n",
    "print(\"Find z: \" + str(palabra.find('z')))\n",
    "print(\"Count a: \" + str(palabra.count('a')))\n",
    "print(\"Replace a with o: \" + palabra.replace('a','o'))\n",
    "print(\"Split a: \" + str(palabra.split('a')))\n",
    "print(\"Join 1234: \" + palabra.join('1234'))\n",
    "print(\"Strip m: \" + palabra.strip('m'))\n",
    "print(\"lstrip m: \" + palabra.lstrip('m'))\n",
    "print(\"rstrip a: \" + palabra.rstrip('a'))\n",
    "print(\"center 10 -: \" + palabra.center(10,'-'))\n",
    "print(\"ljust 10 -: \" + palabra.ljust(10,'-'))\n",
    "print(\"rjust 10 -: \" + palabra.rjust(10,'-'))\n",
    "print(\"zfill 10: \" + palabra.zfill(10))\n",
    "print(\"index a: \" + str(palabra.index('a')))\n",
    "print(\"rindex a: \" + str(palabra.rindex('a')))\n",
    "print(\"partition a: \" + str(palabra.partition('a')))\n",
    "print(\"rpartition a: \" + str(palabra.rpartition('a')))\n",
    "print(\"format: \" + palabra.format())\n",
    "print(\"format_map: \" + palabra.format_map('a'))\n",
    "print(\"encode: \" + str(palabra.encode()))\n",
    "print(\"expandtabs 10: \" + palabra.expandtabs(10))\n",
    "print(\"casefold: \" + palabra.casefold())\n",
    "print(\"isidentifier \" + str(palabra.isidentifier()))\n",
    "print(\"isprintable \" + str(palabra.isprintable()))"
   ]
  },
  {
   "cell_type": "code",
   "execution_count": 29,
   "metadata": {},
   "outputs": [
    {
     "name": "stdout",
     "output_type": "stream",
     "text": [
      "Help on built-in function casefold:\n",
      "\n",
      "casefold() method of builtins.str instance\n",
      "    Return a version of the string suitable for caseless comparisons.\n",
      "\n"
     ]
    }
   ],
   "source": [
    "help(palabra.casefold)"
   ]
  }
 ],
 "metadata": {
  "kernelspec": {
   "display_name": "base",
   "language": "python",
   "name": "python3"
  },
  "language_info": {
   "codemirror_mode": {
    "name": "ipython",
    "version": 3
   },
   "file_extension": ".py",
   "mimetype": "text/x-python",
   "name": "python",
   "nbconvert_exporter": "python",
   "pygments_lexer": "ipython3",
   "version": "3.12.7"
  }
 },
 "nbformat": 4,
 "nbformat_minor": 2
}
